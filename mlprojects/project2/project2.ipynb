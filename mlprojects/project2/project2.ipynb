{
 "cells": [
  {
   "cell_type": "code",
   "execution_count": null,
   "metadata": {},
   "outputs": [],
   "source": [
    "# Copyright © 2023 \"Bronte\" Sihan Li"
   ]
  },
  {
   "attachments": {},
   "cell_type": "markdown",
   "metadata": {},
   "source": [
    "# Introduction\n",
    "\n",
    "In this project, we focus on applying clustering to different data sets and exploring clustering mechanisms, distance metrics, and before and after PCA analysis.\n",
    "We work with the following datasets:\n",
    "* [Liver Disorders. (1990). UCI Machine Learning Repository.](https://archive-beta.ics.uci.edu/dataset/60/liver+disorders)\n",
    "* [UCI Activity Recognition Data Set](https://archive.ics.uci.edu/ml/datasets/human+activity+recognition+using+smartphones)"
   ]
  },
  {
   "attachments": {},
   "cell_type": "markdown",
   "metadata": {},
   "source": [
    "## Dependencies\n",
    "\n",
    "First, we import all of the dependencies used in our analysis, including the helper modules we have built for this project:\n",
    "* `nearest_neighbor`: our own implementation of K nearest neighbor clustering \n",
    "* `cluster_quality` : calculates clustering quality with metrics including Rissannon Minimum Description Length, Krzanowski and Lai, or Ray and Turi\n",
    "* `distance`: calculates distance between a vector and a set of vectors"
   ]
  },
  {
   "cell_type": "code",
   "execution_count": 1,
   "metadata": {},
   "outputs": [],
   "source": [
    "import sys, os\n",
    "import plotly.io as pio\n",
    "import plotly.express as px\n",
    "import pandas as pd\n",
    "import numpy as np\n",
    "import plotly.graph_objects as go\n",
    "os.chdir('..')\n",
    "from scipy import stats\n",
    "from sklearn.cluster import KMeans, DBSCAN, AgglomerativeClustering\n",
    "from sklearn.model_selection import train_test_split\n",
    "from sklearn.neighbors import KNeighborsClassifier\n",
    "from sklearn.metrics import  homogeneity_score, completeness_score, adjusted_rand_score\n",
    "from project1.utility.pca import PCA\n",
    "from project1.utility import train_test_split_csv\n",
    "from project2.utility.nearest_neighbor import KNearestNeighbor as knn\n",
    "from project2.utility.cluster_quality import cluster_quality, get_representation_error"
   ]
  },
  {
   "attachments": {},
   "cell_type": "markdown",
   "metadata": {},
   "source": [
    "# Apply Nearest Neighbor classification To Our Data Set\n"
   ]
  },
  {
   "attachments": {},
   "cell_type": "markdown",
   "metadata": {},
   "source": [
    "## Convert Continuous Target to Discrete Values\n",
    "First we load our dataset.\n",
    "In order to perform clustering and evaluate the results for the liver disorder dataset, we need to first convert to continuous target variable to discrete values.\n",
    "Here is what our target distribution looks like:"
   ]
  },
  {
   "cell_type": "code",
   "execution_count": 2,
   "metadata": {},
   "outputs": [
    {
     "data": {
      "application/vnd.plotly.v1+json": {
       "config": {
        "plotlyServerURL": "https://plot.ly"
       },
       "data": [
        {
         "alignmentgroup": "True",
         "bingroup": "x",
         "hovertemplate": "number of half-pint equivalents of alcoholic beverages drunk per day=%{x}<br>count=%{y}<extra></extra>",
         "legendgroup": "",
         "marker": {
          "color": "#636efa",
          "pattern": {
           "shape": ""
          }
         },
         "name": "",
         "offsetgroup": "",
         "orientation": "v",
         "showlegend": false,
         "type": "histogram",
         "x": [
          0,
          0,
          0,
          0,
          0,
          0,
          0.5,
          0.5,
          0.5,
          0.5,
          0.5,
          0.5,
          0.5,
          0.5,
          0.5,
          0.5,
          0.5,
          0.5,
          0.5,
          0.5,
          0.5,
          0.5,
          0.5,
          0.5,
          0.5,
          0.5,
          0.5,
          0.5,
          0.5,
          0.5,
          0.5,
          0.5,
          0.5,
          0.5,
          0.5,
          0.5,
          0.5,
          0.5,
          0.5,
          0.5,
          0.5,
          0.5,
          0.5,
          0.5,
          0.5,
          0.5,
          0.5,
          0.5,
          0.5,
          0.5,
          0.5,
          0.5,
          0.5,
          0.5,
          0.5,
          0.5,
          0.5,
          0.5,
          0.5,
          0.5,
          0.5,
          0.5,
          0.5,
          0.5,
          1,
          1,
          1,
          1,
          1,
          1,
          2,
          2,
          2,
          2,
          2,
          2,
          2,
          2,
          2,
          2,
          2,
          2,
          2,
          2,
          2,
          2,
          2,
          2,
          3,
          3,
          3,
          3,
          3,
          3,
          3,
          3,
          3,
          3,
          3,
          3,
          3,
          3,
          4,
          4,
          4,
          4,
          4,
          4,
          4,
          4,
          4,
          4,
          4,
          4,
          4,
          4,
          4,
          4,
          4,
          4,
          4,
          4,
          4,
          4,
          4,
          4,
          4,
          4,
          4,
          4,
          5,
          5,
          5,
          5,
          5,
          5,
          5,
          5,
          5,
          5,
          6,
          6,
          6,
          6,
          6,
          6,
          6,
          6,
          6,
          6,
          6,
          6,
          6,
          6,
          6,
          6,
          6,
          6,
          6,
          6,
          6,
          6,
          6,
          6,
          6,
          6,
          7,
          7,
          7,
          8,
          8,
          8,
          8,
          8,
          8,
          8,
          8,
          8,
          8,
          8,
          8,
          9,
          10,
          10,
          10,
          10,
          12,
          12,
          16,
          20,
          0,
          0,
          0,
          0.5,
          0.5,
          0.5,
          0.5,
          0.5,
          0.5,
          0.5,
          0.5,
          0.5,
          0.5,
          0.5,
          0.5,
          0.5,
          0.5,
          0.5,
          0.5,
          0.5,
          0.5,
          0.5,
          0.5,
          0.5,
          0.5,
          0.5,
          0.5,
          0.5,
          0.5,
          0.5,
          0.5,
          0.5,
          0.5,
          0.5,
          0.5,
          0.5,
          0.5,
          0.5,
          0.5,
          0.5,
          0.5,
          0.5,
          0.5,
          0.5,
          0.5,
          0.5,
          0.5,
          0.5,
          0.5,
          0.5,
          0.5,
          0.5,
          0.5,
          1,
          1,
          1,
          1,
          1,
          1,
          1,
          1,
          1,
          1,
          1,
          2,
          2,
          2,
          2,
          2,
          2,
          2,
          2,
          2,
          2,
          2,
          2,
          2,
          2,
          2,
          2,
          2,
          3,
          3,
          3,
          3,
          3,
          3,
          3,
          4,
          4,
          4,
          4,
          4,
          4,
          4,
          4,
          4,
          4,
          4,
          4,
          4,
          4,
          4,
          4,
          4,
          4,
          4,
          4,
          4,
          4,
          5,
          5,
          5,
          5,
          5,
          5,
          5,
          6,
          6,
          6,
          6,
          6,
          6,
          6,
          6,
          6,
          6,
          6,
          6,
          6,
          6,
          7,
          7,
          7,
          8,
          8,
          8,
          8,
          8,
          8,
          8,
          8,
          8,
          9,
          10,
          10,
          10,
          10,
          10,
          10,
          12,
          12,
          15,
          16,
          20
         ],
         "xaxis": "x",
         "yaxis": "y"
        },
        {
         "alignmentgroup": "True",
         "hovertemplate": "number of half-pint equivalents of alcoholic beverages drunk per day=%{x}<extra></extra>",
         "legendgroup": "",
         "marker": {
          "color": "#636efa"
         },
         "name": "",
         "notched": true,
         "offsetgroup": "",
         "showlegend": false,
         "type": "box",
         "x": [
          0,
          0,
          0,
          0,
          0,
          0,
          0.5,
          0.5,
          0.5,
          0.5,
          0.5,
          0.5,
          0.5,
          0.5,
          0.5,
          0.5,
          0.5,
          0.5,
          0.5,
          0.5,
          0.5,
          0.5,
          0.5,
          0.5,
          0.5,
          0.5,
          0.5,
          0.5,
          0.5,
          0.5,
          0.5,
          0.5,
          0.5,
          0.5,
          0.5,
          0.5,
          0.5,
          0.5,
          0.5,
          0.5,
          0.5,
          0.5,
          0.5,
          0.5,
          0.5,
          0.5,
          0.5,
          0.5,
          0.5,
          0.5,
          0.5,
          0.5,
          0.5,
          0.5,
          0.5,
          0.5,
          0.5,
          0.5,
          0.5,
          0.5,
          0.5,
          0.5,
          0.5,
          0.5,
          1,
          1,
          1,
          1,
          1,
          1,
          2,
          2,
          2,
          2,
          2,
          2,
          2,
          2,
          2,
          2,
          2,
          2,
          2,
          2,
          2,
          2,
          2,
          2,
          3,
          3,
          3,
          3,
          3,
          3,
          3,
          3,
          3,
          3,
          3,
          3,
          3,
          3,
          4,
          4,
          4,
          4,
          4,
          4,
          4,
          4,
          4,
          4,
          4,
          4,
          4,
          4,
          4,
          4,
          4,
          4,
          4,
          4,
          4,
          4,
          4,
          4,
          4,
          4,
          4,
          4,
          5,
          5,
          5,
          5,
          5,
          5,
          5,
          5,
          5,
          5,
          6,
          6,
          6,
          6,
          6,
          6,
          6,
          6,
          6,
          6,
          6,
          6,
          6,
          6,
          6,
          6,
          6,
          6,
          6,
          6,
          6,
          6,
          6,
          6,
          6,
          6,
          7,
          7,
          7,
          8,
          8,
          8,
          8,
          8,
          8,
          8,
          8,
          8,
          8,
          8,
          8,
          9,
          10,
          10,
          10,
          10,
          12,
          12,
          16,
          20,
          0,
          0,
          0,
          0.5,
          0.5,
          0.5,
          0.5,
          0.5,
          0.5,
          0.5,
          0.5,
          0.5,
          0.5,
          0.5,
          0.5,
          0.5,
          0.5,
          0.5,
          0.5,
          0.5,
          0.5,
          0.5,
          0.5,
          0.5,
          0.5,
          0.5,
          0.5,
          0.5,
          0.5,
          0.5,
          0.5,
          0.5,
          0.5,
          0.5,
          0.5,
          0.5,
          0.5,
          0.5,
          0.5,
          0.5,
          0.5,
          0.5,
          0.5,
          0.5,
          0.5,
          0.5,
          0.5,
          0.5,
          0.5,
          0.5,
          0.5,
          0.5,
          0.5,
          1,
          1,
          1,
          1,
          1,
          1,
          1,
          1,
          1,
          1,
          1,
          2,
          2,
          2,
          2,
          2,
          2,
          2,
          2,
          2,
          2,
          2,
          2,
          2,
          2,
          2,
          2,
          2,
          3,
          3,
          3,
          3,
          3,
          3,
          3,
          4,
          4,
          4,
          4,
          4,
          4,
          4,
          4,
          4,
          4,
          4,
          4,
          4,
          4,
          4,
          4,
          4,
          4,
          4,
          4,
          4,
          4,
          5,
          5,
          5,
          5,
          5,
          5,
          5,
          6,
          6,
          6,
          6,
          6,
          6,
          6,
          6,
          6,
          6,
          6,
          6,
          6,
          6,
          7,
          7,
          7,
          8,
          8,
          8,
          8,
          8,
          8,
          8,
          8,
          8,
          9,
          10,
          10,
          10,
          10,
          10,
          10,
          12,
          12,
          15,
          16,
          20
         ],
         "xaxis": "x2",
         "yaxis": "y2"
        }
       ],
       "layout": {
        "barmode": "relative",
        "legend": {
         "tracegroupgap": 0
        },
        "margin": {
         "t": 60
        },
        "template": {
         "data": {
          "bar": [
           {
            "error_x": {
             "color": "#2a3f5f"
            },
            "error_y": {
             "color": "#2a3f5f"
            },
            "marker": {
             "line": {
              "color": "#E5ECF6",
              "width": 0.5
             },
             "pattern": {
              "fillmode": "overlay",
              "size": 10,
              "solidity": 0.2
             }
            },
            "type": "bar"
           }
          ],
          "barpolar": [
           {
            "marker": {
             "line": {
              "color": "#E5ECF6",
              "width": 0.5
             },
             "pattern": {
              "fillmode": "overlay",
              "size": 10,
              "solidity": 0.2
             }
            },
            "type": "barpolar"
           }
          ],
          "carpet": [
           {
            "aaxis": {
             "endlinecolor": "#2a3f5f",
             "gridcolor": "white",
             "linecolor": "white",
             "minorgridcolor": "white",
             "startlinecolor": "#2a3f5f"
            },
            "baxis": {
             "endlinecolor": "#2a3f5f",
             "gridcolor": "white",
             "linecolor": "white",
             "minorgridcolor": "white",
             "startlinecolor": "#2a3f5f"
            },
            "type": "carpet"
           }
          ],
          "choropleth": [
           {
            "colorbar": {
             "outlinewidth": 0,
             "ticks": ""
            },
            "type": "choropleth"
           }
          ],
          "contour": [
           {
            "colorbar": {
             "outlinewidth": 0,
             "ticks": ""
            },
            "colorscale": [
             [
              0,
              "#0d0887"
             ],
             [
              0.1111111111111111,
              "#46039f"
             ],
             [
              0.2222222222222222,
              "#7201a8"
             ],
             [
              0.3333333333333333,
              "#9c179e"
             ],
             [
              0.4444444444444444,
              "#bd3786"
             ],
             [
              0.5555555555555556,
              "#d8576b"
             ],
             [
              0.6666666666666666,
              "#ed7953"
             ],
             [
              0.7777777777777778,
              "#fb9f3a"
             ],
             [
              0.8888888888888888,
              "#fdca26"
             ],
             [
              1,
              "#f0f921"
             ]
            ],
            "type": "contour"
           }
          ],
          "contourcarpet": [
           {
            "colorbar": {
             "outlinewidth": 0,
             "ticks": ""
            },
            "type": "contourcarpet"
           }
          ],
          "heatmap": [
           {
            "colorbar": {
             "outlinewidth": 0,
             "ticks": ""
            },
            "colorscale": [
             [
              0,
              "#0d0887"
             ],
             [
              0.1111111111111111,
              "#46039f"
             ],
             [
              0.2222222222222222,
              "#7201a8"
             ],
             [
              0.3333333333333333,
              "#9c179e"
             ],
             [
              0.4444444444444444,
              "#bd3786"
             ],
             [
              0.5555555555555556,
              "#d8576b"
             ],
             [
              0.6666666666666666,
              "#ed7953"
             ],
             [
              0.7777777777777778,
              "#fb9f3a"
             ],
             [
              0.8888888888888888,
              "#fdca26"
             ],
             [
              1,
              "#f0f921"
             ]
            ],
            "type": "heatmap"
           }
          ],
          "heatmapgl": [
           {
            "colorbar": {
             "outlinewidth": 0,
             "ticks": ""
            },
            "colorscale": [
             [
              0,
              "#0d0887"
             ],
             [
              0.1111111111111111,
              "#46039f"
             ],
             [
              0.2222222222222222,
              "#7201a8"
             ],
             [
              0.3333333333333333,
              "#9c179e"
             ],
             [
              0.4444444444444444,
              "#bd3786"
             ],
             [
              0.5555555555555556,
              "#d8576b"
             ],
             [
              0.6666666666666666,
              "#ed7953"
             ],
             [
              0.7777777777777778,
              "#fb9f3a"
             ],
             [
              0.8888888888888888,
              "#fdca26"
             ],
             [
              1,
              "#f0f921"
             ]
            ],
            "type": "heatmapgl"
           }
          ],
          "histogram": [
           {
            "marker": {
             "pattern": {
              "fillmode": "overlay",
              "size": 10,
              "solidity": 0.2
             }
            },
            "type": "histogram"
           }
          ],
          "histogram2d": [
           {
            "colorbar": {
             "outlinewidth": 0,
             "ticks": ""
            },
            "colorscale": [
             [
              0,
              "#0d0887"
             ],
             [
              0.1111111111111111,
              "#46039f"
             ],
             [
              0.2222222222222222,
              "#7201a8"
             ],
             [
              0.3333333333333333,
              "#9c179e"
             ],
             [
              0.4444444444444444,
              "#bd3786"
             ],
             [
              0.5555555555555556,
              "#d8576b"
             ],
             [
              0.6666666666666666,
              "#ed7953"
             ],
             [
              0.7777777777777778,
              "#fb9f3a"
             ],
             [
              0.8888888888888888,
              "#fdca26"
             ],
             [
              1,
              "#f0f921"
             ]
            ],
            "type": "histogram2d"
           }
          ],
          "histogram2dcontour": [
           {
            "colorbar": {
             "outlinewidth": 0,
             "ticks": ""
            },
            "colorscale": [
             [
              0,
              "#0d0887"
             ],
             [
              0.1111111111111111,
              "#46039f"
             ],
             [
              0.2222222222222222,
              "#7201a8"
             ],
             [
              0.3333333333333333,
              "#9c179e"
             ],
             [
              0.4444444444444444,
              "#bd3786"
             ],
             [
              0.5555555555555556,
              "#d8576b"
             ],
             [
              0.6666666666666666,
              "#ed7953"
             ],
             [
              0.7777777777777778,
              "#fb9f3a"
             ],
             [
              0.8888888888888888,
              "#fdca26"
             ],
             [
              1,
              "#f0f921"
             ]
            ],
            "type": "histogram2dcontour"
           }
          ],
          "mesh3d": [
           {
            "colorbar": {
             "outlinewidth": 0,
             "ticks": ""
            },
            "type": "mesh3d"
           }
          ],
          "parcoords": [
           {
            "line": {
             "colorbar": {
              "outlinewidth": 0,
              "ticks": ""
             }
            },
            "type": "parcoords"
           }
          ],
          "pie": [
           {
            "automargin": true,
            "type": "pie"
           }
          ],
          "scatter": [
           {
            "marker": {
             "colorbar": {
              "outlinewidth": 0,
              "ticks": ""
             }
            },
            "type": "scatter"
           }
          ],
          "scatter3d": [
           {
            "line": {
             "colorbar": {
              "outlinewidth": 0,
              "ticks": ""
             }
            },
            "marker": {
             "colorbar": {
              "outlinewidth": 0,
              "ticks": ""
             }
            },
            "type": "scatter3d"
           }
          ],
          "scattercarpet": [
           {
            "marker": {
             "colorbar": {
              "outlinewidth": 0,
              "ticks": ""
             }
            },
            "type": "scattercarpet"
           }
          ],
          "scattergeo": [
           {
            "marker": {
             "colorbar": {
              "outlinewidth": 0,
              "ticks": ""
             }
            },
            "type": "scattergeo"
           }
          ],
          "scattergl": [
           {
            "marker": {
             "colorbar": {
              "outlinewidth": 0,
              "ticks": ""
             }
            },
            "type": "scattergl"
           }
          ],
          "scattermapbox": [
           {
            "marker": {
             "colorbar": {
              "outlinewidth": 0,
              "ticks": ""
             }
            },
            "type": "scattermapbox"
           }
          ],
          "scatterpolar": [
           {
            "marker": {
             "colorbar": {
              "outlinewidth": 0,
              "ticks": ""
             }
            },
            "type": "scatterpolar"
           }
          ],
          "scatterpolargl": [
           {
            "marker": {
             "colorbar": {
              "outlinewidth": 0,
              "ticks": ""
             }
            },
            "type": "scatterpolargl"
           }
          ],
          "scatterternary": [
           {
            "marker": {
             "colorbar": {
              "outlinewidth": 0,
              "ticks": ""
             }
            },
            "type": "scatterternary"
           }
          ],
          "surface": [
           {
            "colorbar": {
             "outlinewidth": 0,
             "ticks": ""
            },
            "colorscale": [
             [
              0,
              "#0d0887"
             ],
             [
              0.1111111111111111,
              "#46039f"
             ],
             [
              0.2222222222222222,
              "#7201a8"
             ],
             [
              0.3333333333333333,
              "#9c179e"
             ],
             [
              0.4444444444444444,
              "#bd3786"
             ],
             [
              0.5555555555555556,
              "#d8576b"
             ],
             [
              0.6666666666666666,
              "#ed7953"
             ],
             [
              0.7777777777777778,
              "#fb9f3a"
             ],
             [
              0.8888888888888888,
              "#fdca26"
             ],
             [
              1,
              "#f0f921"
             ]
            ],
            "type": "surface"
           }
          ],
          "table": [
           {
            "cells": {
             "fill": {
              "color": "#EBF0F8"
             },
             "line": {
              "color": "white"
             }
            },
            "header": {
             "fill": {
              "color": "#C8D4E3"
             },
             "line": {
              "color": "white"
             }
            },
            "type": "table"
           }
          ]
         },
         "layout": {
          "annotationdefaults": {
           "arrowcolor": "#2a3f5f",
           "arrowhead": 0,
           "arrowwidth": 1
          },
          "autotypenumbers": "strict",
          "coloraxis": {
           "colorbar": {
            "outlinewidth": 0,
            "ticks": ""
           }
          },
          "colorscale": {
           "diverging": [
            [
             0,
             "#8e0152"
            ],
            [
             0.1,
             "#c51b7d"
            ],
            [
             0.2,
             "#de77ae"
            ],
            [
             0.3,
             "#f1b6da"
            ],
            [
             0.4,
             "#fde0ef"
            ],
            [
             0.5,
             "#f7f7f7"
            ],
            [
             0.6,
             "#e6f5d0"
            ],
            [
             0.7,
             "#b8e186"
            ],
            [
             0.8,
             "#7fbc41"
            ],
            [
             0.9,
             "#4d9221"
            ],
            [
             1,
             "#276419"
            ]
           ],
           "sequential": [
            [
             0,
             "#0d0887"
            ],
            [
             0.1111111111111111,
             "#46039f"
            ],
            [
             0.2222222222222222,
             "#7201a8"
            ],
            [
             0.3333333333333333,
             "#9c179e"
            ],
            [
             0.4444444444444444,
             "#bd3786"
            ],
            [
             0.5555555555555556,
             "#d8576b"
            ],
            [
             0.6666666666666666,
             "#ed7953"
            ],
            [
             0.7777777777777778,
             "#fb9f3a"
            ],
            [
             0.8888888888888888,
             "#fdca26"
            ],
            [
             1,
             "#f0f921"
            ]
           ],
           "sequentialminus": [
            [
             0,
             "#0d0887"
            ],
            [
             0.1111111111111111,
             "#46039f"
            ],
            [
             0.2222222222222222,
             "#7201a8"
            ],
            [
             0.3333333333333333,
             "#9c179e"
            ],
            [
             0.4444444444444444,
             "#bd3786"
            ],
            [
             0.5555555555555556,
             "#d8576b"
            ],
            [
             0.6666666666666666,
             "#ed7953"
            ],
            [
             0.7777777777777778,
             "#fb9f3a"
            ],
            [
             0.8888888888888888,
             "#fdca26"
            ],
            [
             1,
             "#f0f921"
            ]
           ]
          },
          "colorway": [
           "#636efa",
           "#EF553B",
           "#00cc96",
           "#ab63fa",
           "#FFA15A",
           "#19d3f3",
           "#FF6692",
           "#B6E880",
           "#FF97FF",
           "#FECB52"
          ],
          "font": {
           "color": "#2a3f5f"
          },
          "geo": {
           "bgcolor": "white",
           "lakecolor": "white",
           "landcolor": "#E5ECF6",
           "showlakes": true,
           "showland": true,
           "subunitcolor": "white"
          },
          "hoverlabel": {
           "align": "left"
          },
          "hovermode": "closest",
          "mapbox": {
           "style": "light"
          },
          "paper_bgcolor": "white",
          "plot_bgcolor": "#E5ECF6",
          "polar": {
           "angularaxis": {
            "gridcolor": "white",
            "linecolor": "white",
            "ticks": ""
           },
           "bgcolor": "#E5ECF6",
           "radialaxis": {
            "gridcolor": "white",
            "linecolor": "white",
            "ticks": ""
           }
          },
          "scene": {
           "xaxis": {
            "backgroundcolor": "#E5ECF6",
            "gridcolor": "white",
            "gridwidth": 2,
            "linecolor": "white",
            "showbackground": true,
            "ticks": "",
            "zerolinecolor": "white"
           },
           "yaxis": {
            "backgroundcolor": "#E5ECF6",
            "gridcolor": "white",
            "gridwidth": 2,
            "linecolor": "white",
            "showbackground": true,
            "ticks": "",
            "zerolinecolor": "white"
           },
           "zaxis": {
            "backgroundcolor": "#E5ECF6",
            "gridcolor": "white",
            "gridwidth": 2,
            "linecolor": "white",
            "showbackground": true,
            "ticks": "",
            "zerolinecolor": "white"
           }
          },
          "shapedefaults": {
           "line": {
            "color": "#2a3f5f"
           }
          },
          "ternary": {
           "aaxis": {
            "gridcolor": "white",
            "linecolor": "white",
            "ticks": ""
           },
           "baxis": {
            "gridcolor": "white",
            "linecolor": "white",
            "ticks": ""
           },
           "bgcolor": "#E5ECF6",
           "caxis": {
            "gridcolor": "white",
            "linecolor": "white",
            "ticks": ""
           }
          },
          "title": {
           "x": 0.05
          },
          "xaxis": {
           "automargin": true,
           "gridcolor": "white",
           "linecolor": "white",
           "ticks": "",
           "title": {
            "standoff": 15
           },
           "zerolinecolor": "white",
           "zerolinewidth": 2
          },
          "yaxis": {
           "automargin": true,
           "gridcolor": "white",
           "linecolor": "white",
           "ticks": "",
           "title": {
            "standoff": 15
           },
           "zerolinecolor": "white",
           "zerolinewidth": 2
          }
         }
        },
        "xaxis": {
         "anchor": "y",
         "domain": [
          0,
          1
         ],
         "title": {
          "text": "number of half-pint equivalents of alcoholic beverages drunk per day"
         }
        },
        "xaxis2": {
         "anchor": "y2",
         "domain": [
          0,
          1
         ],
         "matches": "x",
         "showgrid": true,
         "showticklabels": false
        },
        "yaxis": {
         "anchor": "x",
         "domain": [
          0,
          0.8316
         ],
         "title": {
          "text": "count"
         }
        },
        "yaxis2": {
         "anchor": "x2",
         "domain": [
          0.8416,
          1
         ],
         "matches": "y2",
         "showgrid": false,
         "showline": false,
         "showticklabels": false,
         "ticks": ""
        }
       }
      }
     },
     "metadata": {},
     "output_type": "display_data"
    }
   ],
   "source": [
    "# Load the liver disorders dataset\n",
    "liver_data = pd.read_csv('project2/data/liver_disorder.csv', header=None)\n",
    "# Add headers\n",
    "FEATURES = ['mean corpuscular volume', 'alkaline phosphotase', 'alanine aminotransferase', \n",
    "            'aspartate aminotransferase', 'gamma-glutamyl transpeptidase', ]\n",
    "TARGET = 'number of half-pint equivalents of alcoholic beverages drunk per day'\n",
    "\n",
    "liver_data.columns = FEATURES + [TARGET] + ['train_test']\n",
    "\n",
    "# Plot a histogram of the target values\n",
    "fig = px.histogram(liver_data, x=TARGET, marginal='box',)\n",
    "fig.show()\n",
    "\n"
   ]
  },
  {
   "attachments": {},
   "cell_type": "markdown",
   "metadata": {},
   "source": [
    "We do this by calculating the optimal histogram bin edges and applying the bin cuts to our target column. Here is the result:"
   ]
  },
  {
   "cell_type": "code",
   "execution_count": 3,
   "metadata": {},
   "outputs": [],
   "source": [
    "# Convert target column to discrete values\n",
    "\n",
    "# First, calculate the optimal integer bin edges, we arbitrarily choose 5 bins\n",
    "bins = np.histogram_bin_edges(liver_data[TARGET], bins=5)\n",
    "# Cut the target column into bins\n",
    "bin_labels = [i for i in range(len(bins) - 1)]\n",
    "liver_data['discrete_target'] = pd.cut(liver_data[TARGET], bins=bins, labels=bin_labels, include_lowest=True)"
   ]
  },
  {
   "cell_type": "code",
   "execution_count": 4,
   "metadata": {},
   "outputs": [
    {
     "data": {
      "application/vnd.plotly.v1+json": {
       "config": {
        "plotlyServerURL": "https://plot.ly"
       },
       "data": [
        {
         "alignmentgroup": "True",
         "bingroup": "x",
         "hovertemplate": "discrete_target=%{x}<br>count=%{y}<extra></extra>",
         "legendgroup": "",
         "marker": {
          "color": "#636efa",
          "pattern": {
           "shape": ""
          }
         },
         "name": "",
         "offsetgroup": "",
         "orientation": "v",
         "showlegend": false,
         "type": "histogram",
         "x": [
          0,
          0,
          0,
          0,
          0,
          0,
          0,
          0,
          0,
          0,
          0,
          0,
          0,
          0,
          0,
          0,
          0,
          0,
          0,
          0,
          0,
          0,
          0,
          0,
          0,
          0,
          0,
          0,
          0,
          0,
          0,
          0,
          0,
          0,
          0,
          0,
          0,
          0,
          0,
          0,
          0,
          0,
          0,
          0,
          0,
          0,
          0,
          0,
          0,
          0,
          0,
          0,
          0,
          0,
          0,
          0,
          0,
          0,
          0,
          0,
          0,
          0,
          0,
          0,
          0,
          0,
          0,
          0,
          0,
          0,
          0,
          0,
          0,
          0,
          0,
          0,
          0,
          0,
          0,
          0,
          0,
          0,
          0,
          0,
          0,
          0,
          0,
          0,
          0,
          0,
          0,
          0,
          0,
          0,
          0,
          0,
          0,
          0,
          0,
          0,
          0,
          0,
          0,
          0,
          0,
          0,
          0,
          0,
          0,
          0,
          0,
          0,
          0,
          0,
          0,
          0,
          0,
          0,
          0,
          0,
          0,
          0,
          0,
          0,
          0,
          0,
          0,
          0,
          0,
          0,
          1,
          1,
          1,
          1,
          1,
          1,
          1,
          1,
          1,
          1,
          1,
          1,
          1,
          1,
          1,
          1,
          1,
          1,
          1,
          1,
          1,
          1,
          1,
          1,
          1,
          1,
          1,
          1,
          1,
          1,
          1,
          1,
          1,
          1,
          1,
          1,
          1,
          1,
          1,
          1,
          1,
          1,
          1,
          1,
          1,
          1,
          1,
          1,
          1,
          1,
          1,
          2,
          2,
          2,
          2,
          2,
          2,
          2,
          3,
          4,
          0,
          0,
          0,
          0,
          0,
          0,
          0,
          0,
          0,
          0,
          0,
          0,
          0,
          0,
          0,
          0,
          0,
          0,
          0,
          0,
          0,
          0,
          0,
          0,
          0,
          0,
          0,
          0,
          0,
          0,
          0,
          0,
          0,
          0,
          0,
          0,
          0,
          0,
          0,
          0,
          0,
          0,
          0,
          0,
          0,
          0,
          0,
          0,
          0,
          0,
          0,
          0,
          0,
          0,
          0,
          0,
          0,
          0,
          0,
          0,
          0,
          0,
          0,
          0,
          0,
          0,
          0,
          0,
          0,
          0,
          0,
          0,
          0,
          0,
          0,
          0,
          0,
          0,
          0,
          0,
          0,
          0,
          0,
          0,
          0,
          0,
          0,
          0,
          0,
          0,
          0,
          0,
          0,
          0,
          0,
          0,
          0,
          0,
          0,
          0,
          0,
          0,
          0,
          0,
          0,
          0,
          0,
          0,
          0,
          0,
          1,
          1,
          1,
          1,
          1,
          1,
          1,
          1,
          1,
          1,
          1,
          1,
          1,
          1,
          1,
          1,
          1,
          1,
          1,
          1,
          1,
          1,
          1,
          1,
          1,
          1,
          1,
          1,
          1,
          1,
          1,
          1,
          1,
          2,
          2,
          2,
          2,
          2,
          2,
          2,
          2,
          2,
          3,
          3,
          4
         ],
         "xaxis": "x",
         "yaxis": "y"
        },
        {
         "alignmentgroup": "True",
         "hovertemplate": "discrete_target=%{x}<extra></extra>",
         "legendgroup": "",
         "marker": {
          "color": "#636efa"
         },
         "name": "",
         "notched": true,
         "offsetgroup": "",
         "showlegend": false,
         "type": "box",
         "x": [
          0,
          0,
          0,
          0,
          0,
          0,
          0,
          0,
          0,
          0,
          0,
          0,
          0,
          0,
          0,
          0,
          0,
          0,
          0,
          0,
          0,
          0,
          0,
          0,
          0,
          0,
          0,
          0,
          0,
          0,
          0,
          0,
          0,
          0,
          0,
          0,
          0,
          0,
          0,
          0,
          0,
          0,
          0,
          0,
          0,
          0,
          0,
          0,
          0,
          0,
          0,
          0,
          0,
          0,
          0,
          0,
          0,
          0,
          0,
          0,
          0,
          0,
          0,
          0,
          0,
          0,
          0,
          0,
          0,
          0,
          0,
          0,
          0,
          0,
          0,
          0,
          0,
          0,
          0,
          0,
          0,
          0,
          0,
          0,
          0,
          0,
          0,
          0,
          0,
          0,
          0,
          0,
          0,
          0,
          0,
          0,
          0,
          0,
          0,
          0,
          0,
          0,
          0,
          0,
          0,
          0,
          0,
          0,
          0,
          0,
          0,
          0,
          0,
          0,
          0,
          0,
          0,
          0,
          0,
          0,
          0,
          0,
          0,
          0,
          0,
          0,
          0,
          0,
          0,
          0,
          1,
          1,
          1,
          1,
          1,
          1,
          1,
          1,
          1,
          1,
          1,
          1,
          1,
          1,
          1,
          1,
          1,
          1,
          1,
          1,
          1,
          1,
          1,
          1,
          1,
          1,
          1,
          1,
          1,
          1,
          1,
          1,
          1,
          1,
          1,
          1,
          1,
          1,
          1,
          1,
          1,
          1,
          1,
          1,
          1,
          1,
          1,
          1,
          1,
          1,
          1,
          2,
          2,
          2,
          2,
          2,
          2,
          2,
          3,
          4,
          0,
          0,
          0,
          0,
          0,
          0,
          0,
          0,
          0,
          0,
          0,
          0,
          0,
          0,
          0,
          0,
          0,
          0,
          0,
          0,
          0,
          0,
          0,
          0,
          0,
          0,
          0,
          0,
          0,
          0,
          0,
          0,
          0,
          0,
          0,
          0,
          0,
          0,
          0,
          0,
          0,
          0,
          0,
          0,
          0,
          0,
          0,
          0,
          0,
          0,
          0,
          0,
          0,
          0,
          0,
          0,
          0,
          0,
          0,
          0,
          0,
          0,
          0,
          0,
          0,
          0,
          0,
          0,
          0,
          0,
          0,
          0,
          0,
          0,
          0,
          0,
          0,
          0,
          0,
          0,
          0,
          0,
          0,
          0,
          0,
          0,
          0,
          0,
          0,
          0,
          0,
          0,
          0,
          0,
          0,
          0,
          0,
          0,
          0,
          0,
          0,
          0,
          0,
          0,
          0,
          0,
          0,
          0,
          0,
          0,
          1,
          1,
          1,
          1,
          1,
          1,
          1,
          1,
          1,
          1,
          1,
          1,
          1,
          1,
          1,
          1,
          1,
          1,
          1,
          1,
          1,
          1,
          1,
          1,
          1,
          1,
          1,
          1,
          1,
          1,
          1,
          1,
          1,
          2,
          2,
          2,
          2,
          2,
          2,
          2,
          2,
          2,
          3,
          3,
          4
         ],
         "xaxis": "x2",
         "yaxis": "y2"
        }
       ],
       "layout": {
        "barmode": "relative",
        "legend": {
         "tracegroupgap": 0
        },
        "margin": {
         "t": 60
        },
        "template": {
         "data": {
          "bar": [
           {
            "error_x": {
             "color": "#2a3f5f"
            },
            "error_y": {
             "color": "#2a3f5f"
            },
            "marker": {
             "line": {
              "color": "#E5ECF6",
              "width": 0.5
             },
             "pattern": {
              "fillmode": "overlay",
              "size": 10,
              "solidity": 0.2
             }
            },
            "type": "bar"
           }
          ],
          "barpolar": [
           {
            "marker": {
             "line": {
              "color": "#E5ECF6",
              "width": 0.5
             },
             "pattern": {
              "fillmode": "overlay",
              "size": 10,
              "solidity": 0.2
             }
            },
            "type": "barpolar"
           }
          ],
          "carpet": [
           {
            "aaxis": {
             "endlinecolor": "#2a3f5f",
             "gridcolor": "white",
             "linecolor": "white",
             "minorgridcolor": "white",
             "startlinecolor": "#2a3f5f"
            },
            "baxis": {
             "endlinecolor": "#2a3f5f",
             "gridcolor": "white",
             "linecolor": "white",
             "minorgridcolor": "white",
             "startlinecolor": "#2a3f5f"
            },
            "type": "carpet"
           }
          ],
          "choropleth": [
           {
            "colorbar": {
             "outlinewidth": 0,
             "ticks": ""
            },
            "type": "choropleth"
           }
          ],
          "contour": [
           {
            "colorbar": {
             "outlinewidth": 0,
             "ticks": ""
            },
            "colorscale": [
             [
              0,
              "#0d0887"
             ],
             [
              0.1111111111111111,
              "#46039f"
             ],
             [
              0.2222222222222222,
              "#7201a8"
             ],
             [
              0.3333333333333333,
              "#9c179e"
             ],
             [
              0.4444444444444444,
              "#bd3786"
             ],
             [
              0.5555555555555556,
              "#d8576b"
             ],
             [
              0.6666666666666666,
              "#ed7953"
             ],
             [
              0.7777777777777778,
              "#fb9f3a"
             ],
             [
              0.8888888888888888,
              "#fdca26"
             ],
             [
              1,
              "#f0f921"
             ]
            ],
            "type": "contour"
           }
          ],
          "contourcarpet": [
           {
            "colorbar": {
             "outlinewidth": 0,
             "ticks": ""
            },
            "type": "contourcarpet"
           }
          ],
          "heatmap": [
           {
            "colorbar": {
             "outlinewidth": 0,
             "ticks": ""
            },
            "colorscale": [
             [
              0,
              "#0d0887"
             ],
             [
              0.1111111111111111,
              "#46039f"
             ],
             [
              0.2222222222222222,
              "#7201a8"
             ],
             [
              0.3333333333333333,
              "#9c179e"
             ],
             [
              0.4444444444444444,
              "#bd3786"
             ],
             [
              0.5555555555555556,
              "#d8576b"
             ],
             [
              0.6666666666666666,
              "#ed7953"
             ],
             [
              0.7777777777777778,
              "#fb9f3a"
             ],
             [
              0.8888888888888888,
              "#fdca26"
             ],
             [
              1,
              "#f0f921"
             ]
            ],
            "type": "heatmap"
           }
          ],
          "heatmapgl": [
           {
            "colorbar": {
             "outlinewidth": 0,
             "ticks": ""
            },
            "colorscale": [
             [
              0,
              "#0d0887"
             ],
             [
              0.1111111111111111,
              "#46039f"
             ],
             [
              0.2222222222222222,
              "#7201a8"
             ],
             [
              0.3333333333333333,
              "#9c179e"
             ],
             [
              0.4444444444444444,
              "#bd3786"
             ],
             [
              0.5555555555555556,
              "#d8576b"
             ],
             [
              0.6666666666666666,
              "#ed7953"
             ],
             [
              0.7777777777777778,
              "#fb9f3a"
             ],
             [
              0.8888888888888888,
              "#fdca26"
             ],
             [
              1,
              "#f0f921"
             ]
            ],
            "type": "heatmapgl"
           }
          ],
          "histogram": [
           {
            "marker": {
             "pattern": {
              "fillmode": "overlay",
              "size": 10,
              "solidity": 0.2
             }
            },
            "type": "histogram"
           }
          ],
          "histogram2d": [
           {
            "colorbar": {
             "outlinewidth": 0,
             "ticks": ""
            },
            "colorscale": [
             [
              0,
              "#0d0887"
             ],
             [
              0.1111111111111111,
              "#46039f"
             ],
             [
              0.2222222222222222,
              "#7201a8"
             ],
             [
              0.3333333333333333,
              "#9c179e"
             ],
             [
              0.4444444444444444,
              "#bd3786"
             ],
             [
              0.5555555555555556,
              "#d8576b"
             ],
             [
              0.6666666666666666,
              "#ed7953"
             ],
             [
              0.7777777777777778,
              "#fb9f3a"
             ],
             [
              0.8888888888888888,
              "#fdca26"
             ],
             [
              1,
              "#f0f921"
             ]
            ],
            "type": "histogram2d"
           }
          ],
          "histogram2dcontour": [
           {
            "colorbar": {
             "outlinewidth": 0,
             "ticks": ""
            },
            "colorscale": [
             [
              0,
              "#0d0887"
             ],
             [
              0.1111111111111111,
              "#46039f"
             ],
             [
              0.2222222222222222,
              "#7201a8"
             ],
             [
              0.3333333333333333,
              "#9c179e"
             ],
             [
              0.4444444444444444,
              "#bd3786"
             ],
             [
              0.5555555555555556,
              "#d8576b"
             ],
             [
              0.6666666666666666,
              "#ed7953"
             ],
             [
              0.7777777777777778,
              "#fb9f3a"
             ],
             [
              0.8888888888888888,
              "#fdca26"
             ],
             [
              1,
              "#f0f921"
             ]
            ],
            "type": "histogram2dcontour"
           }
          ],
          "mesh3d": [
           {
            "colorbar": {
             "outlinewidth": 0,
             "ticks": ""
            },
            "type": "mesh3d"
           }
          ],
          "parcoords": [
           {
            "line": {
             "colorbar": {
              "outlinewidth": 0,
              "ticks": ""
             }
            },
            "type": "parcoords"
           }
          ],
          "pie": [
           {
            "automargin": true,
            "type": "pie"
           }
          ],
          "scatter": [
           {
            "marker": {
             "colorbar": {
              "outlinewidth": 0,
              "ticks": ""
             }
            },
            "type": "scatter"
           }
          ],
          "scatter3d": [
           {
            "line": {
             "colorbar": {
              "outlinewidth": 0,
              "ticks": ""
             }
            },
            "marker": {
             "colorbar": {
              "outlinewidth": 0,
              "ticks": ""
             }
            },
            "type": "scatter3d"
           }
          ],
          "scattercarpet": [
           {
            "marker": {
             "colorbar": {
              "outlinewidth": 0,
              "ticks": ""
             }
            },
            "type": "scattercarpet"
           }
          ],
          "scattergeo": [
           {
            "marker": {
             "colorbar": {
              "outlinewidth": 0,
              "ticks": ""
             }
            },
            "type": "scattergeo"
           }
          ],
          "scattergl": [
           {
            "marker": {
             "colorbar": {
              "outlinewidth": 0,
              "ticks": ""
             }
            },
            "type": "scattergl"
           }
          ],
          "scattermapbox": [
           {
            "marker": {
             "colorbar": {
              "outlinewidth": 0,
              "ticks": ""
             }
            },
            "type": "scattermapbox"
           }
          ],
          "scatterpolar": [
           {
            "marker": {
             "colorbar": {
              "outlinewidth": 0,
              "ticks": ""
             }
            },
            "type": "scatterpolar"
           }
          ],
          "scatterpolargl": [
           {
            "marker": {
             "colorbar": {
              "outlinewidth": 0,
              "ticks": ""
             }
            },
            "type": "scatterpolargl"
           }
          ],
          "scatterternary": [
           {
            "marker": {
             "colorbar": {
              "outlinewidth": 0,
              "ticks": ""
             }
            },
            "type": "scatterternary"
           }
          ],
          "surface": [
           {
            "colorbar": {
             "outlinewidth": 0,
             "ticks": ""
            },
            "colorscale": [
             [
              0,
              "#0d0887"
             ],
             [
              0.1111111111111111,
              "#46039f"
             ],
             [
              0.2222222222222222,
              "#7201a8"
             ],
             [
              0.3333333333333333,
              "#9c179e"
             ],
             [
              0.4444444444444444,
              "#bd3786"
             ],
             [
              0.5555555555555556,
              "#d8576b"
             ],
             [
              0.6666666666666666,
              "#ed7953"
             ],
             [
              0.7777777777777778,
              "#fb9f3a"
             ],
             [
              0.8888888888888888,
              "#fdca26"
             ],
             [
              1,
              "#f0f921"
             ]
            ],
            "type": "surface"
           }
          ],
          "table": [
           {
            "cells": {
             "fill": {
              "color": "#EBF0F8"
             },
             "line": {
              "color": "white"
             }
            },
            "header": {
             "fill": {
              "color": "#C8D4E3"
             },
             "line": {
              "color": "white"
             }
            },
            "type": "table"
           }
          ]
         },
         "layout": {
          "annotationdefaults": {
           "arrowcolor": "#2a3f5f",
           "arrowhead": 0,
           "arrowwidth": 1
          },
          "autotypenumbers": "strict",
          "coloraxis": {
           "colorbar": {
            "outlinewidth": 0,
            "ticks": ""
           }
          },
          "colorscale": {
           "diverging": [
            [
             0,
             "#8e0152"
            ],
            [
             0.1,
             "#c51b7d"
            ],
            [
             0.2,
             "#de77ae"
            ],
            [
             0.3,
             "#f1b6da"
            ],
            [
             0.4,
             "#fde0ef"
            ],
            [
             0.5,
             "#f7f7f7"
            ],
            [
             0.6,
             "#e6f5d0"
            ],
            [
             0.7,
             "#b8e186"
            ],
            [
             0.8,
             "#7fbc41"
            ],
            [
             0.9,
             "#4d9221"
            ],
            [
             1,
             "#276419"
            ]
           ],
           "sequential": [
            [
             0,
             "#0d0887"
            ],
            [
             0.1111111111111111,
             "#46039f"
            ],
            [
             0.2222222222222222,
             "#7201a8"
            ],
            [
             0.3333333333333333,
             "#9c179e"
            ],
            [
             0.4444444444444444,
             "#bd3786"
            ],
            [
             0.5555555555555556,
             "#d8576b"
            ],
            [
             0.6666666666666666,
             "#ed7953"
            ],
            [
             0.7777777777777778,
             "#fb9f3a"
            ],
            [
             0.8888888888888888,
             "#fdca26"
            ],
            [
             1,
             "#f0f921"
            ]
           ],
           "sequentialminus": [
            [
             0,
             "#0d0887"
            ],
            [
             0.1111111111111111,
             "#46039f"
            ],
            [
             0.2222222222222222,
             "#7201a8"
            ],
            [
             0.3333333333333333,
             "#9c179e"
            ],
            [
             0.4444444444444444,
             "#bd3786"
            ],
            [
             0.5555555555555556,
             "#d8576b"
            ],
            [
             0.6666666666666666,
             "#ed7953"
            ],
            [
             0.7777777777777778,
             "#fb9f3a"
            ],
            [
             0.8888888888888888,
             "#fdca26"
            ],
            [
             1,
             "#f0f921"
            ]
           ]
          },
          "colorway": [
           "#636efa",
           "#EF553B",
           "#00cc96",
           "#ab63fa",
           "#FFA15A",
           "#19d3f3",
           "#FF6692",
           "#B6E880",
           "#FF97FF",
           "#FECB52"
          ],
          "font": {
           "color": "#2a3f5f"
          },
          "geo": {
           "bgcolor": "white",
           "lakecolor": "white",
           "landcolor": "#E5ECF6",
           "showlakes": true,
           "showland": true,
           "subunitcolor": "white"
          },
          "hoverlabel": {
           "align": "left"
          },
          "hovermode": "closest",
          "mapbox": {
           "style": "light"
          },
          "paper_bgcolor": "white",
          "plot_bgcolor": "#E5ECF6",
          "polar": {
           "angularaxis": {
            "gridcolor": "white",
            "linecolor": "white",
            "ticks": ""
           },
           "bgcolor": "#E5ECF6",
           "radialaxis": {
            "gridcolor": "white",
            "linecolor": "white",
            "ticks": ""
           }
          },
          "scene": {
           "xaxis": {
            "backgroundcolor": "#E5ECF6",
            "gridcolor": "white",
            "gridwidth": 2,
            "linecolor": "white",
            "showbackground": true,
            "ticks": "",
            "zerolinecolor": "white"
           },
           "yaxis": {
            "backgroundcolor": "#E5ECF6",
            "gridcolor": "white",
            "gridwidth": 2,
            "linecolor": "white",
            "showbackground": true,
            "ticks": "",
            "zerolinecolor": "white"
           },
           "zaxis": {
            "backgroundcolor": "#E5ECF6",
            "gridcolor": "white",
            "gridwidth": 2,
            "linecolor": "white",
            "showbackground": true,
            "ticks": "",
            "zerolinecolor": "white"
           }
          },
          "shapedefaults": {
           "line": {
            "color": "#2a3f5f"
           }
          },
          "ternary": {
           "aaxis": {
            "gridcolor": "white",
            "linecolor": "white",
            "ticks": ""
           },
           "baxis": {
            "gridcolor": "white",
            "linecolor": "white",
            "ticks": ""
           },
           "bgcolor": "#E5ECF6",
           "caxis": {
            "gridcolor": "white",
            "linecolor": "white",
            "ticks": ""
           }
          },
          "title": {
           "x": 0.05
          },
          "xaxis": {
           "automargin": true,
           "gridcolor": "white",
           "linecolor": "white",
           "ticks": "",
           "title": {
            "standoff": 15
           },
           "zerolinecolor": "white",
           "zerolinewidth": 2
          },
          "yaxis": {
           "automargin": true,
           "gridcolor": "white",
           "linecolor": "white",
           "ticks": "",
           "title": {
            "standoff": 15
           },
           "zerolinecolor": "white",
           "zerolinewidth": 2
          }
         }
        },
        "xaxis": {
         "anchor": "y",
         "domain": [
          0,
          1
         ],
         "title": {
          "text": "discrete_target"
         }
        },
        "xaxis2": {
         "anchor": "y2",
         "domain": [
          0,
          1
         ],
         "matches": "x",
         "showgrid": true,
         "showticklabels": false
        },
        "yaxis": {
         "anchor": "x",
         "domain": [
          0,
          0.8316
         ],
         "title": {
          "text": "count"
         }
        },
        "yaxis2": {
         "anchor": "x2",
         "domain": [
          0.8416,
          1
         ],
         "matches": "y2",
         "showgrid": false,
         "showline": false,
         "showticklabels": false,
         "ticks": ""
        }
       }
      }
     },
     "metadata": {},
     "output_type": "display_data"
    }
   ],
   "source": [
    "fig = px.histogram(liver_data, x='discrete_target', marginal='box')\n",
    "fig.show()"
   ]
  },
  {
   "attachments": {},
   "cell_type": "markdown",
   "metadata": {},
   "source": [
    "## Our Distance Metric\n",
    "\n",
    "In `distance.py`, there are a few implementations of the most common distance metrics in machine learning for numeric values:\n",
    "\n",
    "* Euclidean: \n",
    "  \n",
    "The formula for Euclidean distance is:\n",
    "![Formula for Euclidean Distance between two vectors in n-dimensional space](images/Euclidean%20Distance.png)\n",
    "\n",
    "When calculating the Euclidean distances for every vector between two matrices, we can simplify the equation for the distance matrix to:\n",
    "![General formula for EDM](https://miro.medium.com/max/720/1*6eqyEbgXdY4wlynIpXJD5w.webp)\n",
    "\n",
    "As all of our features for the liver disorder data set are numeric, we choose the Euclidean formula as our distance metric.\n",
    "\n",
    "* Cosine\n",
    "\n",
    "Give two vectors A and B, We can visualize the angle between them as theta:\n",
    "\n",
    "![Angle between A and B](https://miro.medium.com/max/720/1*AqWG1VHnLf8P7_H4KDBwVQ.webp)\n",
    "\n",
    "As the name suggests, the cosine distance between two vectors are calculated as follows:\n",
    "![Cosine of angle between vector A and B](https://miro.medium.com/max/720/1*LfW66-WsYkFqWc4XYJbEJg.webp)\n",
    "\n",
    "\n",
    "* Minkowski\n",
    "\n",
    "With Minkowski distance we can define the order, p, and calculate the distance as:\n",
    "![Minkowski distance between X and Y vector in n-dimensional space](https://wikimedia.org/api/rest_v1/media/math/render/svg/91ba4de01dd46e90d647cfa5d48343214bee9e43)\n",
    "\n",
    "When p=1, this corresponds to the Manhattan distance and when p=2, this is the same as Euclidean distance."
   ]
  },
  {
   "attachments": {},
   "cell_type": "markdown",
   "metadata": {},
   "source": [
    "## Implement nearest neighbor classification\n",
    "\n",
    "Now, we will implement the nearest neighbor classifier from our helper utility module `nearest_neighbor`.\n",
    "First, we set the number of neighbors to use (k) as 1."
   ]
  },
  {
   "cell_type": "code",
   "execution_count": 5,
   "metadata": {},
   "outputs": [
    {
     "name": "stdout",
     "output_type": "stream",
     "text": [
      "Accuracy: 0.5977011494252874\n"
     ]
    }
   ],
   "source": [
    "# Initialize the KNN classifier\n",
    "knn_liver = knn(k=1)\n",
    "# Split data into training and test set\n",
    "X_train, X_test, y_train, y_test = train_test_split(liver_data.drop(columns=[TARGET, 'train_test', 'discrete_target']),\n",
    "                                   liver_data['discrete_target'], test_size=0.25, random_state=0)\n",
    "\n",
    "y_train = y_train.to_frame()\n",
    "y_test = y_test.to_frame()\n",
    "\n",
    "# Fit the model and predict the labels\n",
    "y_pred = knn_liver.fit_predict(X_train, y_train, X_test, y_test)\n",
    "accuracy = knn_liver.get_accuracy(y_pred, y_test)\n",
    "print(f'Accuracy: {accuracy}')"
   ]
  },
  {
   "attachments": {},
   "cell_type": "markdown",
   "metadata": {},
   "source": [
    "To take a further look at how our classifier did, we can compute the confusion matrix and plot it as a heatmap:"
   ]
  },
  {
   "cell_type": "code",
   "execution_count": 6,
   "metadata": {},
   "outputs": [
    {
     "data": {
      "text/html": [
       "<div>\n",
       "<style scoped>\n",
       "    .dataframe tbody tr th:only-of-type {\n",
       "        vertical-align: middle;\n",
       "    }\n",
       "\n",
       "    .dataframe tbody tr th {\n",
       "        vertical-align: top;\n",
       "    }\n",
       "\n",
       "    .dataframe thead th {\n",
       "        text-align: right;\n",
       "    }\n",
       "</style>\n",
       "<table border=\"1\" class=\"dataframe\">\n",
       "  <thead>\n",
       "    <tr style=\"text-align: right;\">\n",
       "      <th>Actual</th>\n",
       "      <th>0</th>\n",
       "      <th>1</th>\n",
       "      <th>2</th>\n",
       "      <th>4</th>\n",
       "    </tr>\n",
       "    <tr>\n",
       "      <th>Predicted</th>\n",
       "      <th></th>\n",
       "      <th></th>\n",
       "      <th></th>\n",
       "      <th></th>\n",
       "    </tr>\n",
       "  </thead>\n",
       "  <tbody>\n",
       "    <tr>\n",
       "      <th>0</th>\n",
       "      <td>50</td>\n",
       "      <td>9</td>\n",
       "      <td>0</td>\n",
       "      <td>0</td>\n",
       "    </tr>\n",
       "    <tr>\n",
       "      <th>1</th>\n",
       "      <td>15</td>\n",
       "      <td>2</td>\n",
       "      <td>3</td>\n",
       "      <td>1</td>\n",
       "    </tr>\n",
       "    <tr>\n",
       "      <th>2</th>\n",
       "      <td>4</td>\n",
       "      <td>0</td>\n",
       "      <td>0</td>\n",
       "      <td>0</td>\n",
       "    </tr>\n",
       "    <tr>\n",
       "      <th>3</th>\n",
       "      <td>0</td>\n",
       "      <td>2</td>\n",
       "      <td>0</td>\n",
       "      <td>0</td>\n",
       "    </tr>\n",
       "    <tr>\n",
       "      <th>4</th>\n",
       "      <td>0</td>\n",
       "      <td>1</td>\n",
       "      <td>0</td>\n",
       "      <td>0</td>\n",
       "    </tr>\n",
       "  </tbody>\n",
       "</table>\n",
       "</div>"
      ],
      "text/plain": [
       "Actual      0  1  2  4\n",
       "Predicted             \n",
       "0          50  9  0  0\n",
       "1          15  2  3  1\n",
       "2           4  0  0  0\n",
       "3           0  2  0  0\n",
       "4           0  1  0  0"
      ]
     },
     "execution_count": 6,
     "metadata": {},
     "output_type": "execute_result"
    }
   ],
   "source": [
    "knn_liver.confusion_matrix(y_pred, y_test)"
   ]
  },
  {
   "cell_type": "code",
   "execution_count": 7,
   "metadata": {},
   "outputs": [
    {
     "data": {
      "application/vnd.plotly.v1+json": {
       "config": {
        "plotlyServerURL": "https://plot.ly"
       },
       "data": [
        {
         "coloraxis": "coloraxis",
         "hovertemplate": "Actual: %{x}<br>Predicted: %{y}<br>Count: %{z}<extra></extra>",
         "name": "0",
         "texttemplate": "%{z}",
         "type": "heatmap",
         "x": [
          0,
          1,
          2,
          4
         ],
         "xaxis": "x",
         "y": [
          0,
          1,
          2,
          3,
          4
         ],
         "yaxis": "y",
         "z": [
          [
           50,
           9,
           0,
           0
          ],
          [
           15,
           2,
           3,
           1
          ],
          [
           4,
           0,
           0,
           0
          ],
          [
           0,
           2,
           0,
           0
          ],
          [
           0,
           1,
           0,
           0
          ]
         ]
        }
       ],
       "layout": {
        "coloraxis": {
         "colorbar": {
          "title": {
           "text": "Count"
          }
         },
         "colorscale": [
          [
           0,
           "#0d0887"
          ],
          [
           0.1111111111111111,
           "#46039f"
          ],
          [
           0.2222222222222222,
           "#7201a8"
          ],
          [
           0.3333333333333333,
           "#9c179e"
          ],
          [
           0.4444444444444444,
           "#bd3786"
          ],
          [
           0.5555555555555556,
           "#d8576b"
          ],
          [
           0.6666666666666666,
           "#ed7953"
          ],
          [
           0.7777777777777778,
           "#fb9f3a"
          ],
          [
           0.8888888888888888,
           "#fdca26"
          ],
          [
           1,
           "#f0f921"
          ]
         ]
        },
        "margin": {
         "t": 60
        },
        "template": {
         "data": {
          "bar": [
           {
            "error_x": {
             "color": "#2a3f5f"
            },
            "error_y": {
             "color": "#2a3f5f"
            },
            "marker": {
             "line": {
              "color": "#E5ECF6",
              "width": 0.5
             },
             "pattern": {
              "fillmode": "overlay",
              "size": 10,
              "solidity": 0.2
             }
            },
            "type": "bar"
           }
          ],
          "barpolar": [
           {
            "marker": {
             "line": {
              "color": "#E5ECF6",
              "width": 0.5
             },
             "pattern": {
              "fillmode": "overlay",
              "size": 10,
              "solidity": 0.2
             }
            },
            "type": "barpolar"
           }
          ],
          "carpet": [
           {
            "aaxis": {
             "endlinecolor": "#2a3f5f",
             "gridcolor": "white",
             "linecolor": "white",
             "minorgridcolor": "white",
             "startlinecolor": "#2a3f5f"
            },
            "baxis": {
             "endlinecolor": "#2a3f5f",
             "gridcolor": "white",
             "linecolor": "white",
             "minorgridcolor": "white",
             "startlinecolor": "#2a3f5f"
            },
            "type": "carpet"
           }
          ],
          "choropleth": [
           {
            "colorbar": {
             "outlinewidth": 0,
             "ticks": ""
            },
            "type": "choropleth"
           }
          ],
          "contour": [
           {
            "colorbar": {
             "outlinewidth": 0,
             "ticks": ""
            },
            "colorscale": [
             [
              0,
              "#0d0887"
             ],
             [
              0.1111111111111111,
              "#46039f"
             ],
             [
              0.2222222222222222,
              "#7201a8"
             ],
             [
              0.3333333333333333,
              "#9c179e"
             ],
             [
              0.4444444444444444,
              "#bd3786"
             ],
             [
              0.5555555555555556,
              "#d8576b"
             ],
             [
              0.6666666666666666,
              "#ed7953"
             ],
             [
              0.7777777777777778,
              "#fb9f3a"
             ],
             [
              0.8888888888888888,
              "#fdca26"
             ],
             [
              1,
              "#f0f921"
             ]
            ],
            "type": "contour"
           }
          ],
          "contourcarpet": [
           {
            "colorbar": {
             "outlinewidth": 0,
             "ticks": ""
            },
            "type": "contourcarpet"
           }
          ],
          "heatmap": [
           {
            "colorbar": {
             "outlinewidth": 0,
             "ticks": ""
            },
            "colorscale": [
             [
              0,
              "#0d0887"
             ],
             [
              0.1111111111111111,
              "#46039f"
             ],
             [
              0.2222222222222222,
              "#7201a8"
             ],
             [
              0.3333333333333333,
              "#9c179e"
             ],
             [
              0.4444444444444444,
              "#bd3786"
             ],
             [
              0.5555555555555556,
              "#d8576b"
             ],
             [
              0.6666666666666666,
              "#ed7953"
             ],
             [
              0.7777777777777778,
              "#fb9f3a"
             ],
             [
              0.8888888888888888,
              "#fdca26"
             ],
             [
              1,
              "#f0f921"
             ]
            ],
            "type": "heatmap"
           }
          ],
          "heatmapgl": [
           {
            "colorbar": {
             "outlinewidth": 0,
             "ticks": ""
            },
            "colorscale": [
             [
              0,
              "#0d0887"
             ],
             [
              0.1111111111111111,
              "#46039f"
             ],
             [
              0.2222222222222222,
              "#7201a8"
             ],
             [
              0.3333333333333333,
              "#9c179e"
             ],
             [
              0.4444444444444444,
              "#bd3786"
             ],
             [
              0.5555555555555556,
              "#d8576b"
             ],
             [
              0.6666666666666666,
              "#ed7953"
             ],
             [
              0.7777777777777778,
              "#fb9f3a"
             ],
             [
              0.8888888888888888,
              "#fdca26"
             ],
             [
              1,
              "#f0f921"
             ]
            ],
            "type": "heatmapgl"
           }
          ],
          "histogram": [
           {
            "marker": {
             "pattern": {
              "fillmode": "overlay",
              "size": 10,
              "solidity": 0.2
             }
            },
            "type": "histogram"
           }
          ],
          "histogram2d": [
           {
            "colorbar": {
             "outlinewidth": 0,
             "ticks": ""
            },
            "colorscale": [
             [
              0,
              "#0d0887"
             ],
             [
              0.1111111111111111,
              "#46039f"
             ],
             [
              0.2222222222222222,
              "#7201a8"
             ],
             [
              0.3333333333333333,
              "#9c179e"
             ],
             [
              0.4444444444444444,
              "#bd3786"
             ],
             [
              0.5555555555555556,
              "#d8576b"
             ],
             [
              0.6666666666666666,
              "#ed7953"
             ],
             [
              0.7777777777777778,
              "#fb9f3a"
             ],
             [
              0.8888888888888888,
              "#fdca26"
             ],
             [
              1,
              "#f0f921"
             ]
            ],
            "type": "histogram2d"
           }
          ],
          "histogram2dcontour": [
           {
            "colorbar": {
             "outlinewidth": 0,
             "ticks": ""
            },
            "colorscale": [
             [
              0,
              "#0d0887"
             ],
             [
              0.1111111111111111,
              "#46039f"
             ],
             [
              0.2222222222222222,
              "#7201a8"
             ],
             [
              0.3333333333333333,
              "#9c179e"
             ],
             [
              0.4444444444444444,
              "#bd3786"
             ],
             [
              0.5555555555555556,
              "#d8576b"
             ],
             [
              0.6666666666666666,
              "#ed7953"
             ],
             [
              0.7777777777777778,
              "#fb9f3a"
             ],
             [
              0.8888888888888888,
              "#fdca26"
             ],
             [
              1,
              "#f0f921"
             ]
            ],
            "type": "histogram2dcontour"
           }
          ],
          "mesh3d": [
           {
            "colorbar": {
             "outlinewidth": 0,
             "ticks": ""
            },
            "type": "mesh3d"
           }
          ],
          "parcoords": [
           {
            "line": {
             "colorbar": {
              "outlinewidth": 0,
              "ticks": ""
             }
            },
            "type": "parcoords"
           }
          ],
          "pie": [
           {
            "automargin": true,
            "type": "pie"
           }
          ],
          "scatter": [
           {
            "marker": {
             "colorbar": {
              "outlinewidth": 0,
              "ticks": ""
             }
            },
            "type": "scatter"
           }
          ],
          "scatter3d": [
           {
            "line": {
             "colorbar": {
              "outlinewidth": 0,
              "ticks": ""
             }
            },
            "marker": {
             "colorbar": {
              "outlinewidth": 0,
              "ticks": ""
             }
            },
            "type": "scatter3d"
           }
          ],
          "scattercarpet": [
           {
            "marker": {
             "colorbar": {
              "outlinewidth": 0,
              "ticks": ""
             }
            },
            "type": "scattercarpet"
           }
          ],
          "scattergeo": [
           {
            "marker": {
             "colorbar": {
              "outlinewidth": 0,
              "ticks": ""
             }
            },
            "type": "scattergeo"
           }
          ],
          "scattergl": [
           {
            "marker": {
             "colorbar": {
              "outlinewidth": 0,
              "ticks": ""
             }
            },
            "type": "scattergl"
           }
          ],
          "scattermapbox": [
           {
            "marker": {
             "colorbar": {
              "outlinewidth": 0,
              "ticks": ""
             }
            },
            "type": "scattermapbox"
           }
          ],
          "scatterpolar": [
           {
            "marker": {
             "colorbar": {
              "outlinewidth": 0,
              "ticks": ""
             }
            },
            "type": "scatterpolar"
           }
          ],
          "scatterpolargl": [
           {
            "marker": {
             "colorbar": {
              "outlinewidth": 0,
              "ticks": ""
             }
            },
            "type": "scatterpolargl"
           }
          ],
          "scatterternary": [
           {
            "marker": {
             "colorbar": {
              "outlinewidth": 0,
              "ticks": ""
             }
            },
            "type": "scatterternary"
           }
          ],
          "surface": [
           {
            "colorbar": {
             "outlinewidth": 0,
             "ticks": ""
            },
            "colorscale": [
             [
              0,
              "#0d0887"
             ],
             [
              0.1111111111111111,
              "#46039f"
             ],
             [
              0.2222222222222222,
              "#7201a8"
             ],
             [
              0.3333333333333333,
              "#9c179e"
             ],
             [
              0.4444444444444444,
              "#bd3786"
             ],
             [
              0.5555555555555556,
              "#d8576b"
             ],
             [
              0.6666666666666666,
              "#ed7953"
             ],
             [
              0.7777777777777778,
              "#fb9f3a"
             ],
             [
              0.8888888888888888,
              "#fdca26"
             ],
             [
              1,
              "#f0f921"
             ]
            ],
            "type": "surface"
           }
          ],
          "table": [
           {
            "cells": {
             "fill": {
              "color": "#EBF0F8"
             },
             "line": {
              "color": "white"
             }
            },
            "header": {
             "fill": {
              "color": "#C8D4E3"
             },
             "line": {
              "color": "white"
             }
            },
            "type": "table"
           }
          ]
         },
         "layout": {
          "annotationdefaults": {
           "arrowcolor": "#2a3f5f",
           "arrowhead": 0,
           "arrowwidth": 1
          },
          "autotypenumbers": "strict",
          "coloraxis": {
           "colorbar": {
            "outlinewidth": 0,
            "ticks": ""
           }
          },
          "colorscale": {
           "diverging": [
            [
             0,
             "#8e0152"
            ],
            [
             0.1,
             "#c51b7d"
            ],
            [
             0.2,
             "#de77ae"
            ],
            [
             0.3,
             "#f1b6da"
            ],
            [
             0.4,
             "#fde0ef"
            ],
            [
             0.5,
             "#f7f7f7"
            ],
            [
             0.6,
             "#e6f5d0"
            ],
            [
             0.7,
             "#b8e186"
            ],
            [
             0.8,
             "#7fbc41"
            ],
            [
             0.9,
             "#4d9221"
            ],
            [
             1,
             "#276419"
            ]
           ],
           "sequential": [
            [
             0,
             "#0d0887"
            ],
            [
             0.1111111111111111,
             "#46039f"
            ],
            [
             0.2222222222222222,
             "#7201a8"
            ],
            [
             0.3333333333333333,
             "#9c179e"
            ],
            [
             0.4444444444444444,
             "#bd3786"
            ],
            [
             0.5555555555555556,
             "#d8576b"
            ],
            [
             0.6666666666666666,
             "#ed7953"
            ],
            [
             0.7777777777777778,
             "#fb9f3a"
            ],
            [
             0.8888888888888888,
             "#fdca26"
            ],
            [
             1,
             "#f0f921"
            ]
           ],
           "sequentialminus": [
            [
             0,
             "#0d0887"
            ],
            [
             0.1111111111111111,
             "#46039f"
            ],
            [
             0.2222222222222222,
             "#7201a8"
            ],
            [
             0.3333333333333333,
             "#9c179e"
            ],
            [
             0.4444444444444444,
             "#bd3786"
            ],
            [
             0.5555555555555556,
             "#d8576b"
            ],
            [
             0.6666666666666666,
             "#ed7953"
            ],
            [
             0.7777777777777778,
             "#fb9f3a"
            ],
            [
             0.8888888888888888,
             "#fdca26"
            ],
            [
             1,
             "#f0f921"
            ]
           ]
          },
          "colorway": [
           "#636efa",
           "#EF553B",
           "#00cc96",
           "#ab63fa",
           "#FFA15A",
           "#19d3f3",
           "#FF6692",
           "#B6E880",
           "#FF97FF",
           "#FECB52"
          ],
          "font": {
           "color": "#2a3f5f"
          },
          "geo": {
           "bgcolor": "white",
           "lakecolor": "white",
           "landcolor": "#E5ECF6",
           "showlakes": true,
           "showland": true,
           "subunitcolor": "white"
          },
          "hoverlabel": {
           "align": "left"
          },
          "hovermode": "closest",
          "mapbox": {
           "style": "light"
          },
          "paper_bgcolor": "white",
          "plot_bgcolor": "#E5ECF6",
          "polar": {
           "angularaxis": {
            "gridcolor": "white",
            "linecolor": "white",
            "ticks": ""
           },
           "bgcolor": "#E5ECF6",
           "radialaxis": {
            "gridcolor": "white",
            "linecolor": "white",
            "ticks": ""
           }
          },
          "scene": {
           "xaxis": {
            "backgroundcolor": "#E5ECF6",
            "gridcolor": "white",
            "gridwidth": 2,
            "linecolor": "white",
            "showbackground": true,
            "ticks": "",
            "zerolinecolor": "white"
           },
           "yaxis": {
            "backgroundcolor": "#E5ECF6",
            "gridcolor": "white",
            "gridwidth": 2,
            "linecolor": "white",
            "showbackground": true,
            "ticks": "",
            "zerolinecolor": "white"
           },
           "zaxis": {
            "backgroundcolor": "#E5ECF6",
            "gridcolor": "white",
            "gridwidth": 2,
            "linecolor": "white",
            "showbackground": true,
            "ticks": "",
            "zerolinecolor": "white"
           }
          },
          "shapedefaults": {
           "line": {
            "color": "#2a3f5f"
           }
          },
          "ternary": {
           "aaxis": {
            "gridcolor": "white",
            "linecolor": "white",
            "ticks": ""
           },
           "baxis": {
            "gridcolor": "white",
            "linecolor": "white",
            "ticks": ""
           },
           "bgcolor": "#E5ECF6",
           "caxis": {
            "gridcolor": "white",
            "linecolor": "white",
            "ticks": ""
           }
          },
          "title": {
           "x": 0.05
          },
          "xaxis": {
           "automargin": true,
           "gridcolor": "white",
           "linecolor": "white",
           "ticks": "",
           "title": {
            "standoff": 15
           },
           "zerolinecolor": "white",
           "zerolinewidth": 2
          },
          "yaxis": {
           "automargin": true,
           "gridcolor": "white",
           "linecolor": "white",
           "ticks": "",
           "title": {
            "standoff": 15
           },
           "zerolinecolor": "white",
           "zerolinewidth": 2
          }
         }
        },
        "xaxis": {
         "anchor": "y",
         "domain": [
          0,
          1
         ],
         "title": {
          "text": "Actual"
         }
        },
        "yaxis": {
         "anchor": "x",
         "autorange": "reversed",
         "domain": [
          0,
          1
         ],
         "title": {
          "text": "Predicted"
         }
        }
       }
      }
     },
     "metadata": {},
     "output_type": "display_data"
    }
   ],
   "source": [
    "# Plot the confusion matrix\n",
    "fig = px.imshow(knn_liver.confusion_matrix(y_pred, y_test), labels=dict(x='Actual', y='Predicted', color='Count',),\n",
    "                aspect='auto', text_auto=True)\n",
    "fig.show()"
   ]
  },
  {
   "attachments": {},
   "cell_type": "markdown",
   "metadata": {},
   "source": [
    "## Experiment With Our Classifier\n"
   ]
  },
  {
   "cell_type": "code",
   "execution_count": 8,
   "metadata": {},
   "outputs": [
    {
     "name": "stdout",
     "output_type": "stream",
     "text": [
      "Accuracy: 0.7241379310344828\n"
     ]
    }
   ],
   "source": [
    "# Use a higher k value for the KNN classifier\n",
    "knn_liver2 = knn(k=5)\n",
    "y_pred2 = knn_liver2.fit_predict(X_train, y_train, X_test, y_test)\n",
    "accuracy2 = knn_liver2.get_accuracy(y_pred2, y_test)\n",
    "print(f'Accuracy: {accuracy2}')"
   ]
  },
  {
   "cell_type": "code",
   "execution_count": 9,
   "metadata": {},
   "outputs": [
    {
     "data": {
      "application/vnd.plotly.v1+json": {
       "config": {
        "plotlyServerURL": "https://plot.ly"
       },
       "data": [
        {
         "coloraxis": "coloraxis",
         "hovertemplate": "Actual: %{x}<br>Predicted: %{y}<br>Count: %{z}<extra></extra>",
         "name": "0",
         "texttemplate": "%{z}",
         "type": "heatmap",
         "x": [
          0,
          1,
          2,
          4
         ],
         "xaxis": "x",
         "y": [
          0,
          1
         ],
         "yaxis": "y",
         "z": [
          [
           60,
           11,
           3,
           0
          ],
          [
           9,
           3,
           0,
           1
          ]
         ]
        }
       ],
       "layout": {
        "coloraxis": {
         "colorbar": {
          "title": {
           "text": "Count"
          }
         },
         "colorscale": [
          [
           0,
           "#0d0887"
          ],
          [
           0.1111111111111111,
           "#46039f"
          ],
          [
           0.2222222222222222,
           "#7201a8"
          ],
          [
           0.3333333333333333,
           "#9c179e"
          ],
          [
           0.4444444444444444,
           "#bd3786"
          ],
          [
           0.5555555555555556,
           "#d8576b"
          ],
          [
           0.6666666666666666,
           "#ed7953"
          ],
          [
           0.7777777777777778,
           "#fb9f3a"
          ],
          [
           0.8888888888888888,
           "#fdca26"
          ],
          [
           1,
           "#f0f921"
          ]
         ]
        },
        "margin": {
         "t": 60
        },
        "template": {
         "data": {
          "bar": [
           {
            "error_x": {
             "color": "#2a3f5f"
            },
            "error_y": {
             "color": "#2a3f5f"
            },
            "marker": {
             "line": {
              "color": "#E5ECF6",
              "width": 0.5
             },
             "pattern": {
              "fillmode": "overlay",
              "size": 10,
              "solidity": 0.2
             }
            },
            "type": "bar"
           }
          ],
          "barpolar": [
           {
            "marker": {
             "line": {
              "color": "#E5ECF6",
              "width": 0.5
             },
             "pattern": {
              "fillmode": "overlay",
              "size": 10,
              "solidity": 0.2
             }
            },
            "type": "barpolar"
           }
          ],
          "carpet": [
           {
            "aaxis": {
             "endlinecolor": "#2a3f5f",
             "gridcolor": "white",
             "linecolor": "white",
             "minorgridcolor": "white",
             "startlinecolor": "#2a3f5f"
            },
            "baxis": {
             "endlinecolor": "#2a3f5f",
             "gridcolor": "white",
             "linecolor": "white",
             "minorgridcolor": "white",
             "startlinecolor": "#2a3f5f"
            },
            "type": "carpet"
           }
          ],
          "choropleth": [
           {
            "colorbar": {
             "outlinewidth": 0,
             "ticks": ""
            },
            "type": "choropleth"
           }
          ],
          "contour": [
           {
            "colorbar": {
             "outlinewidth": 0,
             "ticks": ""
            },
            "colorscale": [
             [
              0,
              "#0d0887"
             ],
             [
              0.1111111111111111,
              "#46039f"
             ],
             [
              0.2222222222222222,
              "#7201a8"
             ],
             [
              0.3333333333333333,
              "#9c179e"
             ],
             [
              0.4444444444444444,
              "#bd3786"
             ],
             [
              0.5555555555555556,
              "#d8576b"
             ],
             [
              0.6666666666666666,
              "#ed7953"
             ],
             [
              0.7777777777777778,
              "#fb9f3a"
             ],
             [
              0.8888888888888888,
              "#fdca26"
             ],
             [
              1,
              "#f0f921"
             ]
            ],
            "type": "contour"
           }
          ],
          "contourcarpet": [
           {
            "colorbar": {
             "outlinewidth": 0,
             "ticks": ""
            },
            "type": "contourcarpet"
           }
          ],
          "heatmap": [
           {
            "colorbar": {
             "outlinewidth": 0,
             "ticks": ""
            },
            "colorscale": [
             [
              0,
              "#0d0887"
             ],
             [
              0.1111111111111111,
              "#46039f"
             ],
             [
              0.2222222222222222,
              "#7201a8"
             ],
             [
              0.3333333333333333,
              "#9c179e"
             ],
             [
              0.4444444444444444,
              "#bd3786"
             ],
             [
              0.5555555555555556,
              "#d8576b"
             ],
             [
              0.6666666666666666,
              "#ed7953"
             ],
             [
              0.7777777777777778,
              "#fb9f3a"
             ],
             [
              0.8888888888888888,
              "#fdca26"
             ],
             [
              1,
              "#f0f921"
             ]
            ],
            "type": "heatmap"
           }
          ],
          "heatmapgl": [
           {
            "colorbar": {
             "outlinewidth": 0,
             "ticks": ""
            },
            "colorscale": [
             [
              0,
              "#0d0887"
             ],
             [
              0.1111111111111111,
              "#46039f"
             ],
             [
              0.2222222222222222,
              "#7201a8"
             ],
             [
              0.3333333333333333,
              "#9c179e"
             ],
             [
              0.4444444444444444,
              "#bd3786"
             ],
             [
              0.5555555555555556,
              "#d8576b"
             ],
             [
              0.6666666666666666,
              "#ed7953"
             ],
             [
              0.7777777777777778,
              "#fb9f3a"
             ],
             [
              0.8888888888888888,
              "#fdca26"
             ],
             [
              1,
              "#f0f921"
             ]
            ],
            "type": "heatmapgl"
           }
          ],
          "histogram": [
           {
            "marker": {
             "pattern": {
              "fillmode": "overlay",
              "size": 10,
              "solidity": 0.2
             }
            },
            "type": "histogram"
           }
          ],
          "histogram2d": [
           {
            "colorbar": {
             "outlinewidth": 0,
             "ticks": ""
            },
            "colorscale": [
             [
              0,
              "#0d0887"
             ],
             [
              0.1111111111111111,
              "#46039f"
             ],
             [
              0.2222222222222222,
              "#7201a8"
             ],
             [
              0.3333333333333333,
              "#9c179e"
             ],
             [
              0.4444444444444444,
              "#bd3786"
             ],
             [
              0.5555555555555556,
              "#d8576b"
             ],
             [
              0.6666666666666666,
              "#ed7953"
             ],
             [
              0.7777777777777778,
              "#fb9f3a"
             ],
             [
              0.8888888888888888,
              "#fdca26"
             ],
             [
              1,
              "#f0f921"
             ]
            ],
            "type": "histogram2d"
           }
          ],
          "histogram2dcontour": [
           {
            "colorbar": {
             "outlinewidth": 0,
             "ticks": ""
            },
            "colorscale": [
             [
              0,
              "#0d0887"
             ],
             [
              0.1111111111111111,
              "#46039f"
             ],
             [
              0.2222222222222222,
              "#7201a8"
             ],
             [
              0.3333333333333333,
              "#9c179e"
             ],
             [
              0.4444444444444444,
              "#bd3786"
             ],
             [
              0.5555555555555556,
              "#d8576b"
             ],
             [
              0.6666666666666666,
              "#ed7953"
             ],
             [
              0.7777777777777778,
              "#fb9f3a"
             ],
             [
              0.8888888888888888,
              "#fdca26"
             ],
             [
              1,
              "#f0f921"
             ]
            ],
            "type": "histogram2dcontour"
           }
          ],
          "mesh3d": [
           {
            "colorbar": {
             "outlinewidth": 0,
             "ticks": ""
            },
            "type": "mesh3d"
           }
          ],
          "parcoords": [
           {
            "line": {
             "colorbar": {
              "outlinewidth": 0,
              "ticks": ""
             }
            },
            "type": "parcoords"
           }
          ],
          "pie": [
           {
            "automargin": true,
            "type": "pie"
           }
          ],
          "scatter": [
           {
            "marker": {
             "colorbar": {
              "outlinewidth": 0,
              "ticks": ""
             }
            },
            "type": "scatter"
           }
          ],
          "scatter3d": [
           {
            "line": {
             "colorbar": {
              "outlinewidth": 0,
              "ticks": ""
             }
            },
            "marker": {
             "colorbar": {
              "outlinewidth": 0,
              "ticks": ""
             }
            },
            "type": "scatter3d"
           }
          ],
          "scattercarpet": [
           {
            "marker": {
             "colorbar": {
              "outlinewidth": 0,
              "ticks": ""
             }
            },
            "type": "scattercarpet"
           }
          ],
          "scattergeo": [
           {
            "marker": {
             "colorbar": {
              "outlinewidth": 0,
              "ticks": ""
             }
            },
            "type": "scattergeo"
           }
          ],
          "scattergl": [
           {
            "marker": {
             "colorbar": {
              "outlinewidth": 0,
              "ticks": ""
             }
            },
            "type": "scattergl"
           }
          ],
          "scattermapbox": [
           {
            "marker": {
             "colorbar": {
              "outlinewidth": 0,
              "ticks": ""
             }
            },
            "type": "scattermapbox"
           }
          ],
          "scatterpolar": [
           {
            "marker": {
             "colorbar": {
              "outlinewidth": 0,
              "ticks": ""
             }
            },
            "type": "scatterpolar"
           }
          ],
          "scatterpolargl": [
           {
            "marker": {
             "colorbar": {
              "outlinewidth": 0,
              "ticks": ""
             }
            },
            "type": "scatterpolargl"
           }
          ],
          "scatterternary": [
           {
            "marker": {
             "colorbar": {
              "outlinewidth": 0,
              "ticks": ""
             }
            },
            "type": "scatterternary"
           }
          ],
          "surface": [
           {
            "colorbar": {
             "outlinewidth": 0,
             "ticks": ""
            },
            "colorscale": [
             [
              0,
              "#0d0887"
             ],
             [
              0.1111111111111111,
              "#46039f"
             ],
             [
              0.2222222222222222,
              "#7201a8"
             ],
             [
              0.3333333333333333,
              "#9c179e"
             ],
             [
              0.4444444444444444,
              "#bd3786"
             ],
             [
              0.5555555555555556,
              "#d8576b"
             ],
             [
              0.6666666666666666,
              "#ed7953"
             ],
             [
              0.7777777777777778,
              "#fb9f3a"
             ],
             [
              0.8888888888888888,
              "#fdca26"
             ],
             [
              1,
              "#f0f921"
             ]
            ],
            "type": "surface"
           }
          ],
          "table": [
           {
            "cells": {
             "fill": {
              "color": "#EBF0F8"
             },
             "line": {
              "color": "white"
             }
            },
            "header": {
             "fill": {
              "color": "#C8D4E3"
             },
             "line": {
              "color": "white"
             }
            },
            "type": "table"
           }
          ]
         },
         "layout": {
          "annotationdefaults": {
           "arrowcolor": "#2a3f5f",
           "arrowhead": 0,
           "arrowwidth": 1
          },
          "autotypenumbers": "strict",
          "coloraxis": {
           "colorbar": {
            "outlinewidth": 0,
            "ticks": ""
           }
          },
          "colorscale": {
           "diverging": [
            [
             0,
             "#8e0152"
            ],
            [
             0.1,
             "#c51b7d"
            ],
            [
             0.2,
             "#de77ae"
            ],
            [
             0.3,
             "#f1b6da"
            ],
            [
             0.4,
             "#fde0ef"
            ],
            [
             0.5,
             "#f7f7f7"
            ],
            [
             0.6,
             "#e6f5d0"
            ],
            [
             0.7,
             "#b8e186"
            ],
            [
             0.8,
             "#7fbc41"
            ],
            [
             0.9,
             "#4d9221"
            ],
            [
             1,
             "#276419"
            ]
           ],
           "sequential": [
            [
             0,
             "#0d0887"
            ],
            [
             0.1111111111111111,
             "#46039f"
            ],
            [
             0.2222222222222222,
             "#7201a8"
            ],
            [
             0.3333333333333333,
             "#9c179e"
            ],
            [
             0.4444444444444444,
             "#bd3786"
            ],
            [
             0.5555555555555556,
             "#d8576b"
            ],
            [
             0.6666666666666666,
             "#ed7953"
            ],
            [
             0.7777777777777778,
             "#fb9f3a"
            ],
            [
             0.8888888888888888,
             "#fdca26"
            ],
            [
             1,
             "#f0f921"
            ]
           ],
           "sequentialminus": [
            [
             0,
             "#0d0887"
            ],
            [
             0.1111111111111111,
             "#46039f"
            ],
            [
             0.2222222222222222,
             "#7201a8"
            ],
            [
             0.3333333333333333,
             "#9c179e"
            ],
            [
             0.4444444444444444,
             "#bd3786"
            ],
            [
             0.5555555555555556,
             "#d8576b"
            ],
            [
             0.6666666666666666,
             "#ed7953"
            ],
            [
             0.7777777777777778,
             "#fb9f3a"
            ],
            [
             0.8888888888888888,
             "#fdca26"
            ],
            [
             1,
             "#f0f921"
            ]
           ]
          },
          "colorway": [
           "#636efa",
           "#EF553B",
           "#00cc96",
           "#ab63fa",
           "#FFA15A",
           "#19d3f3",
           "#FF6692",
           "#B6E880",
           "#FF97FF",
           "#FECB52"
          ],
          "font": {
           "color": "#2a3f5f"
          },
          "geo": {
           "bgcolor": "white",
           "lakecolor": "white",
           "landcolor": "#E5ECF6",
           "showlakes": true,
           "showland": true,
           "subunitcolor": "white"
          },
          "hoverlabel": {
           "align": "left"
          },
          "hovermode": "closest",
          "mapbox": {
           "style": "light"
          },
          "paper_bgcolor": "white",
          "plot_bgcolor": "#E5ECF6",
          "polar": {
           "angularaxis": {
            "gridcolor": "white",
            "linecolor": "white",
            "ticks": ""
           },
           "bgcolor": "#E5ECF6",
           "radialaxis": {
            "gridcolor": "white",
            "linecolor": "white",
            "ticks": ""
           }
          },
          "scene": {
           "xaxis": {
            "backgroundcolor": "#E5ECF6",
            "gridcolor": "white",
            "gridwidth": 2,
            "linecolor": "white",
            "showbackground": true,
            "ticks": "",
            "zerolinecolor": "white"
           },
           "yaxis": {
            "backgroundcolor": "#E5ECF6",
            "gridcolor": "white",
            "gridwidth": 2,
            "linecolor": "white",
            "showbackground": true,
            "ticks": "",
            "zerolinecolor": "white"
           },
           "zaxis": {
            "backgroundcolor": "#E5ECF6",
            "gridcolor": "white",
            "gridwidth": 2,
            "linecolor": "white",
            "showbackground": true,
            "ticks": "",
            "zerolinecolor": "white"
           }
          },
          "shapedefaults": {
           "line": {
            "color": "#2a3f5f"
           }
          },
          "ternary": {
           "aaxis": {
            "gridcolor": "white",
            "linecolor": "white",
            "ticks": ""
           },
           "baxis": {
            "gridcolor": "white",
            "linecolor": "white",
            "ticks": ""
           },
           "bgcolor": "#E5ECF6",
           "caxis": {
            "gridcolor": "white",
            "linecolor": "white",
            "ticks": ""
           }
          },
          "title": {
           "x": 0.05
          },
          "xaxis": {
           "automargin": true,
           "gridcolor": "white",
           "linecolor": "white",
           "ticks": "",
           "title": {
            "standoff": 15
           },
           "zerolinecolor": "white",
           "zerolinewidth": 2
          },
          "yaxis": {
           "automargin": true,
           "gridcolor": "white",
           "linecolor": "white",
           "ticks": "",
           "title": {
            "standoff": 15
           },
           "zerolinecolor": "white",
           "zerolinewidth": 2
          }
         }
        },
        "xaxis": {
         "anchor": "y",
         "domain": [
          0,
          1
         ],
         "title": {
          "text": "Actual"
         }
        },
        "yaxis": {
         "anchor": "x",
         "autorange": "reversed",
         "domain": [
          0,
          1
         ],
         "title": {
          "text": "Predicted"
         }
        }
       }
      }
     },
     "metadata": {},
     "output_type": "display_data"
    }
   ],
   "source": [
    "# Plot the new confusion matrix\n",
    "fig = px.imshow(knn_liver2.confusion_matrix(y_pred2, y_test), labels=dict(x='Actual', y='Predicted', color='Count',),\n",
    "                aspect='auto', text_auto=True)\n",
    "fig.show()"
   ]
  },
  {
   "attachments": {},
   "cell_type": "markdown",
   "metadata": {},
   "source": [
    "# Experiment with clustering and PCA on two structured data sets\n",
    "We explore finding the optimal number of clusters in a data set, how PCA project can affect clustering, and how different clustering algorithms perform on the same data."
   ]
  },
  {
   "attachments": {},
   "cell_type": "markdown",
   "metadata": {},
   "source": [
    "## Plot Example Data\n",
    "We can visualize the data sets and look for natural clusters using a scatter plot:"
   ]
  },
  {
   "cell_type": "code",
   "execution_count": 10,
   "metadata": {},
   "outputs": [
    {
     "data": {
      "application/vnd.plotly.v1+json": {
       "config": {
        "plotlyServerURL": "https://plot.ly"
       },
       "data": [
        {
         "hovertemplate": "X1=%{x}<br>X2=%{y}<extra></extra>",
         "legendgroup": "",
         "marker": {
          "color": "#636efa",
          "symbol": "circle"
         },
         "mode": "markers",
         "name": "",
         "orientation": "v",
         "showlegend": false,
         "type": "scatter",
         "x": [
          -2.81,
          -2.69,
          -1.98,
          -2.32,
          -2.45,
          -2.62,
          -2.81,
          -1.97,
          -2.48,
          -1.31,
          -2.37,
          -2.05,
          -1.93,
          -2.85,
          -2.87,
          -1.72,
          -2.3,
          -1.15,
          -2.53,
          -1.45,
          -2.76,
          -3.19,
          0.22,
          -0.52,
          -1.71,
          -2.68,
          -1.88,
          1.16,
          -3.12,
          -0.59,
          -1.54,
          -1.42,
          -0.61,
          -1.31,
          -0.63,
          0.17,
          -0.49,
          -0.93,
          -0.51,
          0.97,
          -0.59,
          -1.44,
          -2.59,
          -0.47,
          -1.14,
          -0.41,
          -0.93,
          -1.52,
          -1.31,
          -1.99,
          -1.78,
          -1.72,
          -0.26,
          -1.85,
          -0.68,
          -4.43,
          -5.4,
          -4.93,
          -3.73,
          -4.89,
          -4.83,
          -5.06,
          -5.21,
          -4.75,
          -4.91,
          -4.29,
          -5.31,
          -4.71,
          -3.72,
          -4.62,
          -4.44,
          -5.45,
          -5.77,
          -5.1,
          -5.72,
          -4.28,
          -5.04,
          -5.36,
          -6,
          -4.33,
          -4.58,
          -5.63,
          -4.73,
          -5.43,
          -5.28,
          -4.97,
          -4.47,
          3,
          2.69,
          1.75,
          2.61,
          1.4,
          2.51,
          3.06,
          2.75,
          3.08,
          3.68,
          3.83,
          2.76,
          2.88,
          3.65,
          2.38,
          3.46,
          1.86,
          2.84,
          3.22,
          2.87,
          4.1,
          3.11,
          3.64,
          3.32,
          1.92,
          1.85,
          2.41,
          2.13,
          2.76,
          3.73,
          4.66,
          4,
          4.7,
          4.93,
          5.12,
          5.16,
          5.01,
          3.85,
          5.42,
          5.77,
          4.57,
          4.91,
          4.24,
          3.78,
          2.8,
          4.11,
          5.72,
          3.91,
          2.91,
          4.1,
          5.03,
          5.4,
          3.56,
          3.33,
          3.98,
          5.76,
          4.17,
          4.87,
          4.9,
          5.62,
          4.71,
          4.43,
          5.34,
          4.05,
          6.23,
          3.68,
          4.12,
          3.25,
          3.78,
          5.01,
          4.83,
          5.12,
          4.22,
          -0.37,
          -0.01,
          0.24,
          -0.04,
          0.76,
          1.92,
          -0.66,
          -0.94,
          0.25,
          -0.41,
          -0.63,
          0.27,
          0.13,
          0.81,
          -0.52,
          -0.67,
          0.58,
          1.64,
          0.56,
          0.26
         ],
         "xaxis": "x",
         "y": [
          5.28,
          4.26,
          3.65,
          3.72,
          4.22,
          4.12,
          4.65,
          4.67,
          4.24,
          4.21,
          5.47,
          4.74,
          4.81,
          4.28,
          3.46,
          4.1,
          5.12,
          3.66,
          3.54,
          4.57,
          3.87,
          3.84,
          -4.38,
          -4.62,
          -4.38,
          -2.18,
          -2.91,
          -4.52,
          -3.56,
          -2.34,
          -3.04,
          -2.98,
          -3.01,
          -2.9,
          -4.01,
          -3.37,
          -3.17,
          -3.01,
          -2.53,
          -2.53,
          -2.65,
          -2.83,
          -3.47,
          -3.38,
          -3.13,
          -3.32,
          -3.87,
          -3.26,
          -4.82,
          -5.14,
          -3.37,
          -3.34,
          -2.05,
          -4.63,
          -3.79,
          -0.99,
          -0.37,
          -0.87,
          -0.91,
          -1.16,
          -0.79,
          -0.54,
          -0.89,
          -1.47,
          -1.28,
          -0.96,
          -1.21,
          -1.17,
          0.02,
          -2.16,
          -1.09,
          -0.67,
          -0.9,
          -1.23,
          -0.9,
          -1.56,
          -1.45,
          -1.08,
          -2.05,
          -1.3,
          -1.88,
          -0.57,
          -1.08,
          -0.36,
          -0.16,
          -0.75,
          -1.69,
          3.52,
          4.3,
          3.98,
          2.09,
          3.55,
          3.19,
          4.96,
          3.36,
          3.01,
          3.24,
          3.17,
          3.49,
          4.1,
          2.84,
          3.25,
          3.67,
          3.94,
          2.91,
          3.52,
          3.25,
          3.57,
          2.71,
          4.68,
          4.16,
          3.97,
          3.75,
          3.63,
          3.88,
          3.21,
          3.64,
          -2.07,
          0.08,
          -0.57,
          -0.68,
          -2.2,
          0.28,
          -3.22,
          -0.47,
          -0.24,
          -1.35,
          -1.35,
          -0.33,
          -0.39,
          -0.1,
          -1.11,
          -1.81,
          -2.33,
          -1.64,
          0.79,
          -0.76,
          0.57,
          -2.76,
          -1.53,
          -1.97,
          0.25,
          -1.31,
          -2.03,
          -1.11,
          -0.32,
          -0.27,
          -2.39,
          -1.85,
          -1.17,
          -0.55,
          -1.86,
          -0.85,
          -1.51,
          -0.9,
          -0.75,
          -1.08,
          1,
          -1.23,
          -1.54,
          0.5,
          0.3,
          0.38,
          0.8,
          0.57,
          0.3,
          0.54,
          0.86,
          0.44,
          0.89,
          0.23,
          0.76,
          0.18,
          0.14,
          -0.61,
          0.14,
          -0.56,
          -0.78,
          -0.1,
          0.77
         ],
         "yaxis": "y"
        }
       ],
       "layout": {
        "legend": {
         "tracegroupgap": 0
        },
        "margin": {
         "t": 60
        },
        "template": {
         "data": {
          "bar": [
           {
            "error_x": {
             "color": "#2a3f5f"
            },
            "error_y": {
             "color": "#2a3f5f"
            },
            "marker": {
             "line": {
              "color": "#E5ECF6",
              "width": 0.5
             },
             "pattern": {
              "fillmode": "overlay",
              "size": 10,
              "solidity": 0.2
             }
            },
            "type": "bar"
           }
          ],
          "barpolar": [
           {
            "marker": {
             "line": {
              "color": "#E5ECF6",
              "width": 0.5
             },
             "pattern": {
              "fillmode": "overlay",
              "size": 10,
              "solidity": 0.2
             }
            },
            "type": "barpolar"
           }
          ],
          "carpet": [
           {
            "aaxis": {
             "endlinecolor": "#2a3f5f",
             "gridcolor": "white",
             "linecolor": "white",
             "minorgridcolor": "white",
             "startlinecolor": "#2a3f5f"
            },
            "baxis": {
             "endlinecolor": "#2a3f5f",
             "gridcolor": "white",
             "linecolor": "white",
             "minorgridcolor": "white",
             "startlinecolor": "#2a3f5f"
            },
            "type": "carpet"
           }
          ],
          "choropleth": [
           {
            "colorbar": {
             "outlinewidth": 0,
             "ticks": ""
            },
            "type": "choropleth"
           }
          ],
          "contour": [
           {
            "colorbar": {
             "outlinewidth": 0,
             "ticks": ""
            },
            "colorscale": [
             [
              0,
              "#0d0887"
             ],
             [
              0.1111111111111111,
              "#46039f"
             ],
             [
              0.2222222222222222,
              "#7201a8"
             ],
             [
              0.3333333333333333,
              "#9c179e"
             ],
             [
              0.4444444444444444,
              "#bd3786"
             ],
             [
              0.5555555555555556,
              "#d8576b"
             ],
             [
              0.6666666666666666,
              "#ed7953"
             ],
             [
              0.7777777777777778,
              "#fb9f3a"
             ],
             [
              0.8888888888888888,
              "#fdca26"
             ],
             [
              1,
              "#f0f921"
             ]
            ],
            "type": "contour"
           }
          ],
          "contourcarpet": [
           {
            "colorbar": {
             "outlinewidth": 0,
             "ticks": ""
            },
            "type": "contourcarpet"
           }
          ],
          "heatmap": [
           {
            "colorbar": {
             "outlinewidth": 0,
             "ticks": ""
            },
            "colorscale": [
             [
              0,
              "#0d0887"
             ],
             [
              0.1111111111111111,
              "#46039f"
             ],
             [
              0.2222222222222222,
              "#7201a8"
             ],
             [
              0.3333333333333333,
              "#9c179e"
             ],
             [
              0.4444444444444444,
              "#bd3786"
             ],
             [
              0.5555555555555556,
              "#d8576b"
             ],
             [
              0.6666666666666666,
              "#ed7953"
             ],
             [
              0.7777777777777778,
              "#fb9f3a"
             ],
             [
              0.8888888888888888,
              "#fdca26"
             ],
             [
              1,
              "#f0f921"
             ]
            ],
            "type": "heatmap"
           }
          ],
          "heatmapgl": [
           {
            "colorbar": {
             "outlinewidth": 0,
             "ticks": ""
            },
            "colorscale": [
             [
              0,
              "#0d0887"
             ],
             [
              0.1111111111111111,
              "#46039f"
             ],
             [
              0.2222222222222222,
              "#7201a8"
             ],
             [
              0.3333333333333333,
              "#9c179e"
             ],
             [
              0.4444444444444444,
              "#bd3786"
             ],
             [
              0.5555555555555556,
              "#d8576b"
             ],
             [
              0.6666666666666666,
              "#ed7953"
             ],
             [
              0.7777777777777778,
              "#fb9f3a"
             ],
             [
              0.8888888888888888,
              "#fdca26"
             ],
             [
              1,
              "#f0f921"
             ]
            ],
            "type": "heatmapgl"
           }
          ],
          "histogram": [
           {
            "marker": {
             "pattern": {
              "fillmode": "overlay",
              "size": 10,
              "solidity": 0.2
             }
            },
            "type": "histogram"
           }
          ],
          "histogram2d": [
           {
            "colorbar": {
             "outlinewidth": 0,
             "ticks": ""
            },
            "colorscale": [
             [
              0,
              "#0d0887"
             ],
             [
              0.1111111111111111,
              "#46039f"
             ],
             [
              0.2222222222222222,
              "#7201a8"
             ],
             [
              0.3333333333333333,
              "#9c179e"
             ],
             [
              0.4444444444444444,
              "#bd3786"
             ],
             [
              0.5555555555555556,
              "#d8576b"
             ],
             [
              0.6666666666666666,
              "#ed7953"
             ],
             [
              0.7777777777777778,
              "#fb9f3a"
             ],
             [
              0.8888888888888888,
              "#fdca26"
             ],
             [
              1,
              "#f0f921"
             ]
            ],
            "type": "histogram2d"
           }
          ],
          "histogram2dcontour": [
           {
            "colorbar": {
             "outlinewidth": 0,
             "ticks": ""
            },
            "colorscale": [
             [
              0,
              "#0d0887"
             ],
             [
              0.1111111111111111,
              "#46039f"
             ],
             [
              0.2222222222222222,
              "#7201a8"
             ],
             [
              0.3333333333333333,
              "#9c179e"
             ],
             [
              0.4444444444444444,
              "#bd3786"
             ],
             [
              0.5555555555555556,
              "#d8576b"
             ],
             [
              0.6666666666666666,
              "#ed7953"
             ],
             [
              0.7777777777777778,
              "#fb9f3a"
             ],
             [
              0.8888888888888888,
              "#fdca26"
             ],
             [
              1,
              "#f0f921"
             ]
            ],
            "type": "histogram2dcontour"
           }
          ],
          "mesh3d": [
           {
            "colorbar": {
             "outlinewidth": 0,
             "ticks": ""
            },
            "type": "mesh3d"
           }
          ],
          "parcoords": [
           {
            "line": {
             "colorbar": {
              "outlinewidth": 0,
              "ticks": ""
             }
            },
            "type": "parcoords"
           }
          ],
          "pie": [
           {
            "automargin": true,
            "type": "pie"
           }
          ],
          "scatter": [
           {
            "marker": {
             "colorbar": {
              "outlinewidth": 0,
              "ticks": ""
             }
            },
            "type": "scatter"
           }
          ],
          "scatter3d": [
           {
            "line": {
             "colorbar": {
              "outlinewidth": 0,
              "ticks": ""
             }
            },
            "marker": {
             "colorbar": {
              "outlinewidth": 0,
              "ticks": ""
             }
            },
            "type": "scatter3d"
           }
          ],
          "scattercarpet": [
           {
            "marker": {
             "colorbar": {
              "outlinewidth": 0,
              "ticks": ""
             }
            },
            "type": "scattercarpet"
           }
          ],
          "scattergeo": [
           {
            "marker": {
             "colorbar": {
              "outlinewidth": 0,
              "ticks": ""
             }
            },
            "type": "scattergeo"
           }
          ],
          "scattergl": [
           {
            "marker": {
             "colorbar": {
              "outlinewidth": 0,
              "ticks": ""
             }
            },
            "type": "scattergl"
           }
          ],
          "scattermapbox": [
           {
            "marker": {
             "colorbar": {
              "outlinewidth": 0,
              "ticks": ""
             }
            },
            "type": "scattermapbox"
           }
          ],
          "scatterpolar": [
           {
            "marker": {
             "colorbar": {
              "outlinewidth": 0,
              "ticks": ""
             }
            },
            "type": "scatterpolar"
           }
          ],
          "scatterpolargl": [
           {
            "marker": {
             "colorbar": {
              "outlinewidth": 0,
              "ticks": ""
             }
            },
            "type": "scatterpolargl"
           }
          ],
          "scatterternary": [
           {
            "marker": {
             "colorbar": {
              "outlinewidth": 0,
              "ticks": ""
             }
            },
            "type": "scatterternary"
           }
          ],
          "surface": [
           {
            "colorbar": {
             "outlinewidth": 0,
             "ticks": ""
            },
            "colorscale": [
             [
              0,
              "#0d0887"
             ],
             [
              0.1111111111111111,
              "#46039f"
             ],
             [
              0.2222222222222222,
              "#7201a8"
             ],
             [
              0.3333333333333333,
              "#9c179e"
             ],
             [
              0.4444444444444444,
              "#bd3786"
             ],
             [
              0.5555555555555556,
              "#d8576b"
             ],
             [
              0.6666666666666666,
              "#ed7953"
             ],
             [
              0.7777777777777778,
              "#fb9f3a"
             ],
             [
              0.8888888888888888,
              "#fdca26"
             ],
             [
              1,
              "#f0f921"
             ]
            ],
            "type": "surface"
           }
          ],
          "table": [
           {
            "cells": {
             "fill": {
              "color": "#EBF0F8"
             },
             "line": {
              "color": "white"
             }
            },
            "header": {
             "fill": {
              "color": "#C8D4E3"
             },
             "line": {
              "color": "white"
             }
            },
            "type": "table"
           }
          ]
         },
         "layout": {
          "annotationdefaults": {
           "arrowcolor": "#2a3f5f",
           "arrowhead": 0,
           "arrowwidth": 1
          },
          "autotypenumbers": "strict",
          "coloraxis": {
           "colorbar": {
            "outlinewidth": 0,
            "ticks": ""
           }
          },
          "colorscale": {
           "diverging": [
            [
             0,
             "#8e0152"
            ],
            [
             0.1,
             "#c51b7d"
            ],
            [
             0.2,
             "#de77ae"
            ],
            [
             0.3,
             "#f1b6da"
            ],
            [
             0.4,
             "#fde0ef"
            ],
            [
             0.5,
             "#f7f7f7"
            ],
            [
             0.6,
             "#e6f5d0"
            ],
            [
             0.7,
             "#b8e186"
            ],
            [
             0.8,
             "#7fbc41"
            ],
            [
             0.9,
             "#4d9221"
            ],
            [
             1,
             "#276419"
            ]
           ],
           "sequential": [
            [
             0,
             "#0d0887"
            ],
            [
             0.1111111111111111,
             "#46039f"
            ],
            [
             0.2222222222222222,
             "#7201a8"
            ],
            [
             0.3333333333333333,
             "#9c179e"
            ],
            [
             0.4444444444444444,
             "#bd3786"
            ],
            [
             0.5555555555555556,
             "#d8576b"
            ],
            [
             0.6666666666666666,
             "#ed7953"
            ],
            [
             0.7777777777777778,
             "#fb9f3a"
            ],
            [
             0.8888888888888888,
             "#fdca26"
            ],
            [
             1,
             "#f0f921"
            ]
           ],
           "sequentialminus": [
            [
             0,
             "#0d0887"
            ],
            [
             0.1111111111111111,
             "#46039f"
            ],
            [
             0.2222222222222222,
             "#7201a8"
            ],
            [
             0.3333333333333333,
             "#9c179e"
            ],
            [
             0.4444444444444444,
             "#bd3786"
            ],
            [
             0.5555555555555556,
             "#d8576b"
            ],
            [
             0.6666666666666666,
             "#ed7953"
            ],
            [
             0.7777777777777778,
             "#fb9f3a"
            ],
            [
             0.8888888888888888,
             "#fdca26"
            ],
            [
             1,
             "#f0f921"
            ]
           ]
          },
          "colorway": [
           "#636efa",
           "#EF553B",
           "#00cc96",
           "#ab63fa",
           "#FFA15A",
           "#19d3f3",
           "#FF6692",
           "#B6E880",
           "#FF97FF",
           "#FECB52"
          ],
          "font": {
           "color": "#2a3f5f"
          },
          "geo": {
           "bgcolor": "white",
           "lakecolor": "white",
           "landcolor": "#E5ECF6",
           "showlakes": true,
           "showland": true,
           "subunitcolor": "white"
          },
          "hoverlabel": {
           "align": "left"
          },
          "hovermode": "closest",
          "mapbox": {
           "style": "light"
          },
          "paper_bgcolor": "white",
          "plot_bgcolor": "#E5ECF6",
          "polar": {
           "angularaxis": {
            "gridcolor": "white",
            "linecolor": "white",
            "ticks": ""
           },
           "bgcolor": "#E5ECF6",
           "radialaxis": {
            "gridcolor": "white",
            "linecolor": "white",
            "ticks": ""
           }
          },
          "scene": {
           "xaxis": {
            "backgroundcolor": "#E5ECF6",
            "gridcolor": "white",
            "gridwidth": 2,
            "linecolor": "white",
            "showbackground": true,
            "ticks": "",
            "zerolinecolor": "white"
           },
           "yaxis": {
            "backgroundcolor": "#E5ECF6",
            "gridcolor": "white",
            "gridwidth": 2,
            "linecolor": "white",
            "showbackground": true,
            "ticks": "",
            "zerolinecolor": "white"
           },
           "zaxis": {
            "backgroundcolor": "#E5ECF6",
            "gridcolor": "white",
            "gridwidth": 2,
            "linecolor": "white",
            "showbackground": true,
            "ticks": "",
            "zerolinecolor": "white"
           }
          },
          "shapedefaults": {
           "line": {
            "color": "#2a3f5f"
           }
          },
          "ternary": {
           "aaxis": {
            "gridcolor": "white",
            "linecolor": "white",
            "ticks": ""
           },
           "baxis": {
            "gridcolor": "white",
            "linecolor": "white",
            "ticks": ""
           },
           "bgcolor": "#E5ECF6",
           "caxis": {
            "gridcolor": "white",
            "linecolor": "white",
            "ticks": ""
           }
          },
          "title": {
           "x": 0.05
          },
          "xaxis": {
           "automargin": true,
           "gridcolor": "white",
           "linecolor": "white",
           "ticks": "",
           "title": {
            "standoff": 15
           },
           "zerolinecolor": "white",
           "zerolinewidth": 2
          },
          "yaxis": {
           "automargin": true,
           "gridcolor": "white",
           "linecolor": "white",
           "ticks": "",
           "title": {
            "standoff": 15
           },
           "zerolinecolor": "white",
           "zerolinewidth": 2
          }
         }
        },
        "xaxis": {
         "anchor": "y",
         "domain": [
          0,
          1
         ],
         "title": {
          "text": "X1"
         }
        },
        "yaxis": {
         "anchor": "x",
         "domain": [
          0,
          1
         ],
         "title": {
          "text": "X2"
         }
        }
       }
      }
     },
     "metadata": {},
     "output_type": "display_data"
    }
   ],
   "source": [
    "# Load the data\n",
    "data_a = pd.read_csv('project2/data/clusterDataA-1.csv')\n",
    "data_b = pd.read_csv('project2/data/clusterDataB-1.csv')\n",
    "\n",
    "# plot the data for data_a\n",
    "fig1 = px.scatter(data_a, x='X1', y='X2')\n",
    "fig1.show()\n"
   ]
  },
  {
   "cell_type": "code",
   "execution_count": 11,
   "metadata": {},
   "outputs": [
    {
     "data": {
      "application/vnd.plotly.v1+json": {
       "config": {
        "plotlyServerURL": "https://plot.ly"
       },
       "data": [
        {
         "hovertemplate": "X1=%{x}<br>X2=%{y}<extra></extra>",
         "legendgroup": "",
         "marker": {
          "color": "#636efa",
          "symbol": "circle"
         },
         "mode": "markers",
         "name": "",
         "orientation": "v",
         "showlegend": false,
         "type": "scatter",
         "x": [
          -3.88,
          -4.46,
          -3.49,
          -3.6,
          -2.81,
          -4.45,
          -2.72,
          -3.95,
          -2.96,
          -3.21,
          -2.87,
          -3.8,
          -3.51,
          -3.25,
          -3.89,
          -2.72,
          -3.11,
          -3.5,
          -3.15,
          -4.13,
          -3.55,
          -3.29,
          -3.34,
          -3.03,
          -4.51,
          -3.73,
          -4.68,
          -2.97,
          -4.4,
          -3.26,
          -2.81,
          -4.2,
          -4.35,
          -3.8,
          -3.82,
          -3.63,
          -2.18,
          -4.4,
          -3.16,
          -2.52,
          -3.09,
          -2.81,
          -2.94,
          -3.31,
          -4.08,
          -3.69,
          -3.02,
          -3.64,
          -3.56,
          -3.69,
          -4.87,
          -3.35,
          -4.41,
          -3.08,
          -3.99,
          -4.01,
          -4.67,
          -3.35,
          -4.14,
          -4.04,
          -4.45,
          -4.25,
          -2.09,
          0.07,
          -1.07,
          -0.75,
          -0.32,
          -0.58,
          -0.19,
          0.01,
          0.48,
          -0.37,
          -1.03,
          -0.84,
          -0.32,
          0.15,
          -0.18,
          0.21,
          0.27,
          -0.82,
          -1.32,
          0.35,
          0.23,
          0.42,
          0.3,
          -0.96,
          -0.12,
          -0.13,
          -0.09,
          0.31,
          0.08,
          -0.21,
          0.07,
          0.3,
          -0.23,
          -1.03,
          0.31,
          -0.14,
          -0.54,
          -0.38,
          0.1,
          -0.37,
          -0.15,
          -0.69,
          -0.2,
          -0.17,
          -1,
          -0.76,
          -0.05,
          -0.01,
          -0.82,
          -0.68,
          -0.53,
          -0.09,
          0.05,
          -0.31,
          0.16,
          2.36,
          2.43,
          2.91,
          2.83,
          2.11,
          3.16,
          1.66,
          2.14,
          4.56,
          2.92,
          3.34,
          2.47,
          3.46,
          2.34,
          1.15,
          2.8,
          2.02,
          2.45,
          2.16,
          3.14,
          2.6,
          2.28,
          1.17,
          0.94,
          1.81,
          1,
          0.37,
          1.06,
          0.64,
          1.27,
          1.32,
          1.96,
          -0.3,
          1.67,
          0.67,
          0.26,
          1.51,
          0.94,
          1.17,
          1.57,
          1.04,
          1.74,
          0.58,
          0.94,
          1.28,
          1.45,
          0.61,
          0.69,
          0.59,
          1.5,
          0.59,
          1.93,
          2.2,
          1.61,
          2.36,
          1.29,
          0.66,
          0.27,
          0.29,
          1.35,
          2.08,
          0.77,
          1.24
         ],
         "xaxis": "x",
         "y": [
          -5.37,
          -5.69,
          -4.84,
          -4.73,
          -4.02,
          -5.36,
          -4.15,
          -5.1,
          -3.97,
          -4.27,
          -4.33,
          -4.86,
          -4.53,
          -4.14,
          -4.4,
          -3.79,
          -4.67,
          -4.44,
          -4.07,
          -5.29,
          -4.79,
          2.12,
          2.73,
          2.88,
          1.47,
          2.23,
          0.72,
          2.79,
          1.69,
          2.52,
          3.11,
          1.51,
          1.42,
          2.09,
          2.13,
          1.85,
          3.72,
          1.34,
          2.93,
          3.26,
          2.74,
          2.83,
          2.9,
          2.33,
          2,
          1.8,
          2.69,
          2.22,
          2.5,
          2.35,
          0.92,
          2.07,
          1.55,
          2.82,
          2.13,
          2.01,
          1.22,
          2.21,
          1.51,
          1.82,
          1.55,
          1.51,
          -1.07,
          0.96,
          0.04,
          0.46,
          0.46,
          0.56,
          0.73,
          0.8,
          1.37,
          0.73,
          -0.14,
          0.25,
          0.88,
          1.22,
          0.86,
          1.07,
          1.09,
          0.02,
          -0.32,
          1.29,
          -3.63,
          -3.56,
          -3.52,
          -4.78,
          -3.98,
          -3.96,
          -4.11,
          -3.53,
          -3.76,
          -4.16,
          -3.74,
          -3.66,
          -4.08,
          -5.04,
          -3.69,
          -4.16,
          -4.53,
          -4.27,
          -3.85,
          -4.2,
          -3.92,
          -4.66,
          -3.99,
          -3.85,
          -4.84,
          -4.73,
          -3.87,
          -3.79,
          -4.55,
          -4.34,
          -4.19,
          -3.98,
          -3.84,
          -4.22,
          -3.81,
          2.01,
          2.04,
          1.98,
          1.63,
          1.49,
          2.46,
          1.09,
          1.19,
          3.45,
          1.73,
          2.14,
          1.37,
          2.39,
          1.54,
          0.34,
          1.95,
          1.22,
          1.62,
          1.29,
          2.33,
          1.33,
          1.4,
          4.88,
          4.26,
          5.76,
          4.63,
          3.81,
          5.07,
          4.03,
          4.88,
          4.78,
          5.57,
          3.31,
          5.09,
          4.29,
          3.31,
          4.84,
          4.75,
          4.55,
          5.11,
          4.39,
          5.37,
          4.2,
          4.87,
          4.54,
          4.82,
          4.3,
          4.45,
          4.36,
          5.04,
          4.18,
          5.35,
          5.81,
          5.03,
          6.23,
          4.64,
          4.35,
          3.92,
          3.92,
          5.22,
          5.43,
          4.28,
          4.95
         ],
         "yaxis": "y"
        }
       ],
       "layout": {
        "legend": {
         "tracegroupgap": 0
        },
        "margin": {
         "t": 60
        },
        "template": {
         "data": {
          "bar": [
           {
            "error_x": {
             "color": "#2a3f5f"
            },
            "error_y": {
             "color": "#2a3f5f"
            },
            "marker": {
             "line": {
              "color": "#E5ECF6",
              "width": 0.5
             },
             "pattern": {
              "fillmode": "overlay",
              "size": 10,
              "solidity": 0.2
             }
            },
            "type": "bar"
           }
          ],
          "barpolar": [
           {
            "marker": {
             "line": {
              "color": "#E5ECF6",
              "width": 0.5
             },
             "pattern": {
              "fillmode": "overlay",
              "size": 10,
              "solidity": 0.2
             }
            },
            "type": "barpolar"
           }
          ],
          "carpet": [
           {
            "aaxis": {
             "endlinecolor": "#2a3f5f",
             "gridcolor": "white",
             "linecolor": "white",
             "minorgridcolor": "white",
             "startlinecolor": "#2a3f5f"
            },
            "baxis": {
             "endlinecolor": "#2a3f5f",
             "gridcolor": "white",
             "linecolor": "white",
             "minorgridcolor": "white",
             "startlinecolor": "#2a3f5f"
            },
            "type": "carpet"
           }
          ],
          "choropleth": [
           {
            "colorbar": {
             "outlinewidth": 0,
             "ticks": ""
            },
            "type": "choropleth"
           }
          ],
          "contour": [
           {
            "colorbar": {
             "outlinewidth": 0,
             "ticks": ""
            },
            "colorscale": [
             [
              0,
              "#0d0887"
             ],
             [
              0.1111111111111111,
              "#46039f"
             ],
             [
              0.2222222222222222,
              "#7201a8"
             ],
             [
              0.3333333333333333,
              "#9c179e"
             ],
             [
              0.4444444444444444,
              "#bd3786"
             ],
             [
              0.5555555555555556,
              "#d8576b"
             ],
             [
              0.6666666666666666,
              "#ed7953"
             ],
             [
              0.7777777777777778,
              "#fb9f3a"
             ],
             [
              0.8888888888888888,
              "#fdca26"
             ],
             [
              1,
              "#f0f921"
             ]
            ],
            "type": "contour"
           }
          ],
          "contourcarpet": [
           {
            "colorbar": {
             "outlinewidth": 0,
             "ticks": ""
            },
            "type": "contourcarpet"
           }
          ],
          "heatmap": [
           {
            "colorbar": {
             "outlinewidth": 0,
             "ticks": ""
            },
            "colorscale": [
             [
              0,
              "#0d0887"
             ],
             [
              0.1111111111111111,
              "#46039f"
             ],
             [
              0.2222222222222222,
              "#7201a8"
             ],
             [
              0.3333333333333333,
              "#9c179e"
             ],
             [
              0.4444444444444444,
              "#bd3786"
             ],
             [
              0.5555555555555556,
              "#d8576b"
             ],
             [
              0.6666666666666666,
              "#ed7953"
             ],
             [
              0.7777777777777778,
              "#fb9f3a"
             ],
             [
              0.8888888888888888,
              "#fdca26"
             ],
             [
              1,
              "#f0f921"
             ]
            ],
            "type": "heatmap"
           }
          ],
          "heatmapgl": [
           {
            "colorbar": {
             "outlinewidth": 0,
             "ticks": ""
            },
            "colorscale": [
             [
              0,
              "#0d0887"
             ],
             [
              0.1111111111111111,
              "#46039f"
             ],
             [
              0.2222222222222222,
              "#7201a8"
             ],
             [
              0.3333333333333333,
              "#9c179e"
             ],
             [
              0.4444444444444444,
              "#bd3786"
             ],
             [
              0.5555555555555556,
              "#d8576b"
             ],
             [
              0.6666666666666666,
              "#ed7953"
             ],
             [
              0.7777777777777778,
              "#fb9f3a"
             ],
             [
              0.8888888888888888,
              "#fdca26"
             ],
             [
              1,
              "#f0f921"
             ]
            ],
            "type": "heatmapgl"
           }
          ],
          "histogram": [
           {
            "marker": {
             "pattern": {
              "fillmode": "overlay",
              "size": 10,
              "solidity": 0.2
             }
            },
            "type": "histogram"
           }
          ],
          "histogram2d": [
           {
            "colorbar": {
             "outlinewidth": 0,
             "ticks": ""
            },
            "colorscale": [
             [
              0,
              "#0d0887"
             ],
             [
              0.1111111111111111,
              "#46039f"
             ],
             [
              0.2222222222222222,
              "#7201a8"
             ],
             [
              0.3333333333333333,
              "#9c179e"
             ],
             [
              0.4444444444444444,
              "#bd3786"
             ],
             [
              0.5555555555555556,
              "#d8576b"
             ],
             [
              0.6666666666666666,
              "#ed7953"
             ],
             [
              0.7777777777777778,
              "#fb9f3a"
             ],
             [
              0.8888888888888888,
              "#fdca26"
             ],
             [
              1,
              "#f0f921"
             ]
            ],
            "type": "histogram2d"
           }
          ],
          "histogram2dcontour": [
           {
            "colorbar": {
             "outlinewidth": 0,
             "ticks": ""
            },
            "colorscale": [
             [
              0,
              "#0d0887"
             ],
             [
              0.1111111111111111,
              "#46039f"
             ],
             [
              0.2222222222222222,
              "#7201a8"
             ],
             [
              0.3333333333333333,
              "#9c179e"
             ],
             [
              0.4444444444444444,
              "#bd3786"
             ],
             [
              0.5555555555555556,
              "#d8576b"
             ],
             [
              0.6666666666666666,
              "#ed7953"
             ],
             [
              0.7777777777777778,
              "#fb9f3a"
             ],
             [
              0.8888888888888888,
              "#fdca26"
             ],
             [
              1,
              "#f0f921"
             ]
            ],
            "type": "histogram2dcontour"
           }
          ],
          "mesh3d": [
           {
            "colorbar": {
             "outlinewidth": 0,
             "ticks": ""
            },
            "type": "mesh3d"
           }
          ],
          "parcoords": [
           {
            "line": {
             "colorbar": {
              "outlinewidth": 0,
              "ticks": ""
             }
            },
            "type": "parcoords"
           }
          ],
          "pie": [
           {
            "automargin": true,
            "type": "pie"
           }
          ],
          "scatter": [
           {
            "marker": {
             "colorbar": {
              "outlinewidth": 0,
              "ticks": ""
             }
            },
            "type": "scatter"
           }
          ],
          "scatter3d": [
           {
            "line": {
             "colorbar": {
              "outlinewidth": 0,
              "ticks": ""
             }
            },
            "marker": {
             "colorbar": {
              "outlinewidth": 0,
              "ticks": ""
             }
            },
            "type": "scatter3d"
           }
          ],
          "scattercarpet": [
           {
            "marker": {
             "colorbar": {
              "outlinewidth": 0,
              "ticks": ""
             }
            },
            "type": "scattercarpet"
           }
          ],
          "scattergeo": [
           {
            "marker": {
             "colorbar": {
              "outlinewidth": 0,
              "ticks": ""
             }
            },
            "type": "scattergeo"
           }
          ],
          "scattergl": [
           {
            "marker": {
             "colorbar": {
              "outlinewidth": 0,
              "ticks": ""
             }
            },
            "type": "scattergl"
           }
          ],
          "scattermapbox": [
           {
            "marker": {
             "colorbar": {
              "outlinewidth": 0,
              "ticks": ""
             }
            },
            "type": "scattermapbox"
           }
          ],
          "scatterpolar": [
           {
            "marker": {
             "colorbar": {
              "outlinewidth": 0,
              "ticks": ""
             }
            },
            "type": "scatterpolar"
           }
          ],
          "scatterpolargl": [
           {
            "marker": {
             "colorbar": {
              "outlinewidth": 0,
              "ticks": ""
             }
            },
            "type": "scatterpolargl"
           }
          ],
          "scatterternary": [
           {
            "marker": {
             "colorbar": {
              "outlinewidth": 0,
              "ticks": ""
             }
            },
            "type": "scatterternary"
           }
          ],
          "surface": [
           {
            "colorbar": {
             "outlinewidth": 0,
             "ticks": ""
            },
            "colorscale": [
             [
              0,
              "#0d0887"
             ],
             [
              0.1111111111111111,
              "#46039f"
             ],
             [
              0.2222222222222222,
              "#7201a8"
             ],
             [
              0.3333333333333333,
              "#9c179e"
             ],
             [
              0.4444444444444444,
              "#bd3786"
             ],
             [
              0.5555555555555556,
              "#d8576b"
             ],
             [
              0.6666666666666666,
              "#ed7953"
             ],
             [
              0.7777777777777778,
              "#fb9f3a"
             ],
             [
              0.8888888888888888,
              "#fdca26"
             ],
             [
              1,
              "#f0f921"
             ]
            ],
            "type": "surface"
           }
          ],
          "table": [
           {
            "cells": {
             "fill": {
              "color": "#EBF0F8"
             },
             "line": {
              "color": "white"
             }
            },
            "header": {
             "fill": {
              "color": "#C8D4E3"
             },
             "line": {
              "color": "white"
             }
            },
            "type": "table"
           }
          ]
         },
         "layout": {
          "annotationdefaults": {
           "arrowcolor": "#2a3f5f",
           "arrowhead": 0,
           "arrowwidth": 1
          },
          "autotypenumbers": "strict",
          "coloraxis": {
           "colorbar": {
            "outlinewidth": 0,
            "ticks": ""
           }
          },
          "colorscale": {
           "diverging": [
            [
             0,
             "#8e0152"
            ],
            [
             0.1,
             "#c51b7d"
            ],
            [
             0.2,
             "#de77ae"
            ],
            [
             0.3,
             "#f1b6da"
            ],
            [
             0.4,
             "#fde0ef"
            ],
            [
             0.5,
             "#f7f7f7"
            ],
            [
             0.6,
             "#e6f5d0"
            ],
            [
             0.7,
             "#b8e186"
            ],
            [
             0.8,
             "#7fbc41"
            ],
            [
             0.9,
             "#4d9221"
            ],
            [
             1,
             "#276419"
            ]
           ],
           "sequential": [
            [
             0,
             "#0d0887"
            ],
            [
             0.1111111111111111,
             "#46039f"
            ],
            [
             0.2222222222222222,
             "#7201a8"
            ],
            [
             0.3333333333333333,
             "#9c179e"
            ],
            [
             0.4444444444444444,
             "#bd3786"
            ],
            [
             0.5555555555555556,
             "#d8576b"
            ],
            [
             0.6666666666666666,
             "#ed7953"
            ],
            [
             0.7777777777777778,
             "#fb9f3a"
            ],
            [
             0.8888888888888888,
             "#fdca26"
            ],
            [
             1,
             "#f0f921"
            ]
           ],
           "sequentialminus": [
            [
             0,
             "#0d0887"
            ],
            [
             0.1111111111111111,
             "#46039f"
            ],
            [
             0.2222222222222222,
             "#7201a8"
            ],
            [
             0.3333333333333333,
             "#9c179e"
            ],
            [
             0.4444444444444444,
             "#bd3786"
            ],
            [
             0.5555555555555556,
             "#d8576b"
            ],
            [
             0.6666666666666666,
             "#ed7953"
            ],
            [
             0.7777777777777778,
             "#fb9f3a"
            ],
            [
             0.8888888888888888,
             "#fdca26"
            ],
            [
             1,
             "#f0f921"
            ]
           ]
          },
          "colorway": [
           "#636efa",
           "#EF553B",
           "#00cc96",
           "#ab63fa",
           "#FFA15A",
           "#19d3f3",
           "#FF6692",
           "#B6E880",
           "#FF97FF",
           "#FECB52"
          ],
          "font": {
           "color": "#2a3f5f"
          },
          "geo": {
           "bgcolor": "white",
           "lakecolor": "white",
           "landcolor": "#E5ECF6",
           "showlakes": true,
           "showland": true,
           "subunitcolor": "white"
          },
          "hoverlabel": {
           "align": "left"
          },
          "hovermode": "closest",
          "mapbox": {
           "style": "light"
          },
          "paper_bgcolor": "white",
          "plot_bgcolor": "#E5ECF6",
          "polar": {
           "angularaxis": {
            "gridcolor": "white",
            "linecolor": "white",
            "ticks": ""
           },
           "bgcolor": "#E5ECF6",
           "radialaxis": {
            "gridcolor": "white",
            "linecolor": "white",
            "ticks": ""
           }
          },
          "scene": {
           "xaxis": {
            "backgroundcolor": "#E5ECF6",
            "gridcolor": "white",
            "gridwidth": 2,
            "linecolor": "white",
            "showbackground": true,
            "ticks": "",
            "zerolinecolor": "white"
           },
           "yaxis": {
            "backgroundcolor": "#E5ECF6",
            "gridcolor": "white",
            "gridwidth": 2,
            "linecolor": "white",
            "showbackground": true,
            "ticks": "",
            "zerolinecolor": "white"
           },
           "zaxis": {
            "backgroundcolor": "#E5ECF6",
            "gridcolor": "white",
            "gridwidth": 2,
            "linecolor": "white",
            "showbackground": true,
            "ticks": "",
            "zerolinecolor": "white"
           }
          },
          "shapedefaults": {
           "line": {
            "color": "#2a3f5f"
           }
          },
          "ternary": {
           "aaxis": {
            "gridcolor": "white",
            "linecolor": "white",
            "ticks": ""
           },
           "baxis": {
            "gridcolor": "white",
            "linecolor": "white",
            "ticks": ""
           },
           "bgcolor": "#E5ECF6",
           "caxis": {
            "gridcolor": "white",
            "linecolor": "white",
            "ticks": ""
           }
          },
          "title": {
           "x": 0.05
          },
          "xaxis": {
           "automargin": true,
           "gridcolor": "white",
           "linecolor": "white",
           "ticks": "",
           "title": {
            "standoff": 15
           },
           "zerolinecolor": "white",
           "zerolinewidth": 2
          },
          "yaxis": {
           "automargin": true,
           "gridcolor": "white",
           "linecolor": "white",
           "ticks": "",
           "title": {
            "standoff": 15
           },
           "zerolinecolor": "white",
           "zerolinewidth": 2
          }
         }
        },
        "xaxis": {
         "anchor": "y",
         "domain": [
          0,
          1
         ],
         "title": {
          "text": "X1"
         }
        },
        "yaxis": {
         "anchor": "x",
         "domain": [
          0,
          1
         ],
         "title": {
          "text": "X2"
         }
        }
       }
      }
     },
     "metadata": {},
     "output_type": "display_data"
    }
   ],
   "source": [
    "# plot the data for data_b\n",
    "fig2 = px.scatter(data_b, x='X1', y='X2')\n",
    "fig2.show()"
   ]
  },
  {
   "attachments": {},
   "cell_type": "markdown",
   "metadata": {},
   "source": [
    "## Clustering The Example Data"
   ]
  },
  {
   "cell_type": "code",
   "execution_count": 12,
   "metadata": {},
   "outputs": [
    {
     "data": {
      "application/vnd.plotly.v1+json": {
       "config": {
        "plotlyServerURL": "https://plot.ly"
       },
       "data": [
        {
         "hovertemplate": "X1=%{x}<br>X2=%{y}<br>color=%{marker.color}<extra></extra>",
         "legendgroup": "",
         "marker": {
          "color": [
           5,
           5,
           5,
           5,
           5,
           5,
           5,
           5,
           5,
           5,
           5,
           5,
           5,
           5,
           5,
           5,
           5,
           5,
           5,
           5,
           5,
           5,
           3,
           3,
           3,
           3,
           3,
           3,
           3,
           3,
           3,
           3,
           3,
           3,
           3,
           3,
           3,
           3,
           3,
           3,
           3,
           3,
           3,
           3,
           3,
           3,
           3,
           3,
           3,
           3,
           3,
           3,
           3,
           3,
           3,
           1,
           1,
           1,
           1,
           1,
           1,
           1,
           1,
           1,
           1,
           1,
           1,
           1,
           1,
           1,
           1,
           1,
           1,
           1,
           1,
           1,
           1,
           1,
           1,
           1,
           1,
           1,
           1,
           1,
           1,
           1,
           1,
           2,
           2,
           2,
           2,
           2,
           2,
           2,
           2,
           2,
           2,
           2,
           2,
           2,
           2,
           2,
           2,
           2,
           2,
           2,
           2,
           2,
           2,
           2,
           2,
           2,
           2,
           2,
           2,
           2,
           2,
           4,
           4,
           4,
           4,
           4,
           4,
           4,
           4,
           4,
           4,
           4,
           4,
           4,
           4,
           4,
           4,
           4,
           4,
           4,
           4,
           4,
           4,
           4,
           4,
           4,
           4,
           4,
           4,
           4,
           4,
           4,
           4,
           4,
           4,
           4,
           4,
           4,
           4,
           4,
           4,
           4,
           4,
           4,
           0,
           0,
           0,
           0,
           0,
           0,
           0,
           0,
           0,
           0,
           0,
           0,
           0,
           0,
           0,
           0,
           0,
           0,
           0,
           0
          ],
          "coloraxis": "coloraxis",
          "symbol": "circle"
         },
         "mode": "markers",
         "name": "",
         "orientation": "v",
         "showlegend": false,
         "type": "scatter",
         "x": [
          -2.81,
          -2.69,
          -1.98,
          -2.32,
          -2.45,
          -2.62,
          -2.81,
          -1.97,
          -2.48,
          -1.31,
          -2.37,
          -2.05,
          -1.93,
          -2.85,
          -2.87,
          -1.72,
          -2.3,
          -1.15,
          -2.53,
          -1.45,
          -2.76,
          -3.19,
          0.22,
          -0.52,
          -1.71,
          -2.68,
          -1.88,
          1.16,
          -3.12,
          -0.59,
          -1.54,
          -1.42,
          -0.61,
          -1.31,
          -0.63,
          0.17,
          -0.49,
          -0.93,
          -0.51,
          0.97,
          -0.59,
          -1.44,
          -2.59,
          -0.47,
          -1.14,
          -0.41,
          -0.93,
          -1.52,
          -1.31,
          -1.99,
          -1.78,
          -1.72,
          -0.26,
          -1.85,
          -0.68,
          -4.43,
          -5.4,
          -4.93,
          -3.73,
          -4.89,
          -4.83,
          -5.06,
          -5.21,
          -4.75,
          -4.91,
          -4.29,
          -5.31,
          -4.71,
          -3.72,
          -4.62,
          -4.44,
          -5.45,
          -5.77,
          -5.1,
          -5.72,
          -4.28,
          -5.04,
          -5.36,
          -6,
          -4.33,
          -4.58,
          -5.63,
          -4.73,
          -5.43,
          -5.28,
          -4.97,
          -4.47,
          3,
          2.69,
          1.75,
          2.61,
          1.4,
          2.51,
          3.06,
          2.75,
          3.08,
          3.68,
          3.83,
          2.76,
          2.88,
          3.65,
          2.38,
          3.46,
          1.86,
          2.84,
          3.22,
          2.87,
          4.1,
          3.11,
          3.64,
          3.32,
          1.92,
          1.85,
          2.41,
          2.13,
          2.76,
          3.73,
          4.66,
          4,
          4.7,
          4.93,
          5.12,
          5.16,
          5.01,
          3.85,
          5.42,
          5.77,
          4.57,
          4.91,
          4.24,
          3.78,
          2.8,
          4.11,
          5.72,
          3.91,
          2.91,
          4.1,
          5.03,
          5.4,
          3.56,
          3.33,
          3.98,
          5.76,
          4.17,
          4.87,
          4.9,
          5.62,
          4.71,
          4.43,
          5.34,
          4.05,
          6.23,
          3.68,
          4.12,
          3.25,
          3.78,
          5.01,
          4.83,
          5.12,
          4.22,
          -0.37,
          -0.01,
          0.24,
          -0.04,
          0.76,
          1.92,
          -0.66,
          -0.94,
          0.25,
          -0.41,
          -0.63,
          0.27,
          0.13,
          0.81,
          -0.52,
          -0.67,
          0.58,
          1.64,
          0.56,
          0.26
         ],
         "xaxis": "x",
         "y": [
          5.28,
          4.26,
          3.65,
          3.72,
          4.22,
          4.12,
          4.65,
          4.67,
          4.24,
          4.21,
          5.47,
          4.74,
          4.81,
          4.28,
          3.46,
          4.1,
          5.12,
          3.66,
          3.54,
          4.57,
          3.87,
          3.84,
          -4.38,
          -4.62,
          -4.38,
          -2.18,
          -2.91,
          -4.52,
          -3.56,
          -2.34,
          -3.04,
          -2.98,
          -3.01,
          -2.9,
          -4.01,
          -3.37,
          -3.17,
          -3.01,
          -2.53,
          -2.53,
          -2.65,
          -2.83,
          -3.47,
          -3.38,
          -3.13,
          -3.32,
          -3.87,
          -3.26,
          -4.82,
          -5.14,
          -3.37,
          -3.34,
          -2.05,
          -4.63,
          -3.79,
          -0.99,
          -0.37,
          -0.87,
          -0.91,
          -1.16,
          -0.79,
          -0.54,
          -0.89,
          -1.47,
          -1.28,
          -0.96,
          -1.21,
          -1.17,
          0.02,
          -2.16,
          -1.09,
          -0.67,
          -0.9,
          -1.23,
          -0.9,
          -1.56,
          -1.45,
          -1.08,
          -2.05,
          -1.3,
          -1.88,
          -0.57,
          -1.08,
          -0.36,
          -0.16,
          -0.75,
          -1.69,
          3.52,
          4.3,
          3.98,
          2.09,
          3.55,
          3.19,
          4.96,
          3.36,
          3.01,
          3.24,
          3.17,
          3.49,
          4.1,
          2.84,
          3.25,
          3.67,
          3.94,
          2.91,
          3.52,
          3.25,
          3.57,
          2.71,
          4.68,
          4.16,
          3.97,
          3.75,
          3.63,
          3.88,
          3.21,
          3.64,
          -2.07,
          0.08,
          -0.57,
          -0.68,
          -2.2,
          0.28,
          -3.22,
          -0.47,
          -0.24,
          -1.35,
          -1.35,
          -0.33,
          -0.39,
          -0.1,
          -1.11,
          -1.81,
          -2.33,
          -1.64,
          0.79,
          -0.76,
          0.57,
          -2.76,
          -1.53,
          -1.97,
          0.25,
          -1.31,
          -2.03,
          -1.11,
          -0.32,
          -0.27,
          -2.39,
          -1.85,
          -1.17,
          -0.55,
          -1.86,
          -0.85,
          -1.51,
          -0.9,
          -0.75,
          -1.08,
          1,
          -1.23,
          -1.54,
          0.5,
          0.3,
          0.38,
          0.8,
          0.57,
          0.3,
          0.54,
          0.86,
          0.44,
          0.89,
          0.23,
          0.76,
          0.18,
          0.14,
          -0.61,
          0.14,
          -0.56,
          -0.78,
          -0.1,
          0.77
         ],
         "yaxis": "y"
        }
       ],
       "layout": {
        "coloraxis": {
         "colorbar": {
          "title": {
           "text": "color"
          }
         },
         "colorscale": [
          [
           0,
           "rgb(253, 224, 197)"
          ],
          [
           0.16666666666666666,
           "rgb(250, 203, 166)"
          ],
          [
           0.3333333333333333,
           "rgb(248, 181, 139)"
          ],
          [
           0.5,
           "rgb(245, 158, 114)"
          ],
          [
           0.6666666666666666,
           "rgb(242, 133, 93)"
          ],
          [
           0.8333333333333334,
           "rgb(239, 106, 76)"
          ],
          [
           1,
           "rgb(235, 74, 64)"
          ]
         ]
        },
        "legend": {
         "tracegroupgap": 0
        },
        "margin": {
         "t": 60
        },
        "template": {
         "data": {
          "bar": [
           {
            "error_x": {
             "color": "#2a3f5f"
            },
            "error_y": {
             "color": "#2a3f5f"
            },
            "marker": {
             "line": {
              "color": "#E5ECF6",
              "width": 0.5
             },
             "pattern": {
              "fillmode": "overlay",
              "size": 10,
              "solidity": 0.2
             }
            },
            "type": "bar"
           }
          ],
          "barpolar": [
           {
            "marker": {
             "line": {
              "color": "#E5ECF6",
              "width": 0.5
             },
             "pattern": {
              "fillmode": "overlay",
              "size": 10,
              "solidity": 0.2
             }
            },
            "type": "barpolar"
           }
          ],
          "carpet": [
           {
            "aaxis": {
             "endlinecolor": "#2a3f5f",
             "gridcolor": "white",
             "linecolor": "white",
             "minorgridcolor": "white",
             "startlinecolor": "#2a3f5f"
            },
            "baxis": {
             "endlinecolor": "#2a3f5f",
             "gridcolor": "white",
             "linecolor": "white",
             "minorgridcolor": "white",
             "startlinecolor": "#2a3f5f"
            },
            "type": "carpet"
           }
          ],
          "choropleth": [
           {
            "colorbar": {
             "outlinewidth": 0,
             "ticks": ""
            },
            "type": "choropleth"
           }
          ],
          "contour": [
           {
            "colorbar": {
             "outlinewidth": 0,
             "ticks": ""
            },
            "colorscale": [
             [
              0,
              "#0d0887"
             ],
             [
              0.1111111111111111,
              "#46039f"
             ],
             [
              0.2222222222222222,
              "#7201a8"
             ],
             [
              0.3333333333333333,
              "#9c179e"
             ],
             [
              0.4444444444444444,
              "#bd3786"
             ],
             [
              0.5555555555555556,
              "#d8576b"
             ],
             [
              0.6666666666666666,
              "#ed7953"
             ],
             [
              0.7777777777777778,
              "#fb9f3a"
             ],
             [
              0.8888888888888888,
              "#fdca26"
             ],
             [
              1,
              "#f0f921"
             ]
            ],
            "type": "contour"
           }
          ],
          "contourcarpet": [
           {
            "colorbar": {
             "outlinewidth": 0,
             "ticks": ""
            },
            "type": "contourcarpet"
           }
          ],
          "heatmap": [
           {
            "colorbar": {
             "outlinewidth": 0,
             "ticks": ""
            },
            "colorscale": [
             [
              0,
              "#0d0887"
             ],
             [
              0.1111111111111111,
              "#46039f"
             ],
             [
              0.2222222222222222,
              "#7201a8"
             ],
             [
              0.3333333333333333,
              "#9c179e"
             ],
             [
              0.4444444444444444,
              "#bd3786"
             ],
             [
              0.5555555555555556,
              "#d8576b"
             ],
             [
              0.6666666666666666,
              "#ed7953"
             ],
             [
              0.7777777777777778,
              "#fb9f3a"
             ],
             [
              0.8888888888888888,
              "#fdca26"
             ],
             [
              1,
              "#f0f921"
             ]
            ],
            "type": "heatmap"
           }
          ],
          "heatmapgl": [
           {
            "colorbar": {
             "outlinewidth": 0,
             "ticks": ""
            },
            "colorscale": [
             [
              0,
              "#0d0887"
             ],
             [
              0.1111111111111111,
              "#46039f"
             ],
             [
              0.2222222222222222,
              "#7201a8"
             ],
             [
              0.3333333333333333,
              "#9c179e"
             ],
             [
              0.4444444444444444,
              "#bd3786"
             ],
             [
              0.5555555555555556,
              "#d8576b"
             ],
             [
              0.6666666666666666,
              "#ed7953"
             ],
             [
              0.7777777777777778,
              "#fb9f3a"
             ],
             [
              0.8888888888888888,
              "#fdca26"
             ],
             [
              1,
              "#f0f921"
             ]
            ],
            "type": "heatmapgl"
           }
          ],
          "histogram": [
           {
            "marker": {
             "pattern": {
              "fillmode": "overlay",
              "size": 10,
              "solidity": 0.2
             }
            },
            "type": "histogram"
           }
          ],
          "histogram2d": [
           {
            "colorbar": {
             "outlinewidth": 0,
             "ticks": ""
            },
            "colorscale": [
             [
              0,
              "#0d0887"
             ],
             [
              0.1111111111111111,
              "#46039f"
             ],
             [
              0.2222222222222222,
              "#7201a8"
             ],
             [
              0.3333333333333333,
              "#9c179e"
             ],
             [
              0.4444444444444444,
              "#bd3786"
             ],
             [
              0.5555555555555556,
              "#d8576b"
             ],
             [
              0.6666666666666666,
              "#ed7953"
             ],
             [
              0.7777777777777778,
              "#fb9f3a"
             ],
             [
              0.8888888888888888,
              "#fdca26"
             ],
             [
              1,
              "#f0f921"
             ]
            ],
            "type": "histogram2d"
           }
          ],
          "histogram2dcontour": [
           {
            "colorbar": {
             "outlinewidth": 0,
             "ticks": ""
            },
            "colorscale": [
             [
              0,
              "#0d0887"
             ],
             [
              0.1111111111111111,
              "#46039f"
             ],
             [
              0.2222222222222222,
              "#7201a8"
             ],
             [
              0.3333333333333333,
              "#9c179e"
             ],
             [
              0.4444444444444444,
              "#bd3786"
             ],
             [
              0.5555555555555556,
              "#d8576b"
             ],
             [
              0.6666666666666666,
              "#ed7953"
             ],
             [
              0.7777777777777778,
              "#fb9f3a"
             ],
             [
              0.8888888888888888,
              "#fdca26"
             ],
             [
              1,
              "#f0f921"
             ]
            ],
            "type": "histogram2dcontour"
           }
          ],
          "mesh3d": [
           {
            "colorbar": {
             "outlinewidth": 0,
             "ticks": ""
            },
            "type": "mesh3d"
           }
          ],
          "parcoords": [
           {
            "line": {
             "colorbar": {
              "outlinewidth": 0,
              "ticks": ""
             }
            },
            "type": "parcoords"
           }
          ],
          "pie": [
           {
            "automargin": true,
            "type": "pie"
           }
          ],
          "scatter": [
           {
            "marker": {
             "colorbar": {
              "outlinewidth": 0,
              "ticks": ""
             }
            },
            "type": "scatter"
           }
          ],
          "scatter3d": [
           {
            "line": {
             "colorbar": {
              "outlinewidth": 0,
              "ticks": ""
             }
            },
            "marker": {
             "colorbar": {
              "outlinewidth": 0,
              "ticks": ""
             }
            },
            "type": "scatter3d"
           }
          ],
          "scattercarpet": [
           {
            "marker": {
             "colorbar": {
              "outlinewidth": 0,
              "ticks": ""
             }
            },
            "type": "scattercarpet"
           }
          ],
          "scattergeo": [
           {
            "marker": {
             "colorbar": {
              "outlinewidth": 0,
              "ticks": ""
             }
            },
            "type": "scattergeo"
           }
          ],
          "scattergl": [
           {
            "marker": {
             "colorbar": {
              "outlinewidth": 0,
              "ticks": ""
             }
            },
            "type": "scattergl"
           }
          ],
          "scattermapbox": [
           {
            "marker": {
             "colorbar": {
              "outlinewidth": 0,
              "ticks": ""
             }
            },
            "type": "scattermapbox"
           }
          ],
          "scatterpolar": [
           {
            "marker": {
             "colorbar": {
              "outlinewidth": 0,
              "ticks": ""
             }
            },
            "type": "scatterpolar"
           }
          ],
          "scatterpolargl": [
           {
            "marker": {
             "colorbar": {
              "outlinewidth": 0,
              "ticks": ""
             }
            },
            "type": "scatterpolargl"
           }
          ],
          "scatterternary": [
           {
            "marker": {
             "colorbar": {
              "outlinewidth": 0,
              "ticks": ""
             }
            },
            "type": "scatterternary"
           }
          ],
          "surface": [
           {
            "colorbar": {
             "outlinewidth": 0,
             "ticks": ""
            },
            "colorscale": [
             [
              0,
              "#0d0887"
             ],
             [
              0.1111111111111111,
              "#46039f"
             ],
             [
              0.2222222222222222,
              "#7201a8"
             ],
             [
              0.3333333333333333,
              "#9c179e"
             ],
             [
              0.4444444444444444,
              "#bd3786"
             ],
             [
              0.5555555555555556,
              "#d8576b"
             ],
             [
              0.6666666666666666,
              "#ed7953"
             ],
             [
              0.7777777777777778,
              "#fb9f3a"
             ],
             [
              0.8888888888888888,
              "#fdca26"
             ],
             [
              1,
              "#f0f921"
             ]
            ],
            "type": "surface"
           }
          ],
          "table": [
           {
            "cells": {
             "fill": {
              "color": "#EBF0F8"
             },
             "line": {
              "color": "white"
             }
            },
            "header": {
             "fill": {
              "color": "#C8D4E3"
             },
             "line": {
              "color": "white"
             }
            },
            "type": "table"
           }
          ]
         },
         "layout": {
          "annotationdefaults": {
           "arrowcolor": "#2a3f5f",
           "arrowhead": 0,
           "arrowwidth": 1
          },
          "autotypenumbers": "strict",
          "coloraxis": {
           "colorbar": {
            "outlinewidth": 0,
            "ticks": ""
           }
          },
          "colorscale": {
           "diverging": [
            [
             0,
             "#8e0152"
            ],
            [
             0.1,
             "#c51b7d"
            ],
            [
             0.2,
             "#de77ae"
            ],
            [
             0.3,
             "#f1b6da"
            ],
            [
             0.4,
             "#fde0ef"
            ],
            [
             0.5,
             "#f7f7f7"
            ],
            [
             0.6,
             "#e6f5d0"
            ],
            [
             0.7,
             "#b8e186"
            ],
            [
             0.8,
             "#7fbc41"
            ],
            [
             0.9,
             "#4d9221"
            ],
            [
             1,
             "#276419"
            ]
           ],
           "sequential": [
            [
             0,
             "#0d0887"
            ],
            [
             0.1111111111111111,
             "#46039f"
            ],
            [
             0.2222222222222222,
             "#7201a8"
            ],
            [
             0.3333333333333333,
             "#9c179e"
            ],
            [
             0.4444444444444444,
             "#bd3786"
            ],
            [
             0.5555555555555556,
             "#d8576b"
            ],
            [
             0.6666666666666666,
             "#ed7953"
            ],
            [
             0.7777777777777778,
             "#fb9f3a"
            ],
            [
             0.8888888888888888,
             "#fdca26"
            ],
            [
             1,
             "#f0f921"
            ]
           ],
           "sequentialminus": [
            [
             0,
             "#0d0887"
            ],
            [
             0.1111111111111111,
             "#46039f"
            ],
            [
             0.2222222222222222,
             "#7201a8"
            ],
            [
             0.3333333333333333,
             "#9c179e"
            ],
            [
             0.4444444444444444,
             "#bd3786"
            ],
            [
             0.5555555555555556,
             "#d8576b"
            ],
            [
             0.6666666666666666,
             "#ed7953"
            ],
            [
             0.7777777777777778,
             "#fb9f3a"
            ],
            [
             0.8888888888888888,
             "#fdca26"
            ],
            [
             1,
             "#f0f921"
            ]
           ]
          },
          "colorway": [
           "#636efa",
           "#EF553B",
           "#00cc96",
           "#ab63fa",
           "#FFA15A",
           "#19d3f3",
           "#FF6692",
           "#B6E880",
           "#FF97FF",
           "#FECB52"
          ],
          "font": {
           "color": "#2a3f5f"
          },
          "geo": {
           "bgcolor": "white",
           "lakecolor": "white",
           "landcolor": "#E5ECF6",
           "showlakes": true,
           "showland": true,
           "subunitcolor": "white"
          },
          "hoverlabel": {
           "align": "left"
          },
          "hovermode": "closest",
          "mapbox": {
           "style": "light"
          },
          "paper_bgcolor": "white",
          "plot_bgcolor": "#E5ECF6",
          "polar": {
           "angularaxis": {
            "gridcolor": "white",
            "linecolor": "white",
            "ticks": ""
           },
           "bgcolor": "#E5ECF6",
           "radialaxis": {
            "gridcolor": "white",
            "linecolor": "white",
            "ticks": ""
           }
          },
          "scene": {
           "xaxis": {
            "backgroundcolor": "#E5ECF6",
            "gridcolor": "white",
            "gridwidth": 2,
            "linecolor": "white",
            "showbackground": true,
            "ticks": "",
            "zerolinecolor": "white"
           },
           "yaxis": {
            "backgroundcolor": "#E5ECF6",
            "gridcolor": "white",
            "gridwidth": 2,
            "linecolor": "white",
            "showbackground": true,
            "ticks": "",
            "zerolinecolor": "white"
           },
           "zaxis": {
            "backgroundcolor": "#E5ECF6",
            "gridcolor": "white",
            "gridwidth": 2,
            "linecolor": "white",
            "showbackground": true,
            "ticks": "",
            "zerolinecolor": "white"
           }
          },
          "shapedefaults": {
           "line": {
            "color": "#2a3f5f"
           }
          },
          "ternary": {
           "aaxis": {
            "gridcolor": "white",
            "linecolor": "white",
            "ticks": ""
           },
           "baxis": {
            "gridcolor": "white",
            "linecolor": "white",
            "ticks": ""
           },
           "bgcolor": "#E5ECF6",
           "caxis": {
            "gridcolor": "white",
            "linecolor": "white",
            "ticks": ""
           }
          },
          "title": {
           "x": 0.05
          },
          "xaxis": {
           "automargin": true,
           "gridcolor": "white",
           "linecolor": "white",
           "ticks": "",
           "title": {
            "standoff": 15
           },
           "zerolinecolor": "white",
           "zerolinewidth": 2
          },
          "yaxis": {
           "automargin": true,
           "gridcolor": "white",
           "linecolor": "white",
           "ticks": "",
           "title": {
            "standoff": 15
           },
           "zerolinecolor": "white",
           "zerolinewidth": 2
          }
         }
        },
        "xaxis": {
         "anchor": "y",
         "domain": [
          0,
          1
         ],
         "title": {
          "text": "X1"
         }
        },
        "yaxis": {
         "anchor": "x",
         "domain": [
          0,
          1
         ],
         "title": {
          "text": "X2"
         }
        }
       }
      }
     },
     "metadata": {},
     "output_type": "display_data"
    }
   ],
   "source": [
    "# cluster the data for dataset A\n",
    "kmeans_a = KMeans(n_clusters=6, random_state=0).fit(data_a)\n",
    "# plot the clustered data for dataset A\n",
    "fig_a = px.scatter(data_a, x='X1', y='X2', color=kmeans_a.labels_, color_continuous_scale='peach')\n",
    "fig_a.show()"
   ]
  },
  {
   "cell_type": "code",
   "execution_count": 13,
   "metadata": {},
   "outputs": [
    {
     "data": {
      "application/vnd.plotly.v1+json": {
       "config": {
        "plotlyServerURL": "https://plot.ly"
       },
       "data": [
        {
         "hovertemplate": "X1=%{x}<br>X2=%{y}<br>color=%{marker.color}<extra></extra>",
         "legendgroup": "",
         "marker": {
          "color": [
           4,
           4,
           4,
           4,
           4,
           4,
           4,
           4,
           4,
           4,
           4,
           4,
           4,
           4,
           4,
           4,
           4,
           4,
           4,
           4,
           4,
           3,
           3,
           3,
           3,
           3,
           3,
           3,
           3,
           3,
           3,
           3,
           3,
           3,
           3,
           3,
           3,
           3,
           3,
           3,
           3,
           3,
           3,
           3,
           3,
           3,
           3,
           3,
           3,
           3,
           3,
           3,
           3,
           3,
           3,
           3,
           3,
           3,
           3,
           3,
           3,
           3,
           1,
           1,
           1,
           1,
           1,
           1,
           1,
           1,
           1,
           1,
           1,
           1,
           1,
           1,
           1,
           1,
           1,
           1,
           1,
           1,
           2,
           2,
           2,
           2,
           2,
           2,
           2,
           2,
           2,
           2,
           2,
           2,
           2,
           2,
           2,
           2,
           2,
           2,
           2,
           2,
           2,
           2,
           2,
           2,
           2,
           2,
           2,
           2,
           2,
           2,
           2,
           2,
           2,
           2,
           2,
           5,
           5,
           5,
           5,
           5,
           5,
           5,
           5,
           5,
           5,
           5,
           5,
           5,
           5,
           5,
           5,
           5,
           5,
           5,
           5,
           5,
           5,
           0,
           0,
           0,
           0,
           0,
           0,
           0,
           0,
           0,
           0,
           0,
           0,
           0,
           0,
           0,
           0,
           0,
           0,
           0,
           0,
           0,
           0,
           0,
           0,
           0,
           0,
           0,
           0,
           0,
           0,
           0,
           0,
           0,
           0,
           0,
           0,
           0,
           0,
           0,
           0,
           0
          ],
          "coloraxis": "coloraxis",
          "symbol": "circle"
         },
         "mode": "markers",
         "name": "",
         "orientation": "v",
         "showlegend": false,
         "type": "scatter",
         "x": [
          -3.88,
          -4.46,
          -3.49,
          -3.6,
          -2.81,
          -4.45,
          -2.72,
          -3.95,
          -2.96,
          -3.21,
          -2.87,
          -3.8,
          -3.51,
          -3.25,
          -3.89,
          -2.72,
          -3.11,
          -3.5,
          -3.15,
          -4.13,
          -3.55,
          -3.29,
          -3.34,
          -3.03,
          -4.51,
          -3.73,
          -4.68,
          -2.97,
          -4.4,
          -3.26,
          -2.81,
          -4.2,
          -4.35,
          -3.8,
          -3.82,
          -3.63,
          -2.18,
          -4.4,
          -3.16,
          -2.52,
          -3.09,
          -2.81,
          -2.94,
          -3.31,
          -4.08,
          -3.69,
          -3.02,
          -3.64,
          -3.56,
          -3.69,
          -4.87,
          -3.35,
          -4.41,
          -3.08,
          -3.99,
          -4.01,
          -4.67,
          -3.35,
          -4.14,
          -4.04,
          -4.45,
          -4.25,
          -2.09,
          0.07,
          -1.07,
          -0.75,
          -0.32,
          -0.58,
          -0.19,
          0.01,
          0.48,
          -0.37,
          -1.03,
          -0.84,
          -0.32,
          0.15,
          -0.18,
          0.21,
          0.27,
          -0.82,
          -1.32,
          0.35,
          0.23,
          0.42,
          0.3,
          -0.96,
          -0.12,
          -0.13,
          -0.09,
          0.31,
          0.08,
          -0.21,
          0.07,
          0.3,
          -0.23,
          -1.03,
          0.31,
          -0.14,
          -0.54,
          -0.38,
          0.1,
          -0.37,
          -0.15,
          -0.69,
          -0.2,
          -0.17,
          -1,
          -0.76,
          -0.05,
          -0.01,
          -0.82,
          -0.68,
          -0.53,
          -0.09,
          0.05,
          -0.31,
          0.16,
          2.36,
          2.43,
          2.91,
          2.83,
          2.11,
          3.16,
          1.66,
          2.14,
          4.56,
          2.92,
          3.34,
          2.47,
          3.46,
          2.34,
          1.15,
          2.8,
          2.02,
          2.45,
          2.16,
          3.14,
          2.6,
          2.28,
          1.17,
          0.94,
          1.81,
          1,
          0.37,
          1.06,
          0.64,
          1.27,
          1.32,
          1.96,
          -0.3,
          1.67,
          0.67,
          0.26,
          1.51,
          0.94,
          1.17,
          1.57,
          1.04,
          1.74,
          0.58,
          0.94,
          1.28,
          1.45,
          0.61,
          0.69,
          0.59,
          1.5,
          0.59,
          1.93,
          2.2,
          1.61,
          2.36,
          1.29,
          0.66,
          0.27,
          0.29,
          1.35,
          2.08,
          0.77,
          1.24
         ],
         "xaxis": "x",
         "y": [
          -5.37,
          -5.69,
          -4.84,
          -4.73,
          -4.02,
          -5.36,
          -4.15,
          -5.1,
          -3.97,
          -4.27,
          -4.33,
          -4.86,
          -4.53,
          -4.14,
          -4.4,
          -3.79,
          -4.67,
          -4.44,
          -4.07,
          -5.29,
          -4.79,
          2.12,
          2.73,
          2.88,
          1.47,
          2.23,
          0.72,
          2.79,
          1.69,
          2.52,
          3.11,
          1.51,
          1.42,
          2.09,
          2.13,
          1.85,
          3.72,
          1.34,
          2.93,
          3.26,
          2.74,
          2.83,
          2.9,
          2.33,
          2,
          1.8,
          2.69,
          2.22,
          2.5,
          2.35,
          0.92,
          2.07,
          1.55,
          2.82,
          2.13,
          2.01,
          1.22,
          2.21,
          1.51,
          1.82,
          1.55,
          1.51,
          -1.07,
          0.96,
          0.04,
          0.46,
          0.46,
          0.56,
          0.73,
          0.8,
          1.37,
          0.73,
          -0.14,
          0.25,
          0.88,
          1.22,
          0.86,
          1.07,
          1.09,
          0.02,
          -0.32,
          1.29,
          -3.63,
          -3.56,
          -3.52,
          -4.78,
          -3.98,
          -3.96,
          -4.11,
          -3.53,
          -3.76,
          -4.16,
          -3.74,
          -3.66,
          -4.08,
          -5.04,
          -3.69,
          -4.16,
          -4.53,
          -4.27,
          -3.85,
          -4.2,
          -3.92,
          -4.66,
          -3.99,
          -3.85,
          -4.84,
          -4.73,
          -3.87,
          -3.79,
          -4.55,
          -4.34,
          -4.19,
          -3.98,
          -3.84,
          -4.22,
          -3.81,
          2.01,
          2.04,
          1.98,
          1.63,
          1.49,
          2.46,
          1.09,
          1.19,
          3.45,
          1.73,
          2.14,
          1.37,
          2.39,
          1.54,
          0.34,
          1.95,
          1.22,
          1.62,
          1.29,
          2.33,
          1.33,
          1.4,
          4.88,
          4.26,
          5.76,
          4.63,
          3.81,
          5.07,
          4.03,
          4.88,
          4.78,
          5.57,
          3.31,
          5.09,
          4.29,
          3.31,
          4.84,
          4.75,
          4.55,
          5.11,
          4.39,
          5.37,
          4.2,
          4.87,
          4.54,
          4.82,
          4.3,
          4.45,
          4.36,
          5.04,
          4.18,
          5.35,
          5.81,
          5.03,
          6.23,
          4.64,
          4.35,
          3.92,
          3.92,
          5.22,
          5.43,
          4.28,
          4.95
         ],
         "yaxis": "y"
        }
       ],
       "layout": {
        "coloraxis": {
         "colorbar": {
          "title": {
           "text": "color"
          }
         },
         "colorscale": [
          [
           0,
           "rgb(255,247,251)"
          ],
          [
           0.125,
           "rgb(236,231,242)"
          ],
          [
           0.25,
           "rgb(208,209,230)"
          ],
          [
           0.375,
           "rgb(166,189,219)"
          ],
          [
           0.5,
           "rgb(116,169,207)"
          ],
          [
           0.625,
           "rgb(54,144,192)"
          ],
          [
           0.75,
           "rgb(5,112,176)"
          ],
          [
           0.875,
           "rgb(4,90,141)"
          ],
          [
           1,
           "rgb(2,56,88)"
          ]
         ]
        },
        "legend": {
         "tracegroupgap": 0
        },
        "margin": {
         "t": 60
        },
        "template": {
         "data": {
          "bar": [
           {
            "error_x": {
             "color": "#2a3f5f"
            },
            "error_y": {
             "color": "#2a3f5f"
            },
            "marker": {
             "line": {
              "color": "#E5ECF6",
              "width": 0.5
             },
             "pattern": {
              "fillmode": "overlay",
              "size": 10,
              "solidity": 0.2
             }
            },
            "type": "bar"
           }
          ],
          "barpolar": [
           {
            "marker": {
             "line": {
              "color": "#E5ECF6",
              "width": 0.5
             },
             "pattern": {
              "fillmode": "overlay",
              "size": 10,
              "solidity": 0.2
             }
            },
            "type": "barpolar"
           }
          ],
          "carpet": [
           {
            "aaxis": {
             "endlinecolor": "#2a3f5f",
             "gridcolor": "white",
             "linecolor": "white",
             "minorgridcolor": "white",
             "startlinecolor": "#2a3f5f"
            },
            "baxis": {
             "endlinecolor": "#2a3f5f",
             "gridcolor": "white",
             "linecolor": "white",
             "minorgridcolor": "white",
             "startlinecolor": "#2a3f5f"
            },
            "type": "carpet"
           }
          ],
          "choropleth": [
           {
            "colorbar": {
             "outlinewidth": 0,
             "ticks": ""
            },
            "type": "choropleth"
           }
          ],
          "contour": [
           {
            "colorbar": {
             "outlinewidth": 0,
             "ticks": ""
            },
            "colorscale": [
             [
              0,
              "#0d0887"
             ],
             [
              0.1111111111111111,
              "#46039f"
             ],
             [
              0.2222222222222222,
              "#7201a8"
             ],
             [
              0.3333333333333333,
              "#9c179e"
             ],
             [
              0.4444444444444444,
              "#bd3786"
             ],
             [
              0.5555555555555556,
              "#d8576b"
             ],
             [
              0.6666666666666666,
              "#ed7953"
             ],
             [
              0.7777777777777778,
              "#fb9f3a"
             ],
             [
              0.8888888888888888,
              "#fdca26"
             ],
             [
              1,
              "#f0f921"
             ]
            ],
            "type": "contour"
           }
          ],
          "contourcarpet": [
           {
            "colorbar": {
             "outlinewidth": 0,
             "ticks": ""
            },
            "type": "contourcarpet"
           }
          ],
          "heatmap": [
           {
            "colorbar": {
             "outlinewidth": 0,
             "ticks": ""
            },
            "colorscale": [
             [
              0,
              "#0d0887"
             ],
             [
              0.1111111111111111,
              "#46039f"
             ],
             [
              0.2222222222222222,
              "#7201a8"
             ],
             [
              0.3333333333333333,
              "#9c179e"
             ],
             [
              0.4444444444444444,
              "#bd3786"
             ],
             [
              0.5555555555555556,
              "#d8576b"
             ],
             [
              0.6666666666666666,
              "#ed7953"
             ],
             [
              0.7777777777777778,
              "#fb9f3a"
             ],
             [
              0.8888888888888888,
              "#fdca26"
             ],
             [
              1,
              "#f0f921"
             ]
            ],
            "type": "heatmap"
           }
          ],
          "heatmapgl": [
           {
            "colorbar": {
             "outlinewidth": 0,
             "ticks": ""
            },
            "colorscale": [
             [
              0,
              "#0d0887"
             ],
             [
              0.1111111111111111,
              "#46039f"
             ],
             [
              0.2222222222222222,
              "#7201a8"
             ],
             [
              0.3333333333333333,
              "#9c179e"
             ],
             [
              0.4444444444444444,
              "#bd3786"
             ],
             [
              0.5555555555555556,
              "#d8576b"
             ],
             [
              0.6666666666666666,
              "#ed7953"
             ],
             [
              0.7777777777777778,
              "#fb9f3a"
             ],
             [
              0.8888888888888888,
              "#fdca26"
             ],
             [
              1,
              "#f0f921"
             ]
            ],
            "type": "heatmapgl"
           }
          ],
          "histogram": [
           {
            "marker": {
             "pattern": {
              "fillmode": "overlay",
              "size": 10,
              "solidity": 0.2
             }
            },
            "type": "histogram"
           }
          ],
          "histogram2d": [
           {
            "colorbar": {
             "outlinewidth": 0,
             "ticks": ""
            },
            "colorscale": [
             [
              0,
              "#0d0887"
             ],
             [
              0.1111111111111111,
              "#46039f"
             ],
             [
              0.2222222222222222,
              "#7201a8"
             ],
             [
              0.3333333333333333,
              "#9c179e"
             ],
             [
              0.4444444444444444,
              "#bd3786"
             ],
             [
              0.5555555555555556,
              "#d8576b"
             ],
             [
              0.6666666666666666,
              "#ed7953"
             ],
             [
              0.7777777777777778,
              "#fb9f3a"
             ],
             [
              0.8888888888888888,
              "#fdca26"
             ],
             [
              1,
              "#f0f921"
             ]
            ],
            "type": "histogram2d"
           }
          ],
          "histogram2dcontour": [
           {
            "colorbar": {
             "outlinewidth": 0,
             "ticks": ""
            },
            "colorscale": [
             [
              0,
              "#0d0887"
             ],
             [
              0.1111111111111111,
              "#46039f"
             ],
             [
              0.2222222222222222,
              "#7201a8"
             ],
             [
              0.3333333333333333,
              "#9c179e"
             ],
             [
              0.4444444444444444,
              "#bd3786"
             ],
             [
              0.5555555555555556,
              "#d8576b"
             ],
             [
              0.6666666666666666,
              "#ed7953"
             ],
             [
              0.7777777777777778,
              "#fb9f3a"
             ],
             [
              0.8888888888888888,
              "#fdca26"
             ],
             [
              1,
              "#f0f921"
             ]
            ],
            "type": "histogram2dcontour"
           }
          ],
          "mesh3d": [
           {
            "colorbar": {
             "outlinewidth": 0,
             "ticks": ""
            },
            "type": "mesh3d"
           }
          ],
          "parcoords": [
           {
            "line": {
             "colorbar": {
              "outlinewidth": 0,
              "ticks": ""
             }
            },
            "type": "parcoords"
           }
          ],
          "pie": [
           {
            "automargin": true,
            "type": "pie"
           }
          ],
          "scatter": [
           {
            "marker": {
             "colorbar": {
              "outlinewidth": 0,
              "ticks": ""
             }
            },
            "type": "scatter"
           }
          ],
          "scatter3d": [
           {
            "line": {
             "colorbar": {
              "outlinewidth": 0,
              "ticks": ""
             }
            },
            "marker": {
             "colorbar": {
              "outlinewidth": 0,
              "ticks": ""
             }
            },
            "type": "scatter3d"
           }
          ],
          "scattercarpet": [
           {
            "marker": {
             "colorbar": {
              "outlinewidth": 0,
              "ticks": ""
             }
            },
            "type": "scattercarpet"
           }
          ],
          "scattergeo": [
           {
            "marker": {
             "colorbar": {
              "outlinewidth": 0,
              "ticks": ""
             }
            },
            "type": "scattergeo"
           }
          ],
          "scattergl": [
           {
            "marker": {
             "colorbar": {
              "outlinewidth": 0,
              "ticks": ""
             }
            },
            "type": "scattergl"
           }
          ],
          "scattermapbox": [
           {
            "marker": {
             "colorbar": {
              "outlinewidth": 0,
              "ticks": ""
             }
            },
            "type": "scattermapbox"
           }
          ],
          "scatterpolar": [
           {
            "marker": {
             "colorbar": {
              "outlinewidth": 0,
              "ticks": ""
             }
            },
            "type": "scatterpolar"
           }
          ],
          "scatterpolargl": [
           {
            "marker": {
             "colorbar": {
              "outlinewidth": 0,
              "ticks": ""
             }
            },
            "type": "scatterpolargl"
           }
          ],
          "scatterternary": [
           {
            "marker": {
             "colorbar": {
              "outlinewidth": 0,
              "ticks": ""
             }
            },
            "type": "scatterternary"
           }
          ],
          "surface": [
           {
            "colorbar": {
             "outlinewidth": 0,
             "ticks": ""
            },
            "colorscale": [
             [
              0,
              "#0d0887"
             ],
             [
              0.1111111111111111,
              "#46039f"
             ],
             [
              0.2222222222222222,
              "#7201a8"
             ],
             [
              0.3333333333333333,
              "#9c179e"
             ],
             [
              0.4444444444444444,
              "#bd3786"
             ],
             [
              0.5555555555555556,
              "#d8576b"
             ],
             [
              0.6666666666666666,
              "#ed7953"
             ],
             [
              0.7777777777777778,
              "#fb9f3a"
             ],
             [
              0.8888888888888888,
              "#fdca26"
             ],
             [
              1,
              "#f0f921"
             ]
            ],
            "type": "surface"
           }
          ],
          "table": [
           {
            "cells": {
             "fill": {
              "color": "#EBF0F8"
             },
             "line": {
              "color": "white"
             }
            },
            "header": {
             "fill": {
              "color": "#C8D4E3"
             },
             "line": {
              "color": "white"
             }
            },
            "type": "table"
           }
          ]
         },
         "layout": {
          "annotationdefaults": {
           "arrowcolor": "#2a3f5f",
           "arrowhead": 0,
           "arrowwidth": 1
          },
          "autotypenumbers": "strict",
          "coloraxis": {
           "colorbar": {
            "outlinewidth": 0,
            "ticks": ""
           }
          },
          "colorscale": {
           "diverging": [
            [
             0,
             "#8e0152"
            ],
            [
             0.1,
             "#c51b7d"
            ],
            [
             0.2,
             "#de77ae"
            ],
            [
             0.3,
             "#f1b6da"
            ],
            [
             0.4,
             "#fde0ef"
            ],
            [
             0.5,
             "#f7f7f7"
            ],
            [
             0.6,
             "#e6f5d0"
            ],
            [
             0.7,
             "#b8e186"
            ],
            [
             0.8,
             "#7fbc41"
            ],
            [
             0.9,
             "#4d9221"
            ],
            [
             1,
             "#276419"
            ]
           ],
           "sequential": [
            [
             0,
             "#0d0887"
            ],
            [
             0.1111111111111111,
             "#46039f"
            ],
            [
             0.2222222222222222,
             "#7201a8"
            ],
            [
             0.3333333333333333,
             "#9c179e"
            ],
            [
             0.4444444444444444,
             "#bd3786"
            ],
            [
             0.5555555555555556,
             "#d8576b"
            ],
            [
             0.6666666666666666,
             "#ed7953"
            ],
            [
             0.7777777777777778,
             "#fb9f3a"
            ],
            [
             0.8888888888888888,
             "#fdca26"
            ],
            [
             1,
             "#f0f921"
            ]
           ],
           "sequentialminus": [
            [
             0,
             "#0d0887"
            ],
            [
             0.1111111111111111,
             "#46039f"
            ],
            [
             0.2222222222222222,
             "#7201a8"
            ],
            [
             0.3333333333333333,
             "#9c179e"
            ],
            [
             0.4444444444444444,
             "#bd3786"
            ],
            [
             0.5555555555555556,
             "#d8576b"
            ],
            [
             0.6666666666666666,
             "#ed7953"
            ],
            [
             0.7777777777777778,
             "#fb9f3a"
            ],
            [
             0.8888888888888888,
             "#fdca26"
            ],
            [
             1,
             "#f0f921"
            ]
           ]
          },
          "colorway": [
           "#636efa",
           "#EF553B",
           "#00cc96",
           "#ab63fa",
           "#FFA15A",
           "#19d3f3",
           "#FF6692",
           "#B6E880",
           "#FF97FF",
           "#FECB52"
          ],
          "font": {
           "color": "#2a3f5f"
          },
          "geo": {
           "bgcolor": "white",
           "lakecolor": "white",
           "landcolor": "#E5ECF6",
           "showlakes": true,
           "showland": true,
           "subunitcolor": "white"
          },
          "hoverlabel": {
           "align": "left"
          },
          "hovermode": "closest",
          "mapbox": {
           "style": "light"
          },
          "paper_bgcolor": "white",
          "plot_bgcolor": "#E5ECF6",
          "polar": {
           "angularaxis": {
            "gridcolor": "white",
            "linecolor": "white",
            "ticks": ""
           },
           "bgcolor": "#E5ECF6",
           "radialaxis": {
            "gridcolor": "white",
            "linecolor": "white",
            "ticks": ""
           }
          },
          "scene": {
           "xaxis": {
            "backgroundcolor": "#E5ECF6",
            "gridcolor": "white",
            "gridwidth": 2,
            "linecolor": "white",
            "showbackground": true,
            "ticks": "",
            "zerolinecolor": "white"
           },
           "yaxis": {
            "backgroundcolor": "#E5ECF6",
            "gridcolor": "white",
            "gridwidth": 2,
            "linecolor": "white",
            "showbackground": true,
            "ticks": "",
            "zerolinecolor": "white"
           },
           "zaxis": {
            "backgroundcolor": "#E5ECF6",
            "gridcolor": "white",
            "gridwidth": 2,
            "linecolor": "white",
            "showbackground": true,
            "ticks": "",
            "zerolinecolor": "white"
           }
          },
          "shapedefaults": {
           "line": {
            "color": "#2a3f5f"
           }
          },
          "ternary": {
           "aaxis": {
            "gridcolor": "white",
            "linecolor": "white",
            "ticks": ""
           },
           "baxis": {
            "gridcolor": "white",
            "linecolor": "white",
            "ticks": ""
           },
           "bgcolor": "#E5ECF6",
           "caxis": {
            "gridcolor": "white",
            "linecolor": "white",
            "ticks": ""
           }
          },
          "title": {
           "x": 0.05
          },
          "xaxis": {
           "automargin": true,
           "gridcolor": "white",
           "linecolor": "white",
           "ticks": "",
           "title": {
            "standoff": 15
           },
           "zerolinecolor": "white",
           "zerolinewidth": 2
          },
          "yaxis": {
           "automargin": true,
           "gridcolor": "white",
           "linecolor": "white",
           "ticks": "",
           "title": {
            "standoff": 15
           },
           "zerolinecolor": "white",
           "zerolinewidth": 2
          }
         }
        },
        "xaxis": {
         "anchor": "y",
         "domain": [
          0,
          1
         ],
         "title": {
          "text": "X1"
         }
        },
        "yaxis": {
         "anchor": "x",
         "domain": [
          0,
          1
         ],
         "title": {
          "text": "X2"
         }
        }
       }
      }
     },
     "metadata": {},
     "output_type": "display_data"
    }
   ],
   "source": [
    "# cluster the data for dataset B\n",
    "kmeans_b = KMeans(n_clusters=6, random_state=0).fit(data_b)\n",
    "# plot the clustered data for dataset B\n",
    "fig_b = px.scatter(data_b, x='X1', y='X2', color=kmeans_b.labels_, color_continuous_scale='PuBu')\n",
    "fig_b.show()"
   ]
  },
  {
   "attachments": {},
   "cell_type": "markdown",
   "metadata": {},
   "source": [
    "Now we apply a different typing of cluster algorithm, complete linkage, a method of hierarchical cluster analysis,  to see if the results might be different."
   ]
  },
  {
   "cell_type": "code",
   "execution_count": 14,
   "metadata": {},
   "outputs": [],
   "source": [
    "agg_a = AgglomerativeClustering(n_clusters=6, linkage='complete')\n",
    "assignments_a = agg_a.fit_predict(data_a)\n",
    "agg_b = AgglomerativeClustering(n_clusters=6, linkage='complete')\n",
    "assignments_b = agg_b.fit_predict(data_b)"
   ]
  },
  {
   "cell_type": "code",
   "execution_count": 15,
   "metadata": {},
   "outputs": [
    {
     "data": {
      "application/vnd.plotly.v1+json": {
       "config": {
        "plotlyServerURL": "https://plot.ly"
       },
       "data": [
        {
         "hovertemplate": "X1=%{x}<br>X2=%{y}<br>color=%{marker.color}<extra></extra>",
         "legendgroup": "",
         "marker": {
          "color": [
           5,
           5,
           5,
           5,
           5,
           5,
           5,
           5,
           5,
           5,
           5,
           5,
           5,
           5,
           5,
           5,
           5,
           5,
           5,
           5,
           5,
           5,
           1,
           1,
           1,
           1,
           1,
           1,
           1,
           1,
           1,
           1,
           1,
           1,
           1,
           1,
           1,
           1,
           1,
           1,
           1,
           1,
           1,
           1,
           1,
           1,
           1,
           1,
           1,
           1,
           1,
           1,
           1,
           1,
           1,
           4,
           4,
           4,
           4,
           4,
           4,
           4,
           4,
           4,
           4,
           4,
           4,
           4,
           4,
           4,
           4,
           4,
           4,
           4,
           4,
           4,
           4,
           4,
           4,
           4,
           4,
           4,
           4,
           4,
           4,
           4,
           4,
           2,
           2,
           2,
           2,
           2,
           2,
           2,
           2,
           2,
           2,
           2,
           2,
           2,
           2,
           2,
           2,
           2,
           2,
           2,
           2,
           2,
           2,
           2,
           2,
           2,
           2,
           2,
           2,
           2,
           2,
           0,
           0,
           0,
           0,
           0,
           0,
           0,
           0,
           0,
           0,
           0,
           0,
           0,
           0,
           0,
           0,
           0,
           0,
           0,
           0,
           0,
           0,
           0,
           0,
           0,
           0,
           0,
           0,
           0,
           0,
           0,
           0,
           0,
           0,
           0,
           0,
           0,
           0,
           0,
           0,
           0,
           0,
           0,
           3,
           3,
           3,
           3,
           3,
           0,
           3,
           3,
           3,
           3,
           3,
           3,
           3,
           3,
           3,
           3,
           3,
           3,
           3,
           3
          ],
          "coloraxis": "coloraxis",
          "symbol": "circle"
         },
         "mode": "markers",
         "name": "",
         "orientation": "v",
         "showlegend": false,
         "type": "scatter",
         "x": [
          -2.81,
          -2.69,
          -1.98,
          -2.32,
          -2.45,
          -2.62,
          -2.81,
          -1.97,
          -2.48,
          -1.31,
          -2.37,
          -2.05,
          -1.93,
          -2.85,
          -2.87,
          -1.72,
          -2.3,
          -1.15,
          -2.53,
          -1.45,
          -2.76,
          -3.19,
          0.22,
          -0.52,
          -1.71,
          -2.68,
          -1.88,
          1.16,
          -3.12,
          -0.59,
          -1.54,
          -1.42,
          -0.61,
          -1.31,
          -0.63,
          0.17,
          -0.49,
          -0.93,
          -0.51,
          0.97,
          -0.59,
          -1.44,
          -2.59,
          -0.47,
          -1.14,
          -0.41,
          -0.93,
          -1.52,
          -1.31,
          -1.99,
          -1.78,
          -1.72,
          -0.26,
          -1.85,
          -0.68,
          -4.43,
          -5.4,
          -4.93,
          -3.73,
          -4.89,
          -4.83,
          -5.06,
          -5.21,
          -4.75,
          -4.91,
          -4.29,
          -5.31,
          -4.71,
          -3.72,
          -4.62,
          -4.44,
          -5.45,
          -5.77,
          -5.1,
          -5.72,
          -4.28,
          -5.04,
          -5.36,
          -6,
          -4.33,
          -4.58,
          -5.63,
          -4.73,
          -5.43,
          -5.28,
          -4.97,
          -4.47,
          3,
          2.69,
          1.75,
          2.61,
          1.4,
          2.51,
          3.06,
          2.75,
          3.08,
          3.68,
          3.83,
          2.76,
          2.88,
          3.65,
          2.38,
          3.46,
          1.86,
          2.84,
          3.22,
          2.87,
          4.1,
          3.11,
          3.64,
          3.32,
          1.92,
          1.85,
          2.41,
          2.13,
          2.76,
          3.73,
          4.66,
          4,
          4.7,
          4.93,
          5.12,
          5.16,
          5.01,
          3.85,
          5.42,
          5.77,
          4.57,
          4.91,
          4.24,
          3.78,
          2.8,
          4.11,
          5.72,
          3.91,
          2.91,
          4.1,
          5.03,
          5.4,
          3.56,
          3.33,
          3.98,
          5.76,
          4.17,
          4.87,
          4.9,
          5.62,
          4.71,
          4.43,
          5.34,
          4.05,
          6.23,
          3.68,
          4.12,
          3.25,
          3.78,
          5.01,
          4.83,
          5.12,
          4.22,
          -0.37,
          -0.01,
          0.24,
          -0.04,
          0.76,
          1.92,
          -0.66,
          -0.94,
          0.25,
          -0.41,
          -0.63,
          0.27,
          0.13,
          0.81,
          -0.52,
          -0.67,
          0.58,
          1.64,
          0.56,
          0.26
         ],
         "xaxis": "x",
         "y": [
          5.28,
          4.26,
          3.65,
          3.72,
          4.22,
          4.12,
          4.65,
          4.67,
          4.24,
          4.21,
          5.47,
          4.74,
          4.81,
          4.28,
          3.46,
          4.1,
          5.12,
          3.66,
          3.54,
          4.57,
          3.87,
          3.84,
          -4.38,
          -4.62,
          -4.38,
          -2.18,
          -2.91,
          -4.52,
          -3.56,
          -2.34,
          -3.04,
          -2.98,
          -3.01,
          -2.9,
          -4.01,
          -3.37,
          -3.17,
          -3.01,
          -2.53,
          -2.53,
          -2.65,
          -2.83,
          -3.47,
          -3.38,
          -3.13,
          -3.32,
          -3.87,
          -3.26,
          -4.82,
          -5.14,
          -3.37,
          -3.34,
          -2.05,
          -4.63,
          -3.79,
          -0.99,
          -0.37,
          -0.87,
          -0.91,
          -1.16,
          -0.79,
          -0.54,
          -0.89,
          -1.47,
          -1.28,
          -0.96,
          -1.21,
          -1.17,
          0.02,
          -2.16,
          -1.09,
          -0.67,
          -0.9,
          -1.23,
          -0.9,
          -1.56,
          -1.45,
          -1.08,
          -2.05,
          -1.3,
          -1.88,
          -0.57,
          -1.08,
          -0.36,
          -0.16,
          -0.75,
          -1.69,
          3.52,
          4.3,
          3.98,
          2.09,
          3.55,
          3.19,
          4.96,
          3.36,
          3.01,
          3.24,
          3.17,
          3.49,
          4.1,
          2.84,
          3.25,
          3.67,
          3.94,
          2.91,
          3.52,
          3.25,
          3.57,
          2.71,
          4.68,
          4.16,
          3.97,
          3.75,
          3.63,
          3.88,
          3.21,
          3.64,
          -2.07,
          0.08,
          -0.57,
          -0.68,
          -2.2,
          0.28,
          -3.22,
          -0.47,
          -0.24,
          -1.35,
          -1.35,
          -0.33,
          -0.39,
          -0.1,
          -1.11,
          -1.81,
          -2.33,
          -1.64,
          0.79,
          -0.76,
          0.57,
          -2.76,
          -1.53,
          -1.97,
          0.25,
          -1.31,
          -2.03,
          -1.11,
          -0.32,
          -0.27,
          -2.39,
          -1.85,
          -1.17,
          -0.55,
          -1.86,
          -0.85,
          -1.51,
          -0.9,
          -0.75,
          -1.08,
          1,
          -1.23,
          -1.54,
          0.5,
          0.3,
          0.38,
          0.8,
          0.57,
          0.3,
          0.54,
          0.86,
          0.44,
          0.89,
          0.23,
          0.76,
          0.18,
          0.14,
          -0.61,
          0.14,
          -0.56,
          -0.78,
          -0.1,
          0.77
         ],
         "yaxis": "y"
        }
       ],
       "layout": {
        "coloraxis": {
         "colorbar": {
          "title": {
           "text": "color"
          }
         },
         "colorscale": [
          [
           0,
           "rgb(253, 224, 197)"
          ],
          [
           0.16666666666666666,
           "rgb(250, 203, 166)"
          ],
          [
           0.3333333333333333,
           "rgb(248, 181, 139)"
          ],
          [
           0.5,
           "rgb(245, 158, 114)"
          ],
          [
           0.6666666666666666,
           "rgb(242, 133, 93)"
          ],
          [
           0.8333333333333334,
           "rgb(239, 106, 76)"
          ],
          [
           1,
           "rgb(235, 74, 64)"
          ]
         ]
        },
        "legend": {
         "tracegroupgap": 0
        },
        "margin": {
         "t": 60
        },
        "template": {
         "data": {
          "bar": [
           {
            "error_x": {
             "color": "#2a3f5f"
            },
            "error_y": {
             "color": "#2a3f5f"
            },
            "marker": {
             "line": {
              "color": "#E5ECF6",
              "width": 0.5
             },
             "pattern": {
              "fillmode": "overlay",
              "size": 10,
              "solidity": 0.2
             }
            },
            "type": "bar"
           }
          ],
          "barpolar": [
           {
            "marker": {
             "line": {
              "color": "#E5ECF6",
              "width": 0.5
             },
             "pattern": {
              "fillmode": "overlay",
              "size": 10,
              "solidity": 0.2
             }
            },
            "type": "barpolar"
           }
          ],
          "carpet": [
           {
            "aaxis": {
             "endlinecolor": "#2a3f5f",
             "gridcolor": "white",
             "linecolor": "white",
             "minorgridcolor": "white",
             "startlinecolor": "#2a3f5f"
            },
            "baxis": {
             "endlinecolor": "#2a3f5f",
             "gridcolor": "white",
             "linecolor": "white",
             "minorgridcolor": "white",
             "startlinecolor": "#2a3f5f"
            },
            "type": "carpet"
           }
          ],
          "choropleth": [
           {
            "colorbar": {
             "outlinewidth": 0,
             "ticks": ""
            },
            "type": "choropleth"
           }
          ],
          "contour": [
           {
            "colorbar": {
             "outlinewidth": 0,
             "ticks": ""
            },
            "colorscale": [
             [
              0,
              "#0d0887"
             ],
             [
              0.1111111111111111,
              "#46039f"
             ],
             [
              0.2222222222222222,
              "#7201a8"
             ],
             [
              0.3333333333333333,
              "#9c179e"
             ],
             [
              0.4444444444444444,
              "#bd3786"
             ],
             [
              0.5555555555555556,
              "#d8576b"
             ],
             [
              0.6666666666666666,
              "#ed7953"
             ],
             [
              0.7777777777777778,
              "#fb9f3a"
             ],
             [
              0.8888888888888888,
              "#fdca26"
             ],
             [
              1,
              "#f0f921"
             ]
            ],
            "type": "contour"
           }
          ],
          "contourcarpet": [
           {
            "colorbar": {
             "outlinewidth": 0,
             "ticks": ""
            },
            "type": "contourcarpet"
           }
          ],
          "heatmap": [
           {
            "colorbar": {
             "outlinewidth": 0,
             "ticks": ""
            },
            "colorscale": [
             [
              0,
              "#0d0887"
             ],
             [
              0.1111111111111111,
              "#46039f"
             ],
             [
              0.2222222222222222,
              "#7201a8"
             ],
             [
              0.3333333333333333,
              "#9c179e"
             ],
             [
              0.4444444444444444,
              "#bd3786"
             ],
             [
              0.5555555555555556,
              "#d8576b"
             ],
             [
              0.6666666666666666,
              "#ed7953"
             ],
             [
              0.7777777777777778,
              "#fb9f3a"
             ],
             [
              0.8888888888888888,
              "#fdca26"
             ],
             [
              1,
              "#f0f921"
             ]
            ],
            "type": "heatmap"
           }
          ],
          "heatmapgl": [
           {
            "colorbar": {
             "outlinewidth": 0,
             "ticks": ""
            },
            "colorscale": [
             [
              0,
              "#0d0887"
             ],
             [
              0.1111111111111111,
              "#46039f"
             ],
             [
              0.2222222222222222,
              "#7201a8"
             ],
             [
              0.3333333333333333,
              "#9c179e"
             ],
             [
              0.4444444444444444,
              "#bd3786"
             ],
             [
              0.5555555555555556,
              "#d8576b"
             ],
             [
              0.6666666666666666,
              "#ed7953"
             ],
             [
              0.7777777777777778,
              "#fb9f3a"
             ],
             [
              0.8888888888888888,
              "#fdca26"
             ],
             [
              1,
              "#f0f921"
             ]
            ],
            "type": "heatmapgl"
           }
          ],
          "histogram": [
           {
            "marker": {
             "pattern": {
              "fillmode": "overlay",
              "size": 10,
              "solidity": 0.2
             }
            },
            "type": "histogram"
           }
          ],
          "histogram2d": [
           {
            "colorbar": {
             "outlinewidth": 0,
             "ticks": ""
            },
            "colorscale": [
             [
              0,
              "#0d0887"
             ],
             [
              0.1111111111111111,
              "#46039f"
             ],
             [
              0.2222222222222222,
              "#7201a8"
             ],
             [
              0.3333333333333333,
              "#9c179e"
             ],
             [
              0.4444444444444444,
              "#bd3786"
             ],
             [
              0.5555555555555556,
              "#d8576b"
             ],
             [
              0.6666666666666666,
              "#ed7953"
             ],
             [
              0.7777777777777778,
              "#fb9f3a"
             ],
             [
              0.8888888888888888,
              "#fdca26"
             ],
             [
              1,
              "#f0f921"
             ]
            ],
            "type": "histogram2d"
           }
          ],
          "histogram2dcontour": [
           {
            "colorbar": {
             "outlinewidth": 0,
             "ticks": ""
            },
            "colorscale": [
             [
              0,
              "#0d0887"
             ],
             [
              0.1111111111111111,
              "#46039f"
             ],
             [
              0.2222222222222222,
              "#7201a8"
             ],
             [
              0.3333333333333333,
              "#9c179e"
             ],
             [
              0.4444444444444444,
              "#bd3786"
             ],
             [
              0.5555555555555556,
              "#d8576b"
             ],
             [
              0.6666666666666666,
              "#ed7953"
             ],
             [
              0.7777777777777778,
              "#fb9f3a"
             ],
             [
              0.8888888888888888,
              "#fdca26"
             ],
             [
              1,
              "#f0f921"
             ]
            ],
            "type": "histogram2dcontour"
           }
          ],
          "mesh3d": [
           {
            "colorbar": {
             "outlinewidth": 0,
             "ticks": ""
            },
            "type": "mesh3d"
           }
          ],
          "parcoords": [
           {
            "line": {
             "colorbar": {
              "outlinewidth": 0,
              "ticks": ""
             }
            },
            "type": "parcoords"
           }
          ],
          "pie": [
           {
            "automargin": true,
            "type": "pie"
           }
          ],
          "scatter": [
           {
            "marker": {
             "colorbar": {
              "outlinewidth": 0,
              "ticks": ""
             }
            },
            "type": "scatter"
           }
          ],
          "scatter3d": [
           {
            "line": {
             "colorbar": {
              "outlinewidth": 0,
              "ticks": ""
             }
            },
            "marker": {
             "colorbar": {
              "outlinewidth": 0,
              "ticks": ""
             }
            },
            "type": "scatter3d"
           }
          ],
          "scattercarpet": [
           {
            "marker": {
             "colorbar": {
              "outlinewidth": 0,
              "ticks": ""
             }
            },
            "type": "scattercarpet"
           }
          ],
          "scattergeo": [
           {
            "marker": {
             "colorbar": {
              "outlinewidth": 0,
              "ticks": ""
             }
            },
            "type": "scattergeo"
           }
          ],
          "scattergl": [
           {
            "marker": {
             "colorbar": {
              "outlinewidth": 0,
              "ticks": ""
             }
            },
            "type": "scattergl"
           }
          ],
          "scattermapbox": [
           {
            "marker": {
             "colorbar": {
              "outlinewidth": 0,
              "ticks": ""
             }
            },
            "type": "scattermapbox"
           }
          ],
          "scatterpolar": [
           {
            "marker": {
             "colorbar": {
              "outlinewidth": 0,
              "ticks": ""
             }
            },
            "type": "scatterpolar"
           }
          ],
          "scatterpolargl": [
           {
            "marker": {
             "colorbar": {
              "outlinewidth": 0,
              "ticks": ""
             }
            },
            "type": "scatterpolargl"
           }
          ],
          "scatterternary": [
           {
            "marker": {
             "colorbar": {
              "outlinewidth": 0,
              "ticks": ""
             }
            },
            "type": "scatterternary"
           }
          ],
          "surface": [
           {
            "colorbar": {
             "outlinewidth": 0,
             "ticks": ""
            },
            "colorscale": [
             [
              0,
              "#0d0887"
             ],
             [
              0.1111111111111111,
              "#46039f"
             ],
             [
              0.2222222222222222,
              "#7201a8"
             ],
             [
              0.3333333333333333,
              "#9c179e"
             ],
             [
              0.4444444444444444,
              "#bd3786"
             ],
             [
              0.5555555555555556,
              "#d8576b"
             ],
             [
              0.6666666666666666,
              "#ed7953"
             ],
             [
              0.7777777777777778,
              "#fb9f3a"
             ],
             [
              0.8888888888888888,
              "#fdca26"
             ],
             [
              1,
              "#f0f921"
             ]
            ],
            "type": "surface"
           }
          ],
          "table": [
           {
            "cells": {
             "fill": {
              "color": "#EBF0F8"
             },
             "line": {
              "color": "white"
             }
            },
            "header": {
             "fill": {
              "color": "#C8D4E3"
             },
             "line": {
              "color": "white"
             }
            },
            "type": "table"
           }
          ]
         },
         "layout": {
          "annotationdefaults": {
           "arrowcolor": "#2a3f5f",
           "arrowhead": 0,
           "arrowwidth": 1
          },
          "autotypenumbers": "strict",
          "coloraxis": {
           "colorbar": {
            "outlinewidth": 0,
            "ticks": ""
           }
          },
          "colorscale": {
           "diverging": [
            [
             0,
             "#8e0152"
            ],
            [
             0.1,
             "#c51b7d"
            ],
            [
             0.2,
             "#de77ae"
            ],
            [
             0.3,
             "#f1b6da"
            ],
            [
             0.4,
             "#fde0ef"
            ],
            [
             0.5,
             "#f7f7f7"
            ],
            [
             0.6,
             "#e6f5d0"
            ],
            [
             0.7,
             "#b8e186"
            ],
            [
             0.8,
             "#7fbc41"
            ],
            [
             0.9,
             "#4d9221"
            ],
            [
             1,
             "#276419"
            ]
           ],
           "sequential": [
            [
             0,
             "#0d0887"
            ],
            [
             0.1111111111111111,
             "#46039f"
            ],
            [
             0.2222222222222222,
             "#7201a8"
            ],
            [
             0.3333333333333333,
             "#9c179e"
            ],
            [
             0.4444444444444444,
             "#bd3786"
            ],
            [
             0.5555555555555556,
             "#d8576b"
            ],
            [
             0.6666666666666666,
             "#ed7953"
            ],
            [
             0.7777777777777778,
             "#fb9f3a"
            ],
            [
             0.8888888888888888,
             "#fdca26"
            ],
            [
             1,
             "#f0f921"
            ]
           ],
           "sequentialminus": [
            [
             0,
             "#0d0887"
            ],
            [
             0.1111111111111111,
             "#46039f"
            ],
            [
             0.2222222222222222,
             "#7201a8"
            ],
            [
             0.3333333333333333,
             "#9c179e"
            ],
            [
             0.4444444444444444,
             "#bd3786"
            ],
            [
             0.5555555555555556,
             "#d8576b"
            ],
            [
             0.6666666666666666,
             "#ed7953"
            ],
            [
             0.7777777777777778,
             "#fb9f3a"
            ],
            [
             0.8888888888888888,
             "#fdca26"
            ],
            [
             1,
             "#f0f921"
            ]
           ]
          },
          "colorway": [
           "#636efa",
           "#EF553B",
           "#00cc96",
           "#ab63fa",
           "#FFA15A",
           "#19d3f3",
           "#FF6692",
           "#B6E880",
           "#FF97FF",
           "#FECB52"
          ],
          "font": {
           "color": "#2a3f5f"
          },
          "geo": {
           "bgcolor": "white",
           "lakecolor": "white",
           "landcolor": "#E5ECF6",
           "showlakes": true,
           "showland": true,
           "subunitcolor": "white"
          },
          "hoverlabel": {
           "align": "left"
          },
          "hovermode": "closest",
          "mapbox": {
           "style": "light"
          },
          "paper_bgcolor": "white",
          "plot_bgcolor": "#E5ECF6",
          "polar": {
           "angularaxis": {
            "gridcolor": "white",
            "linecolor": "white",
            "ticks": ""
           },
           "bgcolor": "#E5ECF6",
           "radialaxis": {
            "gridcolor": "white",
            "linecolor": "white",
            "ticks": ""
           }
          },
          "scene": {
           "xaxis": {
            "backgroundcolor": "#E5ECF6",
            "gridcolor": "white",
            "gridwidth": 2,
            "linecolor": "white",
            "showbackground": true,
            "ticks": "",
            "zerolinecolor": "white"
           },
           "yaxis": {
            "backgroundcolor": "#E5ECF6",
            "gridcolor": "white",
            "gridwidth": 2,
            "linecolor": "white",
            "showbackground": true,
            "ticks": "",
            "zerolinecolor": "white"
           },
           "zaxis": {
            "backgroundcolor": "#E5ECF6",
            "gridcolor": "white",
            "gridwidth": 2,
            "linecolor": "white",
            "showbackground": true,
            "ticks": "",
            "zerolinecolor": "white"
           }
          },
          "shapedefaults": {
           "line": {
            "color": "#2a3f5f"
           }
          },
          "ternary": {
           "aaxis": {
            "gridcolor": "white",
            "linecolor": "white",
            "ticks": ""
           },
           "baxis": {
            "gridcolor": "white",
            "linecolor": "white",
            "ticks": ""
           },
           "bgcolor": "#E5ECF6",
           "caxis": {
            "gridcolor": "white",
            "linecolor": "white",
            "ticks": ""
           }
          },
          "title": {
           "x": 0.05
          },
          "xaxis": {
           "automargin": true,
           "gridcolor": "white",
           "linecolor": "white",
           "ticks": "",
           "title": {
            "standoff": 15
           },
           "zerolinecolor": "white",
           "zerolinewidth": 2
          },
          "yaxis": {
           "automargin": true,
           "gridcolor": "white",
           "linecolor": "white",
           "ticks": "",
           "title": {
            "standoff": 15
           },
           "zerolinecolor": "white",
           "zerolinewidth": 2
          }
         }
        },
        "xaxis": {
         "anchor": "y",
         "domain": [
          0,
          1
         ],
         "title": {
          "text": "X1"
         }
        },
        "yaxis": {
         "anchor": "x",
         "domain": [
          0,
          1
         ],
         "title": {
          "text": "X2"
         }
        }
       }
      }
     },
     "metadata": {},
     "output_type": "display_data"
    }
   ],
   "source": [
    "fig_agg_a = px.scatter(data_a, x='X1', y='X2', color=assignments_a, color_continuous_scale='peach')\n",
    "fig_agg_a.show()"
   ]
  },
  {
   "cell_type": "code",
   "execution_count": 16,
   "metadata": {},
   "outputs": [
    {
     "data": {
      "application/vnd.plotly.v1+json": {
       "config": {
        "plotlyServerURL": "https://plot.ly"
       },
       "data": [
        {
         "hovertemplate": "X1=%{x}<br>X2=%{y}<br>color=%{marker.color}<extra></extra>",
         "legendgroup": "",
         "marker": {
          "color": [
           4,
           4,
           4,
           4,
           4,
           4,
           4,
           4,
           4,
           4,
           4,
           4,
           4,
           4,
           4,
           4,
           4,
           4,
           4,
           4,
           4,
           2,
           2,
           2,
           2,
           2,
           2,
           2,
           2,
           2,
           2,
           2,
           2,
           2,
           2,
           2,
           2,
           2,
           2,
           2,
           2,
           2,
           2,
           2,
           2,
           2,
           2,
           2,
           2,
           2,
           2,
           2,
           2,
           2,
           2,
           2,
           2,
           2,
           2,
           2,
           2,
           2,
           5,
           5,
           5,
           5,
           5,
           5,
           5,
           5,
           5,
           5,
           5,
           5,
           5,
           5,
           5,
           5,
           5,
           5,
           5,
           5,
           3,
           3,
           3,
           3,
           3,
           3,
           3,
           3,
           3,
           3,
           3,
           3,
           3,
           3,
           3,
           3,
           3,
           3,
           3,
           3,
           3,
           3,
           3,
           3,
           3,
           3,
           3,
           3,
           3,
           3,
           3,
           3,
           3,
           3,
           3,
           0,
           0,
           0,
           0,
           0,
           0,
           0,
           0,
           0,
           0,
           0,
           0,
           0,
           0,
           0,
           0,
           0,
           0,
           0,
           0,
           0,
           0,
           1,
           1,
           1,
           1,
           1,
           1,
           1,
           1,
           1,
           1,
           1,
           1,
           1,
           1,
           1,
           1,
           1,
           1,
           1,
           1,
           1,
           1,
           1,
           1,
           1,
           1,
           1,
           1,
           1,
           1,
           1,
           1,
           1,
           1,
           1,
           1,
           1,
           1,
           1,
           1,
           1
          ],
          "coloraxis": "coloraxis",
          "symbol": "circle"
         },
         "mode": "markers",
         "name": "",
         "orientation": "v",
         "showlegend": false,
         "type": "scatter",
         "x": [
          -3.88,
          -4.46,
          -3.49,
          -3.6,
          -2.81,
          -4.45,
          -2.72,
          -3.95,
          -2.96,
          -3.21,
          -2.87,
          -3.8,
          -3.51,
          -3.25,
          -3.89,
          -2.72,
          -3.11,
          -3.5,
          -3.15,
          -4.13,
          -3.55,
          -3.29,
          -3.34,
          -3.03,
          -4.51,
          -3.73,
          -4.68,
          -2.97,
          -4.4,
          -3.26,
          -2.81,
          -4.2,
          -4.35,
          -3.8,
          -3.82,
          -3.63,
          -2.18,
          -4.4,
          -3.16,
          -2.52,
          -3.09,
          -2.81,
          -2.94,
          -3.31,
          -4.08,
          -3.69,
          -3.02,
          -3.64,
          -3.56,
          -3.69,
          -4.87,
          -3.35,
          -4.41,
          -3.08,
          -3.99,
          -4.01,
          -4.67,
          -3.35,
          -4.14,
          -4.04,
          -4.45,
          -4.25,
          -2.09,
          0.07,
          -1.07,
          -0.75,
          -0.32,
          -0.58,
          -0.19,
          0.01,
          0.48,
          -0.37,
          -1.03,
          -0.84,
          -0.32,
          0.15,
          -0.18,
          0.21,
          0.27,
          -0.82,
          -1.32,
          0.35,
          0.23,
          0.42,
          0.3,
          -0.96,
          -0.12,
          -0.13,
          -0.09,
          0.31,
          0.08,
          -0.21,
          0.07,
          0.3,
          -0.23,
          -1.03,
          0.31,
          -0.14,
          -0.54,
          -0.38,
          0.1,
          -0.37,
          -0.15,
          -0.69,
          -0.2,
          -0.17,
          -1,
          -0.76,
          -0.05,
          -0.01,
          -0.82,
          -0.68,
          -0.53,
          -0.09,
          0.05,
          -0.31,
          0.16,
          2.36,
          2.43,
          2.91,
          2.83,
          2.11,
          3.16,
          1.66,
          2.14,
          4.56,
          2.92,
          3.34,
          2.47,
          3.46,
          2.34,
          1.15,
          2.8,
          2.02,
          2.45,
          2.16,
          3.14,
          2.6,
          2.28,
          1.17,
          0.94,
          1.81,
          1,
          0.37,
          1.06,
          0.64,
          1.27,
          1.32,
          1.96,
          -0.3,
          1.67,
          0.67,
          0.26,
          1.51,
          0.94,
          1.17,
          1.57,
          1.04,
          1.74,
          0.58,
          0.94,
          1.28,
          1.45,
          0.61,
          0.69,
          0.59,
          1.5,
          0.59,
          1.93,
          2.2,
          1.61,
          2.36,
          1.29,
          0.66,
          0.27,
          0.29,
          1.35,
          2.08,
          0.77,
          1.24
         ],
         "xaxis": "x",
         "y": [
          -5.37,
          -5.69,
          -4.84,
          -4.73,
          -4.02,
          -5.36,
          -4.15,
          -5.1,
          -3.97,
          -4.27,
          -4.33,
          -4.86,
          -4.53,
          -4.14,
          -4.4,
          -3.79,
          -4.67,
          -4.44,
          -4.07,
          -5.29,
          -4.79,
          2.12,
          2.73,
          2.88,
          1.47,
          2.23,
          0.72,
          2.79,
          1.69,
          2.52,
          3.11,
          1.51,
          1.42,
          2.09,
          2.13,
          1.85,
          3.72,
          1.34,
          2.93,
          3.26,
          2.74,
          2.83,
          2.9,
          2.33,
          2,
          1.8,
          2.69,
          2.22,
          2.5,
          2.35,
          0.92,
          2.07,
          1.55,
          2.82,
          2.13,
          2.01,
          1.22,
          2.21,
          1.51,
          1.82,
          1.55,
          1.51,
          -1.07,
          0.96,
          0.04,
          0.46,
          0.46,
          0.56,
          0.73,
          0.8,
          1.37,
          0.73,
          -0.14,
          0.25,
          0.88,
          1.22,
          0.86,
          1.07,
          1.09,
          0.02,
          -0.32,
          1.29,
          -3.63,
          -3.56,
          -3.52,
          -4.78,
          -3.98,
          -3.96,
          -4.11,
          -3.53,
          -3.76,
          -4.16,
          -3.74,
          -3.66,
          -4.08,
          -5.04,
          -3.69,
          -4.16,
          -4.53,
          -4.27,
          -3.85,
          -4.2,
          -3.92,
          -4.66,
          -3.99,
          -3.85,
          -4.84,
          -4.73,
          -3.87,
          -3.79,
          -4.55,
          -4.34,
          -4.19,
          -3.98,
          -3.84,
          -4.22,
          -3.81,
          2.01,
          2.04,
          1.98,
          1.63,
          1.49,
          2.46,
          1.09,
          1.19,
          3.45,
          1.73,
          2.14,
          1.37,
          2.39,
          1.54,
          0.34,
          1.95,
          1.22,
          1.62,
          1.29,
          2.33,
          1.33,
          1.4,
          4.88,
          4.26,
          5.76,
          4.63,
          3.81,
          5.07,
          4.03,
          4.88,
          4.78,
          5.57,
          3.31,
          5.09,
          4.29,
          3.31,
          4.84,
          4.75,
          4.55,
          5.11,
          4.39,
          5.37,
          4.2,
          4.87,
          4.54,
          4.82,
          4.3,
          4.45,
          4.36,
          5.04,
          4.18,
          5.35,
          5.81,
          5.03,
          6.23,
          4.64,
          4.35,
          3.92,
          3.92,
          5.22,
          5.43,
          4.28,
          4.95
         ],
         "yaxis": "y"
        }
       ],
       "layout": {
        "coloraxis": {
         "colorbar": {
          "title": {
           "text": "color"
          }
         },
         "colorscale": [
          [
           0,
           "rgb(255,247,251)"
          ],
          [
           0.125,
           "rgb(236,231,242)"
          ],
          [
           0.25,
           "rgb(208,209,230)"
          ],
          [
           0.375,
           "rgb(166,189,219)"
          ],
          [
           0.5,
           "rgb(116,169,207)"
          ],
          [
           0.625,
           "rgb(54,144,192)"
          ],
          [
           0.75,
           "rgb(5,112,176)"
          ],
          [
           0.875,
           "rgb(4,90,141)"
          ],
          [
           1,
           "rgb(2,56,88)"
          ]
         ]
        },
        "legend": {
         "tracegroupgap": 0
        },
        "margin": {
         "t": 60
        },
        "template": {
         "data": {
          "bar": [
           {
            "error_x": {
             "color": "#2a3f5f"
            },
            "error_y": {
             "color": "#2a3f5f"
            },
            "marker": {
             "line": {
              "color": "#E5ECF6",
              "width": 0.5
             },
             "pattern": {
              "fillmode": "overlay",
              "size": 10,
              "solidity": 0.2
             }
            },
            "type": "bar"
           }
          ],
          "barpolar": [
           {
            "marker": {
             "line": {
              "color": "#E5ECF6",
              "width": 0.5
             },
             "pattern": {
              "fillmode": "overlay",
              "size": 10,
              "solidity": 0.2
             }
            },
            "type": "barpolar"
           }
          ],
          "carpet": [
           {
            "aaxis": {
             "endlinecolor": "#2a3f5f",
             "gridcolor": "white",
             "linecolor": "white",
             "minorgridcolor": "white",
             "startlinecolor": "#2a3f5f"
            },
            "baxis": {
             "endlinecolor": "#2a3f5f",
             "gridcolor": "white",
             "linecolor": "white",
             "minorgridcolor": "white",
             "startlinecolor": "#2a3f5f"
            },
            "type": "carpet"
           }
          ],
          "choropleth": [
           {
            "colorbar": {
             "outlinewidth": 0,
             "ticks": ""
            },
            "type": "choropleth"
           }
          ],
          "contour": [
           {
            "colorbar": {
             "outlinewidth": 0,
             "ticks": ""
            },
            "colorscale": [
             [
              0,
              "#0d0887"
             ],
             [
              0.1111111111111111,
              "#46039f"
             ],
             [
              0.2222222222222222,
              "#7201a8"
             ],
             [
              0.3333333333333333,
              "#9c179e"
             ],
             [
              0.4444444444444444,
              "#bd3786"
             ],
             [
              0.5555555555555556,
              "#d8576b"
             ],
             [
              0.6666666666666666,
              "#ed7953"
             ],
             [
              0.7777777777777778,
              "#fb9f3a"
             ],
             [
              0.8888888888888888,
              "#fdca26"
             ],
             [
              1,
              "#f0f921"
             ]
            ],
            "type": "contour"
           }
          ],
          "contourcarpet": [
           {
            "colorbar": {
             "outlinewidth": 0,
             "ticks": ""
            },
            "type": "contourcarpet"
           }
          ],
          "heatmap": [
           {
            "colorbar": {
             "outlinewidth": 0,
             "ticks": ""
            },
            "colorscale": [
             [
              0,
              "#0d0887"
             ],
             [
              0.1111111111111111,
              "#46039f"
             ],
             [
              0.2222222222222222,
              "#7201a8"
             ],
             [
              0.3333333333333333,
              "#9c179e"
             ],
             [
              0.4444444444444444,
              "#bd3786"
             ],
             [
              0.5555555555555556,
              "#d8576b"
             ],
             [
              0.6666666666666666,
              "#ed7953"
             ],
             [
              0.7777777777777778,
              "#fb9f3a"
             ],
             [
              0.8888888888888888,
              "#fdca26"
             ],
             [
              1,
              "#f0f921"
             ]
            ],
            "type": "heatmap"
           }
          ],
          "heatmapgl": [
           {
            "colorbar": {
             "outlinewidth": 0,
             "ticks": ""
            },
            "colorscale": [
             [
              0,
              "#0d0887"
             ],
             [
              0.1111111111111111,
              "#46039f"
             ],
             [
              0.2222222222222222,
              "#7201a8"
             ],
             [
              0.3333333333333333,
              "#9c179e"
             ],
             [
              0.4444444444444444,
              "#bd3786"
             ],
             [
              0.5555555555555556,
              "#d8576b"
             ],
             [
              0.6666666666666666,
              "#ed7953"
             ],
             [
              0.7777777777777778,
              "#fb9f3a"
             ],
             [
              0.8888888888888888,
              "#fdca26"
             ],
             [
              1,
              "#f0f921"
             ]
            ],
            "type": "heatmapgl"
           }
          ],
          "histogram": [
           {
            "marker": {
             "pattern": {
              "fillmode": "overlay",
              "size": 10,
              "solidity": 0.2
             }
            },
            "type": "histogram"
           }
          ],
          "histogram2d": [
           {
            "colorbar": {
             "outlinewidth": 0,
             "ticks": ""
            },
            "colorscale": [
             [
              0,
              "#0d0887"
             ],
             [
              0.1111111111111111,
              "#46039f"
             ],
             [
              0.2222222222222222,
              "#7201a8"
             ],
             [
              0.3333333333333333,
              "#9c179e"
             ],
             [
              0.4444444444444444,
              "#bd3786"
             ],
             [
              0.5555555555555556,
              "#d8576b"
             ],
             [
              0.6666666666666666,
              "#ed7953"
             ],
             [
              0.7777777777777778,
              "#fb9f3a"
             ],
             [
              0.8888888888888888,
              "#fdca26"
             ],
             [
              1,
              "#f0f921"
             ]
            ],
            "type": "histogram2d"
           }
          ],
          "histogram2dcontour": [
           {
            "colorbar": {
             "outlinewidth": 0,
             "ticks": ""
            },
            "colorscale": [
             [
              0,
              "#0d0887"
             ],
             [
              0.1111111111111111,
              "#46039f"
             ],
             [
              0.2222222222222222,
              "#7201a8"
             ],
             [
              0.3333333333333333,
              "#9c179e"
             ],
             [
              0.4444444444444444,
              "#bd3786"
             ],
             [
              0.5555555555555556,
              "#d8576b"
             ],
             [
              0.6666666666666666,
              "#ed7953"
             ],
             [
              0.7777777777777778,
              "#fb9f3a"
             ],
             [
              0.8888888888888888,
              "#fdca26"
             ],
             [
              1,
              "#f0f921"
             ]
            ],
            "type": "histogram2dcontour"
           }
          ],
          "mesh3d": [
           {
            "colorbar": {
             "outlinewidth": 0,
             "ticks": ""
            },
            "type": "mesh3d"
           }
          ],
          "parcoords": [
           {
            "line": {
             "colorbar": {
              "outlinewidth": 0,
              "ticks": ""
             }
            },
            "type": "parcoords"
           }
          ],
          "pie": [
           {
            "automargin": true,
            "type": "pie"
           }
          ],
          "scatter": [
           {
            "marker": {
             "colorbar": {
              "outlinewidth": 0,
              "ticks": ""
             }
            },
            "type": "scatter"
           }
          ],
          "scatter3d": [
           {
            "line": {
             "colorbar": {
              "outlinewidth": 0,
              "ticks": ""
             }
            },
            "marker": {
             "colorbar": {
              "outlinewidth": 0,
              "ticks": ""
             }
            },
            "type": "scatter3d"
           }
          ],
          "scattercarpet": [
           {
            "marker": {
             "colorbar": {
              "outlinewidth": 0,
              "ticks": ""
             }
            },
            "type": "scattercarpet"
           }
          ],
          "scattergeo": [
           {
            "marker": {
             "colorbar": {
              "outlinewidth": 0,
              "ticks": ""
             }
            },
            "type": "scattergeo"
           }
          ],
          "scattergl": [
           {
            "marker": {
             "colorbar": {
              "outlinewidth": 0,
              "ticks": ""
             }
            },
            "type": "scattergl"
           }
          ],
          "scattermapbox": [
           {
            "marker": {
             "colorbar": {
              "outlinewidth": 0,
              "ticks": ""
             }
            },
            "type": "scattermapbox"
           }
          ],
          "scatterpolar": [
           {
            "marker": {
             "colorbar": {
              "outlinewidth": 0,
              "ticks": ""
             }
            },
            "type": "scatterpolar"
           }
          ],
          "scatterpolargl": [
           {
            "marker": {
             "colorbar": {
              "outlinewidth": 0,
              "ticks": ""
             }
            },
            "type": "scatterpolargl"
           }
          ],
          "scatterternary": [
           {
            "marker": {
             "colorbar": {
              "outlinewidth": 0,
              "ticks": ""
             }
            },
            "type": "scatterternary"
           }
          ],
          "surface": [
           {
            "colorbar": {
             "outlinewidth": 0,
             "ticks": ""
            },
            "colorscale": [
             [
              0,
              "#0d0887"
             ],
             [
              0.1111111111111111,
              "#46039f"
             ],
             [
              0.2222222222222222,
              "#7201a8"
             ],
             [
              0.3333333333333333,
              "#9c179e"
             ],
             [
              0.4444444444444444,
              "#bd3786"
             ],
             [
              0.5555555555555556,
              "#d8576b"
             ],
             [
              0.6666666666666666,
              "#ed7953"
             ],
             [
              0.7777777777777778,
              "#fb9f3a"
             ],
             [
              0.8888888888888888,
              "#fdca26"
             ],
             [
              1,
              "#f0f921"
             ]
            ],
            "type": "surface"
           }
          ],
          "table": [
           {
            "cells": {
             "fill": {
              "color": "#EBF0F8"
             },
             "line": {
              "color": "white"
             }
            },
            "header": {
             "fill": {
              "color": "#C8D4E3"
             },
             "line": {
              "color": "white"
             }
            },
            "type": "table"
           }
          ]
         },
         "layout": {
          "annotationdefaults": {
           "arrowcolor": "#2a3f5f",
           "arrowhead": 0,
           "arrowwidth": 1
          },
          "autotypenumbers": "strict",
          "coloraxis": {
           "colorbar": {
            "outlinewidth": 0,
            "ticks": ""
           }
          },
          "colorscale": {
           "diverging": [
            [
             0,
             "#8e0152"
            ],
            [
             0.1,
             "#c51b7d"
            ],
            [
             0.2,
             "#de77ae"
            ],
            [
             0.3,
             "#f1b6da"
            ],
            [
             0.4,
             "#fde0ef"
            ],
            [
             0.5,
             "#f7f7f7"
            ],
            [
             0.6,
             "#e6f5d0"
            ],
            [
             0.7,
             "#b8e186"
            ],
            [
             0.8,
             "#7fbc41"
            ],
            [
             0.9,
             "#4d9221"
            ],
            [
             1,
             "#276419"
            ]
           ],
           "sequential": [
            [
             0,
             "#0d0887"
            ],
            [
             0.1111111111111111,
             "#46039f"
            ],
            [
             0.2222222222222222,
             "#7201a8"
            ],
            [
             0.3333333333333333,
             "#9c179e"
            ],
            [
             0.4444444444444444,
             "#bd3786"
            ],
            [
             0.5555555555555556,
             "#d8576b"
            ],
            [
             0.6666666666666666,
             "#ed7953"
            ],
            [
             0.7777777777777778,
             "#fb9f3a"
            ],
            [
             0.8888888888888888,
             "#fdca26"
            ],
            [
             1,
             "#f0f921"
            ]
           ],
           "sequentialminus": [
            [
             0,
             "#0d0887"
            ],
            [
             0.1111111111111111,
             "#46039f"
            ],
            [
             0.2222222222222222,
             "#7201a8"
            ],
            [
             0.3333333333333333,
             "#9c179e"
            ],
            [
             0.4444444444444444,
             "#bd3786"
            ],
            [
             0.5555555555555556,
             "#d8576b"
            ],
            [
             0.6666666666666666,
             "#ed7953"
            ],
            [
             0.7777777777777778,
             "#fb9f3a"
            ],
            [
             0.8888888888888888,
             "#fdca26"
            ],
            [
             1,
             "#f0f921"
            ]
           ]
          },
          "colorway": [
           "#636efa",
           "#EF553B",
           "#00cc96",
           "#ab63fa",
           "#FFA15A",
           "#19d3f3",
           "#FF6692",
           "#B6E880",
           "#FF97FF",
           "#FECB52"
          ],
          "font": {
           "color": "#2a3f5f"
          },
          "geo": {
           "bgcolor": "white",
           "lakecolor": "white",
           "landcolor": "#E5ECF6",
           "showlakes": true,
           "showland": true,
           "subunitcolor": "white"
          },
          "hoverlabel": {
           "align": "left"
          },
          "hovermode": "closest",
          "mapbox": {
           "style": "light"
          },
          "paper_bgcolor": "white",
          "plot_bgcolor": "#E5ECF6",
          "polar": {
           "angularaxis": {
            "gridcolor": "white",
            "linecolor": "white",
            "ticks": ""
           },
           "bgcolor": "#E5ECF6",
           "radialaxis": {
            "gridcolor": "white",
            "linecolor": "white",
            "ticks": ""
           }
          },
          "scene": {
           "xaxis": {
            "backgroundcolor": "#E5ECF6",
            "gridcolor": "white",
            "gridwidth": 2,
            "linecolor": "white",
            "showbackground": true,
            "ticks": "",
            "zerolinecolor": "white"
           },
           "yaxis": {
            "backgroundcolor": "#E5ECF6",
            "gridcolor": "white",
            "gridwidth": 2,
            "linecolor": "white",
            "showbackground": true,
            "ticks": "",
            "zerolinecolor": "white"
           },
           "zaxis": {
            "backgroundcolor": "#E5ECF6",
            "gridcolor": "white",
            "gridwidth": 2,
            "linecolor": "white",
            "showbackground": true,
            "ticks": "",
            "zerolinecolor": "white"
           }
          },
          "shapedefaults": {
           "line": {
            "color": "#2a3f5f"
           }
          },
          "ternary": {
           "aaxis": {
            "gridcolor": "white",
            "linecolor": "white",
            "ticks": ""
           },
           "baxis": {
            "gridcolor": "white",
            "linecolor": "white",
            "ticks": ""
           },
           "bgcolor": "#E5ECF6",
           "caxis": {
            "gridcolor": "white",
            "linecolor": "white",
            "ticks": ""
           }
          },
          "title": {
           "x": 0.05
          },
          "xaxis": {
           "automargin": true,
           "gridcolor": "white",
           "linecolor": "white",
           "ticks": "",
           "title": {
            "standoff": 15
           },
           "zerolinecolor": "white",
           "zerolinewidth": 2
          },
          "yaxis": {
           "automargin": true,
           "gridcolor": "white",
           "linecolor": "white",
           "ticks": "",
           "title": {
            "standoff": 15
           },
           "zerolinecolor": "white",
           "zerolinewidth": 2
          }
         }
        },
        "xaxis": {
         "anchor": "y",
         "domain": [
          0,
          1
         ],
         "title": {
          "text": "X1"
         }
        },
        "yaxis": {
         "anchor": "x",
         "domain": [
          0,
          1
         ],
         "title": {
          "text": "X2"
         }
        }
       }
      }
     },
     "metadata": {},
     "output_type": "display_data"
    }
   ],
   "source": [
    "fig_agg_b = px.scatter(data_b, x='X1', y='X2', color=assignments_b, color_continuous_scale='PuBu')\n",
    "fig_agg_b.show()"
   ]
  },
  {
   "attachments": {},
   "cell_type": "markdown",
   "metadata": {},
   "source": [
    "As we can see, the grouping of data points are largely the same, however, the output cluster labels are very different between the two clustering methods. This corresponds with the difference in how the algorithms find the clusters: hierarchical clustering starts with a root cluster and branches out; whereas k-means clustering initializes cluster means and adjusts clustering based on the updated means."
   ]
  },
  {
   "attachments": {},
   "cell_type": "markdown",
   "metadata": {},
   "source": [
    "## Compare Different Number of Clusters"
   ]
  },
  {
   "attachments": {},
   "cell_type": "markdown",
   "metadata": {},
   "source": [
    "How do we know how many clusters to choose for our data? One way to evaluate our clustering is by looking at the representation error with a range of k.\n",
    "In this section, we compare different values of k and compute the representation error."
   ]
  },
  {
   "cell_type": "code",
   "execution_count": 17,
   "metadata": {},
   "outputs": [],
   "source": [
    "sse_a = np.zeros(9)\n",
    "sse_b = np.zeros(9)\n",
    "cluster_qualities_a = np.zeros(9)\n",
    "cluster_qualities_b = np.zeros(9)\n",
    "\n",
    "for i in range(2, 11):\n",
    "    kmeans_a = KMeans(n_clusters=i, random_state=0).fit(data_a[['X1', 'X2']])\n",
    "    sse_a[i-2] = get_representation_error(data_a[['X1', 'X2']].to_numpy(), kmeans_a)\n",
    "    cq_a = cluster_quality(data_a[['X1', 'X2']].to_numpy(), kmeans_a, metric='ray-turi')\n",
    "    cluster_qualities_a[i-2] = cq_a\n",
    "    kmeans_b = KMeans(n_clusters=i, random_state=0).fit(data_b[['X1', 'X2']])\n",
    "    sse_b[i-2] = get_representation_error(data_b[['X1', 'X2']].to_numpy(), kmeans_b)\n",
    "    cq_b = cluster_quality(data_b[['X1', 'X2']].to_numpy(), kmeans_b, metric='ray-turi')\n",
    "    cluster_qualities_b[i-2] = cq_b"
   ]
  },
  {
   "attachments": {},
   "cell_type": "markdown",
   "metadata": {},
   "source": [
    "Here is the resulting SSE (Sum Squared Error) from a k value ranging from 2 to 1 for data set A and B:"
   ]
  },
  {
   "cell_type": "code",
   "execution_count": 18,
   "metadata": {},
   "outputs": [
    {
     "data": {
      "application/vnd.plotly.v1+json": {
       "config": {
        "plotlyServerURL": "https://plot.ly"
       },
       "data": [
        {
         "hovertemplate": "Number of clusters=%{x}<br>SSE=%{y}<extra></extra>",
         "legendgroup": "",
         "line": {
          "color": "#636efa",
          "dash": "solid"
         },
         "marker": {
          "symbol": "circle"
         },
         "mode": "lines",
         "name": "",
         "orientation": "v",
         "showlegend": false,
         "type": "scatter",
         "x": [
          2,
          3,
          4,
          5,
          6,
          7,
          8,
          9,
          10
         ],
         "xaxis": "x",
         "y": [
          1780.523101702181,
          1035.5367209142769,
          698.5022138993932,
          368.2119236917249,
          183.79295411997884,
          155.87128740800864,
          141.36984321886447,
          125.19023504639969,
          116.92886650613275
         ],
         "yaxis": "y"
        }
       ],
       "layout": {
        "legend": {
         "tracegroupgap": 0
        },
        "template": {
         "data": {
          "bar": [
           {
            "error_x": {
             "color": "#2a3f5f"
            },
            "error_y": {
             "color": "#2a3f5f"
            },
            "marker": {
             "line": {
              "color": "#E5ECF6",
              "width": 0.5
             },
             "pattern": {
              "fillmode": "overlay",
              "size": 10,
              "solidity": 0.2
             }
            },
            "type": "bar"
           }
          ],
          "barpolar": [
           {
            "marker": {
             "line": {
              "color": "#E5ECF6",
              "width": 0.5
             },
             "pattern": {
              "fillmode": "overlay",
              "size": 10,
              "solidity": 0.2
             }
            },
            "type": "barpolar"
           }
          ],
          "carpet": [
           {
            "aaxis": {
             "endlinecolor": "#2a3f5f",
             "gridcolor": "white",
             "linecolor": "white",
             "minorgridcolor": "white",
             "startlinecolor": "#2a3f5f"
            },
            "baxis": {
             "endlinecolor": "#2a3f5f",
             "gridcolor": "white",
             "linecolor": "white",
             "minorgridcolor": "white",
             "startlinecolor": "#2a3f5f"
            },
            "type": "carpet"
           }
          ],
          "choropleth": [
           {
            "colorbar": {
             "outlinewidth": 0,
             "ticks": ""
            },
            "type": "choropleth"
           }
          ],
          "contour": [
           {
            "colorbar": {
             "outlinewidth": 0,
             "ticks": ""
            },
            "colorscale": [
             [
              0,
              "#0d0887"
             ],
             [
              0.1111111111111111,
              "#46039f"
             ],
             [
              0.2222222222222222,
              "#7201a8"
             ],
             [
              0.3333333333333333,
              "#9c179e"
             ],
             [
              0.4444444444444444,
              "#bd3786"
             ],
             [
              0.5555555555555556,
              "#d8576b"
             ],
             [
              0.6666666666666666,
              "#ed7953"
             ],
             [
              0.7777777777777778,
              "#fb9f3a"
             ],
             [
              0.8888888888888888,
              "#fdca26"
             ],
             [
              1,
              "#f0f921"
             ]
            ],
            "type": "contour"
           }
          ],
          "contourcarpet": [
           {
            "colorbar": {
             "outlinewidth": 0,
             "ticks": ""
            },
            "type": "contourcarpet"
           }
          ],
          "heatmap": [
           {
            "colorbar": {
             "outlinewidth": 0,
             "ticks": ""
            },
            "colorscale": [
             [
              0,
              "#0d0887"
             ],
             [
              0.1111111111111111,
              "#46039f"
             ],
             [
              0.2222222222222222,
              "#7201a8"
             ],
             [
              0.3333333333333333,
              "#9c179e"
             ],
             [
              0.4444444444444444,
              "#bd3786"
             ],
             [
              0.5555555555555556,
              "#d8576b"
             ],
             [
              0.6666666666666666,
              "#ed7953"
             ],
             [
              0.7777777777777778,
              "#fb9f3a"
             ],
             [
              0.8888888888888888,
              "#fdca26"
             ],
             [
              1,
              "#f0f921"
             ]
            ],
            "type": "heatmap"
           }
          ],
          "heatmapgl": [
           {
            "colorbar": {
             "outlinewidth": 0,
             "ticks": ""
            },
            "colorscale": [
             [
              0,
              "#0d0887"
             ],
             [
              0.1111111111111111,
              "#46039f"
             ],
             [
              0.2222222222222222,
              "#7201a8"
             ],
             [
              0.3333333333333333,
              "#9c179e"
             ],
             [
              0.4444444444444444,
              "#bd3786"
             ],
             [
              0.5555555555555556,
              "#d8576b"
             ],
             [
              0.6666666666666666,
              "#ed7953"
             ],
             [
              0.7777777777777778,
              "#fb9f3a"
             ],
             [
              0.8888888888888888,
              "#fdca26"
             ],
             [
              1,
              "#f0f921"
             ]
            ],
            "type": "heatmapgl"
           }
          ],
          "histogram": [
           {
            "marker": {
             "pattern": {
              "fillmode": "overlay",
              "size": 10,
              "solidity": 0.2
             }
            },
            "type": "histogram"
           }
          ],
          "histogram2d": [
           {
            "colorbar": {
             "outlinewidth": 0,
             "ticks": ""
            },
            "colorscale": [
             [
              0,
              "#0d0887"
             ],
             [
              0.1111111111111111,
              "#46039f"
             ],
             [
              0.2222222222222222,
              "#7201a8"
             ],
             [
              0.3333333333333333,
              "#9c179e"
             ],
             [
              0.4444444444444444,
              "#bd3786"
             ],
             [
              0.5555555555555556,
              "#d8576b"
             ],
             [
              0.6666666666666666,
              "#ed7953"
             ],
             [
              0.7777777777777778,
              "#fb9f3a"
             ],
             [
              0.8888888888888888,
              "#fdca26"
             ],
             [
              1,
              "#f0f921"
             ]
            ],
            "type": "histogram2d"
           }
          ],
          "histogram2dcontour": [
           {
            "colorbar": {
             "outlinewidth": 0,
             "ticks": ""
            },
            "colorscale": [
             [
              0,
              "#0d0887"
             ],
             [
              0.1111111111111111,
              "#46039f"
             ],
             [
              0.2222222222222222,
              "#7201a8"
             ],
             [
              0.3333333333333333,
              "#9c179e"
             ],
             [
              0.4444444444444444,
              "#bd3786"
             ],
             [
              0.5555555555555556,
              "#d8576b"
             ],
             [
              0.6666666666666666,
              "#ed7953"
             ],
             [
              0.7777777777777778,
              "#fb9f3a"
             ],
             [
              0.8888888888888888,
              "#fdca26"
             ],
             [
              1,
              "#f0f921"
             ]
            ],
            "type": "histogram2dcontour"
           }
          ],
          "mesh3d": [
           {
            "colorbar": {
             "outlinewidth": 0,
             "ticks": ""
            },
            "type": "mesh3d"
           }
          ],
          "parcoords": [
           {
            "line": {
             "colorbar": {
              "outlinewidth": 0,
              "ticks": ""
             }
            },
            "type": "parcoords"
           }
          ],
          "pie": [
           {
            "automargin": true,
            "type": "pie"
           }
          ],
          "scatter": [
           {
            "marker": {
             "colorbar": {
              "outlinewidth": 0,
              "ticks": ""
             }
            },
            "type": "scatter"
           }
          ],
          "scatter3d": [
           {
            "line": {
             "colorbar": {
              "outlinewidth": 0,
              "ticks": ""
             }
            },
            "marker": {
             "colorbar": {
              "outlinewidth": 0,
              "ticks": ""
             }
            },
            "type": "scatter3d"
           }
          ],
          "scattercarpet": [
           {
            "marker": {
             "colorbar": {
              "outlinewidth": 0,
              "ticks": ""
             }
            },
            "type": "scattercarpet"
           }
          ],
          "scattergeo": [
           {
            "marker": {
             "colorbar": {
              "outlinewidth": 0,
              "ticks": ""
             }
            },
            "type": "scattergeo"
           }
          ],
          "scattergl": [
           {
            "marker": {
             "colorbar": {
              "outlinewidth": 0,
              "ticks": ""
             }
            },
            "type": "scattergl"
           }
          ],
          "scattermapbox": [
           {
            "marker": {
             "colorbar": {
              "outlinewidth": 0,
              "ticks": ""
             }
            },
            "type": "scattermapbox"
           }
          ],
          "scatterpolar": [
           {
            "marker": {
             "colorbar": {
              "outlinewidth": 0,
              "ticks": ""
             }
            },
            "type": "scatterpolar"
           }
          ],
          "scatterpolargl": [
           {
            "marker": {
             "colorbar": {
              "outlinewidth": 0,
              "ticks": ""
             }
            },
            "type": "scatterpolargl"
           }
          ],
          "scatterternary": [
           {
            "marker": {
             "colorbar": {
              "outlinewidth": 0,
              "ticks": ""
             }
            },
            "type": "scatterternary"
           }
          ],
          "surface": [
           {
            "colorbar": {
             "outlinewidth": 0,
             "ticks": ""
            },
            "colorscale": [
             [
              0,
              "#0d0887"
             ],
             [
              0.1111111111111111,
              "#46039f"
             ],
             [
              0.2222222222222222,
              "#7201a8"
             ],
             [
              0.3333333333333333,
              "#9c179e"
             ],
             [
              0.4444444444444444,
              "#bd3786"
             ],
             [
              0.5555555555555556,
              "#d8576b"
             ],
             [
              0.6666666666666666,
              "#ed7953"
             ],
             [
              0.7777777777777778,
              "#fb9f3a"
             ],
             [
              0.8888888888888888,
              "#fdca26"
             ],
             [
              1,
              "#f0f921"
             ]
            ],
            "type": "surface"
           }
          ],
          "table": [
           {
            "cells": {
             "fill": {
              "color": "#EBF0F8"
             },
             "line": {
              "color": "white"
             }
            },
            "header": {
             "fill": {
              "color": "#C8D4E3"
             },
             "line": {
              "color": "white"
             }
            },
            "type": "table"
           }
          ]
         },
         "layout": {
          "annotationdefaults": {
           "arrowcolor": "#2a3f5f",
           "arrowhead": 0,
           "arrowwidth": 1
          },
          "autotypenumbers": "strict",
          "coloraxis": {
           "colorbar": {
            "outlinewidth": 0,
            "ticks": ""
           }
          },
          "colorscale": {
           "diverging": [
            [
             0,
             "#8e0152"
            ],
            [
             0.1,
             "#c51b7d"
            ],
            [
             0.2,
             "#de77ae"
            ],
            [
             0.3,
             "#f1b6da"
            ],
            [
             0.4,
             "#fde0ef"
            ],
            [
             0.5,
             "#f7f7f7"
            ],
            [
             0.6,
             "#e6f5d0"
            ],
            [
             0.7,
             "#b8e186"
            ],
            [
             0.8,
             "#7fbc41"
            ],
            [
             0.9,
             "#4d9221"
            ],
            [
             1,
             "#276419"
            ]
           ],
           "sequential": [
            [
             0,
             "#0d0887"
            ],
            [
             0.1111111111111111,
             "#46039f"
            ],
            [
             0.2222222222222222,
             "#7201a8"
            ],
            [
             0.3333333333333333,
             "#9c179e"
            ],
            [
             0.4444444444444444,
             "#bd3786"
            ],
            [
             0.5555555555555556,
             "#d8576b"
            ],
            [
             0.6666666666666666,
             "#ed7953"
            ],
            [
             0.7777777777777778,
             "#fb9f3a"
            ],
            [
             0.8888888888888888,
             "#fdca26"
            ],
            [
             1,
             "#f0f921"
            ]
           ],
           "sequentialminus": [
            [
             0,
             "#0d0887"
            ],
            [
             0.1111111111111111,
             "#46039f"
            ],
            [
             0.2222222222222222,
             "#7201a8"
            ],
            [
             0.3333333333333333,
             "#9c179e"
            ],
            [
             0.4444444444444444,
             "#bd3786"
            ],
            [
             0.5555555555555556,
             "#d8576b"
            ],
            [
             0.6666666666666666,
             "#ed7953"
            ],
            [
             0.7777777777777778,
             "#fb9f3a"
            ],
            [
             0.8888888888888888,
             "#fdca26"
            ],
            [
             1,
             "#f0f921"
            ]
           ]
          },
          "colorway": [
           "#636efa",
           "#EF553B",
           "#00cc96",
           "#ab63fa",
           "#FFA15A",
           "#19d3f3",
           "#FF6692",
           "#B6E880",
           "#FF97FF",
           "#FECB52"
          ],
          "font": {
           "color": "#2a3f5f"
          },
          "geo": {
           "bgcolor": "white",
           "lakecolor": "white",
           "landcolor": "#E5ECF6",
           "showlakes": true,
           "showland": true,
           "subunitcolor": "white"
          },
          "hoverlabel": {
           "align": "left"
          },
          "hovermode": "closest",
          "mapbox": {
           "style": "light"
          },
          "paper_bgcolor": "white",
          "plot_bgcolor": "#E5ECF6",
          "polar": {
           "angularaxis": {
            "gridcolor": "white",
            "linecolor": "white",
            "ticks": ""
           },
           "bgcolor": "#E5ECF6",
           "radialaxis": {
            "gridcolor": "white",
            "linecolor": "white",
            "ticks": ""
           }
          },
          "scene": {
           "xaxis": {
            "backgroundcolor": "#E5ECF6",
            "gridcolor": "white",
            "gridwidth": 2,
            "linecolor": "white",
            "showbackground": true,
            "ticks": "",
            "zerolinecolor": "white"
           },
           "yaxis": {
            "backgroundcolor": "#E5ECF6",
            "gridcolor": "white",
            "gridwidth": 2,
            "linecolor": "white",
            "showbackground": true,
            "ticks": "",
            "zerolinecolor": "white"
           },
           "zaxis": {
            "backgroundcolor": "#E5ECF6",
            "gridcolor": "white",
            "gridwidth": 2,
            "linecolor": "white",
            "showbackground": true,
            "ticks": "",
            "zerolinecolor": "white"
           }
          },
          "shapedefaults": {
           "line": {
            "color": "#2a3f5f"
           }
          },
          "ternary": {
           "aaxis": {
            "gridcolor": "white",
            "linecolor": "white",
            "ticks": ""
           },
           "baxis": {
            "gridcolor": "white",
            "linecolor": "white",
            "ticks": ""
           },
           "bgcolor": "#E5ECF6",
           "caxis": {
            "gridcolor": "white",
            "linecolor": "white",
            "ticks": ""
           }
          },
          "title": {
           "x": 0.05
          },
          "xaxis": {
           "automargin": true,
           "gridcolor": "white",
           "linecolor": "white",
           "ticks": "",
           "title": {
            "standoff": 15
           },
           "zerolinecolor": "white",
           "zerolinewidth": 2
          },
          "yaxis": {
           "automargin": true,
           "gridcolor": "white",
           "linecolor": "white",
           "ticks": "",
           "title": {
            "standoff": 15
           },
           "zerolinecolor": "white",
           "zerolinewidth": 2
          }
         }
        },
        "title": {
         "text": "SSE for dataset A"
        },
        "xaxis": {
         "anchor": "y",
         "domain": [
          0,
          1
         ],
         "title": {
          "text": "Number of clusters"
         }
        },
        "yaxis": {
         "anchor": "x",
         "domain": [
          0,
          1
         ],
         "title": {
          "text": "SSE"
         }
        }
       }
      }
     },
     "metadata": {},
     "output_type": "display_data"
    },
    {
     "data": {
      "application/vnd.plotly.v1+json": {
       "config": {
        "plotlyServerURL": "https://plot.ly"
       },
       "data": [
        {
         "hovertemplate": "Number of clusters=%{x}<br>SSE=%{y}<extra></extra>",
         "legendgroup": "",
         "line": {
          "color": "#636efa",
          "dash": "solid"
         },
         "marker": {
          "symbol": "circle"
         },
         "mode": "lines",
         "name": "",
         "orientation": "v",
         "showlegend": false,
         "type": "scatter",
         "x": [
          2,
          3,
          4,
          5,
          6,
          7,
          8,
          9,
          10
         ],
         "xaxis": "x",
         "y": [
          1278.1788633290544,
          586.5930116402117,
          365.373040933584,
          223.28370876984127,
          118.68449245063879,
          95.60320268873403,
          76.88424351190476,
          65.95134283882784,
          58.194892776915104
         ],
         "yaxis": "y"
        }
       ],
       "layout": {
        "legend": {
         "tracegroupgap": 0
        },
        "template": {
         "data": {
          "bar": [
           {
            "error_x": {
             "color": "#2a3f5f"
            },
            "error_y": {
             "color": "#2a3f5f"
            },
            "marker": {
             "line": {
              "color": "#E5ECF6",
              "width": 0.5
             },
             "pattern": {
              "fillmode": "overlay",
              "size": 10,
              "solidity": 0.2
             }
            },
            "type": "bar"
           }
          ],
          "barpolar": [
           {
            "marker": {
             "line": {
              "color": "#E5ECF6",
              "width": 0.5
             },
             "pattern": {
              "fillmode": "overlay",
              "size": 10,
              "solidity": 0.2
             }
            },
            "type": "barpolar"
           }
          ],
          "carpet": [
           {
            "aaxis": {
             "endlinecolor": "#2a3f5f",
             "gridcolor": "white",
             "linecolor": "white",
             "minorgridcolor": "white",
             "startlinecolor": "#2a3f5f"
            },
            "baxis": {
             "endlinecolor": "#2a3f5f",
             "gridcolor": "white",
             "linecolor": "white",
             "minorgridcolor": "white",
             "startlinecolor": "#2a3f5f"
            },
            "type": "carpet"
           }
          ],
          "choropleth": [
           {
            "colorbar": {
             "outlinewidth": 0,
             "ticks": ""
            },
            "type": "choropleth"
           }
          ],
          "contour": [
           {
            "colorbar": {
             "outlinewidth": 0,
             "ticks": ""
            },
            "colorscale": [
             [
              0,
              "#0d0887"
             ],
             [
              0.1111111111111111,
              "#46039f"
             ],
             [
              0.2222222222222222,
              "#7201a8"
             ],
             [
              0.3333333333333333,
              "#9c179e"
             ],
             [
              0.4444444444444444,
              "#bd3786"
             ],
             [
              0.5555555555555556,
              "#d8576b"
             ],
             [
              0.6666666666666666,
              "#ed7953"
             ],
             [
              0.7777777777777778,
              "#fb9f3a"
             ],
             [
              0.8888888888888888,
              "#fdca26"
             ],
             [
              1,
              "#f0f921"
             ]
            ],
            "type": "contour"
           }
          ],
          "contourcarpet": [
           {
            "colorbar": {
             "outlinewidth": 0,
             "ticks": ""
            },
            "type": "contourcarpet"
           }
          ],
          "heatmap": [
           {
            "colorbar": {
             "outlinewidth": 0,
             "ticks": ""
            },
            "colorscale": [
             [
              0,
              "#0d0887"
             ],
             [
              0.1111111111111111,
              "#46039f"
             ],
             [
              0.2222222222222222,
              "#7201a8"
             ],
             [
              0.3333333333333333,
              "#9c179e"
             ],
             [
              0.4444444444444444,
              "#bd3786"
             ],
             [
              0.5555555555555556,
              "#d8576b"
             ],
             [
              0.6666666666666666,
              "#ed7953"
             ],
             [
              0.7777777777777778,
              "#fb9f3a"
             ],
             [
              0.8888888888888888,
              "#fdca26"
             ],
             [
              1,
              "#f0f921"
             ]
            ],
            "type": "heatmap"
           }
          ],
          "heatmapgl": [
           {
            "colorbar": {
             "outlinewidth": 0,
             "ticks": ""
            },
            "colorscale": [
             [
              0,
              "#0d0887"
             ],
             [
              0.1111111111111111,
              "#46039f"
             ],
             [
              0.2222222222222222,
              "#7201a8"
             ],
             [
              0.3333333333333333,
              "#9c179e"
             ],
             [
              0.4444444444444444,
              "#bd3786"
             ],
             [
              0.5555555555555556,
              "#d8576b"
             ],
             [
              0.6666666666666666,
              "#ed7953"
             ],
             [
              0.7777777777777778,
              "#fb9f3a"
             ],
             [
              0.8888888888888888,
              "#fdca26"
             ],
             [
              1,
              "#f0f921"
             ]
            ],
            "type": "heatmapgl"
           }
          ],
          "histogram": [
           {
            "marker": {
             "pattern": {
              "fillmode": "overlay",
              "size": 10,
              "solidity": 0.2
             }
            },
            "type": "histogram"
           }
          ],
          "histogram2d": [
           {
            "colorbar": {
             "outlinewidth": 0,
             "ticks": ""
            },
            "colorscale": [
             [
              0,
              "#0d0887"
             ],
             [
              0.1111111111111111,
              "#46039f"
             ],
             [
              0.2222222222222222,
              "#7201a8"
             ],
             [
              0.3333333333333333,
              "#9c179e"
             ],
             [
              0.4444444444444444,
              "#bd3786"
             ],
             [
              0.5555555555555556,
              "#d8576b"
             ],
             [
              0.6666666666666666,
              "#ed7953"
             ],
             [
              0.7777777777777778,
              "#fb9f3a"
             ],
             [
              0.8888888888888888,
              "#fdca26"
             ],
             [
              1,
              "#f0f921"
             ]
            ],
            "type": "histogram2d"
           }
          ],
          "histogram2dcontour": [
           {
            "colorbar": {
             "outlinewidth": 0,
             "ticks": ""
            },
            "colorscale": [
             [
              0,
              "#0d0887"
             ],
             [
              0.1111111111111111,
              "#46039f"
             ],
             [
              0.2222222222222222,
              "#7201a8"
             ],
             [
              0.3333333333333333,
              "#9c179e"
             ],
             [
              0.4444444444444444,
              "#bd3786"
             ],
             [
              0.5555555555555556,
              "#d8576b"
             ],
             [
              0.6666666666666666,
              "#ed7953"
             ],
             [
              0.7777777777777778,
              "#fb9f3a"
             ],
             [
              0.8888888888888888,
              "#fdca26"
             ],
             [
              1,
              "#f0f921"
             ]
            ],
            "type": "histogram2dcontour"
           }
          ],
          "mesh3d": [
           {
            "colorbar": {
             "outlinewidth": 0,
             "ticks": ""
            },
            "type": "mesh3d"
           }
          ],
          "parcoords": [
           {
            "line": {
             "colorbar": {
              "outlinewidth": 0,
              "ticks": ""
             }
            },
            "type": "parcoords"
           }
          ],
          "pie": [
           {
            "automargin": true,
            "type": "pie"
           }
          ],
          "scatter": [
           {
            "marker": {
             "colorbar": {
              "outlinewidth": 0,
              "ticks": ""
             }
            },
            "type": "scatter"
           }
          ],
          "scatter3d": [
           {
            "line": {
             "colorbar": {
              "outlinewidth": 0,
              "ticks": ""
             }
            },
            "marker": {
             "colorbar": {
              "outlinewidth": 0,
              "ticks": ""
             }
            },
            "type": "scatter3d"
           }
          ],
          "scattercarpet": [
           {
            "marker": {
             "colorbar": {
              "outlinewidth": 0,
              "ticks": ""
             }
            },
            "type": "scattercarpet"
           }
          ],
          "scattergeo": [
           {
            "marker": {
             "colorbar": {
              "outlinewidth": 0,
              "ticks": ""
             }
            },
            "type": "scattergeo"
           }
          ],
          "scattergl": [
           {
            "marker": {
             "colorbar": {
              "outlinewidth": 0,
              "ticks": ""
             }
            },
            "type": "scattergl"
           }
          ],
          "scattermapbox": [
           {
            "marker": {
             "colorbar": {
              "outlinewidth": 0,
              "ticks": ""
             }
            },
            "type": "scattermapbox"
           }
          ],
          "scatterpolar": [
           {
            "marker": {
             "colorbar": {
              "outlinewidth": 0,
              "ticks": ""
             }
            },
            "type": "scatterpolar"
           }
          ],
          "scatterpolargl": [
           {
            "marker": {
             "colorbar": {
              "outlinewidth": 0,
              "ticks": ""
             }
            },
            "type": "scatterpolargl"
           }
          ],
          "scatterternary": [
           {
            "marker": {
             "colorbar": {
              "outlinewidth": 0,
              "ticks": ""
             }
            },
            "type": "scatterternary"
           }
          ],
          "surface": [
           {
            "colorbar": {
             "outlinewidth": 0,
             "ticks": ""
            },
            "colorscale": [
             [
              0,
              "#0d0887"
             ],
             [
              0.1111111111111111,
              "#46039f"
             ],
             [
              0.2222222222222222,
              "#7201a8"
             ],
             [
              0.3333333333333333,
              "#9c179e"
             ],
             [
              0.4444444444444444,
              "#bd3786"
             ],
             [
              0.5555555555555556,
              "#d8576b"
             ],
             [
              0.6666666666666666,
              "#ed7953"
             ],
             [
              0.7777777777777778,
              "#fb9f3a"
             ],
             [
              0.8888888888888888,
              "#fdca26"
             ],
             [
              1,
              "#f0f921"
             ]
            ],
            "type": "surface"
           }
          ],
          "table": [
           {
            "cells": {
             "fill": {
              "color": "#EBF0F8"
             },
             "line": {
              "color": "white"
             }
            },
            "header": {
             "fill": {
              "color": "#C8D4E3"
             },
             "line": {
              "color": "white"
             }
            },
            "type": "table"
           }
          ]
         },
         "layout": {
          "annotationdefaults": {
           "arrowcolor": "#2a3f5f",
           "arrowhead": 0,
           "arrowwidth": 1
          },
          "autotypenumbers": "strict",
          "coloraxis": {
           "colorbar": {
            "outlinewidth": 0,
            "ticks": ""
           }
          },
          "colorscale": {
           "diverging": [
            [
             0,
             "#8e0152"
            ],
            [
             0.1,
             "#c51b7d"
            ],
            [
             0.2,
             "#de77ae"
            ],
            [
             0.3,
             "#f1b6da"
            ],
            [
             0.4,
             "#fde0ef"
            ],
            [
             0.5,
             "#f7f7f7"
            ],
            [
             0.6,
             "#e6f5d0"
            ],
            [
             0.7,
             "#b8e186"
            ],
            [
             0.8,
             "#7fbc41"
            ],
            [
             0.9,
             "#4d9221"
            ],
            [
             1,
             "#276419"
            ]
           ],
           "sequential": [
            [
             0,
             "#0d0887"
            ],
            [
             0.1111111111111111,
             "#46039f"
            ],
            [
             0.2222222222222222,
             "#7201a8"
            ],
            [
             0.3333333333333333,
             "#9c179e"
            ],
            [
             0.4444444444444444,
             "#bd3786"
            ],
            [
             0.5555555555555556,
             "#d8576b"
            ],
            [
             0.6666666666666666,
             "#ed7953"
            ],
            [
             0.7777777777777778,
             "#fb9f3a"
            ],
            [
             0.8888888888888888,
             "#fdca26"
            ],
            [
             1,
             "#f0f921"
            ]
           ],
           "sequentialminus": [
            [
             0,
             "#0d0887"
            ],
            [
             0.1111111111111111,
             "#46039f"
            ],
            [
             0.2222222222222222,
             "#7201a8"
            ],
            [
             0.3333333333333333,
             "#9c179e"
            ],
            [
             0.4444444444444444,
             "#bd3786"
            ],
            [
             0.5555555555555556,
             "#d8576b"
            ],
            [
             0.6666666666666666,
             "#ed7953"
            ],
            [
             0.7777777777777778,
             "#fb9f3a"
            ],
            [
             0.8888888888888888,
             "#fdca26"
            ],
            [
             1,
             "#f0f921"
            ]
           ]
          },
          "colorway": [
           "#636efa",
           "#EF553B",
           "#00cc96",
           "#ab63fa",
           "#FFA15A",
           "#19d3f3",
           "#FF6692",
           "#B6E880",
           "#FF97FF",
           "#FECB52"
          ],
          "font": {
           "color": "#2a3f5f"
          },
          "geo": {
           "bgcolor": "white",
           "lakecolor": "white",
           "landcolor": "#E5ECF6",
           "showlakes": true,
           "showland": true,
           "subunitcolor": "white"
          },
          "hoverlabel": {
           "align": "left"
          },
          "hovermode": "closest",
          "mapbox": {
           "style": "light"
          },
          "paper_bgcolor": "white",
          "plot_bgcolor": "#E5ECF6",
          "polar": {
           "angularaxis": {
            "gridcolor": "white",
            "linecolor": "white",
            "ticks": ""
           },
           "bgcolor": "#E5ECF6",
           "radialaxis": {
            "gridcolor": "white",
            "linecolor": "white",
            "ticks": ""
           }
          },
          "scene": {
           "xaxis": {
            "backgroundcolor": "#E5ECF6",
            "gridcolor": "white",
            "gridwidth": 2,
            "linecolor": "white",
            "showbackground": true,
            "ticks": "",
            "zerolinecolor": "white"
           },
           "yaxis": {
            "backgroundcolor": "#E5ECF6",
            "gridcolor": "white",
            "gridwidth": 2,
            "linecolor": "white",
            "showbackground": true,
            "ticks": "",
            "zerolinecolor": "white"
           },
           "zaxis": {
            "backgroundcolor": "#E5ECF6",
            "gridcolor": "white",
            "gridwidth": 2,
            "linecolor": "white",
            "showbackground": true,
            "ticks": "",
            "zerolinecolor": "white"
           }
          },
          "shapedefaults": {
           "line": {
            "color": "#2a3f5f"
           }
          },
          "ternary": {
           "aaxis": {
            "gridcolor": "white",
            "linecolor": "white",
            "ticks": ""
           },
           "baxis": {
            "gridcolor": "white",
            "linecolor": "white",
            "ticks": ""
           },
           "bgcolor": "#E5ECF6",
           "caxis": {
            "gridcolor": "white",
            "linecolor": "white",
            "ticks": ""
           }
          },
          "title": {
           "x": 0.05
          },
          "xaxis": {
           "automargin": true,
           "gridcolor": "white",
           "linecolor": "white",
           "ticks": "",
           "title": {
            "standoff": 15
           },
           "zerolinecolor": "white",
           "zerolinewidth": 2
          },
          "yaxis": {
           "automargin": true,
           "gridcolor": "white",
           "linecolor": "white",
           "ticks": "",
           "title": {
            "standoff": 15
           },
           "zerolinecolor": "white",
           "zerolinewidth": 2
          }
         }
        },
        "title": {
         "text": "SSE for dataset B"
        },
        "xaxis": {
         "anchor": "y",
         "domain": [
          0,
          1
         ],
         "title": {
          "text": "Number of clusters"
         }
        },
        "yaxis": {
         "anchor": "x",
         "domain": [
          0,
          1
         ],
         "title": {
          "text": "SSE"
         }
        }
       }
      }
     },
     "metadata": {},
     "output_type": "display_data"
    }
   ],
   "source": [
    "# plot SSE for dataset A and B\n",
    "fig_sse_a = px.line(x=range(2, 11), y=sse_a, title='SSE for dataset A', labels={'x': 'Number of clusters', 'y': 'SSE'})\n",
    "fig_sse_a.show()\n",
    "fig_sse_b = px.line(x=range(2, 11), y=sse_b, title='SSE for dataset B', labels={'x': 'Number of clusters', 'y': 'SSE'})\n",
    "fig_sse_b.show()"
   ]
  },
  {
   "attachments": {},
   "cell_type": "markdown",
   "metadata": {},
   "source": [
    "Now we can visualize the cluster quality metric (Ray-Turi) as well:"
   ]
  },
  {
   "cell_type": "code",
   "execution_count": 19,
   "metadata": {},
   "outputs": [
    {
     "data": {
      "application/vnd.plotly.v1+json": {
       "config": {
        "plotlyServerURL": "https://plot.ly"
       },
       "data": [
        {
         "hovertemplate": "Number of clusters=%{x}<br>Cluster Quality=%{y}<extra></extra>",
         "legendgroup": "",
         "line": {
          "color": "#636efa",
          "dash": "solid"
         },
         "marker": {
          "symbol": "circle"
         },
         "mode": "lines",
         "name": "",
         "orientation": "v",
         "showlegend": false,
         "type": "scatter",
         "x": [
          2,
          3,
          4,
          5,
          6,
          7,
          8,
          9,
          10
         ],
         "xaxis": "x",
         "y": [
          46.256479457105485,
          33.205199017098295,
          34.221030028353645,
          18.9842024067854,
          12.185428813480726,
          59.978873342219586,
          54.398754650935494,
          56.06386616914521,
          57.30659779865401
         ],
         "yaxis": "y"
        }
       ],
       "layout": {
        "legend": {
         "tracegroupgap": 0
        },
        "template": {
         "data": {
          "bar": [
           {
            "error_x": {
             "color": "#2a3f5f"
            },
            "error_y": {
             "color": "#2a3f5f"
            },
            "marker": {
             "line": {
              "color": "#E5ECF6",
              "width": 0.5
             },
             "pattern": {
              "fillmode": "overlay",
              "size": 10,
              "solidity": 0.2
             }
            },
            "type": "bar"
           }
          ],
          "barpolar": [
           {
            "marker": {
             "line": {
              "color": "#E5ECF6",
              "width": 0.5
             },
             "pattern": {
              "fillmode": "overlay",
              "size": 10,
              "solidity": 0.2
             }
            },
            "type": "barpolar"
           }
          ],
          "carpet": [
           {
            "aaxis": {
             "endlinecolor": "#2a3f5f",
             "gridcolor": "white",
             "linecolor": "white",
             "minorgridcolor": "white",
             "startlinecolor": "#2a3f5f"
            },
            "baxis": {
             "endlinecolor": "#2a3f5f",
             "gridcolor": "white",
             "linecolor": "white",
             "minorgridcolor": "white",
             "startlinecolor": "#2a3f5f"
            },
            "type": "carpet"
           }
          ],
          "choropleth": [
           {
            "colorbar": {
             "outlinewidth": 0,
             "ticks": ""
            },
            "type": "choropleth"
           }
          ],
          "contour": [
           {
            "colorbar": {
             "outlinewidth": 0,
             "ticks": ""
            },
            "colorscale": [
             [
              0,
              "#0d0887"
             ],
             [
              0.1111111111111111,
              "#46039f"
             ],
             [
              0.2222222222222222,
              "#7201a8"
             ],
             [
              0.3333333333333333,
              "#9c179e"
             ],
             [
              0.4444444444444444,
              "#bd3786"
             ],
             [
              0.5555555555555556,
              "#d8576b"
             ],
             [
              0.6666666666666666,
              "#ed7953"
             ],
             [
              0.7777777777777778,
              "#fb9f3a"
             ],
             [
              0.8888888888888888,
              "#fdca26"
             ],
             [
              1,
              "#f0f921"
             ]
            ],
            "type": "contour"
           }
          ],
          "contourcarpet": [
           {
            "colorbar": {
             "outlinewidth": 0,
             "ticks": ""
            },
            "type": "contourcarpet"
           }
          ],
          "heatmap": [
           {
            "colorbar": {
             "outlinewidth": 0,
             "ticks": ""
            },
            "colorscale": [
             [
              0,
              "#0d0887"
             ],
             [
              0.1111111111111111,
              "#46039f"
             ],
             [
              0.2222222222222222,
              "#7201a8"
             ],
             [
              0.3333333333333333,
              "#9c179e"
             ],
             [
              0.4444444444444444,
              "#bd3786"
             ],
             [
              0.5555555555555556,
              "#d8576b"
             ],
             [
              0.6666666666666666,
              "#ed7953"
             ],
             [
              0.7777777777777778,
              "#fb9f3a"
             ],
             [
              0.8888888888888888,
              "#fdca26"
             ],
             [
              1,
              "#f0f921"
             ]
            ],
            "type": "heatmap"
           }
          ],
          "heatmapgl": [
           {
            "colorbar": {
             "outlinewidth": 0,
             "ticks": ""
            },
            "colorscale": [
             [
              0,
              "#0d0887"
             ],
             [
              0.1111111111111111,
              "#46039f"
             ],
             [
              0.2222222222222222,
              "#7201a8"
             ],
             [
              0.3333333333333333,
              "#9c179e"
             ],
             [
              0.4444444444444444,
              "#bd3786"
             ],
             [
              0.5555555555555556,
              "#d8576b"
             ],
             [
              0.6666666666666666,
              "#ed7953"
             ],
             [
              0.7777777777777778,
              "#fb9f3a"
             ],
             [
              0.8888888888888888,
              "#fdca26"
             ],
             [
              1,
              "#f0f921"
             ]
            ],
            "type": "heatmapgl"
           }
          ],
          "histogram": [
           {
            "marker": {
             "pattern": {
              "fillmode": "overlay",
              "size": 10,
              "solidity": 0.2
             }
            },
            "type": "histogram"
           }
          ],
          "histogram2d": [
           {
            "colorbar": {
             "outlinewidth": 0,
             "ticks": ""
            },
            "colorscale": [
             [
              0,
              "#0d0887"
             ],
             [
              0.1111111111111111,
              "#46039f"
             ],
             [
              0.2222222222222222,
              "#7201a8"
             ],
             [
              0.3333333333333333,
              "#9c179e"
             ],
             [
              0.4444444444444444,
              "#bd3786"
             ],
             [
              0.5555555555555556,
              "#d8576b"
             ],
             [
              0.6666666666666666,
              "#ed7953"
             ],
             [
              0.7777777777777778,
              "#fb9f3a"
             ],
             [
              0.8888888888888888,
              "#fdca26"
             ],
             [
              1,
              "#f0f921"
             ]
            ],
            "type": "histogram2d"
           }
          ],
          "histogram2dcontour": [
           {
            "colorbar": {
             "outlinewidth": 0,
             "ticks": ""
            },
            "colorscale": [
             [
              0,
              "#0d0887"
             ],
             [
              0.1111111111111111,
              "#46039f"
             ],
             [
              0.2222222222222222,
              "#7201a8"
             ],
             [
              0.3333333333333333,
              "#9c179e"
             ],
             [
              0.4444444444444444,
              "#bd3786"
             ],
             [
              0.5555555555555556,
              "#d8576b"
             ],
             [
              0.6666666666666666,
              "#ed7953"
             ],
             [
              0.7777777777777778,
              "#fb9f3a"
             ],
             [
              0.8888888888888888,
              "#fdca26"
             ],
             [
              1,
              "#f0f921"
             ]
            ],
            "type": "histogram2dcontour"
           }
          ],
          "mesh3d": [
           {
            "colorbar": {
             "outlinewidth": 0,
             "ticks": ""
            },
            "type": "mesh3d"
           }
          ],
          "parcoords": [
           {
            "line": {
             "colorbar": {
              "outlinewidth": 0,
              "ticks": ""
             }
            },
            "type": "parcoords"
           }
          ],
          "pie": [
           {
            "automargin": true,
            "type": "pie"
           }
          ],
          "scatter": [
           {
            "marker": {
             "colorbar": {
              "outlinewidth": 0,
              "ticks": ""
             }
            },
            "type": "scatter"
           }
          ],
          "scatter3d": [
           {
            "line": {
             "colorbar": {
              "outlinewidth": 0,
              "ticks": ""
             }
            },
            "marker": {
             "colorbar": {
              "outlinewidth": 0,
              "ticks": ""
             }
            },
            "type": "scatter3d"
           }
          ],
          "scattercarpet": [
           {
            "marker": {
             "colorbar": {
              "outlinewidth": 0,
              "ticks": ""
             }
            },
            "type": "scattercarpet"
           }
          ],
          "scattergeo": [
           {
            "marker": {
             "colorbar": {
              "outlinewidth": 0,
              "ticks": ""
             }
            },
            "type": "scattergeo"
           }
          ],
          "scattergl": [
           {
            "marker": {
             "colorbar": {
              "outlinewidth": 0,
              "ticks": ""
             }
            },
            "type": "scattergl"
           }
          ],
          "scattermapbox": [
           {
            "marker": {
             "colorbar": {
              "outlinewidth": 0,
              "ticks": ""
             }
            },
            "type": "scattermapbox"
           }
          ],
          "scatterpolar": [
           {
            "marker": {
             "colorbar": {
              "outlinewidth": 0,
              "ticks": ""
             }
            },
            "type": "scatterpolar"
           }
          ],
          "scatterpolargl": [
           {
            "marker": {
             "colorbar": {
              "outlinewidth": 0,
              "ticks": ""
             }
            },
            "type": "scatterpolargl"
           }
          ],
          "scatterternary": [
           {
            "marker": {
             "colorbar": {
              "outlinewidth": 0,
              "ticks": ""
             }
            },
            "type": "scatterternary"
           }
          ],
          "surface": [
           {
            "colorbar": {
             "outlinewidth": 0,
             "ticks": ""
            },
            "colorscale": [
             [
              0,
              "#0d0887"
             ],
             [
              0.1111111111111111,
              "#46039f"
             ],
             [
              0.2222222222222222,
              "#7201a8"
             ],
             [
              0.3333333333333333,
              "#9c179e"
             ],
             [
              0.4444444444444444,
              "#bd3786"
             ],
             [
              0.5555555555555556,
              "#d8576b"
             ],
             [
              0.6666666666666666,
              "#ed7953"
             ],
             [
              0.7777777777777778,
              "#fb9f3a"
             ],
             [
              0.8888888888888888,
              "#fdca26"
             ],
             [
              1,
              "#f0f921"
             ]
            ],
            "type": "surface"
           }
          ],
          "table": [
           {
            "cells": {
             "fill": {
              "color": "#EBF0F8"
             },
             "line": {
              "color": "white"
             }
            },
            "header": {
             "fill": {
              "color": "#C8D4E3"
             },
             "line": {
              "color": "white"
             }
            },
            "type": "table"
           }
          ]
         },
         "layout": {
          "annotationdefaults": {
           "arrowcolor": "#2a3f5f",
           "arrowhead": 0,
           "arrowwidth": 1
          },
          "autotypenumbers": "strict",
          "coloraxis": {
           "colorbar": {
            "outlinewidth": 0,
            "ticks": ""
           }
          },
          "colorscale": {
           "diverging": [
            [
             0,
             "#8e0152"
            ],
            [
             0.1,
             "#c51b7d"
            ],
            [
             0.2,
             "#de77ae"
            ],
            [
             0.3,
             "#f1b6da"
            ],
            [
             0.4,
             "#fde0ef"
            ],
            [
             0.5,
             "#f7f7f7"
            ],
            [
             0.6,
             "#e6f5d0"
            ],
            [
             0.7,
             "#b8e186"
            ],
            [
             0.8,
             "#7fbc41"
            ],
            [
             0.9,
             "#4d9221"
            ],
            [
             1,
             "#276419"
            ]
           ],
           "sequential": [
            [
             0,
             "#0d0887"
            ],
            [
             0.1111111111111111,
             "#46039f"
            ],
            [
             0.2222222222222222,
             "#7201a8"
            ],
            [
             0.3333333333333333,
             "#9c179e"
            ],
            [
             0.4444444444444444,
             "#bd3786"
            ],
            [
             0.5555555555555556,
             "#d8576b"
            ],
            [
             0.6666666666666666,
             "#ed7953"
            ],
            [
             0.7777777777777778,
             "#fb9f3a"
            ],
            [
             0.8888888888888888,
             "#fdca26"
            ],
            [
             1,
             "#f0f921"
            ]
           ],
           "sequentialminus": [
            [
             0,
             "#0d0887"
            ],
            [
             0.1111111111111111,
             "#46039f"
            ],
            [
             0.2222222222222222,
             "#7201a8"
            ],
            [
             0.3333333333333333,
             "#9c179e"
            ],
            [
             0.4444444444444444,
             "#bd3786"
            ],
            [
             0.5555555555555556,
             "#d8576b"
            ],
            [
             0.6666666666666666,
             "#ed7953"
            ],
            [
             0.7777777777777778,
             "#fb9f3a"
            ],
            [
             0.8888888888888888,
             "#fdca26"
            ],
            [
             1,
             "#f0f921"
            ]
           ]
          },
          "colorway": [
           "#636efa",
           "#EF553B",
           "#00cc96",
           "#ab63fa",
           "#FFA15A",
           "#19d3f3",
           "#FF6692",
           "#B6E880",
           "#FF97FF",
           "#FECB52"
          ],
          "font": {
           "color": "#2a3f5f"
          },
          "geo": {
           "bgcolor": "white",
           "lakecolor": "white",
           "landcolor": "#E5ECF6",
           "showlakes": true,
           "showland": true,
           "subunitcolor": "white"
          },
          "hoverlabel": {
           "align": "left"
          },
          "hovermode": "closest",
          "mapbox": {
           "style": "light"
          },
          "paper_bgcolor": "white",
          "plot_bgcolor": "#E5ECF6",
          "polar": {
           "angularaxis": {
            "gridcolor": "white",
            "linecolor": "white",
            "ticks": ""
           },
           "bgcolor": "#E5ECF6",
           "radialaxis": {
            "gridcolor": "white",
            "linecolor": "white",
            "ticks": ""
           }
          },
          "scene": {
           "xaxis": {
            "backgroundcolor": "#E5ECF6",
            "gridcolor": "white",
            "gridwidth": 2,
            "linecolor": "white",
            "showbackground": true,
            "ticks": "",
            "zerolinecolor": "white"
           },
           "yaxis": {
            "backgroundcolor": "#E5ECF6",
            "gridcolor": "white",
            "gridwidth": 2,
            "linecolor": "white",
            "showbackground": true,
            "ticks": "",
            "zerolinecolor": "white"
           },
           "zaxis": {
            "backgroundcolor": "#E5ECF6",
            "gridcolor": "white",
            "gridwidth": 2,
            "linecolor": "white",
            "showbackground": true,
            "ticks": "",
            "zerolinecolor": "white"
           }
          },
          "shapedefaults": {
           "line": {
            "color": "#2a3f5f"
           }
          },
          "ternary": {
           "aaxis": {
            "gridcolor": "white",
            "linecolor": "white",
            "ticks": ""
           },
           "baxis": {
            "gridcolor": "white",
            "linecolor": "white",
            "ticks": ""
           },
           "bgcolor": "#E5ECF6",
           "caxis": {
            "gridcolor": "white",
            "linecolor": "white",
            "ticks": ""
           }
          },
          "title": {
           "x": 0.05
          },
          "xaxis": {
           "automargin": true,
           "gridcolor": "white",
           "linecolor": "white",
           "ticks": "",
           "title": {
            "standoff": 15
           },
           "zerolinecolor": "white",
           "zerolinewidth": 2
          },
          "yaxis": {
           "automargin": true,
           "gridcolor": "white",
           "linecolor": "white",
           "ticks": "",
           "title": {
            "standoff": 15
           },
           "zerolinecolor": "white",
           "zerolinewidth": 2
          }
         }
        },
        "title": {
         "text": "Cluster Quality for dataset A"
        },
        "xaxis": {
         "anchor": "y",
         "domain": [
          0,
          1
         ],
         "title": {
          "text": "Number of clusters"
         }
        },
        "yaxis": {
         "anchor": "x",
         "domain": [
          0,
          1
         ],
         "title": {
          "text": "Cluster Quality"
         }
        }
       }
      }
     },
     "metadata": {},
     "output_type": "display_data"
    },
    {
     "data": {
      "application/vnd.plotly.v1+json": {
       "config": {
        "plotlyServerURL": "https://plot.ly"
       },
       "data": [
        {
         "hovertemplate": "Number of clusters=%{x}<br>Cluster Quality=%{y}<extra></extra>",
         "legendgroup": "",
         "line": {
          "color": "#636efa",
          "dash": "solid"
         },
         "marker": {
          "symbol": "circle"
         },
         "mode": "lines",
         "name": "",
         "orientation": "v",
         "showlegend": false,
         "type": "scatter",
         "x": [
          2,
          3,
          4,
          5,
          6,
          7,
          8,
          9,
          10
         ],
         "xaxis": "x",
         "y": [
          26.177423846642434,
          25.62550054516798,
          29.900320802447247,
          20.84214936927209,
          11.161571484069363,
          42.43046603132482,
          40.07114784097756,
          36.24036712053935,
          60.34611500764897
         ],
         "yaxis": "y"
        }
       ],
       "layout": {
        "legend": {
         "tracegroupgap": 0
        },
        "template": {
         "data": {
          "bar": [
           {
            "error_x": {
             "color": "#2a3f5f"
            },
            "error_y": {
             "color": "#2a3f5f"
            },
            "marker": {
             "line": {
              "color": "#E5ECF6",
              "width": 0.5
             },
             "pattern": {
              "fillmode": "overlay",
              "size": 10,
              "solidity": 0.2
             }
            },
            "type": "bar"
           }
          ],
          "barpolar": [
           {
            "marker": {
             "line": {
              "color": "#E5ECF6",
              "width": 0.5
             },
             "pattern": {
              "fillmode": "overlay",
              "size": 10,
              "solidity": 0.2
             }
            },
            "type": "barpolar"
           }
          ],
          "carpet": [
           {
            "aaxis": {
             "endlinecolor": "#2a3f5f",
             "gridcolor": "white",
             "linecolor": "white",
             "minorgridcolor": "white",
             "startlinecolor": "#2a3f5f"
            },
            "baxis": {
             "endlinecolor": "#2a3f5f",
             "gridcolor": "white",
             "linecolor": "white",
             "minorgridcolor": "white",
             "startlinecolor": "#2a3f5f"
            },
            "type": "carpet"
           }
          ],
          "choropleth": [
           {
            "colorbar": {
             "outlinewidth": 0,
             "ticks": ""
            },
            "type": "choropleth"
           }
          ],
          "contour": [
           {
            "colorbar": {
             "outlinewidth": 0,
             "ticks": ""
            },
            "colorscale": [
             [
              0,
              "#0d0887"
             ],
             [
              0.1111111111111111,
              "#46039f"
             ],
             [
              0.2222222222222222,
              "#7201a8"
             ],
             [
              0.3333333333333333,
              "#9c179e"
             ],
             [
              0.4444444444444444,
              "#bd3786"
             ],
             [
              0.5555555555555556,
              "#d8576b"
             ],
             [
              0.6666666666666666,
              "#ed7953"
             ],
             [
              0.7777777777777778,
              "#fb9f3a"
             ],
             [
              0.8888888888888888,
              "#fdca26"
             ],
             [
              1,
              "#f0f921"
             ]
            ],
            "type": "contour"
           }
          ],
          "contourcarpet": [
           {
            "colorbar": {
             "outlinewidth": 0,
             "ticks": ""
            },
            "type": "contourcarpet"
           }
          ],
          "heatmap": [
           {
            "colorbar": {
             "outlinewidth": 0,
             "ticks": ""
            },
            "colorscale": [
             [
              0,
              "#0d0887"
             ],
             [
              0.1111111111111111,
              "#46039f"
             ],
             [
              0.2222222222222222,
              "#7201a8"
             ],
             [
              0.3333333333333333,
              "#9c179e"
             ],
             [
              0.4444444444444444,
              "#bd3786"
             ],
             [
              0.5555555555555556,
              "#d8576b"
             ],
             [
              0.6666666666666666,
              "#ed7953"
             ],
             [
              0.7777777777777778,
              "#fb9f3a"
             ],
             [
              0.8888888888888888,
              "#fdca26"
             ],
             [
              1,
              "#f0f921"
             ]
            ],
            "type": "heatmap"
           }
          ],
          "heatmapgl": [
           {
            "colorbar": {
             "outlinewidth": 0,
             "ticks": ""
            },
            "colorscale": [
             [
              0,
              "#0d0887"
             ],
             [
              0.1111111111111111,
              "#46039f"
             ],
             [
              0.2222222222222222,
              "#7201a8"
             ],
             [
              0.3333333333333333,
              "#9c179e"
             ],
             [
              0.4444444444444444,
              "#bd3786"
             ],
             [
              0.5555555555555556,
              "#d8576b"
             ],
             [
              0.6666666666666666,
              "#ed7953"
             ],
             [
              0.7777777777777778,
              "#fb9f3a"
             ],
             [
              0.8888888888888888,
              "#fdca26"
             ],
             [
              1,
              "#f0f921"
             ]
            ],
            "type": "heatmapgl"
           }
          ],
          "histogram": [
           {
            "marker": {
             "pattern": {
              "fillmode": "overlay",
              "size": 10,
              "solidity": 0.2
             }
            },
            "type": "histogram"
           }
          ],
          "histogram2d": [
           {
            "colorbar": {
             "outlinewidth": 0,
             "ticks": ""
            },
            "colorscale": [
             [
              0,
              "#0d0887"
             ],
             [
              0.1111111111111111,
              "#46039f"
             ],
             [
              0.2222222222222222,
              "#7201a8"
             ],
             [
              0.3333333333333333,
              "#9c179e"
             ],
             [
              0.4444444444444444,
              "#bd3786"
             ],
             [
              0.5555555555555556,
              "#d8576b"
             ],
             [
              0.6666666666666666,
              "#ed7953"
             ],
             [
              0.7777777777777778,
              "#fb9f3a"
             ],
             [
              0.8888888888888888,
              "#fdca26"
             ],
             [
              1,
              "#f0f921"
             ]
            ],
            "type": "histogram2d"
           }
          ],
          "histogram2dcontour": [
           {
            "colorbar": {
             "outlinewidth": 0,
             "ticks": ""
            },
            "colorscale": [
             [
              0,
              "#0d0887"
             ],
             [
              0.1111111111111111,
              "#46039f"
             ],
             [
              0.2222222222222222,
              "#7201a8"
             ],
             [
              0.3333333333333333,
              "#9c179e"
             ],
             [
              0.4444444444444444,
              "#bd3786"
             ],
             [
              0.5555555555555556,
              "#d8576b"
             ],
             [
              0.6666666666666666,
              "#ed7953"
             ],
             [
              0.7777777777777778,
              "#fb9f3a"
             ],
             [
              0.8888888888888888,
              "#fdca26"
             ],
             [
              1,
              "#f0f921"
             ]
            ],
            "type": "histogram2dcontour"
           }
          ],
          "mesh3d": [
           {
            "colorbar": {
             "outlinewidth": 0,
             "ticks": ""
            },
            "type": "mesh3d"
           }
          ],
          "parcoords": [
           {
            "line": {
             "colorbar": {
              "outlinewidth": 0,
              "ticks": ""
             }
            },
            "type": "parcoords"
           }
          ],
          "pie": [
           {
            "automargin": true,
            "type": "pie"
           }
          ],
          "scatter": [
           {
            "marker": {
             "colorbar": {
              "outlinewidth": 0,
              "ticks": ""
             }
            },
            "type": "scatter"
           }
          ],
          "scatter3d": [
           {
            "line": {
             "colorbar": {
              "outlinewidth": 0,
              "ticks": ""
             }
            },
            "marker": {
             "colorbar": {
              "outlinewidth": 0,
              "ticks": ""
             }
            },
            "type": "scatter3d"
           }
          ],
          "scattercarpet": [
           {
            "marker": {
             "colorbar": {
              "outlinewidth": 0,
              "ticks": ""
             }
            },
            "type": "scattercarpet"
           }
          ],
          "scattergeo": [
           {
            "marker": {
             "colorbar": {
              "outlinewidth": 0,
              "ticks": ""
             }
            },
            "type": "scattergeo"
           }
          ],
          "scattergl": [
           {
            "marker": {
             "colorbar": {
              "outlinewidth": 0,
              "ticks": ""
             }
            },
            "type": "scattergl"
           }
          ],
          "scattermapbox": [
           {
            "marker": {
             "colorbar": {
              "outlinewidth": 0,
              "ticks": ""
             }
            },
            "type": "scattermapbox"
           }
          ],
          "scatterpolar": [
           {
            "marker": {
             "colorbar": {
              "outlinewidth": 0,
              "ticks": ""
             }
            },
            "type": "scatterpolar"
           }
          ],
          "scatterpolargl": [
           {
            "marker": {
             "colorbar": {
              "outlinewidth": 0,
              "ticks": ""
             }
            },
            "type": "scatterpolargl"
           }
          ],
          "scatterternary": [
           {
            "marker": {
             "colorbar": {
              "outlinewidth": 0,
              "ticks": ""
             }
            },
            "type": "scatterternary"
           }
          ],
          "surface": [
           {
            "colorbar": {
             "outlinewidth": 0,
             "ticks": ""
            },
            "colorscale": [
             [
              0,
              "#0d0887"
             ],
             [
              0.1111111111111111,
              "#46039f"
             ],
             [
              0.2222222222222222,
              "#7201a8"
             ],
             [
              0.3333333333333333,
              "#9c179e"
             ],
             [
              0.4444444444444444,
              "#bd3786"
             ],
             [
              0.5555555555555556,
              "#d8576b"
             ],
             [
              0.6666666666666666,
              "#ed7953"
             ],
             [
              0.7777777777777778,
              "#fb9f3a"
             ],
             [
              0.8888888888888888,
              "#fdca26"
             ],
             [
              1,
              "#f0f921"
             ]
            ],
            "type": "surface"
           }
          ],
          "table": [
           {
            "cells": {
             "fill": {
              "color": "#EBF0F8"
             },
             "line": {
              "color": "white"
             }
            },
            "header": {
             "fill": {
              "color": "#C8D4E3"
             },
             "line": {
              "color": "white"
             }
            },
            "type": "table"
           }
          ]
         },
         "layout": {
          "annotationdefaults": {
           "arrowcolor": "#2a3f5f",
           "arrowhead": 0,
           "arrowwidth": 1
          },
          "autotypenumbers": "strict",
          "coloraxis": {
           "colorbar": {
            "outlinewidth": 0,
            "ticks": ""
           }
          },
          "colorscale": {
           "diverging": [
            [
             0,
             "#8e0152"
            ],
            [
             0.1,
             "#c51b7d"
            ],
            [
             0.2,
             "#de77ae"
            ],
            [
             0.3,
             "#f1b6da"
            ],
            [
             0.4,
             "#fde0ef"
            ],
            [
             0.5,
             "#f7f7f7"
            ],
            [
             0.6,
             "#e6f5d0"
            ],
            [
             0.7,
             "#b8e186"
            ],
            [
             0.8,
             "#7fbc41"
            ],
            [
             0.9,
             "#4d9221"
            ],
            [
             1,
             "#276419"
            ]
           ],
           "sequential": [
            [
             0,
             "#0d0887"
            ],
            [
             0.1111111111111111,
             "#46039f"
            ],
            [
             0.2222222222222222,
             "#7201a8"
            ],
            [
             0.3333333333333333,
             "#9c179e"
            ],
            [
             0.4444444444444444,
             "#bd3786"
            ],
            [
             0.5555555555555556,
             "#d8576b"
            ],
            [
             0.6666666666666666,
             "#ed7953"
            ],
            [
             0.7777777777777778,
             "#fb9f3a"
            ],
            [
             0.8888888888888888,
             "#fdca26"
            ],
            [
             1,
             "#f0f921"
            ]
           ],
           "sequentialminus": [
            [
             0,
             "#0d0887"
            ],
            [
             0.1111111111111111,
             "#46039f"
            ],
            [
             0.2222222222222222,
             "#7201a8"
            ],
            [
             0.3333333333333333,
             "#9c179e"
            ],
            [
             0.4444444444444444,
             "#bd3786"
            ],
            [
             0.5555555555555556,
             "#d8576b"
            ],
            [
             0.6666666666666666,
             "#ed7953"
            ],
            [
             0.7777777777777778,
             "#fb9f3a"
            ],
            [
             0.8888888888888888,
             "#fdca26"
            ],
            [
             1,
             "#f0f921"
            ]
           ]
          },
          "colorway": [
           "#636efa",
           "#EF553B",
           "#00cc96",
           "#ab63fa",
           "#FFA15A",
           "#19d3f3",
           "#FF6692",
           "#B6E880",
           "#FF97FF",
           "#FECB52"
          ],
          "font": {
           "color": "#2a3f5f"
          },
          "geo": {
           "bgcolor": "white",
           "lakecolor": "white",
           "landcolor": "#E5ECF6",
           "showlakes": true,
           "showland": true,
           "subunitcolor": "white"
          },
          "hoverlabel": {
           "align": "left"
          },
          "hovermode": "closest",
          "mapbox": {
           "style": "light"
          },
          "paper_bgcolor": "white",
          "plot_bgcolor": "#E5ECF6",
          "polar": {
           "angularaxis": {
            "gridcolor": "white",
            "linecolor": "white",
            "ticks": ""
           },
           "bgcolor": "#E5ECF6",
           "radialaxis": {
            "gridcolor": "white",
            "linecolor": "white",
            "ticks": ""
           }
          },
          "scene": {
           "xaxis": {
            "backgroundcolor": "#E5ECF6",
            "gridcolor": "white",
            "gridwidth": 2,
            "linecolor": "white",
            "showbackground": true,
            "ticks": "",
            "zerolinecolor": "white"
           },
           "yaxis": {
            "backgroundcolor": "#E5ECF6",
            "gridcolor": "white",
            "gridwidth": 2,
            "linecolor": "white",
            "showbackground": true,
            "ticks": "",
            "zerolinecolor": "white"
           },
           "zaxis": {
            "backgroundcolor": "#E5ECF6",
            "gridcolor": "white",
            "gridwidth": 2,
            "linecolor": "white",
            "showbackground": true,
            "ticks": "",
            "zerolinecolor": "white"
           }
          },
          "shapedefaults": {
           "line": {
            "color": "#2a3f5f"
           }
          },
          "ternary": {
           "aaxis": {
            "gridcolor": "white",
            "linecolor": "white",
            "ticks": ""
           },
           "baxis": {
            "gridcolor": "white",
            "linecolor": "white",
            "ticks": ""
           },
           "bgcolor": "#E5ECF6",
           "caxis": {
            "gridcolor": "white",
            "linecolor": "white",
            "ticks": ""
           }
          },
          "title": {
           "x": 0.05
          },
          "xaxis": {
           "automargin": true,
           "gridcolor": "white",
           "linecolor": "white",
           "ticks": "",
           "title": {
            "standoff": 15
           },
           "zerolinecolor": "white",
           "zerolinewidth": 2
          },
          "yaxis": {
           "automargin": true,
           "gridcolor": "white",
           "linecolor": "white",
           "ticks": "",
           "title": {
            "standoff": 15
           },
           "zerolinecolor": "white",
           "zerolinewidth": 2
          }
         }
        },
        "title": {
         "text": "Cluster Quality for dataset B"
        },
        "xaxis": {
         "anchor": "y",
         "domain": [
          0,
          1
         ],
         "title": {
          "text": "Number of clusters"
         }
        },
        "yaxis": {
         "anchor": "x",
         "domain": [
          0,
          1
         ],
         "title": {
          "text": "Cluster Quality"
         }
        }
       }
      }
     },
     "metadata": {},
     "output_type": "display_data"
    }
   ],
   "source": [
    "fig_cq_a = px.line(x=range(2, 11), y=cluster_qualities_a, title='Cluster Quality for dataset A',\n",
    "                     labels={'x': 'Number of clusters', 'y': 'Cluster Quality'})\n",
    "fig_cq_a.show()\n",
    "\n",
    "fig_cq_b = px.line(x=range(2, 11), y=cluster_qualities_b, title='Cluster Quality for dataset B',\n",
    "                        labels={'x': 'Number of clusters', 'y': 'Cluster Quality'})\n",
    "fig_cq_b.show()"
   ]
  },
  {
   "attachments": {},
   "cell_type": "markdown",
   "metadata": {},
   "source": [
    "## Apply PCA to Example Data\n",
    "\n",
    "To further analyze, we apply PCA to our example data and visualize the first eigenvector for each data set:"
   ]
  },
  {
   "cell_type": "code",
   "execution_count": 20,
   "metadata": {},
   "outputs": [
    {
     "name": "stdout",
     "output_type": "stream",
     "text": [
      "Mean: [0.23       0.08988889]\n",
      "Standard Deviation: [3.44805017 2.72489775]\n",
      "Eigenvalues: [1.09553917 0.91563402]\n",
      "Eigenvectors: \n",
      "[[ 0.70710678  0.70710678]\n",
      " [ 0.70710678 -0.70710678]]\n",
      "[0.70710678 0.70710678]\n"
     ]
    },
    {
     "data": {
      "application/vnd.plotly.v1+json": {
       "config": {
        "plotlyServerURL": "https://plot.ly"
       },
       "data": [
        {
         "mode": "markers",
         "name": "Data Points",
         "type": "scatter",
         "x": [
          -2.81,
          -2.69,
          -1.98,
          -2.32,
          -2.45,
          -2.62,
          -2.81,
          -1.97,
          -2.48,
          -1.31,
          -2.37,
          -2.05,
          -1.93,
          -2.85,
          -2.87,
          -1.72,
          -2.3,
          -1.15,
          -2.53,
          -1.45,
          -2.76,
          -3.19,
          0.22,
          -0.52,
          -1.71,
          -2.68,
          -1.88,
          1.16,
          -3.12,
          -0.59,
          -1.54,
          -1.42,
          -0.61,
          -1.31,
          -0.63,
          0.17,
          -0.49,
          -0.93,
          -0.51,
          0.97,
          -0.59,
          -1.44,
          -2.59,
          -0.47,
          -1.14,
          -0.41,
          -0.93,
          -1.52,
          -1.31,
          -1.99,
          -1.78,
          -1.72,
          -0.26,
          -1.85,
          -0.68,
          -4.43,
          -5.4,
          -4.93,
          -3.73,
          -4.89,
          -4.83,
          -5.06,
          -5.21,
          -4.75,
          -4.91,
          -4.29,
          -5.31,
          -4.71,
          -3.72,
          -4.62,
          -4.44,
          -5.45,
          -5.77,
          -5.1,
          -5.72,
          -4.28,
          -5.04,
          -5.36,
          -6,
          -4.33,
          -4.58,
          -5.63,
          -4.73,
          -5.43,
          -5.28,
          -4.97,
          -4.47,
          3,
          2.69,
          1.75,
          2.61,
          1.4,
          2.51,
          3.06,
          2.75,
          3.08,
          3.68,
          3.83,
          2.76,
          2.88,
          3.65,
          2.38,
          3.46,
          1.86,
          2.84,
          3.22,
          2.87,
          4.1,
          3.11,
          3.64,
          3.32,
          1.92,
          1.85,
          2.41,
          2.13,
          2.76,
          3.73,
          4.66,
          4,
          4.7,
          4.93,
          5.12,
          5.16,
          5.01,
          3.85,
          5.42,
          5.77,
          4.57,
          4.91,
          4.24,
          3.78,
          2.8,
          4.11,
          5.72,
          3.91,
          2.91,
          4.1,
          5.03,
          5.4,
          3.56,
          3.33,
          3.98,
          5.76,
          4.17,
          4.87,
          4.9,
          5.62,
          4.71,
          4.43,
          5.34,
          4.05,
          6.23,
          3.68,
          4.12,
          3.25,
          3.78,
          5.01,
          4.83,
          5.12,
          4.22,
          -0.37,
          -0.01,
          0.24,
          -0.04,
          0.76,
          1.92,
          -0.66,
          -0.94,
          0.25,
          -0.41,
          -0.63,
          0.27,
          0.13,
          0.81,
          -0.52,
          -0.67,
          0.58,
          1.64,
          0.56,
          0.26
         ],
         "y": [
          5.28,
          4.26,
          3.65,
          3.72,
          4.22,
          4.12,
          4.65,
          4.67,
          4.24,
          4.21,
          5.47,
          4.74,
          4.81,
          4.28,
          3.46,
          4.1,
          5.12,
          3.66,
          3.54,
          4.57,
          3.87,
          3.84,
          -4.38,
          -4.62,
          -4.38,
          -2.18,
          -2.91,
          -4.52,
          -3.56,
          -2.34,
          -3.04,
          -2.98,
          -3.01,
          -2.9,
          -4.01,
          -3.37,
          -3.17,
          -3.01,
          -2.53,
          -2.53,
          -2.65,
          -2.83,
          -3.47,
          -3.38,
          -3.13,
          -3.32,
          -3.87,
          -3.26,
          -4.82,
          -5.14,
          -3.37,
          -3.34,
          -2.05,
          -4.63,
          -3.79,
          -0.99,
          -0.37,
          -0.87,
          -0.91,
          -1.16,
          -0.79,
          -0.54,
          -0.89,
          -1.47,
          -1.28,
          -0.96,
          -1.21,
          -1.17,
          0.02,
          -2.16,
          -1.09,
          -0.67,
          -0.9,
          -1.23,
          -0.9,
          -1.56,
          -1.45,
          -1.08,
          -2.05,
          -1.3,
          -1.88,
          -0.57,
          -1.08,
          -0.36,
          -0.16,
          -0.75,
          -1.69,
          3.52,
          4.3,
          3.98,
          2.09,
          3.55,
          3.19,
          4.96,
          3.36,
          3.01,
          3.24,
          3.17,
          3.49,
          4.1,
          2.84,
          3.25,
          3.67,
          3.94,
          2.91,
          3.52,
          3.25,
          3.57,
          2.71,
          4.68,
          4.16,
          3.97,
          3.75,
          3.63,
          3.88,
          3.21,
          3.64,
          -2.07,
          0.08,
          -0.57,
          -0.68,
          -2.2,
          0.28,
          -3.22,
          -0.47,
          -0.24,
          -1.35,
          -1.35,
          -0.33,
          -0.39,
          -0.1,
          -1.11,
          -1.81,
          -2.33,
          -1.64,
          0.79,
          -0.76,
          0.57,
          -2.76,
          -1.53,
          -1.97,
          0.25,
          -1.31,
          -2.03,
          -1.11,
          -0.32,
          -0.27,
          -2.39,
          -1.85,
          -1.17,
          -0.55,
          -1.86,
          -0.85,
          -1.51,
          -0.9,
          -0.75,
          -1.08,
          1,
          -1.23,
          -1.54,
          0.5,
          0.3,
          0.38,
          0.8,
          0.57,
          0.3,
          0.54,
          0.86,
          0.44,
          0.89,
          0.23,
          0.76,
          0.18,
          0.14,
          -0.61,
          0.14,
          -0.56,
          -0.78,
          -0.1,
          0.77
         ]
        },
        {
         "line": {
          "color": "red",
          "width": 2
         },
         "mode": "lines",
         "name": "First Eigenvector",
         "type": "scatter",
         "x": [
          0,
          0.7071067811865468
         ],
         "y": [
          0,
          0.7071067811865482
         ]
        }
       ],
       "layout": {
        "template": {
         "data": {
          "bar": [
           {
            "error_x": {
             "color": "#2a3f5f"
            },
            "error_y": {
             "color": "#2a3f5f"
            },
            "marker": {
             "line": {
              "color": "#E5ECF6",
              "width": 0.5
             },
             "pattern": {
              "fillmode": "overlay",
              "size": 10,
              "solidity": 0.2
             }
            },
            "type": "bar"
           }
          ],
          "barpolar": [
           {
            "marker": {
             "line": {
              "color": "#E5ECF6",
              "width": 0.5
             },
             "pattern": {
              "fillmode": "overlay",
              "size": 10,
              "solidity": 0.2
             }
            },
            "type": "barpolar"
           }
          ],
          "carpet": [
           {
            "aaxis": {
             "endlinecolor": "#2a3f5f",
             "gridcolor": "white",
             "linecolor": "white",
             "minorgridcolor": "white",
             "startlinecolor": "#2a3f5f"
            },
            "baxis": {
             "endlinecolor": "#2a3f5f",
             "gridcolor": "white",
             "linecolor": "white",
             "minorgridcolor": "white",
             "startlinecolor": "#2a3f5f"
            },
            "type": "carpet"
           }
          ],
          "choropleth": [
           {
            "colorbar": {
             "outlinewidth": 0,
             "ticks": ""
            },
            "type": "choropleth"
           }
          ],
          "contour": [
           {
            "colorbar": {
             "outlinewidth": 0,
             "ticks": ""
            },
            "colorscale": [
             [
              0,
              "#0d0887"
             ],
             [
              0.1111111111111111,
              "#46039f"
             ],
             [
              0.2222222222222222,
              "#7201a8"
             ],
             [
              0.3333333333333333,
              "#9c179e"
             ],
             [
              0.4444444444444444,
              "#bd3786"
             ],
             [
              0.5555555555555556,
              "#d8576b"
             ],
             [
              0.6666666666666666,
              "#ed7953"
             ],
             [
              0.7777777777777778,
              "#fb9f3a"
             ],
             [
              0.8888888888888888,
              "#fdca26"
             ],
             [
              1,
              "#f0f921"
             ]
            ],
            "type": "contour"
           }
          ],
          "contourcarpet": [
           {
            "colorbar": {
             "outlinewidth": 0,
             "ticks": ""
            },
            "type": "contourcarpet"
           }
          ],
          "heatmap": [
           {
            "colorbar": {
             "outlinewidth": 0,
             "ticks": ""
            },
            "colorscale": [
             [
              0,
              "#0d0887"
             ],
             [
              0.1111111111111111,
              "#46039f"
             ],
             [
              0.2222222222222222,
              "#7201a8"
             ],
             [
              0.3333333333333333,
              "#9c179e"
             ],
             [
              0.4444444444444444,
              "#bd3786"
             ],
             [
              0.5555555555555556,
              "#d8576b"
             ],
             [
              0.6666666666666666,
              "#ed7953"
             ],
             [
              0.7777777777777778,
              "#fb9f3a"
             ],
             [
              0.8888888888888888,
              "#fdca26"
             ],
             [
              1,
              "#f0f921"
             ]
            ],
            "type": "heatmap"
           }
          ],
          "heatmapgl": [
           {
            "colorbar": {
             "outlinewidth": 0,
             "ticks": ""
            },
            "colorscale": [
             [
              0,
              "#0d0887"
             ],
             [
              0.1111111111111111,
              "#46039f"
             ],
             [
              0.2222222222222222,
              "#7201a8"
             ],
             [
              0.3333333333333333,
              "#9c179e"
             ],
             [
              0.4444444444444444,
              "#bd3786"
             ],
             [
              0.5555555555555556,
              "#d8576b"
             ],
             [
              0.6666666666666666,
              "#ed7953"
             ],
             [
              0.7777777777777778,
              "#fb9f3a"
             ],
             [
              0.8888888888888888,
              "#fdca26"
             ],
             [
              1,
              "#f0f921"
             ]
            ],
            "type": "heatmapgl"
           }
          ],
          "histogram": [
           {
            "marker": {
             "pattern": {
              "fillmode": "overlay",
              "size": 10,
              "solidity": 0.2
             }
            },
            "type": "histogram"
           }
          ],
          "histogram2d": [
           {
            "colorbar": {
             "outlinewidth": 0,
             "ticks": ""
            },
            "colorscale": [
             [
              0,
              "#0d0887"
             ],
             [
              0.1111111111111111,
              "#46039f"
             ],
             [
              0.2222222222222222,
              "#7201a8"
             ],
             [
              0.3333333333333333,
              "#9c179e"
             ],
             [
              0.4444444444444444,
              "#bd3786"
             ],
             [
              0.5555555555555556,
              "#d8576b"
             ],
             [
              0.6666666666666666,
              "#ed7953"
             ],
             [
              0.7777777777777778,
              "#fb9f3a"
             ],
             [
              0.8888888888888888,
              "#fdca26"
             ],
             [
              1,
              "#f0f921"
             ]
            ],
            "type": "histogram2d"
           }
          ],
          "histogram2dcontour": [
           {
            "colorbar": {
             "outlinewidth": 0,
             "ticks": ""
            },
            "colorscale": [
             [
              0,
              "#0d0887"
             ],
             [
              0.1111111111111111,
              "#46039f"
             ],
             [
              0.2222222222222222,
              "#7201a8"
             ],
             [
              0.3333333333333333,
              "#9c179e"
             ],
             [
              0.4444444444444444,
              "#bd3786"
             ],
             [
              0.5555555555555556,
              "#d8576b"
             ],
             [
              0.6666666666666666,
              "#ed7953"
             ],
             [
              0.7777777777777778,
              "#fb9f3a"
             ],
             [
              0.8888888888888888,
              "#fdca26"
             ],
             [
              1,
              "#f0f921"
             ]
            ],
            "type": "histogram2dcontour"
           }
          ],
          "mesh3d": [
           {
            "colorbar": {
             "outlinewidth": 0,
             "ticks": ""
            },
            "type": "mesh3d"
           }
          ],
          "parcoords": [
           {
            "line": {
             "colorbar": {
              "outlinewidth": 0,
              "ticks": ""
             }
            },
            "type": "parcoords"
           }
          ],
          "pie": [
           {
            "automargin": true,
            "type": "pie"
           }
          ],
          "scatter": [
           {
            "marker": {
             "colorbar": {
              "outlinewidth": 0,
              "ticks": ""
             }
            },
            "type": "scatter"
           }
          ],
          "scatter3d": [
           {
            "line": {
             "colorbar": {
              "outlinewidth": 0,
              "ticks": ""
             }
            },
            "marker": {
             "colorbar": {
              "outlinewidth": 0,
              "ticks": ""
             }
            },
            "type": "scatter3d"
           }
          ],
          "scattercarpet": [
           {
            "marker": {
             "colorbar": {
              "outlinewidth": 0,
              "ticks": ""
             }
            },
            "type": "scattercarpet"
           }
          ],
          "scattergeo": [
           {
            "marker": {
             "colorbar": {
              "outlinewidth": 0,
              "ticks": ""
             }
            },
            "type": "scattergeo"
           }
          ],
          "scattergl": [
           {
            "marker": {
             "colorbar": {
              "outlinewidth": 0,
              "ticks": ""
             }
            },
            "type": "scattergl"
           }
          ],
          "scattermapbox": [
           {
            "marker": {
             "colorbar": {
              "outlinewidth": 0,
              "ticks": ""
             }
            },
            "type": "scattermapbox"
           }
          ],
          "scatterpolar": [
           {
            "marker": {
             "colorbar": {
              "outlinewidth": 0,
              "ticks": ""
             }
            },
            "type": "scatterpolar"
           }
          ],
          "scatterpolargl": [
           {
            "marker": {
             "colorbar": {
              "outlinewidth": 0,
              "ticks": ""
             }
            },
            "type": "scatterpolargl"
           }
          ],
          "scatterternary": [
           {
            "marker": {
             "colorbar": {
              "outlinewidth": 0,
              "ticks": ""
             }
            },
            "type": "scatterternary"
           }
          ],
          "surface": [
           {
            "colorbar": {
             "outlinewidth": 0,
             "ticks": ""
            },
            "colorscale": [
             [
              0,
              "#0d0887"
             ],
             [
              0.1111111111111111,
              "#46039f"
             ],
             [
              0.2222222222222222,
              "#7201a8"
             ],
             [
              0.3333333333333333,
              "#9c179e"
             ],
             [
              0.4444444444444444,
              "#bd3786"
             ],
             [
              0.5555555555555556,
              "#d8576b"
             ],
             [
              0.6666666666666666,
              "#ed7953"
             ],
             [
              0.7777777777777778,
              "#fb9f3a"
             ],
             [
              0.8888888888888888,
              "#fdca26"
             ],
             [
              1,
              "#f0f921"
             ]
            ],
            "type": "surface"
           }
          ],
          "table": [
           {
            "cells": {
             "fill": {
              "color": "#EBF0F8"
             },
             "line": {
              "color": "white"
             }
            },
            "header": {
             "fill": {
              "color": "#C8D4E3"
             },
             "line": {
              "color": "white"
             }
            },
            "type": "table"
           }
          ]
         },
         "layout": {
          "annotationdefaults": {
           "arrowcolor": "#2a3f5f",
           "arrowhead": 0,
           "arrowwidth": 1
          },
          "autotypenumbers": "strict",
          "coloraxis": {
           "colorbar": {
            "outlinewidth": 0,
            "ticks": ""
           }
          },
          "colorscale": {
           "diverging": [
            [
             0,
             "#8e0152"
            ],
            [
             0.1,
             "#c51b7d"
            ],
            [
             0.2,
             "#de77ae"
            ],
            [
             0.3,
             "#f1b6da"
            ],
            [
             0.4,
             "#fde0ef"
            ],
            [
             0.5,
             "#f7f7f7"
            ],
            [
             0.6,
             "#e6f5d0"
            ],
            [
             0.7,
             "#b8e186"
            ],
            [
             0.8,
             "#7fbc41"
            ],
            [
             0.9,
             "#4d9221"
            ],
            [
             1,
             "#276419"
            ]
           ],
           "sequential": [
            [
             0,
             "#0d0887"
            ],
            [
             0.1111111111111111,
             "#46039f"
            ],
            [
             0.2222222222222222,
             "#7201a8"
            ],
            [
             0.3333333333333333,
             "#9c179e"
            ],
            [
             0.4444444444444444,
             "#bd3786"
            ],
            [
             0.5555555555555556,
             "#d8576b"
            ],
            [
             0.6666666666666666,
             "#ed7953"
            ],
            [
             0.7777777777777778,
             "#fb9f3a"
            ],
            [
             0.8888888888888888,
             "#fdca26"
            ],
            [
             1,
             "#f0f921"
            ]
           ],
           "sequentialminus": [
            [
             0,
             "#0d0887"
            ],
            [
             0.1111111111111111,
             "#46039f"
            ],
            [
             0.2222222222222222,
             "#7201a8"
            ],
            [
             0.3333333333333333,
             "#9c179e"
            ],
            [
             0.4444444444444444,
             "#bd3786"
            ],
            [
             0.5555555555555556,
             "#d8576b"
            ],
            [
             0.6666666666666666,
             "#ed7953"
            ],
            [
             0.7777777777777778,
             "#fb9f3a"
            ],
            [
             0.8888888888888888,
             "#fdca26"
            ],
            [
             1,
             "#f0f921"
            ]
           ]
          },
          "colorway": [
           "#636efa",
           "#EF553B",
           "#00cc96",
           "#ab63fa",
           "#FFA15A",
           "#19d3f3",
           "#FF6692",
           "#B6E880",
           "#FF97FF",
           "#FECB52"
          ],
          "font": {
           "color": "#2a3f5f"
          },
          "geo": {
           "bgcolor": "white",
           "lakecolor": "white",
           "landcolor": "#E5ECF6",
           "showlakes": true,
           "showland": true,
           "subunitcolor": "white"
          },
          "hoverlabel": {
           "align": "left"
          },
          "hovermode": "closest",
          "mapbox": {
           "style": "light"
          },
          "paper_bgcolor": "white",
          "plot_bgcolor": "#E5ECF6",
          "polar": {
           "angularaxis": {
            "gridcolor": "white",
            "linecolor": "white",
            "ticks": ""
           },
           "bgcolor": "#E5ECF6",
           "radialaxis": {
            "gridcolor": "white",
            "linecolor": "white",
            "ticks": ""
           }
          },
          "scene": {
           "xaxis": {
            "backgroundcolor": "#E5ECF6",
            "gridcolor": "white",
            "gridwidth": 2,
            "linecolor": "white",
            "showbackground": true,
            "ticks": "",
            "zerolinecolor": "white"
           },
           "yaxis": {
            "backgroundcolor": "#E5ECF6",
            "gridcolor": "white",
            "gridwidth": 2,
            "linecolor": "white",
            "showbackground": true,
            "ticks": "",
            "zerolinecolor": "white"
           },
           "zaxis": {
            "backgroundcolor": "#E5ECF6",
            "gridcolor": "white",
            "gridwidth": 2,
            "linecolor": "white",
            "showbackground": true,
            "ticks": "",
            "zerolinecolor": "white"
           }
          },
          "shapedefaults": {
           "line": {
            "color": "#2a3f5f"
           }
          },
          "ternary": {
           "aaxis": {
            "gridcolor": "white",
            "linecolor": "white",
            "ticks": ""
           },
           "baxis": {
            "gridcolor": "white",
            "linecolor": "white",
            "ticks": ""
           },
           "bgcolor": "#E5ECF6",
           "caxis": {
            "gridcolor": "white",
            "linecolor": "white",
            "ticks": ""
           }
          },
          "title": {
           "x": 0.05
          },
          "xaxis": {
           "automargin": true,
           "gridcolor": "white",
           "linecolor": "white",
           "ticks": "",
           "title": {
            "standoff": 15
           },
           "zerolinecolor": "white",
           "zerolinewidth": 2
          },
          "yaxis": {
           "automargin": true,
           "gridcolor": "white",
           "linecolor": "white",
           "ticks": "",
           "title": {
            "standoff": 15
           },
           "zerolinecolor": "white",
           "zerolinewidth": 2
          }
         }
        },
        "title": {
         "text": "PCA for dataset A"
        },
        "xaxis": {
         "title": {
          "text": "X1"
         }
        },
        "yaxis": {
         "title": {
          "text": "X2"
         }
        }
       }
      }
     },
     "metadata": {},
     "output_type": "display_data"
    }
   ],
   "source": [
    "# perform PCA on dataset A\n",
    "data_a = data_a[['X1', 'X2']]\n",
    "pca_a = PCA(data=data_a)\n",
    "projected_a = pca_a.do_pca()\n",
    "first_eigen_vector_a = pca_a.components[0]\n",
    "print(first_eigen_vector_a)\n",
    "\n",
    "# plot the data for dataset A and the first eigenvector\n",
    "fig_a = go.Figure()\n",
    "fig_a.add_trace(go.Scatter(x=data_a['X1'], y=data_a['X2'], mode='markers', name='Data Points'))\n",
    "fig_a.add_trace(go.Scatter(x=[0, first_eigen_vector_a[0]], y=[0, first_eigen_vector_a[1]],\n",
    "                           mode='lines', line=dict(color='red', width=2), name='First Eigenvector'))\n",
    "fig_a.update(layout=dict(title='PCA for dataset A', xaxis_title='X1', yaxis_title='X2'))\n",
    "fig_a.show()\n"
   ]
  },
  {
   "cell_type": "code",
   "execution_count": 21,
   "metadata": {},
   "outputs": [
    {
     "name": "stdout",
     "output_type": "stream",
     "text": [
      "Mean: [-0.75455556  0.50227778]\n",
      "Standard Deviation: [2.32178531 3.50371816]\n",
      "Eigenvalues: [1.33428193 0.67689125]\n",
      "Eigenvectors: \n",
      "[[ 0.70710678  0.70710678]\n",
      " [-0.70710678  0.70710678]]\n",
      "[0.70710678 0.70710678]\n"
     ]
    },
    {
     "data": {
      "application/vnd.plotly.v1+json": {
       "config": {
        "plotlyServerURL": "https://plot.ly"
       },
       "data": [
        {
         "mode": "markers",
         "name": "Data Points",
         "type": "scatter",
         "x": [
          -3.88,
          -4.46,
          -3.49,
          -3.6,
          -2.81,
          -4.45,
          -2.72,
          -3.95,
          -2.96,
          -3.21,
          -2.87,
          -3.8,
          -3.51,
          -3.25,
          -3.89,
          -2.72,
          -3.11,
          -3.5,
          -3.15,
          -4.13,
          -3.55,
          -3.29,
          -3.34,
          -3.03,
          -4.51,
          -3.73,
          -4.68,
          -2.97,
          -4.4,
          -3.26,
          -2.81,
          -4.2,
          -4.35,
          -3.8,
          -3.82,
          -3.63,
          -2.18,
          -4.4,
          -3.16,
          -2.52,
          -3.09,
          -2.81,
          -2.94,
          -3.31,
          -4.08,
          -3.69,
          -3.02,
          -3.64,
          -3.56,
          -3.69,
          -4.87,
          -3.35,
          -4.41,
          -3.08,
          -3.99,
          -4.01,
          -4.67,
          -3.35,
          -4.14,
          -4.04,
          -4.45,
          -4.25,
          -2.09,
          0.07,
          -1.07,
          -0.75,
          -0.32,
          -0.58,
          -0.19,
          0.01,
          0.48,
          -0.37,
          -1.03,
          -0.84,
          -0.32,
          0.15,
          -0.18,
          0.21,
          0.27,
          -0.82,
          -1.32,
          0.35,
          0.23,
          0.42,
          0.3,
          -0.96,
          -0.12,
          -0.13,
          -0.09,
          0.31,
          0.08,
          -0.21,
          0.07,
          0.3,
          -0.23,
          -1.03,
          0.31,
          -0.14,
          -0.54,
          -0.38,
          0.1,
          -0.37,
          -0.15,
          -0.69,
          -0.2,
          -0.17,
          -1,
          -0.76,
          -0.05,
          -0.01,
          -0.82,
          -0.68,
          -0.53,
          -0.09,
          0.05,
          -0.31,
          0.16,
          2.36,
          2.43,
          2.91,
          2.83,
          2.11,
          3.16,
          1.66,
          2.14,
          4.56,
          2.92,
          3.34,
          2.47,
          3.46,
          2.34,
          1.15,
          2.8,
          2.02,
          2.45,
          2.16,
          3.14,
          2.6,
          2.28,
          1.17,
          0.94,
          1.81,
          1,
          0.37,
          1.06,
          0.64,
          1.27,
          1.32,
          1.96,
          -0.3,
          1.67,
          0.67,
          0.26,
          1.51,
          0.94,
          1.17,
          1.57,
          1.04,
          1.74,
          0.58,
          0.94,
          1.28,
          1.45,
          0.61,
          0.69,
          0.59,
          1.5,
          0.59,
          1.93,
          2.2,
          1.61,
          2.36,
          1.29,
          0.66,
          0.27,
          0.29,
          1.35,
          2.08,
          0.77,
          1.24
         ],
         "y": [
          -5.37,
          -5.69,
          -4.84,
          -4.73,
          -4.02,
          -5.36,
          -4.15,
          -5.1,
          -3.97,
          -4.27,
          -4.33,
          -4.86,
          -4.53,
          -4.14,
          -4.4,
          -3.79,
          -4.67,
          -4.44,
          -4.07,
          -5.29,
          -4.79,
          2.12,
          2.73,
          2.88,
          1.47,
          2.23,
          0.72,
          2.79,
          1.69,
          2.52,
          3.11,
          1.51,
          1.42,
          2.09,
          2.13,
          1.85,
          3.72,
          1.34,
          2.93,
          3.26,
          2.74,
          2.83,
          2.9,
          2.33,
          2,
          1.8,
          2.69,
          2.22,
          2.5,
          2.35,
          0.92,
          2.07,
          1.55,
          2.82,
          2.13,
          2.01,
          1.22,
          2.21,
          1.51,
          1.82,
          1.55,
          1.51,
          -1.07,
          0.96,
          0.04,
          0.46,
          0.46,
          0.56,
          0.73,
          0.8,
          1.37,
          0.73,
          -0.14,
          0.25,
          0.88,
          1.22,
          0.86,
          1.07,
          1.09,
          0.02,
          -0.32,
          1.29,
          -3.63,
          -3.56,
          -3.52,
          -4.78,
          -3.98,
          -3.96,
          -4.11,
          -3.53,
          -3.76,
          -4.16,
          -3.74,
          -3.66,
          -4.08,
          -5.04,
          -3.69,
          -4.16,
          -4.53,
          -4.27,
          -3.85,
          -4.2,
          -3.92,
          -4.66,
          -3.99,
          -3.85,
          -4.84,
          -4.73,
          -3.87,
          -3.79,
          -4.55,
          -4.34,
          -4.19,
          -3.98,
          -3.84,
          -4.22,
          -3.81,
          2.01,
          2.04,
          1.98,
          1.63,
          1.49,
          2.46,
          1.09,
          1.19,
          3.45,
          1.73,
          2.14,
          1.37,
          2.39,
          1.54,
          0.34,
          1.95,
          1.22,
          1.62,
          1.29,
          2.33,
          1.33,
          1.4,
          4.88,
          4.26,
          5.76,
          4.63,
          3.81,
          5.07,
          4.03,
          4.88,
          4.78,
          5.57,
          3.31,
          5.09,
          4.29,
          3.31,
          4.84,
          4.75,
          4.55,
          5.11,
          4.39,
          5.37,
          4.2,
          4.87,
          4.54,
          4.82,
          4.3,
          4.45,
          4.36,
          5.04,
          4.18,
          5.35,
          5.81,
          5.03,
          6.23,
          4.64,
          4.35,
          3.92,
          3.92,
          5.22,
          5.43,
          4.28,
          4.95
         ]
        },
        {
         "line": {
          "color": "red",
          "width": 2
         },
         "mode": "lines",
         "name": "First Eigenvector",
         "type": "scatter",
         "x": [
          0,
          0.7071067811865475
         ],
         "y": [
          0,
          0.7071067811865475
         ]
        }
       ],
       "layout": {
        "template": {
         "data": {
          "bar": [
           {
            "error_x": {
             "color": "#2a3f5f"
            },
            "error_y": {
             "color": "#2a3f5f"
            },
            "marker": {
             "line": {
              "color": "#E5ECF6",
              "width": 0.5
             },
             "pattern": {
              "fillmode": "overlay",
              "size": 10,
              "solidity": 0.2
             }
            },
            "type": "bar"
           }
          ],
          "barpolar": [
           {
            "marker": {
             "line": {
              "color": "#E5ECF6",
              "width": 0.5
             },
             "pattern": {
              "fillmode": "overlay",
              "size": 10,
              "solidity": 0.2
             }
            },
            "type": "barpolar"
           }
          ],
          "carpet": [
           {
            "aaxis": {
             "endlinecolor": "#2a3f5f",
             "gridcolor": "white",
             "linecolor": "white",
             "minorgridcolor": "white",
             "startlinecolor": "#2a3f5f"
            },
            "baxis": {
             "endlinecolor": "#2a3f5f",
             "gridcolor": "white",
             "linecolor": "white",
             "minorgridcolor": "white",
             "startlinecolor": "#2a3f5f"
            },
            "type": "carpet"
           }
          ],
          "choropleth": [
           {
            "colorbar": {
             "outlinewidth": 0,
             "ticks": ""
            },
            "type": "choropleth"
           }
          ],
          "contour": [
           {
            "colorbar": {
             "outlinewidth": 0,
             "ticks": ""
            },
            "colorscale": [
             [
              0,
              "#0d0887"
             ],
             [
              0.1111111111111111,
              "#46039f"
             ],
             [
              0.2222222222222222,
              "#7201a8"
             ],
             [
              0.3333333333333333,
              "#9c179e"
             ],
             [
              0.4444444444444444,
              "#bd3786"
             ],
             [
              0.5555555555555556,
              "#d8576b"
             ],
             [
              0.6666666666666666,
              "#ed7953"
             ],
             [
              0.7777777777777778,
              "#fb9f3a"
             ],
             [
              0.8888888888888888,
              "#fdca26"
             ],
             [
              1,
              "#f0f921"
             ]
            ],
            "type": "contour"
           }
          ],
          "contourcarpet": [
           {
            "colorbar": {
             "outlinewidth": 0,
             "ticks": ""
            },
            "type": "contourcarpet"
           }
          ],
          "heatmap": [
           {
            "colorbar": {
             "outlinewidth": 0,
             "ticks": ""
            },
            "colorscale": [
             [
              0,
              "#0d0887"
             ],
             [
              0.1111111111111111,
              "#46039f"
             ],
             [
              0.2222222222222222,
              "#7201a8"
             ],
             [
              0.3333333333333333,
              "#9c179e"
             ],
             [
              0.4444444444444444,
              "#bd3786"
             ],
             [
              0.5555555555555556,
              "#d8576b"
             ],
             [
              0.6666666666666666,
              "#ed7953"
             ],
             [
              0.7777777777777778,
              "#fb9f3a"
             ],
             [
              0.8888888888888888,
              "#fdca26"
             ],
             [
              1,
              "#f0f921"
             ]
            ],
            "type": "heatmap"
           }
          ],
          "heatmapgl": [
           {
            "colorbar": {
             "outlinewidth": 0,
             "ticks": ""
            },
            "colorscale": [
             [
              0,
              "#0d0887"
             ],
             [
              0.1111111111111111,
              "#46039f"
             ],
             [
              0.2222222222222222,
              "#7201a8"
             ],
             [
              0.3333333333333333,
              "#9c179e"
             ],
             [
              0.4444444444444444,
              "#bd3786"
             ],
             [
              0.5555555555555556,
              "#d8576b"
             ],
             [
              0.6666666666666666,
              "#ed7953"
             ],
             [
              0.7777777777777778,
              "#fb9f3a"
             ],
             [
              0.8888888888888888,
              "#fdca26"
             ],
             [
              1,
              "#f0f921"
             ]
            ],
            "type": "heatmapgl"
           }
          ],
          "histogram": [
           {
            "marker": {
             "pattern": {
              "fillmode": "overlay",
              "size": 10,
              "solidity": 0.2
             }
            },
            "type": "histogram"
           }
          ],
          "histogram2d": [
           {
            "colorbar": {
             "outlinewidth": 0,
             "ticks": ""
            },
            "colorscale": [
             [
              0,
              "#0d0887"
             ],
             [
              0.1111111111111111,
              "#46039f"
             ],
             [
              0.2222222222222222,
              "#7201a8"
             ],
             [
              0.3333333333333333,
              "#9c179e"
             ],
             [
              0.4444444444444444,
              "#bd3786"
             ],
             [
              0.5555555555555556,
              "#d8576b"
             ],
             [
              0.6666666666666666,
              "#ed7953"
             ],
             [
              0.7777777777777778,
              "#fb9f3a"
             ],
             [
              0.8888888888888888,
              "#fdca26"
             ],
             [
              1,
              "#f0f921"
             ]
            ],
            "type": "histogram2d"
           }
          ],
          "histogram2dcontour": [
           {
            "colorbar": {
             "outlinewidth": 0,
             "ticks": ""
            },
            "colorscale": [
             [
              0,
              "#0d0887"
             ],
             [
              0.1111111111111111,
              "#46039f"
             ],
             [
              0.2222222222222222,
              "#7201a8"
             ],
             [
              0.3333333333333333,
              "#9c179e"
             ],
             [
              0.4444444444444444,
              "#bd3786"
             ],
             [
              0.5555555555555556,
              "#d8576b"
             ],
             [
              0.6666666666666666,
              "#ed7953"
             ],
             [
              0.7777777777777778,
              "#fb9f3a"
             ],
             [
              0.8888888888888888,
              "#fdca26"
             ],
             [
              1,
              "#f0f921"
             ]
            ],
            "type": "histogram2dcontour"
           }
          ],
          "mesh3d": [
           {
            "colorbar": {
             "outlinewidth": 0,
             "ticks": ""
            },
            "type": "mesh3d"
           }
          ],
          "parcoords": [
           {
            "line": {
             "colorbar": {
              "outlinewidth": 0,
              "ticks": ""
             }
            },
            "type": "parcoords"
           }
          ],
          "pie": [
           {
            "automargin": true,
            "type": "pie"
           }
          ],
          "scatter": [
           {
            "marker": {
             "colorbar": {
              "outlinewidth": 0,
              "ticks": ""
             }
            },
            "type": "scatter"
           }
          ],
          "scatter3d": [
           {
            "line": {
             "colorbar": {
              "outlinewidth": 0,
              "ticks": ""
             }
            },
            "marker": {
             "colorbar": {
              "outlinewidth": 0,
              "ticks": ""
             }
            },
            "type": "scatter3d"
           }
          ],
          "scattercarpet": [
           {
            "marker": {
             "colorbar": {
              "outlinewidth": 0,
              "ticks": ""
             }
            },
            "type": "scattercarpet"
           }
          ],
          "scattergeo": [
           {
            "marker": {
             "colorbar": {
              "outlinewidth": 0,
              "ticks": ""
             }
            },
            "type": "scattergeo"
           }
          ],
          "scattergl": [
           {
            "marker": {
             "colorbar": {
              "outlinewidth": 0,
              "ticks": ""
             }
            },
            "type": "scattergl"
           }
          ],
          "scattermapbox": [
           {
            "marker": {
             "colorbar": {
              "outlinewidth": 0,
              "ticks": ""
             }
            },
            "type": "scattermapbox"
           }
          ],
          "scatterpolar": [
           {
            "marker": {
             "colorbar": {
              "outlinewidth": 0,
              "ticks": ""
             }
            },
            "type": "scatterpolar"
           }
          ],
          "scatterpolargl": [
           {
            "marker": {
             "colorbar": {
              "outlinewidth": 0,
              "ticks": ""
             }
            },
            "type": "scatterpolargl"
           }
          ],
          "scatterternary": [
           {
            "marker": {
             "colorbar": {
              "outlinewidth": 0,
              "ticks": ""
             }
            },
            "type": "scatterternary"
           }
          ],
          "surface": [
           {
            "colorbar": {
             "outlinewidth": 0,
             "ticks": ""
            },
            "colorscale": [
             [
              0,
              "#0d0887"
             ],
             [
              0.1111111111111111,
              "#46039f"
             ],
             [
              0.2222222222222222,
              "#7201a8"
             ],
             [
              0.3333333333333333,
              "#9c179e"
             ],
             [
              0.4444444444444444,
              "#bd3786"
             ],
             [
              0.5555555555555556,
              "#d8576b"
             ],
             [
              0.6666666666666666,
              "#ed7953"
             ],
             [
              0.7777777777777778,
              "#fb9f3a"
             ],
             [
              0.8888888888888888,
              "#fdca26"
             ],
             [
              1,
              "#f0f921"
             ]
            ],
            "type": "surface"
           }
          ],
          "table": [
           {
            "cells": {
             "fill": {
              "color": "#EBF0F8"
             },
             "line": {
              "color": "white"
             }
            },
            "header": {
             "fill": {
              "color": "#C8D4E3"
             },
             "line": {
              "color": "white"
             }
            },
            "type": "table"
           }
          ]
         },
         "layout": {
          "annotationdefaults": {
           "arrowcolor": "#2a3f5f",
           "arrowhead": 0,
           "arrowwidth": 1
          },
          "autotypenumbers": "strict",
          "coloraxis": {
           "colorbar": {
            "outlinewidth": 0,
            "ticks": ""
           }
          },
          "colorscale": {
           "diverging": [
            [
             0,
             "#8e0152"
            ],
            [
             0.1,
             "#c51b7d"
            ],
            [
             0.2,
             "#de77ae"
            ],
            [
             0.3,
             "#f1b6da"
            ],
            [
             0.4,
             "#fde0ef"
            ],
            [
             0.5,
             "#f7f7f7"
            ],
            [
             0.6,
             "#e6f5d0"
            ],
            [
             0.7,
             "#b8e186"
            ],
            [
             0.8,
             "#7fbc41"
            ],
            [
             0.9,
             "#4d9221"
            ],
            [
             1,
             "#276419"
            ]
           ],
           "sequential": [
            [
             0,
             "#0d0887"
            ],
            [
             0.1111111111111111,
             "#46039f"
            ],
            [
             0.2222222222222222,
             "#7201a8"
            ],
            [
             0.3333333333333333,
             "#9c179e"
            ],
            [
             0.4444444444444444,
             "#bd3786"
            ],
            [
             0.5555555555555556,
             "#d8576b"
            ],
            [
             0.6666666666666666,
             "#ed7953"
            ],
            [
             0.7777777777777778,
             "#fb9f3a"
            ],
            [
             0.8888888888888888,
             "#fdca26"
            ],
            [
             1,
             "#f0f921"
            ]
           ],
           "sequentialminus": [
            [
             0,
             "#0d0887"
            ],
            [
             0.1111111111111111,
             "#46039f"
            ],
            [
             0.2222222222222222,
             "#7201a8"
            ],
            [
             0.3333333333333333,
             "#9c179e"
            ],
            [
             0.4444444444444444,
             "#bd3786"
            ],
            [
             0.5555555555555556,
             "#d8576b"
            ],
            [
             0.6666666666666666,
             "#ed7953"
            ],
            [
             0.7777777777777778,
             "#fb9f3a"
            ],
            [
             0.8888888888888888,
             "#fdca26"
            ],
            [
             1,
             "#f0f921"
            ]
           ]
          },
          "colorway": [
           "#636efa",
           "#EF553B",
           "#00cc96",
           "#ab63fa",
           "#FFA15A",
           "#19d3f3",
           "#FF6692",
           "#B6E880",
           "#FF97FF",
           "#FECB52"
          ],
          "font": {
           "color": "#2a3f5f"
          },
          "geo": {
           "bgcolor": "white",
           "lakecolor": "white",
           "landcolor": "#E5ECF6",
           "showlakes": true,
           "showland": true,
           "subunitcolor": "white"
          },
          "hoverlabel": {
           "align": "left"
          },
          "hovermode": "closest",
          "mapbox": {
           "style": "light"
          },
          "paper_bgcolor": "white",
          "plot_bgcolor": "#E5ECF6",
          "polar": {
           "angularaxis": {
            "gridcolor": "white",
            "linecolor": "white",
            "ticks": ""
           },
           "bgcolor": "#E5ECF6",
           "radialaxis": {
            "gridcolor": "white",
            "linecolor": "white",
            "ticks": ""
           }
          },
          "scene": {
           "xaxis": {
            "backgroundcolor": "#E5ECF6",
            "gridcolor": "white",
            "gridwidth": 2,
            "linecolor": "white",
            "showbackground": true,
            "ticks": "",
            "zerolinecolor": "white"
           },
           "yaxis": {
            "backgroundcolor": "#E5ECF6",
            "gridcolor": "white",
            "gridwidth": 2,
            "linecolor": "white",
            "showbackground": true,
            "ticks": "",
            "zerolinecolor": "white"
           },
           "zaxis": {
            "backgroundcolor": "#E5ECF6",
            "gridcolor": "white",
            "gridwidth": 2,
            "linecolor": "white",
            "showbackground": true,
            "ticks": "",
            "zerolinecolor": "white"
           }
          },
          "shapedefaults": {
           "line": {
            "color": "#2a3f5f"
           }
          },
          "ternary": {
           "aaxis": {
            "gridcolor": "white",
            "linecolor": "white",
            "ticks": ""
           },
           "baxis": {
            "gridcolor": "white",
            "linecolor": "white",
            "ticks": ""
           },
           "bgcolor": "#E5ECF6",
           "caxis": {
            "gridcolor": "white",
            "linecolor": "white",
            "ticks": ""
           }
          },
          "title": {
           "x": 0.05
          },
          "xaxis": {
           "automargin": true,
           "gridcolor": "white",
           "linecolor": "white",
           "ticks": "",
           "title": {
            "standoff": 15
           },
           "zerolinecolor": "white",
           "zerolinewidth": 2
          },
          "yaxis": {
           "automargin": true,
           "gridcolor": "white",
           "linecolor": "white",
           "ticks": "",
           "title": {
            "standoff": 15
           },
           "zerolinecolor": "white",
           "zerolinewidth": 2
          }
         }
        },
        "title": {
         "text": "PCA for dataset B"
        },
        "xaxis": {
         "title": {
          "text": "X1"
         }
        },
        "yaxis": {
         "title": {
          "text": "X2"
         }
        }
       }
      }
     },
     "metadata": {},
     "output_type": "display_data"
    }
   ],
   "source": [
    "# perform PCA on dataset B\n",
    "data_b = data_b[['X1', 'X2']]\n",
    "pca_b = PCA(data=data_b)\n",
    "projected_b = pca_b.do_pca()\n",
    "first_eigen_vector_b = pca_b.components[0]\n",
    "print(first_eigen_vector_b)\n",
    "\n",
    "# plot the data for dataset B and the first eigenvector\n",
    "fig_b = go.Figure()\n",
    "fig_b.add_trace(go.Scatter(x=data_b['X1'], y=data_b['X2'], mode='markers', name='Data Points'))\n",
    "fig_b.add_trace(go.Scatter(x=[0, first_eigen_vector_b[0]], y=[0, first_eigen_vector_b[1]],\n",
    "                            mode='lines', line=dict(color='red', width=2), name='First Eigenvector'))\n",
    "fig_b.update(layout=dict(title='PCA for dataset B', xaxis_title='X1', yaxis_title='X2'))\n",
    "fig_b.show()"
   ]
  },
  {
   "attachments": {},
   "cell_type": "markdown",
   "metadata": {},
   "source": [
    "The direction of the eigenvector makes sense as it points out the direction of the most variance in our data set, which is more apparent in the graph for data set B."
   ]
  },
  {
   "attachments": {},
   "cell_type": "markdown",
   "metadata": {},
   "source": [
    "## Re-clustering With Projected Data\n",
    "\n",
    "Using projected data from PCA, we will now perform clustering again with both k-means and complete linkage."
   ]
  },
  {
   "cell_type": "code",
   "execution_count": 22,
   "metadata": {},
   "outputs": [
    {
     "data": {
      "application/vnd.plotly.v1+json": {
       "config": {
        "plotlyServerURL": "https://plot.ly"
       },
       "data": [
        {
         "hovertemplate": "0=%{x}<br>1=%{y}<br>color=%{marker.color}<extra></extra>",
         "legendgroup": "",
         "marker": {
          "color": [
           5,
           5,
           5,
           5,
           5,
           5,
           5,
           5,
           5,
           5,
           5,
           5,
           5,
           5,
           5,
           5,
           5,
           5,
           5,
           5,
           5,
           5,
           3,
           3,
           3,
           3,
           3,
           3,
           3,
           3,
           3,
           3,
           3,
           3,
           3,
           3,
           3,
           3,
           3,
           3,
           3,
           3,
           3,
           3,
           3,
           3,
           3,
           3,
           3,
           3,
           3,
           3,
           3,
           3,
           3,
           4,
           4,
           4,
           4,
           4,
           4,
           4,
           4,
           4,
           4,
           4,
           4,
           4,
           4,
           4,
           4,
           4,
           4,
           4,
           4,
           4,
           4,
           4,
           4,
           4,
           4,
           4,
           4,
           4,
           4,
           4,
           4,
           2,
           2,
           2,
           2,
           2,
           2,
           2,
           2,
           2,
           2,
           2,
           2,
           2,
           2,
           2,
           2,
           2,
           2,
           2,
           2,
           2,
           2,
           2,
           2,
           2,
           2,
           2,
           2,
           2,
           2,
           1,
           1,
           1,
           1,
           1,
           1,
           1,
           1,
           1,
           1,
           1,
           1,
           1,
           1,
           1,
           1,
           1,
           1,
           0,
           1,
           1,
           1,
           1,
           1,
           1,
           1,
           1,
           1,
           1,
           1,
           1,
           1,
           1,
           1,
           1,
           1,
           1,
           1,
           1,
           1,
           1,
           1,
           1,
           0,
           0,
           0,
           0,
           0,
           0,
           0,
           0,
           0,
           0,
           0,
           0,
           0,
           0,
           0,
           0,
           0,
           0,
           0,
           0
          ],
          "coloraxis": "coloraxis",
          "symbol": "circle"
         },
         "mode": "markers",
         "name": "",
         "orientation": "v",
         "showlegend": false,
         "type": "scatter",
         "x": [
          0.7233997193867868,
          0.483320212860178,
          0.47062896579199653,
          0.4190685661431893,
          0.5221581275664393,
          0.4613456351182712,
          0.5599156871425509,
          0.7373681428352246,
          0.521195865186353,
          0.7533479459195352,
          0.8629371585032645,
          0.7391270842196562,
          0.7819009033219634,
          0.4556982799634721,
          0.23880805181029807,
          0.6407226155711181,
          0.7864679033466123,
          0.6434356929599792,
          0.3292932210410664,
          0.8180569785137284,
          0.36776060474582306,
          0.27179366373599745,
          -1.1619800442656762,
          -1.3760147231529547,
          -1.557773614243179,
          -1.185799150639451,
          -1.2111735184001566,
          -1.0055399039348225,
          -1.6341397617728184,
          -0.7987134327084051,
          -1.1751830265841336,
          -1.1350041921206238,
          -0.9766788912796182,
          -1.0916861322654128,
          -1.2402788429311453,
          -0.9101403151766083,
          -0.993589718869651,
          -1.0423026956282198,
          -0.8316121897584052,
          -0.5281020946461231,
          -0.8791579565111243,
          -1.1001809103104505,
          -1.5020954740712704,
          -1.0439829085126087,
          -1.1165081328975581,
          -1.0161085373644614,
          -1.2654713745647959,
          -1.2281712008658887,
          -1.5899231829145126,
          -1.8124132755968074,
          -1.310035372925899,
          -1.2899459556941437,
          -0.6557843299487853,
          -1.6513586446156272,
          -1.1934429003070717,
          -1.2358761586539753,
          -1.2739092679802353,
          -1.3072735372830964,
          -1.0715642095310303,
          -1.3743251162646455,
          -1.266006221313779,
          -1.2482987147194018,
          -1.3698843353657177,
          -1.4260592256648519,
          -1.4095664197020021,
          -1.19938079033507,
          -1.4734312826661722,
          -1.3400067109573546,
          -0.8281798942369788,
          -1.5784534952252527,
          -1.263876748927843,
          -1.362012526573626,
          -1.4873209776145675,
          -1.435555630339997,
          -1.4770672581850988,
          -1.35302912477702,
          -1.4803408290781772,
          -1.449950201791275,
          -1.8329113204518255,
          -1.2958132435977565,
          -1.4975909497953503,
          -1.3729760701317404,
          -1.320753336979966,
          -1.2774665149991193,
          -1.1948056639347646,
          -1.2843366971611028,
          -1.425728058913368,
          1.458164620662742,
          1.5970003620262312,
          1.3211909283106973,
          1.0071028057648561,
          1.1378305528361263,
          1.2720436771736319,
          1.8441468719649297,
          1.3653762692946385,
          1.342226355171225,
          1.5249556350171933,
          1.5375519008340182,
          1.4011618134848987,
          1.5840648030822653,
          1.415004017807616,
          1.2609539144897968,
          1.5914236089958176,
          1.3333691725003396,
          1.2670586555218,
          1.5032809861524055,
          1.3614403648985929,
          1.6967213713050466,
          1.2705290476649846,
          1.8904304474604428,
          1.689867441894377,
          1.3534585897320945,
          1.2820137204772952,
          1.3657155624217792,
          1.3731693495866877,
          1.3285022435985714,
          1.639008739998558,
          0.3479916926333686,
          0.7705642935058177,
          0.7454423639965532,
          0.764064642345339,
          0.40859111108011714,
          1.0603502770454463,
          0.1213444951779511,
          0.5970789800835541,
          0.9787304168612204,
          0.7624631579609926,
          0.5163738916537368,
          0.8507876169314603,
          0.6978178687437915,
          0.6787382045178011,
          0.21567185518167198,
          0.302670379517942,
          0.4979009439293788,
          0.3057702406596216,
          0.731277119298009,
          0.5730930227057746,
          1.1089451610539516,
          0.3206928001124896,
          0.26253903568011006,
          0.10119260219746729,
          0.810577544593586,
          0.7707923526302884,
          0.2578851807797621,
          0.6401758395616882,
          0.851331857684364,
          1.0119603406627045,
          0.2752059036213209,
          0.35791424531135385,
          0.7209908943659126,
          0.6173339806910509,
          0.7244531601334404,
          0.4636069177490586,
          0.3825706625677577,
          0.3624500074616382,
          0.5100642029959704,
          0.6766712078805937,
          1.1795146228043636,
          0.6603046210434647,
          0.39529314751030326,
          -0.016621429800281362,
          0.005305657315947461,
          0.07733413157367158,
          0.12890265759813585,
          0.2332775217772996,
          0.4010992272934505,
          -0.06571306393601194,
          -0.04009438429952164,
          0.09495478329234976,
          0.07637999556924188,
          -0.14000535608104978,
          0.18209577950565398,
          0.0028762560528918964,
          0.13194690173848062,
          -0.33542588299519915,
          -0.17156319337380152,
          -0.09686913235289443,
          0.06342005749830554,
          0.01839867325999816,
          0.1826400202585576
         ],
         "xaxis": "x",
         "y": [
          -1.9702520020102146,
          -1.680954642222155,
          -1.3770577633570544,
          -1.4649479479490255,
          -1.6213568504055145,
          -1.6302696500777354,
          -1.806767969765979,
          -1.6396954526284944,
          -1.6326990513407904,
          -1.3849770627748235,
          -1.9293239791680379,
          -1.6742662961872263,
          -1.6678222620280825,
          -1.7189565136740508,
          -1.5102692610644524,
          -1.440512731069698,
          -1.8241443096088723,
          -1.2094410054666662,
          -1.4613038460544423,
          -1.507106924174043,
          -1.5941054485103137,
          -1.6745024816873548,
          1.1578785564938863,
          1.068403140268882,
          0.7620849865163826,
          -0.007733790950742336,
          0.3457595985529714,
          1.386978266711067,
          0.2601413582239702,
          0.46239143542182065,
          0.4492196909777266,
          0.45825870977566807,
          0.6321539184494581,
          0.46005701541012073,
          0.8875508945574095,
          0.8855313885458809,
          0.698282599300942,
          0.5665301141008564,
          0.5281020946461215,
          0.8316121897584041,
          0.5428359592245398,
          0.4152324524219197,
          0.3454759224271654,
          0.7568787644874748,
          0.5546043081626555,
          0.7536133199700533,
          0.7896987930374321,
          0.5104108408030569,
          0.9582940660592199,
          0.9018829902599576,
          0.48563633079658947,
          0.4901558401955599,
          0.4548114291311918,
          0.7982491880838037,
          0.8202075130743982,
          -0.675417142999047,
          -1.035228347536184,
          -0.8090941529593056,
          -0.55262494809686,
          -0.7256366228906064,
          -0.8093465912107469,
          -0.9213883165562391,
          -0.8613250124867375,
          -0.616481684685374,
          -0.6985982949968254,
          -0.6544916825129259,
          -0.7987929429041589,
          -0.6861282483057204,
          -0.7919077756191235,
          -0.41076807409173455,
          -0.6515180404969669,
          -0.9676325278017314,
          -0.973571685457993,
          -0.7505373520227943,
          -0.963317966028524,
          -0.4967418602991889,
          -0.681143226653889,
          -0.8427814626379941,
          -0.7223155613718506,
          -0.5744651803373899,
          -0.4752246684344864,
          -1.0304957641357937,
          -0.7135845978266846,
          -1.0439755638326627,
          -1.0651140983202037,
          -0.8484369441684496,
          -0.5019711938268049,
          -0.3220525078775748,
          -0.588034370166479,
          -0.69776478699898,
          -0.030948716079406358,
          -0.6579564835369752,
          -0.3369044652060574,
          -0.683425832549036,
          -0.3318013508041615,
          -0.1733023402117574,
          -0.10994235375046923,
          -0.06101630299048044,
          -0.363485407222634,
          -0.49717054355854884,
          -0.012295199856255157,
          -0.37913404355546104,
          -0.26664305870842075,
          -0.6648266656989585,
          -0.1965703470852349,
          -0.2769361423879111,
          -0.27864759314666465,
          -0.10944560362324363,
          -0.0893005693901544,
          -0.49182311728086836,
          -0.4225077204120061,
          -0.660307156299988,
          -0.6175727014477019,
          -0.47159122817208027,
          -0.5938866729470416,
          -0.29082583733630696,
          -0.2034880198728959,
          1.4689673902685376,
          0.7756965964581076,
          1.0879226699925042,
          1.163634610394833,
          1.5970364093240186,
          0.961683194445841,
          1.8391666597365206,
          0.887659593303557,
          1.1499417366965439,
          1.5097610676093374,
          1.2636718013020811,
          1.0687086602651368,
          0.9468787277430363,
          0.7772899544667969,
          0.8384105021677408,
          1.2887068759356461,
          1.7538158427820125,
          1.2035772593582144,
          0.3679216035410685,
          1.0141827449760261,
          0.8597689694040972,
          1.7997763779016989,
          1.10325639232516,
          1.1702686070566877,
          0.7274803698267645,
          1.497330385168254,
          1.3581010013045516,
          1.262914486547758,
          1.0640629317404455,
          1.1987415683308125,
          1.562260618139523,
          1.3647106188394376,
          1.374869357017551,
          0.9494343481318122,
          1.7364395029391195,
          0.9514063635176633,
          1.2129080806576185,
          0.8761992996182166,
          0.9459639559886273,
          1.283839947033879,
          0.7071697522179335,
          1.3453228993606716,
          1.2412004734329485,
          -0.2294678365069744,
          -0.10374136383884972,
          -0.07323264380188378,
          -0.23964282743640064,
          -0.015898669872556448,
          0.2920522061386541,
          -0.2993193477530842,
          -0.43977968499962716,
          -0.08675180774877432,
          -0.33887521296364786,
          -0.21272259229268373,
          -0.1656898284185032,
          -0.043891133770767796,
          0.10593938902520034,
          0.027814300111128842,
          -0.19757070608708244,
          0.24042120436546016,
          0.5148897183237457,
          0.11695042320899264,
          -0.17033555694319438
         ],
         "yaxis": "y"
        }
       ],
       "layout": {
        "coloraxis": {
         "colorbar": {
          "title": {
           "text": "color"
          }
         },
         "colorscale": [
          [
           0,
           "rgb(51, 19, 23)"
          ],
          [
           0.09090909090909091,
           "rgb(79, 28, 33)"
          ],
          [
           0.18181818181818182,
           "rgb(108, 36, 36)"
          ],
          [
           0.2727272727272727,
           "rgb(135, 47, 32)"
          ],
          [
           0.36363636363636365,
           "rgb(157, 66, 25)"
          ],
          [
           0.45454545454545453,
           "rgb(174, 88, 20)"
          ],
          [
           0.5454545454545454,
           "rgb(188, 111, 19)"
          ],
          [
           0.6363636363636364,
           "rgb(199, 137, 22)"
          ],
          [
           0.7272727272727273,
           "rgb(209, 164, 32)"
          ],
          [
           0.8181818181818182,
           "rgb(217, 192, 44)"
          ],
          [
           0.9090909090909091,
           "rgb(222, 222, 59)"
          ],
          [
           1,
           "rgb(224, 253, 74)"
          ]
         ]
        },
        "legend": {
         "tracegroupgap": 0
        },
        "template": {
         "data": {
          "bar": [
           {
            "error_x": {
             "color": "#2a3f5f"
            },
            "error_y": {
             "color": "#2a3f5f"
            },
            "marker": {
             "line": {
              "color": "#E5ECF6",
              "width": 0.5
             },
             "pattern": {
              "fillmode": "overlay",
              "size": 10,
              "solidity": 0.2
             }
            },
            "type": "bar"
           }
          ],
          "barpolar": [
           {
            "marker": {
             "line": {
              "color": "#E5ECF6",
              "width": 0.5
             },
             "pattern": {
              "fillmode": "overlay",
              "size": 10,
              "solidity": 0.2
             }
            },
            "type": "barpolar"
           }
          ],
          "carpet": [
           {
            "aaxis": {
             "endlinecolor": "#2a3f5f",
             "gridcolor": "white",
             "linecolor": "white",
             "minorgridcolor": "white",
             "startlinecolor": "#2a3f5f"
            },
            "baxis": {
             "endlinecolor": "#2a3f5f",
             "gridcolor": "white",
             "linecolor": "white",
             "minorgridcolor": "white",
             "startlinecolor": "#2a3f5f"
            },
            "type": "carpet"
           }
          ],
          "choropleth": [
           {
            "colorbar": {
             "outlinewidth": 0,
             "ticks": ""
            },
            "type": "choropleth"
           }
          ],
          "contour": [
           {
            "colorbar": {
             "outlinewidth": 0,
             "ticks": ""
            },
            "colorscale": [
             [
              0,
              "#0d0887"
             ],
             [
              0.1111111111111111,
              "#46039f"
             ],
             [
              0.2222222222222222,
              "#7201a8"
             ],
             [
              0.3333333333333333,
              "#9c179e"
             ],
             [
              0.4444444444444444,
              "#bd3786"
             ],
             [
              0.5555555555555556,
              "#d8576b"
             ],
             [
              0.6666666666666666,
              "#ed7953"
             ],
             [
              0.7777777777777778,
              "#fb9f3a"
             ],
             [
              0.8888888888888888,
              "#fdca26"
             ],
             [
              1,
              "#f0f921"
             ]
            ],
            "type": "contour"
           }
          ],
          "contourcarpet": [
           {
            "colorbar": {
             "outlinewidth": 0,
             "ticks": ""
            },
            "type": "contourcarpet"
           }
          ],
          "heatmap": [
           {
            "colorbar": {
             "outlinewidth": 0,
             "ticks": ""
            },
            "colorscale": [
             [
              0,
              "#0d0887"
             ],
             [
              0.1111111111111111,
              "#46039f"
             ],
             [
              0.2222222222222222,
              "#7201a8"
             ],
             [
              0.3333333333333333,
              "#9c179e"
             ],
             [
              0.4444444444444444,
              "#bd3786"
             ],
             [
              0.5555555555555556,
              "#d8576b"
             ],
             [
              0.6666666666666666,
              "#ed7953"
             ],
             [
              0.7777777777777778,
              "#fb9f3a"
             ],
             [
              0.8888888888888888,
              "#fdca26"
             ],
             [
              1,
              "#f0f921"
             ]
            ],
            "type": "heatmap"
           }
          ],
          "heatmapgl": [
           {
            "colorbar": {
             "outlinewidth": 0,
             "ticks": ""
            },
            "colorscale": [
             [
              0,
              "#0d0887"
             ],
             [
              0.1111111111111111,
              "#46039f"
             ],
             [
              0.2222222222222222,
              "#7201a8"
             ],
             [
              0.3333333333333333,
              "#9c179e"
             ],
             [
              0.4444444444444444,
              "#bd3786"
             ],
             [
              0.5555555555555556,
              "#d8576b"
             ],
             [
              0.6666666666666666,
              "#ed7953"
             ],
             [
              0.7777777777777778,
              "#fb9f3a"
             ],
             [
              0.8888888888888888,
              "#fdca26"
             ],
             [
              1,
              "#f0f921"
             ]
            ],
            "type": "heatmapgl"
           }
          ],
          "histogram": [
           {
            "marker": {
             "pattern": {
              "fillmode": "overlay",
              "size": 10,
              "solidity": 0.2
             }
            },
            "type": "histogram"
           }
          ],
          "histogram2d": [
           {
            "colorbar": {
             "outlinewidth": 0,
             "ticks": ""
            },
            "colorscale": [
             [
              0,
              "#0d0887"
             ],
             [
              0.1111111111111111,
              "#46039f"
             ],
             [
              0.2222222222222222,
              "#7201a8"
             ],
             [
              0.3333333333333333,
              "#9c179e"
             ],
             [
              0.4444444444444444,
              "#bd3786"
             ],
             [
              0.5555555555555556,
              "#d8576b"
             ],
             [
              0.6666666666666666,
              "#ed7953"
             ],
             [
              0.7777777777777778,
              "#fb9f3a"
             ],
             [
              0.8888888888888888,
              "#fdca26"
             ],
             [
              1,
              "#f0f921"
             ]
            ],
            "type": "histogram2d"
           }
          ],
          "histogram2dcontour": [
           {
            "colorbar": {
             "outlinewidth": 0,
             "ticks": ""
            },
            "colorscale": [
             [
              0,
              "#0d0887"
             ],
             [
              0.1111111111111111,
              "#46039f"
             ],
             [
              0.2222222222222222,
              "#7201a8"
             ],
             [
              0.3333333333333333,
              "#9c179e"
             ],
             [
              0.4444444444444444,
              "#bd3786"
             ],
             [
              0.5555555555555556,
              "#d8576b"
             ],
             [
              0.6666666666666666,
              "#ed7953"
             ],
             [
              0.7777777777777778,
              "#fb9f3a"
             ],
             [
              0.8888888888888888,
              "#fdca26"
             ],
             [
              1,
              "#f0f921"
             ]
            ],
            "type": "histogram2dcontour"
           }
          ],
          "mesh3d": [
           {
            "colorbar": {
             "outlinewidth": 0,
             "ticks": ""
            },
            "type": "mesh3d"
           }
          ],
          "parcoords": [
           {
            "line": {
             "colorbar": {
              "outlinewidth": 0,
              "ticks": ""
             }
            },
            "type": "parcoords"
           }
          ],
          "pie": [
           {
            "automargin": true,
            "type": "pie"
           }
          ],
          "scatter": [
           {
            "marker": {
             "colorbar": {
              "outlinewidth": 0,
              "ticks": ""
             }
            },
            "type": "scatter"
           }
          ],
          "scatter3d": [
           {
            "line": {
             "colorbar": {
              "outlinewidth": 0,
              "ticks": ""
             }
            },
            "marker": {
             "colorbar": {
              "outlinewidth": 0,
              "ticks": ""
             }
            },
            "type": "scatter3d"
           }
          ],
          "scattercarpet": [
           {
            "marker": {
             "colorbar": {
              "outlinewidth": 0,
              "ticks": ""
             }
            },
            "type": "scattercarpet"
           }
          ],
          "scattergeo": [
           {
            "marker": {
             "colorbar": {
              "outlinewidth": 0,
              "ticks": ""
             }
            },
            "type": "scattergeo"
           }
          ],
          "scattergl": [
           {
            "marker": {
             "colorbar": {
              "outlinewidth": 0,
              "ticks": ""
             }
            },
            "type": "scattergl"
           }
          ],
          "scattermapbox": [
           {
            "marker": {
             "colorbar": {
              "outlinewidth": 0,
              "ticks": ""
             }
            },
            "type": "scattermapbox"
           }
          ],
          "scatterpolar": [
           {
            "marker": {
             "colorbar": {
              "outlinewidth": 0,
              "ticks": ""
             }
            },
            "type": "scatterpolar"
           }
          ],
          "scatterpolargl": [
           {
            "marker": {
             "colorbar": {
              "outlinewidth": 0,
              "ticks": ""
             }
            },
            "type": "scatterpolargl"
           }
          ],
          "scatterternary": [
           {
            "marker": {
             "colorbar": {
              "outlinewidth": 0,
              "ticks": ""
             }
            },
            "type": "scatterternary"
           }
          ],
          "surface": [
           {
            "colorbar": {
             "outlinewidth": 0,
             "ticks": ""
            },
            "colorscale": [
             [
              0,
              "#0d0887"
             ],
             [
              0.1111111111111111,
              "#46039f"
             ],
             [
              0.2222222222222222,
              "#7201a8"
             ],
             [
              0.3333333333333333,
              "#9c179e"
             ],
             [
              0.4444444444444444,
              "#bd3786"
             ],
             [
              0.5555555555555556,
              "#d8576b"
             ],
             [
              0.6666666666666666,
              "#ed7953"
             ],
             [
              0.7777777777777778,
              "#fb9f3a"
             ],
             [
              0.8888888888888888,
              "#fdca26"
             ],
             [
              1,
              "#f0f921"
             ]
            ],
            "type": "surface"
           }
          ],
          "table": [
           {
            "cells": {
             "fill": {
              "color": "#EBF0F8"
             },
             "line": {
              "color": "white"
             }
            },
            "header": {
             "fill": {
              "color": "#C8D4E3"
             },
             "line": {
              "color": "white"
             }
            },
            "type": "table"
           }
          ]
         },
         "layout": {
          "annotationdefaults": {
           "arrowcolor": "#2a3f5f",
           "arrowhead": 0,
           "arrowwidth": 1
          },
          "autotypenumbers": "strict",
          "coloraxis": {
           "colorbar": {
            "outlinewidth": 0,
            "ticks": ""
           }
          },
          "colorscale": {
           "diverging": [
            [
             0,
             "#8e0152"
            ],
            [
             0.1,
             "#c51b7d"
            ],
            [
             0.2,
             "#de77ae"
            ],
            [
             0.3,
             "#f1b6da"
            ],
            [
             0.4,
             "#fde0ef"
            ],
            [
             0.5,
             "#f7f7f7"
            ],
            [
             0.6,
             "#e6f5d0"
            ],
            [
             0.7,
             "#b8e186"
            ],
            [
             0.8,
             "#7fbc41"
            ],
            [
             0.9,
             "#4d9221"
            ],
            [
             1,
             "#276419"
            ]
           ],
           "sequential": [
            [
             0,
             "#0d0887"
            ],
            [
             0.1111111111111111,
             "#46039f"
            ],
            [
             0.2222222222222222,
             "#7201a8"
            ],
            [
             0.3333333333333333,
             "#9c179e"
            ],
            [
             0.4444444444444444,
             "#bd3786"
            ],
            [
             0.5555555555555556,
             "#d8576b"
            ],
            [
             0.6666666666666666,
             "#ed7953"
            ],
            [
             0.7777777777777778,
             "#fb9f3a"
            ],
            [
             0.8888888888888888,
             "#fdca26"
            ],
            [
             1,
             "#f0f921"
            ]
           ],
           "sequentialminus": [
            [
             0,
             "#0d0887"
            ],
            [
             0.1111111111111111,
             "#46039f"
            ],
            [
             0.2222222222222222,
             "#7201a8"
            ],
            [
             0.3333333333333333,
             "#9c179e"
            ],
            [
             0.4444444444444444,
             "#bd3786"
            ],
            [
             0.5555555555555556,
             "#d8576b"
            ],
            [
             0.6666666666666666,
             "#ed7953"
            ],
            [
             0.7777777777777778,
             "#fb9f3a"
            ],
            [
             0.8888888888888888,
             "#fdca26"
            ],
            [
             1,
             "#f0f921"
            ]
           ]
          },
          "colorway": [
           "#636efa",
           "#EF553B",
           "#00cc96",
           "#ab63fa",
           "#FFA15A",
           "#19d3f3",
           "#FF6692",
           "#B6E880",
           "#FF97FF",
           "#FECB52"
          ],
          "font": {
           "color": "#2a3f5f"
          },
          "geo": {
           "bgcolor": "white",
           "lakecolor": "white",
           "landcolor": "#E5ECF6",
           "showlakes": true,
           "showland": true,
           "subunitcolor": "white"
          },
          "hoverlabel": {
           "align": "left"
          },
          "hovermode": "closest",
          "mapbox": {
           "style": "light"
          },
          "paper_bgcolor": "white",
          "plot_bgcolor": "#E5ECF6",
          "polar": {
           "angularaxis": {
            "gridcolor": "white",
            "linecolor": "white",
            "ticks": ""
           },
           "bgcolor": "#E5ECF6",
           "radialaxis": {
            "gridcolor": "white",
            "linecolor": "white",
            "ticks": ""
           }
          },
          "scene": {
           "xaxis": {
            "backgroundcolor": "#E5ECF6",
            "gridcolor": "white",
            "gridwidth": 2,
            "linecolor": "white",
            "showbackground": true,
            "ticks": "",
            "zerolinecolor": "white"
           },
           "yaxis": {
            "backgroundcolor": "#E5ECF6",
            "gridcolor": "white",
            "gridwidth": 2,
            "linecolor": "white",
            "showbackground": true,
            "ticks": "",
            "zerolinecolor": "white"
           },
           "zaxis": {
            "backgroundcolor": "#E5ECF6",
            "gridcolor": "white",
            "gridwidth": 2,
            "linecolor": "white",
            "showbackground": true,
            "ticks": "",
            "zerolinecolor": "white"
           }
          },
          "shapedefaults": {
           "line": {
            "color": "#2a3f5f"
           }
          },
          "ternary": {
           "aaxis": {
            "gridcolor": "white",
            "linecolor": "white",
            "ticks": ""
           },
           "baxis": {
            "gridcolor": "white",
            "linecolor": "white",
            "ticks": ""
           },
           "bgcolor": "#E5ECF6",
           "caxis": {
            "gridcolor": "white",
            "linecolor": "white",
            "ticks": ""
           }
          },
          "title": {
           "x": 0.05
          },
          "xaxis": {
           "automargin": true,
           "gridcolor": "white",
           "linecolor": "white",
           "ticks": "",
           "title": {
            "standoff": 15
           },
           "zerolinecolor": "white",
           "zerolinewidth": 2
          },
          "yaxis": {
           "automargin": true,
           "gridcolor": "white",
           "linecolor": "white",
           "ticks": "",
           "title": {
            "standoff": 15
           },
           "zerolinecolor": "white",
           "zerolinewidth": 2
          }
         }
        },
        "title": {
         "text": "KMeans for dataset A with 6 clusters on projected data"
        },
        "xaxis": {
         "anchor": "y",
         "domain": [
          0,
          1
         ],
         "title": {
          "text": "0"
         }
        },
        "yaxis": {
         "anchor": "x",
         "domain": [
          0,
          1
         ],
         "title": {
          "text": "1"
         }
        }
       }
      }
     },
     "metadata": {},
     "output_type": "display_data"
    },
    {
     "data": {
      "application/vnd.plotly.v1+json": {
       "config": {
        "plotlyServerURL": "https://plot.ly"
       },
       "data": [
        {
         "hovertemplate": "0=%{x}<br>1=%{y}<br>color=%{marker.color}<extra></extra>",
         "legendgroup": "",
         "marker": {
          "color": [
           3,
           3,
           3,
           3,
           3,
           3,
           3,
           3,
           3,
           3,
           3,
           3,
           3,
           3,
           3,
           3,
           3,
           3,
           3,
           3,
           3,
           2,
           2,
           2,
           2,
           2,
           2,
           2,
           2,
           2,
           2,
           2,
           2,
           2,
           2,
           2,
           2,
           2,
           2,
           2,
           2,
           2,
           2,
           2,
           2,
           2,
           2,
           2,
           2,
           2,
           2,
           2,
           2,
           2,
           2,
           2,
           2,
           2,
           2,
           2,
           2,
           2,
           4,
           4,
           4,
           4,
           4,
           4,
           4,
           4,
           4,
           4,
           4,
           4,
           4,
           4,
           4,
           4,
           4,
           4,
           4,
           4,
           1,
           1,
           1,
           1,
           1,
           1,
           1,
           1,
           1,
           1,
           1,
           1,
           1,
           1,
           1,
           1,
           1,
           1,
           1,
           1,
           1,
           1,
           1,
           1,
           1,
           1,
           1,
           1,
           1,
           1,
           1,
           1,
           1,
           1,
           1,
           5,
           5,
           5,
           5,
           5,
           5,
           5,
           5,
           5,
           5,
           5,
           5,
           5,
           5,
           4,
           5,
           5,
           5,
           5,
           5,
           5,
           5,
           0,
           0,
           0,
           0,
           0,
           0,
           0,
           0,
           0,
           0,
           0,
           0,
           0,
           0,
           0,
           0,
           0,
           0,
           0,
           0,
           0,
           0,
           0,
           0,
           0,
           0,
           0,
           0,
           0,
           0,
           0,
           0,
           0,
           0,
           0,
           0,
           0,
           0,
           0,
           0,
           0
          ],
          "coloraxis": "coloraxis",
          "symbol": "circle"
         },
         "mode": "markers",
         "name": "",
         "orientation": "v",
         "showlegend": false,
         "type": "scatter",
         "x": [
          -2.1369838945970017,
          -2.378205815829309,
          -1.9112456676936815,
          -1.9225467299350876,
          -1.5386603854204706,
          -2.3085609679479386,
          -1.5374867063080226,
          -2.1038122569616577,
          -1.5742525361895985,
          -1.7109356309760873,
          -1.6194965631799159,
          -2.009693433280347,
          -1.8547737333708452,
          -1.6968816579406547,
          -1.9442677949410014,
          -1.46483290545152,
          -1.7612067720764402,
          -1.8335647527271435,
          -1.6522992257005735,
          -2.1969768662571822,
          -1.919428044596624,
          -0.4456949092097747,
          -0.33781473212858143,
          -0.21313087178817858,
          -0.9484300953867482,
          -0.5574984756271931,
          -1.1515661978072562,
          -0.21302113942484752,
          -0.870529715693548,
          -0.3558318725249322,
          -0.09971149623473807,
          -0.8459460075302768,
          -0.9097924141880442,
          -0.607071444522866,
          -0.6050898608424069,
          -0.6037332944577402,
          0.21526475005763218,
          -0.9411653554151478,
          -0.2426319616981541,
          0.018881303246512382,
          -0.25965831025427527,
          -0.15622000801201785,
          -0.1816847756521877,
          -0.4094045862359671,
          -0.7105097467651235,
          -0.6320972827097113,
          -0.24843040292175672,
          -0.5321068628959107,
          -0.45123410768202193,
          -0.5210984202900545,
          -1.169068053271146,
          -0.47405889746174584,
          -0.9018295020117642,
          -0.24046749074547646,
          -0.6568638781452013,
          -0.6871728726231876,
          -1.0476126106325376,
          -0.4458046415731059,
          -0.8276728249528199,
          -0.7346545254750704,
          -0.9140116237300686,
          -0.8611736596781575,
          -0.7240246596946481,
          0.3434966234790753,
          -0.18936466990366616,
          -0.007144928491310135,
          0.12381287998046357,
          0.06481070016051266,
          0.21789512620733026,
          0.29293286274317293,
          0.5511079776227137,
          0.16307557847495988,
          -0.21350944861361293,
          -0.0769360861904552,
          0.2085756476463833,
          0.4203330564231585,
          0.24717675139064346,
          0.4083338219770726,
          0.43064332682433504,
          -0.11726273143406848,
          -0.3381567314995721,
          0.4953707929590011,
          -0.5341108505681149,
          -0.4621186444618485,
          -0.49059236507715076,
          -1.1286175022015028,
          -0.7113400553248794,
          -0.7103492634846499,
          -0.7284395587898881,
          -0.4895649957824774,
          -0.606029901765494,
          -0.7750767296193161,
          -0.6050391099252646,
          -0.5188466209657907,
          -0.7650225013992453,
          -1.2024084047160097,
          -0.5218555739409232,
          -0.7537580166122831,
          -0.9502511957867338,
          -0.8490505194060416,
          -0.6181022911204676,
          -0.8318778610321454,
          -0.7083676798041907,
          -1.0221702469841127,
          -0.7377224598963914,
          -0.7003316127190231,
          -1.1529085907292242,
          -1.0576160879354657,
          -0.6678215698339152,
          -0.6394941590363878,
          -1.0395623700846712,
          -0.9545435602376455,
          -0.8785881867704609,
          -0.7022034640361511,
          -0.6313117821334453,
          -0.8176410007244942,
          -0.5917564640033993,
          1.2528300110168091,
          1.2802032074285505,
          1.414279701238788,
          1.3192798180805791,
          1.0717473712624577,
          1.587289696453528,
          0.8539720565354175,
          1.0203391285041006,
          2.213461908949569,
          1.3668712032957928,
          1.5775280878690072,
          1.1571685331083643,
          1.664528481396492,
          1.1518853768172228,
          0.547287919509321,
          1.3747243831087417,
          0.9898472467538955,
          1.2015315006217833,
          1.0466118007122813,
          1.5549625408406387,
          1.1886877841532426,
          1.105357938351126,
          1.4696241356143673,
          1.2744509453701396,
          1.8421362629786908,
          1.3673960899390019,
          1.0100384598136718,
          1.4744683624521842,
          1.1366673263800902,
          1.5000794399101287,
          1.4951254807089809,
          1.8494741578591785,
          0.7050798642869284,
          1.6642820409261339,
          1.1982761071762926,
          0.8756295683431918,
          1.5650995256803444,
          1.3733408409803793,
          1.4030248181625733,
          1.6378630589001784,
          1.331142344419638,
          1.7421092657104467,
          1.1527028830959818,
          1.3975587745992135,
          1.434507491753008,
          1.542790020833082,
          1.1820210857337385,
          1.2366577461938906,
          1.1880389916840035,
          1.6024172179488256,
          1.1517120912557521,
          1.7959380216025873,
          1.9710027554066745,
          1.63389989153926,
          2.104494009945812,
          1.4577346335316128,
          1.2073395435561336,
          1.0017829280018418,
          1.007873988860994,
          1.5930611619334347,
          1.8577662671254522,
          1.2267132503371512,
          1.5050699765657203
         ],
         "xaxis": "x",
         "y": [
          -0.2332566622959562,
          -0.12119705369743183,
          -0.2450698088995742,
          -0.18936920169030558,
          -0.2866766650487176,
          -0.0576432666752138,
          -0.34032253366863985,
          -0.15744759864654612,
          -0.2309029029305616,
          -0.21530947623824348,
          -0.33096647765324916,
          -0.15469468785252016,
          -0.1764157528584337,
          -0.1768912597662019,
          -0.034449501780803526,
          -0.2676687328121373,
          -0.32649122593011903,
          -0.16129783307388412,
          -0.19321943611764325,
          -0.14097311247733035,
          -0.21670582064760335,
          1.0986597324012872,
          1.2369952137782416,
          1.1728561874849242,
          1.3390339710408898,
          1.2548628437865683,
          1.2394459032259704,
          1.1364195546933418,
          1.3499326812834151,
          1.1702495865086728,
          1.152272224137015,
          1.2526951722636412,
          1.2802146784931576,
          1.2479273009049612,
          1.262091006303725,
          1.1477174163644985,
          1.0835116363027926,
          1.2792970415618155,
          1.2225388887439284,
          1.09422425870285,
          1.1628751141737412,
          1.095763712359735,
          1.1494827358885447,
          1.147132177093399,
          1.3150387027189674,
          1.155899793267441,
          1.131465595492194,
          1.2254349087854803,
          1.257579177126151,
          1.2668986556870978,
          1.3376742040859742,
          1.1068421093042295,
          1.3247239558243515,
          1.1759748728233879,
          1.3138650236065192,
          1.2957381508468373,
          1.337308429541537,
          1.1350963651928696,
          1.2344219896861843,
          1.2665296805724116,
          1.336906077542656,
          1.2679228244115222,
          0.08940267881814168,
          -0.15874518358502432,
          0.002774460975592613,
          -0.009919745104923933,
          -0.14087755357669765,
          -0.041512151058689696,
          -0.1259790985188104,
          -0.17276257916601312,
          -0.20086732466662885,
          -0.07115955078644004,
          -0.04573456117096325,
          -0.024891355071698613,
          -0.05611478591077791,
          -0.1306372375141593,
          -0.10278853419464948,
          -0.1791828371151588,
          -0.19341969742280996,
          -0.07740012203361646,
          0.006258920858493333,
          -0.17742071816136196,
          -1.1338096313786508,
          -1.1775475815962775,
          -1.1329285719017523,
          -1.003480040772919,
          -1.097851706065086,
          -1.0907698533657042,
          -1.1332243921075515,
          -1.1379922634662314,
          -1.114362769688746,
          -1.1067688326271523,
          -1.107280916989364,
          -1.1611828277903924,
          -1.084532482688777,
          -1.03463351727336,
          -1.170282841624677,
          -1.1280875456341852,
          -1.080938290442545,
          -1.0771945878082891,
          -1.1386172807620238,
          -1.0661129902935453,
          -1.0766061479669404,
          -1.0614914287526402,
          -1.0755056237633798,
          -1.0563879591634684,
          -1.0034068858640315,
          -1.0542998436899274,
          -1.0969706465881877,
          -1.0930074792272695,
          -0.9996997606842192,
          -0.9999558028653253,
          -1.0153663422854247,
          -1.1069882973538145,
          -1.1213714674792403,
          -1.0884224951408077,
          -1.1488178187998694,
          -0.6442647327931594,
          -0.6595289623954839,
          -0.8178233898245555,
          -0.8640947861095462,
          -0.6730708510687045,
          -0.7970899160886219,
          -0.6167484271338924,
          -0.7427522764045184,
          -1.023666223873898,
          -0.8713229486267027,
          -0.9164906201378833,
          -0.8069278801522796,
          -0.9025829569202257,
          -0.7330272452744412,
          -0.6127884603432234,
          -0.7903770385039265,
          -0.7001514278448961,
          -0.7503827909205558,
          -0.7286617259146421,
          -0.8172349499832067,
          -0.8545924202763806,
          -0.7430083185856243,
          0.29736563404351846,
          0.2422868435597927,
          0.2800498664220967,
          0.29868562297374135,
          0.3250648269750041,
          0.36921153033201015,
          0.28723505034431135,
          0.2669103297477571,
          0.2315010662508482,
          0.19602184841530057,
          0.42820730901146253,
          0.18747049639767166,
          0.33057064856305696,
          0.2576576049551991,
          0.18574495489831855,
          0.34117673917003244,
          0.23076631659172442,
          0.22196212296323892,
          0.23806763401776854,
          0.22266029516791863,
          0.3398169722151166,
          0.3653946727888666,
          0.1952473207314841,
          0.1999818152059698,
          0.3508619922754166,
          0.35677016586235033,
          0.369062019943986,
          0.2291537080259517,
          0.33273511951573453,
          0.16075889473616634,
          0.17136498534314193,
          0.19363471216571138,
          0.20739926613584359,
          0.2123834016509364,
          0.34572514580205016,
          0.3777199037546968,
          0.37162884289554454,
          0.3111635648978449,
          0.13122122737174702,
          0.29809718313239286,
          0.29017404898080557
         ],
         "yaxis": "y"
        }
       ],
       "layout": {
        "coloraxis": {
         "colorbar": {
          "title": {
           "text": "color"
          }
         },
         "colorscale": [
          [
           0,
           "rgb(41, 24, 107)"
          ],
          [
           0.09090909090909091,
           "rgb(42, 35, 160)"
          ],
          [
           0.18181818181818182,
           "rgb(15, 71, 153)"
          ],
          [
           0.2727272727272727,
           "rgb(18, 95, 142)"
          ],
          [
           0.36363636363636365,
           "rgb(38, 116, 137)"
          ],
          [
           0.45454545454545453,
           "rgb(53, 136, 136)"
          ],
          [
           0.5454545454545454,
           "rgb(65, 157, 133)"
          ],
          [
           0.6363636363636364,
           "rgb(81, 178, 124)"
          ],
          [
           0.7272727272727273,
           "rgb(111, 198, 107)"
          ],
          [
           0.8181818181818182,
           "rgb(160, 214, 91)"
          ],
          [
           0.9090909090909091,
           "rgb(212, 225, 112)"
          ],
          [
           1,
           "rgb(253, 238, 153)"
          ]
         ]
        },
        "legend": {
         "tracegroupgap": 0
        },
        "template": {
         "data": {
          "bar": [
           {
            "error_x": {
             "color": "#2a3f5f"
            },
            "error_y": {
             "color": "#2a3f5f"
            },
            "marker": {
             "line": {
              "color": "#E5ECF6",
              "width": 0.5
             },
             "pattern": {
              "fillmode": "overlay",
              "size": 10,
              "solidity": 0.2
             }
            },
            "type": "bar"
           }
          ],
          "barpolar": [
           {
            "marker": {
             "line": {
              "color": "#E5ECF6",
              "width": 0.5
             },
             "pattern": {
              "fillmode": "overlay",
              "size": 10,
              "solidity": 0.2
             }
            },
            "type": "barpolar"
           }
          ],
          "carpet": [
           {
            "aaxis": {
             "endlinecolor": "#2a3f5f",
             "gridcolor": "white",
             "linecolor": "white",
             "minorgridcolor": "white",
             "startlinecolor": "#2a3f5f"
            },
            "baxis": {
             "endlinecolor": "#2a3f5f",
             "gridcolor": "white",
             "linecolor": "white",
             "minorgridcolor": "white",
             "startlinecolor": "#2a3f5f"
            },
            "type": "carpet"
           }
          ],
          "choropleth": [
           {
            "colorbar": {
             "outlinewidth": 0,
             "ticks": ""
            },
            "type": "choropleth"
           }
          ],
          "contour": [
           {
            "colorbar": {
             "outlinewidth": 0,
             "ticks": ""
            },
            "colorscale": [
             [
              0,
              "#0d0887"
             ],
             [
              0.1111111111111111,
              "#46039f"
             ],
             [
              0.2222222222222222,
              "#7201a8"
             ],
             [
              0.3333333333333333,
              "#9c179e"
             ],
             [
              0.4444444444444444,
              "#bd3786"
             ],
             [
              0.5555555555555556,
              "#d8576b"
             ],
             [
              0.6666666666666666,
              "#ed7953"
             ],
             [
              0.7777777777777778,
              "#fb9f3a"
             ],
             [
              0.8888888888888888,
              "#fdca26"
             ],
             [
              1,
              "#f0f921"
             ]
            ],
            "type": "contour"
           }
          ],
          "contourcarpet": [
           {
            "colorbar": {
             "outlinewidth": 0,
             "ticks": ""
            },
            "type": "contourcarpet"
           }
          ],
          "heatmap": [
           {
            "colorbar": {
             "outlinewidth": 0,
             "ticks": ""
            },
            "colorscale": [
             [
              0,
              "#0d0887"
             ],
             [
              0.1111111111111111,
              "#46039f"
             ],
             [
              0.2222222222222222,
              "#7201a8"
             ],
             [
              0.3333333333333333,
              "#9c179e"
             ],
             [
              0.4444444444444444,
              "#bd3786"
             ],
             [
              0.5555555555555556,
              "#d8576b"
             ],
             [
              0.6666666666666666,
              "#ed7953"
             ],
             [
              0.7777777777777778,
              "#fb9f3a"
             ],
             [
              0.8888888888888888,
              "#fdca26"
             ],
             [
              1,
              "#f0f921"
             ]
            ],
            "type": "heatmap"
           }
          ],
          "heatmapgl": [
           {
            "colorbar": {
             "outlinewidth": 0,
             "ticks": ""
            },
            "colorscale": [
             [
              0,
              "#0d0887"
             ],
             [
              0.1111111111111111,
              "#46039f"
             ],
             [
              0.2222222222222222,
              "#7201a8"
             ],
             [
              0.3333333333333333,
              "#9c179e"
             ],
             [
              0.4444444444444444,
              "#bd3786"
             ],
             [
              0.5555555555555556,
              "#d8576b"
             ],
             [
              0.6666666666666666,
              "#ed7953"
             ],
             [
              0.7777777777777778,
              "#fb9f3a"
             ],
             [
              0.8888888888888888,
              "#fdca26"
             ],
             [
              1,
              "#f0f921"
             ]
            ],
            "type": "heatmapgl"
           }
          ],
          "histogram": [
           {
            "marker": {
             "pattern": {
              "fillmode": "overlay",
              "size": 10,
              "solidity": 0.2
             }
            },
            "type": "histogram"
           }
          ],
          "histogram2d": [
           {
            "colorbar": {
             "outlinewidth": 0,
             "ticks": ""
            },
            "colorscale": [
             [
              0,
              "#0d0887"
             ],
             [
              0.1111111111111111,
              "#46039f"
             ],
             [
              0.2222222222222222,
              "#7201a8"
             ],
             [
              0.3333333333333333,
              "#9c179e"
             ],
             [
              0.4444444444444444,
              "#bd3786"
             ],
             [
              0.5555555555555556,
              "#d8576b"
             ],
             [
              0.6666666666666666,
              "#ed7953"
             ],
             [
              0.7777777777777778,
              "#fb9f3a"
             ],
             [
              0.8888888888888888,
              "#fdca26"
             ],
             [
              1,
              "#f0f921"
             ]
            ],
            "type": "histogram2d"
           }
          ],
          "histogram2dcontour": [
           {
            "colorbar": {
             "outlinewidth": 0,
             "ticks": ""
            },
            "colorscale": [
             [
              0,
              "#0d0887"
             ],
             [
              0.1111111111111111,
              "#46039f"
             ],
             [
              0.2222222222222222,
              "#7201a8"
             ],
             [
              0.3333333333333333,
              "#9c179e"
             ],
             [
              0.4444444444444444,
              "#bd3786"
             ],
             [
              0.5555555555555556,
              "#d8576b"
             ],
             [
              0.6666666666666666,
              "#ed7953"
             ],
             [
              0.7777777777777778,
              "#fb9f3a"
             ],
             [
              0.8888888888888888,
              "#fdca26"
             ],
             [
              1,
              "#f0f921"
             ]
            ],
            "type": "histogram2dcontour"
           }
          ],
          "mesh3d": [
           {
            "colorbar": {
             "outlinewidth": 0,
             "ticks": ""
            },
            "type": "mesh3d"
           }
          ],
          "parcoords": [
           {
            "line": {
             "colorbar": {
              "outlinewidth": 0,
              "ticks": ""
             }
            },
            "type": "parcoords"
           }
          ],
          "pie": [
           {
            "automargin": true,
            "type": "pie"
           }
          ],
          "scatter": [
           {
            "marker": {
             "colorbar": {
              "outlinewidth": 0,
              "ticks": ""
             }
            },
            "type": "scatter"
           }
          ],
          "scatter3d": [
           {
            "line": {
             "colorbar": {
              "outlinewidth": 0,
              "ticks": ""
             }
            },
            "marker": {
             "colorbar": {
              "outlinewidth": 0,
              "ticks": ""
             }
            },
            "type": "scatter3d"
           }
          ],
          "scattercarpet": [
           {
            "marker": {
             "colorbar": {
              "outlinewidth": 0,
              "ticks": ""
             }
            },
            "type": "scattercarpet"
           }
          ],
          "scattergeo": [
           {
            "marker": {
             "colorbar": {
              "outlinewidth": 0,
              "ticks": ""
             }
            },
            "type": "scattergeo"
           }
          ],
          "scattergl": [
           {
            "marker": {
             "colorbar": {
              "outlinewidth": 0,
              "ticks": ""
             }
            },
            "type": "scattergl"
           }
          ],
          "scattermapbox": [
           {
            "marker": {
             "colorbar": {
              "outlinewidth": 0,
              "ticks": ""
             }
            },
            "type": "scattermapbox"
           }
          ],
          "scatterpolar": [
           {
            "marker": {
             "colorbar": {
              "outlinewidth": 0,
              "ticks": ""
             }
            },
            "type": "scatterpolar"
           }
          ],
          "scatterpolargl": [
           {
            "marker": {
             "colorbar": {
              "outlinewidth": 0,
              "ticks": ""
             }
            },
            "type": "scatterpolargl"
           }
          ],
          "scatterternary": [
           {
            "marker": {
             "colorbar": {
              "outlinewidth": 0,
              "ticks": ""
             }
            },
            "type": "scatterternary"
           }
          ],
          "surface": [
           {
            "colorbar": {
             "outlinewidth": 0,
             "ticks": ""
            },
            "colorscale": [
             [
              0,
              "#0d0887"
             ],
             [
              0.1111111111111111,
              "#46039f"
             ],
             [
              0.2222222222222222,
              "#7201a8"
             ],
             [
              0.3333333333333333,
              "#9c179e"
             ],
             [
              0.4444444444444444,
              "#bd3786"
             ],
             [
              0.5555555555555556,
              "#d8576b"
             ],
             [
              0.6666666666666666,
              "#ed7953"
             ],
             [
              0.7777777777777778,
              "#fb9f3a"
             ],
             [
              0.8888888888888888,
              "#fdca26"
             ],
             [
              1,
              "#f0f921"
             ]
            ],
            "type": "surface"
           }
          ],
          "table": [
           {
            "cells": {
             "fill": {
              "color": "#EBF0F8"
             },
             "line": {
              "color": "white"
             }
            },
            "header": {
             "fill": {
              "color": "#C8D4E3"
             },
             "line": {
              "color": "white"
             }
            },
            "type": "table"
           }
          ]
         },
         "layout": {
          "annotationdefaults": {
           "arrowcolor": "#2a3f5f",
           "arrowhead": 0,
           "arrowwidth": 1
          },
          "autotypenumbers": "strict",
          "coloraxis": {
           "colorbar": {
            "outlinewidth": 0,
            "ticks": ""
           }
          },
          "colorscale": {
           "diverging": [
            [
             0,
             "#8e0152"
            ],
            [
             0.1,
             "#c51b7d"
            ],
            [
             0.2,
             "#de77ae"
            ],
            [
             0.3,
             "#f1b6da"
            ],
            [
             0.4,
             "#fde0ef"
            ],
            [
             0.5,
             "#f7f7f7"
            ],
            [
             0.6,
             "#e6f5d0"
            ],
            [
             0.7,
             "#b8e186"
            ],
            [
             0.8,
             "#7fbc41"
            ],
            [
             0.9,
             "#4d9221"
            ],
            [
             1,
             "#276419"
            ]
           ],
           "sequential": [
            [
             0,
             "#0d0887"
            ],
            [
             0.1111111111111111,
             "#46039f"
            ],
            [
             0.2222222222222222,
             "#7201a8"
            ],
            [
             0.3333333333333333,
             "#9c179e"
            ],
            [
             0.4444444444444444,
             "#bd3786"
            ],
            [
             0.5555555555555556,
             "#d8576b"
            ],
            [
             0.6666666666666666,
             "#ed7953"
            ],
            [
             0.7777777777777778,
             "#fb9f3a"
            ],
            [
             0.8888888888888888,
             "#fdca26"
            ],
            [
             1,
             "#f0f921"
            ]
           ],
           "sequentialminus": [
            [
             0,
             "#0d0887"
            ],
            [
             0.1111111111111111,
             "#46039f"
            ],
            [
             0.2222222222222222,
             "#7201a8"
            ],
            [
             0.3333333333333333,
             "#9c179e"
            ],
            [
             0.4444444444444444,
             "#bd3786"
            ],
            [
             0.5555555555555556,
             "#d8576b"
            ],
            [
             0.6666666666666666,
             "#ed7953"
            ],
            [
             0.7777777777777778,
             "#fb9f3a"
            ],
            [
             0.8888888888888888,
             "#fdca26"
            ],
            [
             1,
             "#f0f921"
            ]
           ]
          },
          "colorway": [
           "#636efa",
           "#EF553B",
           "#00cc96",
           "#ab63fa",
           "#FFA15A",
           "#19d3f3",
           "#FF6692",
           "#B6E880",
           "#FF97FF",
           "#FECB52"
          ],
          "font": {
           "color": "#2a3f5f"
          },
          "geo": {
           "bgcolor": "white",
           "lakecolor": "white",
           "landcolor": "#E5ECF6",
           "showlakes": true,
           "showland": true,
           "subunitcolor": "white"
          },
          "hoverlabel": {
           "align": "left"
          },
          "hovermode": "closest",
          "mapbox": {
           "style": "light"
          },
          "paper_bgcolor": "white",
          "plot_bgcolor": "#E5ECF6",
          "polar": {
           "angularaxis": {
            "gridcolor": "white",
            "linecolor": "white",
            "ticks": ""
           },
           "bgcolor": "#E5ECF6",
           "radialaxis": {
            "gridcolor": "white",
            "linecolor": "white",
            "ticks": ""
           }
          },
          "scene": {
           "xaxis": {
            "backgroundcolor": "#E5ECF6",
            "gridcolor": "white",
            "gridwidth": 2,
            "linecolor": "white",
            "showbackground": true,
            "ticks": "",
            "zerolinecolor": "white"
           },
           "yaxis": {
            "backgroundcolor": "#E5ECF6",
            "gridcolor": "white",
            "gridwidth": 2,
            "linecolor": "white",
            "showbackground": true,
            "ticks": "",
            "zerolinecolor": "white"
           },
           "zaxis": {
            "backgroundcolor": "#E5ECF6",
            "gridcolor": "white",
            "gridwidth": 2,
            "linecolor": "white",
            "showbackground": true,
            "ticks": "",
            "zerolinecolor": "white"
           }
          },
          "shapedefaults": {
           "line": {
            "color": "#2a3f5f"
           }
          },
          "ternary": {
           "aaxis": {
            "gridcolor": "white",
            "linecolor": "white",
            "ticks": ""
           },
           "baxis": {
            "gridcolor": "white",
            "linecolor": "white",
            "ticks": ""
           },
           "bgcolor": "#E5ECF6",
           "caxis": {
            "gridcolor": "white",
            "linecolor": "white",
            "ticks": ""
           }
          },
          "title": {
           "x": 0.05
          },
          "xaxis": {
           "automargin": true,
           "gridcolor": "white",
           "linecolor": "white",
           "ticks": "",
           "title": {
            "standoff": 15
           },
           "zerolinecolor": "white",
           "zerolinewidth": 2
          },
          "yaxis": {
           "automargin": true,
           "gridcolor": "white",
           "linecolor": "white",
           "ticks": "",
           "title": {
            "standoff": 15
           },
           "zerolinecolor": "white",
           "zerolinewidth": 2
          }
         }
        },
        "title": {
         "text": "KMeans for dataset B with 6 clusters on projected data"
        },
        "xaxis": {
         "anchor": "y",
         "domain": [
          0,
          1
         ],
         "title": {
          "text": "0"
         }
        },
        "yaxis": {
         "anchor": "x",
         "domain": [
          0,
          1
         ],
         "title": {
          "text": "1"
         }
        }
       }
      }
     },
     "metadata": {},
     "output_type": "display_data"
    }
   ],
   "source": [
    "# re-cluster with kmeans on the projected data\n",
    "kmeans_a = KMeans(n_clusters=6, random_state=0).fit(projected_a)\n",
    "fig_a = px.scatter(projected_a, x=0, y=1, color=kmeans_a.labels_, title='KMeans for dataset A with 6 clusters on projected data',\n",
    "                   color_continuous_scale='solar')\n",
    "fig_a.show()\n",
    "\n",
    "kmeans_b = KMeans(n_clusters=6, random_state=0).fit(projected_b)\n",
    "fig_b = px.scatter(projected_b, x=0, y=1, color=kmeans_b.labels_, title='KMeans for dataset B with 6 clusters on projected data',\n",
    "                   color_continuous_scale='haline')\n",
    "fig_b.show()"
   ]
  },
  {
   "cell_type": "code",
   "execution_count": 23,
   "metadata": {},
   "outputs": [
    {
     "data": {
      "application/vnd.plotly.v1+json": {
       "config": {
        "plotlyServerURL": "https://plot.ly"
       },
       "data": [
        {
         "hovertemplate": "0=%{x}<br>1=%{y}<br>color=%{marker.color}<extra></extra>",
         "legendgroup": "",
         "marker": {
          "color": [
           5,
           5,
           5,
           5,
           5,
           5,
           5,
           5,
           5,
           5,
           5,
           5,
           5,
           5,
           5,
           5,
           5,
           5,
           5,
           5,
           5,
           5,
           2,
           2,
           2,
           2,
           2,
           2,
           2,
           2,
           2,
           2,
           2,
           2,
           2,
           2,
           2,
           2,
           2,
           2,
           2,
           2,
           2,
           2,
           2,
           2,
           2,
           2,
           2,
           2,
           2,
           2,
           2,
           2,
           2,
           3,
           3,
           3,
           3,
           3,
           3,
           3,
           3,
           3,
           3,
           3,
           3,
           3,
           3,
           3,
           3,
           3,
           3,
           3,
           3,
           3,
           3,
           3,
           3,
           3,
           3,
           3,
           3,
           3,
           3,
           3,
           3,
           4,
           4,
           4,
           1,
           4,
           4,
           4,
           4,
           4,
           4,
           4,
           4,
           4,
           4,
           4,
           4,
           4,
           4,
           4,
           4,
           4,
           4,
           4,
           4,
           4,
           4,
           4,
           4,
           4,
           4,
           0,
           0,
           0,
           0,
           0,
           0,
           0,
           0,
           0,
           0,
           0,
           0,
           0,
           0,
           0,
           0,
           0,
           0,
           1,
           0,
           0,
           0,
           0,
           0,
           0,
           0,
           0,
           0,
           0,
           0,
           0,
           0,
           0,
           0,
           0,
           0,
           0,
           0,
           0,
           0,
           0,
           0,
           0,
           1,
           1,
           1,
           1,
           1,
           1,
           1,
           1,
           1,
           1,
           1,
           1,
           1,
           1,
           1,
           1,
           1,
           1,
           1,
           1
          ],
          "coloraxis": "coloraxis",
          "symbol": "circle"
         },
         "mode": "markers",
         "name": "",
         "orientation": "v",
         "showlegend": false,
         "type": "scatter",
         "x": [
          0.7233997193867868,
          0.483320212860178,
          0.47062896579199653,
          0.4190685661431893,
          0.5221581275664393,
          0.4613456351182712,
          0.5599156871425509,
          0.7373681428352246,
          0.521195865186353,
          0.7533479459195352,
          0.8629371585032645,
          0.7391270842196562,
          0.7819009033219634,
          0.4556982799634721,
          0.23880805181029807,
          0.6407226155711181,
          0.7864679033466123,
          0.6434356929599792,
          0.3292932210410664,
          0.8180569785137284,
          0.36776060474582306,
          0.27179366373599745,
          -1.1619800442656762,
          -1.3760147231529547,
          -1.557773614243179,
          -1.185799150639451,
          -1.2111735184001566,
          -1.0055399039348225,
          -1.6341397617728184,
          -0.7987134327084051,
          -1.1751830265841336,
          -1.1350041921206238,
          -0.9766788912796182,
          -1.0916861322654128,
          -1.2402788429311453,
          -0.9101403151766083,
          -0.993589718869651,
          -1.0423026956282198,
          -0.8316121897584052,
          -0.5281020946461231,
          -0.8791579565111243,
          -1.1001809103104505,
          -1.5020954740712704,
          -1.0439829085126087,
          -1.1165081328975581,
          -1.0161085373644614,
          -1.2654713745647959,
          -1.2281712008658887,
          -1.5899231829145126,
          -1.8124132755968074,
          -1.310035372925899,
          -1.2899459556941437,
          -0.6557843299487853,
          -1.6513586446156272,
          -1.1934429003070717,
          -1.2358761586539753,
          -1.2739092679802353,
          -1.3072735372830964,
          -1.0715642095310303,
          -1.3743251162646455,
          -1.266006221313779,
          -1.2482987147194018,
          -1.3698843353657177,
          -1.4260592256648519,
          -1.4095664197020021,
          -1.19938079033507,
          -1.4734312826661722,
          -1.3400067109573546,
          -0.8281798942369788,
          -1.5784534952252527,
          -1.263876748927843,
          -1.362012526573626,
          -1.4873209776145675,
          -1.435555630339997,
          -1.4770672581850988,
          -1.35302912477702,
          -1.4803408290781772,
          -1.449950201791275,
          -1.8329113204518255,
          -1.2958132435977565,
          -1.4975909497953503,
          -1.3729760701317404,
          -1.320753336979966,
          -1.2774665149991193,
          -1.1948056639347646,
          -1.2843366971611028,
          -1.425728058913368,
          1.458164620662742,
          1.5970003620262312,
          1.3211909283106973,
          1.0071028057648561,
          1.1378305528361263,
          1.2720436771736319,
          1.8441468719649297,
          1.3653762692946385,
          1.342226355171225,
          1.5249556350171933,
          1.5375519008340182,
          1.4011618134848987,
          1.5840648030822653,
          1.415004017807616,
          1.2609539144897968,
          1.5914236089958176,
          1.3333691725003396,
          1.2670586555218,
          1.5032809861524055,
          1.3614403648985929,
          1.6967213713050466,
          1.2705290476649846,
          1.8904304474604428,
          1.689867441894377,
          1.3534585897320945,
          1.2820137204772952,
          1.3657155624217792,
          1.3731693495866877,
          1.3285022435985714,
          1.639008739998558,
          0.3479916926333686,
          0.7705642935058177,
          0.7454423639965532,
          0.764064642345339,
          0.40859111108011714,
          1.0603502770454463,
          0.1213444951779511,
          0.5970789800835541,
          0.9787304168612204,
          0.7624631579609926,
          0.5163738916537368,
          0.8507876169314603,
          0.6978178687437915,
          0.6787382045178011,
          0.21567185518167198,
          0.302670379517942,
          0.4979009439293788,
          0.3057702406596216,
          0.731277119298009,
          0.5730930227057746,
          1.1089451610539516,
          0.3206928001124896,
          0.26253903568011006,
          0.10119260219746729,
          0.810577544593586,
          0.7707923526302884,
          0.2578851807797621,
          0.6401758395616882,
          0.851331857684364,
          1.0119603406627045,
          0.2752059036213209,
          0.35791424531135385,
          0.7209908943659126,
          0.6173339806910509,
          0.7244531601334404,
          0.4636069177490586,
          0.3825706625677577,
          0.3624500074616382,
          0.5100642029959704,
          0.6766712078805937,
          1.1795146228043636,
          0.6603046210434647,
          0.39529314751030326,
          -0.016621429800281362,
          0.005305657315947461,
          0.07733413157367158,
          0.12890265759813585,
          0.2332775217772996,
          0.4010992272934505,
          -0.06571306393601194,
          -0.04009438429952164,
          0.09495478329234976,
          0.07637999556924188,
          -0.14000535608104978,
          0.18209577950565398,
          0.0028762560528918964,
          0.13194690173848062,
          -0.33542588299519915,
          -0.17156319337380152,
          -0.09686913235289443,
          0.06342005749830554,
          0.01839867325999816,
          0.1826400202585576
         ],
         "xaxis": "x",
         "y": [
          -1.9702520020102146,
          -1.680954642222155,
          -1.3770577633570544,
          -1.4649479479490255,
          -1.6213568504055145,
          -1.6302696500777354,
          -1.806767969765979,
          -1.6396954526284944,
          -1.6326990513407904,
          -1.3849770627748235,
          -1.9293239791680379,
          -1.6742662961872263,
          -1.6678222620280825,
          -1.7189565136740508,
          -1.5102692610644524,
          -1.440512731069698,
          -1.8241443096088723,
          -1.2094410054666662,
          -1.4613038460544423,
          -1.507106924174043,
          -1.5941054485103137,
          -1.6745024816873548,
          1.1578785564938863,
          1.068403140268882,
          0.7620849865163826,
          -0.007733790950742336,
          0.3457595985529714,
          1.386978266711067,
          0.2601413582239702,
          0.46239143542182065,
          0.4492196909777266,
          0.45825870977566807,
          0.6321539184494581,
          0.46005701541012073,
          0.8875508945574095,
          0.8855313885458809,
          0.698282599300942,
          0.5665301141008564,
          0.5281020946461215,
          0.8316121897584041,
          0.5428359592245398,
          0.4152324524219197,
          0.3454759224271654,
          0.7568787644874748,
          0.5546043081626555,
          0.7536133199700533,
          0.7896987930374321,
          0.5104108408030569,
          0.9582940660592199,
          0.9018829902599576,
          0.48563633079658947,
          0.4901558401955599,
          0.4548114291311918,
          0.7982491880838037,
          0.8202075130743982,
          -0.675417142999047,
          -1.035228347536184,
          -0.8090941529593056,
          -0.55262494809686,
          -0.7256366228906064,
          -0.8093465912107469,
          -0.9213883165562391,
          -0.8613250124867375,
          -0.616481684685374,
          -0.6985982949968254,
          -0.6544916825129259,
          -0.7987929429041589,
          -0.6861282483057204,
          -0.7919077756191235,
          -0.41076807409173455,
          -0.6515180404969669,
          -0.9676325278017314,
          -0.973571685457993,
          -0.7505373520227943,
          -0.963317966028524,
          -0.4967418602991889,
          -0.681143226653889,
          -0.8427814626379941,
          -0.7223155613718506,
          -0.5744651803373899,
          -0.4752246684344864,
          -1.0304957641357937,
          -0.7135845978266846,
          -1.0439755638326627,
          -1.0651140983202037,
          -0.8484369441684496,
          -0.5019711938268049,
          -0.3220525078775748,
          -0.588034370166479,
          -0.69776478699898,
          -0.030948716079406358,
          -0.6579564835369752,
          -0.3369044652060574,
          -0.683425832549036,
          -0.3318013508041615,
          -0.1733023402117574,
          -0.10994235375046923,
          -0.06101630299048044,
          -0.363485407222634,
          -0.49717054355854884,
          -0.012295199856255157,
          -0.37913404355546104,
          -0.26664305870842075,
          -0.6648266656989585,
          -0.1965703470852349,
          -0.2769361423879111,
          -0.27864759314666465,
          -0.10944560362324363,
          -0.0893005693901544,
          -0.49182311728086836,
          -0.4225077204120061,
          -0.660307156299988,
          -0.6175727014477019,
          -0.47159122817208027,
          -0.5938866729470416,
          -0.29082583733630696,
          -0.2034880198728959,
          1.4689673902685376,
          0.7756965964581076,
          1.0879226699925042,
          1.163634610394833,
          1.5970364093240186,
          0.961683194445841,
          1.8391666597365206,
          0.887659593303557,
          1.1499417366965439,
          1.5097610676093374,
          1.2636718013020811,
          1.0687086602651368,
          0.9468787277430363,
          0.7772899544667969,
          0.8384105021677408,
          1.2887068759356461,
          1.7538158427820125,
          1.2035772593582144,
          0.3679216035410685,
          1.0141827449760261,
          0.8597689694040972,
          1.7997763779016989,
          1.10325639232516,
          1.1702686070566877,
          0.7274803698267645,
          1.497330385168254,
          1.3581010013045516,
          1.262914486547758,
          1.0640629317404455,
          1.1987415683308125,
          1.562260618139523,
          1.3647106188394376,
          1.374869357017551,
          0.9494343481318122,
          1.7364395029391195,
          0.9514063635176633,
          1.2129080806576185,
          0.8761992996182166,
          0.9459639559886273,
          1.283839947033879,
          0.7071697522179335,
          1.3453228993606716,
          1.2412004734329485,
          -0.2294678365069744,
          -0.10374136383884972,
          -0.07323264380188378,
          -0.23964282743640064,
          -0.015898669872556448,
          0.2920522061386541,
          -0.2993193477530842,
          -0.43977968499962716,
          -0.08675180774877432,
          -0.33887521296364786,
          -0.21272259229268373,
          -0.1656898284185032,
          -0.043891133770767796,
          0.10593938902520034,
          0.027814300111128842,
          -0.19757070608708244,
          0.24042120436546016,
          0.5148897183237457,
          0.11695042320899264,
          -0.17033555694319438
         ],
         "yaxis": "y"
        }
       ],
       "layout": {
        "coloraxis": {
         "colorbar": {
          "title": {
           "text": "color"
          }
         },
         "colorscale": [
          [
           0,
           "rgb(51, 19, 23)"
          ],
          [
           0.09090909090909091,
           "rgb(79, 28, 33)"
          ],
          [
           0.18181818181818182,
           "rgb(108, 36, 36)"
          ],
          [
           0.2727272727272727,
           "rgb(135, 47, 32)"
          ],
          [
           0.36363636363636365,
           "rgb(157, 66, 25)"
          ],
          [
           0.45454545454545453,
           "rgb(174, 88, 20)"
          ],
          [
           0.5454545454545454,
           "rgb(188, 111, 19)"
          ],
          [
           0.6363636363636364,
           "rgb(199, 137, 22)"
          ],
          [
           0.7272727272727273,
           "rgb(209, 164, 32)"
          ],
          [
           0.8181818181818182,
           "rgb(217, 192, 44)"
          ],
          [
           0.9090909090909091,
           "rgb(222, 222, 59)"
          ],
          [
           1,
           "rgb(224, 253, 74)"
          ]
         ]
        },
        "legend": {
         "tracegroupgap": 0
        },
        "template": {
         "data": {
          "bar": [
           {
            "error_x": {
             "color": "#2a3f5f"
            },
            "error_y": {
             "color": "#2a3f5f"
            },
            "marker": {
             "line": {
              "color": "#E5ECF6",
              "width": 0.5
             },
             "pattern": {
              "fillmode": "overlay",
              "size": 10,
              "solidity": 0.2
             }
            },
            "type": "bar"
           }
          ],
          "barpolar": [
           {
            "marker": {
             "line": {
              "color": "#E5ECF6",
              "width": 0.5
             },
             "pattern": {
              "fillmode": "overlay",
              "size": 10,
              "solidity": 0.2
             }
            },
            "type": "barpolar"
           }
          ],
          "carpet": [
           {
            "aaxis": {
             "endlinecolor": "#2a3f5f",
             "gridcolor": "white",
             "linecolor": "white",
             "minorgridcolor": "white",
             "startlinecolor": "#2a3f5f"
            },
            "baxis": {
             "endlinecolor": "#2a3f5f",
             "gridcolor": "white",
             "linecolor": "white",
             "minorgridcolor": "white",
             "startlinecolor": "#2a3f5f"
            },
            "type": "carpet"
           }
          ],
          "choropleth": [
           {
            "colorbar": {
             "outlinewidth": 0,
             "ticks": ""
            },
            "type": "choropleth"
           }
          ],
          "contour": [
           {
            "colorbar": {
             "outlinewidth": 0,
             "ticks": ""
            },
            "colorscale": [
             [
              0,
              "#0d0887"
             ],
             [
              0.1111111111111111,
              "#46039f"
             ],
             [
              0.2222222222222222,
              "#7201a8"
             ],
             [
              0.3333333333333333,
              "#9c179e"
             ],
             [
              0.4444444444444444,
              "#bd3786"
             ],
             [
              0.5555555555555556,
              "#d8576b"
             ],
             [
              0.6666666666666666,
              "#ed7953"
             ],
             [
              0.7777777777777778,
              "#fb9f3a"
             ],
             [
              0.8888888888888888,
              "#fdca26"
             ],
             [
              1,
              "#f0f921"
             ]
            ],
            "type": "contour"
           }
          ],
          "contourcarpet": [
           {
            "colorbar": {
             "outlinewidth": 0,
             "ticks": ""
            },
            "type": "contourcarpet"
           }
          ],
          "heatmap": [
           {
            "colorbar": {
             "outlinewidth": 0,
             "ticks": ""
            },
            "colorscale": [
             [
              0,
              "#0d0887"
             ],
             [
              0.1111111111111111,
              "#46039f"
             ],
             [
              0.2222222222222222,
              "#7201a8"
             ],
             [
              0.3333333333333333,
              "#9c179e"
             ],
             [
              0.4444444444444444,
              "#bd3786"
             ],
             [
              0.5555555555555556,
              "#d8576b"
             ],
             [
              0.6666666666666666,
              "#ed7953"
             ],
             [
              0.7777777777777778,
              "#fb9f3a"
             ],
             [
              0.8888888888888888,
              "#fdca26"
             ],
             [
              1,
              "#f0f921"
             ]
            ],
            "type": "heatmap"
           }
          ],
          "heatmapgl": [
           {
            "colorbar": {
             "outlinewidth": 0,
             "ticks": ""
            },
            "colorscale": [
             [
              0,
              "#0d0887"
             ],
             [
              0.1111111111111111,
              "#46039f"
             ],
             [
              0.2222222222222222,
              "#7201a8"
             ],
             [
              0.3333333333333333,
              "#9c179e"
             ],
             [
              0.4444444444444444,
              "#bd3786"
             ],
             [
              0.5555555555555556,
              "#d8576b"
             ],
             [
              0.6666666666666666,
              "#ed7953"
             ],
             [
              0.7777777777777778,
              "#fb9f3a"
             ],
             [
              0.8888888888888888,
              "#fdca26"
             ],
             [
              1,
              "#f0f921"
             ]
            ],
            "type": "heatmapgl"
           }
          ],
          "histogram": [
           {
            "marker": {
             "pattern": {
              "fillmode": "overlay",
              "size": 10,
              "solidity": 0.2
             }
            },
            "type": "histogram"
           }
          ],
          "histogram2d": [
           {
            "colorbar": {
             "outlinewidth": 0,
             "ticks": ""
            },
            "colorscale": [
             [
              0,
              "#0d0887"
             ],
             [
              0.1111111111111111,
              "#46039f"
             ],
             [
              0.2222222222222222,
              "#7201a8"
             ],
             [
              0.3333333333333333,
              "#9c179e"
             ],
             [
              0.4444444444444444,
              "#bd3786"
             ],
             [
              0.5555555555555556,
              "#d8576b"
             ],
             [
              0.6666666666666666,
              "#ed7953"
             ],
             [
              0.7777777777777778,
              "#fb9f3a"
             ],
             [
              0.8888888888888888,
              "#fdca26"
             ],
             [
              1,
              "#f0f921"
             ]
            ],
            "type": "histogram2d"
           }
          ],
          "histogram2dcontour": [
           {
            "colorbar": {
             "outlinewidth": 0,
             "ticks": ""
            },
            "colorscale": [
             [
              0,
              "#0d0887"
             ],
             [
              0.1111111111111111,
              "#46039f"
             ],
             [
              0.2222222222222222,
              "#7201a8"
             ],
             [
              0.3333333333333333,
              "#9c179e"
             ],
             [
              0.4444444444444444,
              "#bd3786"
             ],
             [
              0.5555555555555556,
              "#d8576b"
             ],
             [
              0.6666666666666666,
              "#ed7953"
             ],
             [
              0.7777777777777778,
              "#fb9f3a"
             ],
             [
              0.8888888888888888,
              "#fdca26"
             ],
             [
              1,
              "#f0f921"
             ]
            ],
            "type": "histogram2dcontour"
           }
          ],
          "mesh3d": [
           {
            "colorbar": {
             "outlinewidth": 0,
             "ticks": ""
            },
            "type": "mesh3d"
           }
          ],
          "parcoords": [
           {
            "line": {
             "colorbar": {
              "outlinewidth": 0,
              "ticks": ""
             }
            },
            "type": "parcoords"
           }
          ],
          "pie": [
           {
            "automargin": true,
            "type": "pie"
           }
          ],
          "scatter": [
           {
            "marker": {
             "colorbar": {
              "outlinewidth": 0,
              "ticks": ""
             }
            },
            "type": "scatter"
           }
          ],
          "scatter3d": [
           {
            "line": {
             "colorbar": {
              "outlinewidth": 0,
              "ticks": ""
             }
            },
            "marker": {
             "colorbar": {
              "outlinewidth": 0,
              "ticks": ""
             }
            },
            "type": "scatter3d"
           }
          ],
          "scattercarpet": [
           {
            "marker": {
             "colorbar": {
              "outlinewidth": 0,
              "ticks": ""
             }
            },
            "type": "scattercarpet"
           }
          ],
          "scattergeo": [
           {
            "marker": {
             "colorbar": {
              "outlinewidth": 0,
              "ticks": ""
             }
            },
            "type": "scattergeo"
           }
          ],
          "scattergl": [
           {
            "marker": {
             "colorbar": {
              "outlinewidth": 0,
              "ticks": ""
             }
            },
            "type": "scattergl"
           }
          ],
          "scattermapbox": [
           {
            "marker": {
             "colorbar": {
              "outlinewidth": 0,
              "ticks": ""
             }
            },
            "type": "scattermapbox"
           }
          ],
          "scatterpolar": [
           {
            "marker": {
             "colorbar": {
              "outlinewidth": 0,
              "ticks": ""
             }
            },
            "type": "scatterpolar"
           }
          ],
          "scatterpolargl": [
           {
            "marker": {
             "colorbar": {
              "outlinewidth": 0,
              "ticks": ""
             }
            },
            "type": "scatterpolargl"
           }
          ],
          "scatterternary": [
           {
            "marker": {
             "colorbar": {
              "outlinewidth": 0,
              "ticks": ""
             }
            },
            "type": "scatterternary"
           }
          ],
          "surface": [
           {
            "colorbar": {
             "outlinewidth": 0,
             "ticks": ""
            },
            "colorscale": [
             [
              0,
              "#0d0887"
             ],
             [
              0.1111111111111111,
              "#46039f"
             ],
             [
              0.2222222222222222,
              "#7201a8"
             ],
             [
              0.3333333333333333,
              "#9c179e"
             ],
             [
              0.4444444444444444,
              "#bd3786"
             ],
             [
              0.5555555555555556,
              "#d8576b"
             ],
             [
              0.6666666666666666,
              "#ed7953"
             ],
             [
              0.7777777777777778,
              "#fb9f3a"
             ],
             [
              0.8888888888888888,
              "#fdca26"
             ],
             [
              1,
              "#f0f921"
             ]
            ],
            "type": "surface"
           }
          ],
          "table": [
           {
            "cells": {
             "fill": {
              "color": "#EBF0F8"
             },
             "line": {
              "color": "white"
             }
            },
            "header": {
             "fill": {
              "color": "#C8D4E3"
             },
             "line": {
              "color": "white"
             }
            },
            "type": "table"
           }
          ]
         },
         "layout": {
          "annotationdefaults": {
           "arrowcolor": "#2a3f5f",
           "arrowhead": 0,
           "arrowwidth": 1
          },
          "autotypenumbers": "strict",
          "coloraxis": {
           "colorbar": {
            "outlinewidth": 0,
            "ticks": ""
           }
          },
          "colorscale": {
           "diverging": [
            [
             0,
             "#8e0152"
            ],
            [
             0.1,
             "#c51b7d"
            ],
            [
             0.2,
             "#de77ae"
            ],
            [
             0.3,
             "#f1b6da"
            ],
            [
             0.4,
             "#fde0ef"
            ],
            [
             0.5,
             "#f7f7f7"
            ],
            [
             0.6,
             "#e6f5d0"
            ],
            [
             0.7,
             "#b8e186"
            ],
            [
             0.8,
             "#7fbc41"
            ],
            [
             0.9,
             "#4d9221"
            ],
            [
             1,
             "#276419"
            ]
           ],
           "sequential": [
            [
             0,
             "#0d0887"
            ],
            [
             0.1111111111111111,
             "#46039f"
            ],
            [
             0.2222222222222222,
             "#7201a8"
            ],
            [
             0.3333333333333333,
             "#9c179e"
            ],
            [
             0.4444444444444444,
             "#bd3786"
            ],
            [
             0.5555555555555556,
             "#d8576b"
            ],
            [
             0.6666666666666666,
             "#ed7953"
            ],
            [
             0.7777777777777778,
             "#fb9f3a"
            ],
            [
             0.8888888888888888,
             "#fdca26"
            ],
            [
             1,
             "#f0f921"
            ]
           ],
           "sequentialminus": [
            [
             0,
             "#0d0887"
            ],
            [
             0.1111111111111111,
             "#46039f"
            ],
            [
             0.2222222222222222,
             "#7201a8"
            ],
            [
             0.3333333333333333,
             "#9c179e"
            ],
            [
             0.4444444444444444,
             "#bd3786"
            ],
            [
             0.5555555555555556,
             "#d8576b"
            ],
            [
             0.6666666666666666,
             "#ed7953"
            ],
            [
             0.7777777777777778,
             "#fb9f3a"
            ],
            [
             0.8888888888888888,
             "#fdca26"
            ],
            [
             1,
             "#f0f921"
            ]
           ]
          },
          "colorway": [
           "#636efa",
           "#EF553B",
           "#00cc96",
           "#ab63fa",
           "#FFA15A",
           "#19d3f3",
           "#FF6692",
           "#B6E880",
           "#FF97FF",
           "#FECB52"
          ],
          "font": {
           "color": "#2a3f5f"
          },
          "geo": {
           "bgcolor": "white",
           "lakecolor": "white",
           "landcolor": "#E5ECF6",
           "showlakes": true,
           "showland": true,
           "subunitcolor": "white"
          },
          "hoverlabel": {
           "align": "left"
          },
          "hovermode": "closest",
          "mapbox": {
           "style": "light"
          },
          "paper_bgcolor": "white",
          "plot_bgcolor": "#E5ECF6",
          "polar": {
           "angularaxis": {
            "gridcolor": "white",
            "linecolor": "white",
            "ticks": ""
           },
           "bgcolor": "#E5ECF6",
           "radialaxis": {
            "gridcolor": "white",
            "linecolor": "white",
            "ticks": ""
           }
          },
          "scene": {
           "xaxis": {
            "backgroundcolor": "#E5ECF6",
            "gridcolor": "white",
            "gridwidth": 2,
            "linecolor": "white",
            "showbackground": true,
            "ticks": "",
            "zerolinecolor": "white"
           },
           "yaxis": {
            "backgroundcolor": "#E5ECF6",
            "gridcolor": "white",
            "gridwidth": 2,
            "linecolor": "white",
            "showbackground": true,
            "ticks": "",
            "zerolinecolor": "white"
           },
           "zaxis": {
            "backgroundcolor": "#E5ECF6",
            "gridcolor": "white",
            "gridwidth": 2,
            "linecolor": "white",
            "showbackground": true,
            "ticks": "",
            "zerolinecolor": "white"
           }
          },
          "shapedefaults": {
           "line": {
            "color": "#2a3f5f"
           }
          },
          "ternary": {
           "aaxis": {
            "gridcolor": "white",
            "linecolor": "white",
            "ticks": ""
           },
           "baxis": {
            "gridcolor": "white",
            "linecolor": "white",
            "ticks": ""
           },
           "bgcolor": "#E5ECF6",
           "caxis": {
            "gridcolor": "white",
            "linecolor": "white",
            "ticks": ""
           }
          },
          "title": {
           "x": 0.05
          },
          "xaxis": {
           "automargin": true,
           "gridcolor": "white",
           "linecolor": "white",
           "ticks": "",
           "title": {
            "standoff": 15
           },
           "zerolinecolor": "white",
           "zerolinewidth": 2
          },
          "yaxis": {
           "automargin": true,
           "gridcolor": "white",
           "linecolor": "white",
           "ticks": "",
           "title": {
            "standoff": 15
           },
           "zerolinecolor": "white",
           "zerolinewidth": 2
          }
         }
        },
        "title": {
         "text": "Agglomerative Clustering for dataset A with 6 clusters on projected data"
        },
        "xaxis": {
         "anchor": "y",
         "domain": [
          0,
          1
         ],
         "title": {
          "text": "0"
         }
        },
        "yaxis": {
         "anchor": "x",
         "domain": [
          0,
          1
         ],
         "title": {
          "text": "1"
         }
        }
       }
      }
     },
     "metadata": {},
     "output_type": "display_data"
    },
    {
     "data": {
      "application/vnd.plotly.v1+json": {
       "config": {
        "plotlyServerURL": "https://plot.ly"
       },
       "data": [
        {
         "hovertemplate": "0=%{x}<br>1=%{y}<br>color=%{marker.color}<extra></extra>",
         "legendgroup": "",
         "marker": {
          "color": [
           2,
           2,
           2,
           2,
           2,
           2,
           2,
           2,
           2,
           2,
           2,
           2,
           2,
           2,
           2,
           2,
           2,
           2,
           2,
           2,
           2,
           1,
           1,
           1,
           1,
           1,
           1,
           1,
           1,
           1,
           1,
           1,
           1,
           1,
           1,
           1,
           1,
           1,
           1,
           1,
           1,
           1,
           1,
           1,
           1,
           1,
           1,
           1,
           1,
           1,
           1,
           1,
           1,
           1,
           1,
           1,
           1,
           1,
           1,
           1,
           1,
           1,
           3,
           4,
           3,
           3,
           3,
           3,
           3,
           4,
           4,
           3,
           3,
           3,
           3,
           4,
           3,
           4,
           4,
           3,
           3,
           4,
           5,
           5,
           5,
           5,
           5,
           5,
           5,
           5,
           5,
           5,
           5,
           5,
           5,
           5,
           5,
           5,
           5,
           5,
           5,
           5,
           5,
           5,
           5,
           5,
           5,
           5,
           5,
           5,
           5,
           5,
           5,
           5,
           5,
           5,
           5,
           0,
           0,
           0,
           0,
           0,
           0,
           0,
           0,
           0,
           0,
           0,
           0,
           0,
           0,
           4,
           0,
           0,
           0,
           0,
           0,
           0,
           0,
           4,
           4,
           0,
           4,
           4,
           4,
           4,
           4,
           4,
           0,
           4,
           0,
           4,
           4,
           0,
           4,
           4,
           0,
           4,
           0,
           4,
           4,
           4,
           0,
           4,
           4,
           4,
           0,
           4,
           0,
           0,
           0,
           0,
           4,
           4,
           4,
           4,
           0,
           0,
           4,
           4
          ],
          "coloraxis": "coloraxis",
          "symbol": "circle"
         },
         "mode": "markers",
         "name": "",
         "orientation": "v",
         "showlegend": false,
         "type": "scatter",
         "x": [
          -2.1369838945970017,
          -2.378205815829309,
          -1.9112456676936815,
          -1.9225467299350876,
          -1.5386603854204706,
          -2.3085609679479386,
          -1.5374867063080226,
          -2.1038122569616577,
          -1.5742525361895985,
          -1.7109356309760873,
          -1.6194965631799159,
          -2.009693433280347,
          -1.8547737333708452,
          -1.6968816579406547,
          -1.9442677949410014,
          -1.46483290545152,
          -1.7612067720764402,
          -1.8335647527271435,
          -1.6522992257005735,
          -2.1969768662571822,
          -1.919428044596624,
          -0.4456949092097747,
          -0.33781473212858143,
          -0.21313087178817858,
          -0.9484300953867482,
          -0.5574984756271931,
          -1.1515661978072562,
          -0.21302113942484752,
          -0.870529715693548,
          -0.3558318725249322,
          -0.09971149623473807,
          -0.8459460075302768,
          -0.9097924141880442,
          -0.607071444522866,
          -0.6050898608424069,
          -0.6037332944577402,
          0.21526475005763218,
          -0.9411653554151478,
          -0.2426319616981541,
          0.018881303246512382,
          -0.25965831025427527,
          -0.15622000801201785,
          -0.1816847756521877,
          -0.4094045862359671,
          -0.7105097467651235,
          -0.6320972827097113,
          -0.24843040292175672,
          -0.5321068628959107,
          -0.45123410768202193,
          -0.5210984202900545,
          -1.169068053271146,
          -0.47405889746174584,
          -0.9018295020117642,
          -0.24046749074547646,
          -0.6568638781452013,
          -0.6871728726231876,
          -1.0476126106325376,
          -0.4458046415731059,
          -0.8276728249528199,
          -0.7346545254750704,
          -0.9140116237300686,
          -0.8611736596781575,
          -0.7240246596946481,
          0.3434966234790753,
          -0.18936466990366616,
          -0.007144928491310135,
          0.12381287998046357,
          0.06481070016051266,
          0.21789512620733026,
          0.29293286274317293,
          0.5511079776227137,
          0.16307557847495988,
          -0.21350944861361293,
          -0.0769360861904552,
          0.2085756476463833,
          0.4203330564231585,
          0.24717675139064346,
          0.4083338219770726,
          0.43064332682433504,
          -0.11726273143406848,
          -0.3381567314995721,
          0.4953707929590011,
          -0.5341108505681149,
          -0.4621186444618485,
          -0.49059236507715076,
          -1.1286175022015028,
          -0.7113400553248794,
          -0.7103492634846499,
          -0.7284395587898881,
          -0.4895649957824774,
          -0.606029901765494,
          -0.7750767296193161,
          -0.6050391099252646,
          -0.5188466209657907,
          -0.7650225013992453,
          -1.2024084047160097,
          -0.5218555739409232,
          -0.7537580166122831,
          -0.9502511957867338,
          -0.8490505194060416,
          -0.6181022911204676,
          -0.8318778610321454,
          -0.7083676798041907,
          -1.0221702469841127,
          -0.7377224598963914,
          -0.7003316127190231,
          -1.1529085907292242,
          -1.0576160879354657,
          -0.6678215698339152,
          -0.6394941590363878,
          -1.0395623700846712,
          -0.9545435602376455,
          -0.8785881867704609,
          -0.7022034640361511,
          -0.6313117821334453,
          -0.8176410007244942,
          -0.5917564640033993,
          1.2528300110168091,
          1.2802032074285505,
          1.414279701238788,
          1.3192798180805791,
          1.0717473712624577,
          1.587289696453528,
          0.8539720565354175,
          1.0203391285041006,
          2.213461908949569,
          1.3668712032957928,
          1.5775280878690072,
          1.1571685331083643,
          1.664528481396492,
          1.1518853768172228,
          0.547287919509321,
          1.3747243831087417,
          0.9898472467538955,
          1.2015315006217833,
          1.0466118007122813,
          1.5549625408406387,
          1.1886877841532426,
          1.105357938351126,
          1.4696241356143673,
          1.2744509453701396,
          1.8421362629786908,
          1.3673960899390019,
          1.0100384598136718,
          1.4744683624521842,
          1.1366673263800902,
          1.5000794399101287,
          1.4951254807089809,
          1.8494741578591785,
          0.7050798642869284,
          1.6642820409261339,
          1.1982761071762926,
          0.8756295683431918,
          1.5650995256803444,
          1.3733408409803793,
          1.4030248181625733,
          1.6378630589001784,
          1.331142344419638,
          1.7421092657104467,
          1.1527028830959818,
          1.3975587745992135,
          1.434507491753008,
          1.542790020833082,
          1.1820210857337385,
          1.2366577461938906,
          1.1880389916840035,
          1.6024172179488256,
          1.1517120912557521,
          1.7959380216025873,
          1.9710027554066745,
          1.63389989153926,
          2.104494009945812,
          1.4577346335316128,
          1.2073395435561336,
          1.0017829280018418,
          1.007873988860994,
          1.5930611619334347,
          1.8577662671254522,
          1.2267132503371512,
          1.5050699765657203
         ],
         "xaxis": "x",
         "y": [
          -0.2332566622959562,
          -0.12119705369743183,
          -0.2450698088995742,
          -0.18936920169030558,
          -0.2866766650487176,
          -0.0576432666752138,
          -0.34032253366863985,
          -0.15744759864654612,
          -0.2309029029305616,
          -0.21530947623824348,
          -0.33096647765324916,
          -0.15469468785252016,
          -0.1764157528584337,
          -0.1768912597662019,
          -0.034449501780803526,
          -0.2676687328121373,
          -0.32649122593011903,
          -0.16129783307388412,
          -0.19321943611764325,
          -0.14097311247733035,
          -0.21670582064760335,
          1.0986597324012872,
          1.2369952137782416,
          1.1728561874849242,
          1.3390339710408898,
          1.2548628437865683,
          1.2394459032259704,
          1.1364195546933418,
          1.3499326812834151,
          1.1702495865086728,
          1.152272224137015,
          1.2526951722636412,
          1.2802146784931576,
          1.2479273009049612,
          1.262091006303725,
          1.1477174163644985,
          1.0835116363027926,
          1.2792970415618155,
          1.2225388887439284,
          1.09422425870285,
          1.1628751141737412,
          1.095763712359735,
          1.1494827358885447,
          1.147132177093399,
          1.3150387027189674,
          1.155899793267441,
          1.131465595492194,
          1.2254349087854803,
          1.257579177126151,
          1.2668986556870978,
          1.3376742040859742,
          1.1068421093042295,
          1.3247239558243515,
          1.1759748728233879,
          1.3138650236065192,
          1.2957381508468373,
          1.337308429541537,
          1.1350963651928696,
          1.2344219896861843,
          1.2665296805724116,
          1.336906077542656,
          1.2679228244115222,
          0.08940267881814168,
          -0.15874518358502432,
          0.002774460975592613,
          -0.009919745104923933,
          -0.14087755357669765,
          -0.041512151058689696,
          -0.1259790985188104,
          -0.17276257916601312,
          -0.20086732466662885,
          -0.07115955078644004,
          -0.04573456117096325,
          -0.024891355071698613,
          -0.05611478591077791,
          -0.1306372375141593,
          -0.10278853419464948,
          -0.1791828371151588,
          -0.19341969742280996,
          -0.07740012203361646,
          0.006258920858493333,
          -0.17742071816136196,
          -1.1338096313786508,
          -1.1775475815962775,
          -1.1329285719017523,
          -1.003480040772919,
          -1.097851706065086,
          -1.0907698533657042,
          -1.1332243921075515,
          -1.1379922634662314,
          -1.114362769688746,
          -1.1067688326271523,
          -1.107280916989364,
          -1.1611828277903924,
          -1.084532482688777,
          -1.03463351727336,
          -1.170282841624677,
          -1.1280875456341852,
          -1.080938290442545,
          -1.0771945878082891,
          -1.1386172807620238,
          -1.0661129902935453,
          -1.0766061479669404,
          -1.0614914287526402,
          -1.0755056237633798,
          -1.0563879591634684,
          -1.0034068858640315,
          -1.0542998436899274,
          -1.0969706465881877,
          -1.0930074792272695,
          -0.9996997606842192,
          -0.9999558028653253,
          -1.0153663422854247,
          -1.1069882973538145,
          -1.1213714674792403,
          -1.0884224951408077,
          -1.1488178187998694,
          -0.6442647327931594,
          -0.6595289623954839,
          -0.8178233898245555,
          -0.8640947861095462,
          -0.6730708510687045,
          -0.7970899160886219,
          -0.6167484271338924,
          -0.7427522764045184,
          -1.023666223873898,
          -0.8713229486267027,
          -0.9164906201378833,
          -0.8069278801522796,
          -0.9025829569202257,
          -0.7330272452744412,
          -0.6127884603432234,
          -0.7903770385039265,
          -0.7001514278448961,
          -0.7503827909205558,
          -0.7286617259146421,
          -0.8172349499832067,
          -0.8545924202763806,
          -0.7430083185856243,
          0.29736563404351846,
          0.2422868435597927,
          0.2800498664220967,
          0.29868562297374135,
          0.3250648269750041,
          0.36921153033201015,
          0.28723505034431135,
          0.2669103297477571,
          0.2315010662508482,
          0.19602184841530057,
          0.42820730901146253,
          0.18747049639767166,
          0.33057064856305696,
          0.2576576049551991,
          0.18574495489831855,
          0.34117673917003244,
          0.23076631659172442,
          0.22196212296323892,
          0.23806763401776854,
          0.22266029516791863,
          0.3398169722151166,
          0.3653946727888666,
          0.1952473207314841,
          0.1999818152059698,
          0.3508619922754166,
          0.35677016586235033,
          0.369062019943986,
          0.2291537080259517,
          0.33273511951573453,
          0.16075889473616634,
          0.17136498534314193,
          0.19363471216571138,
          0.20739926613584359,
          0.2123834016509364,
          0.34572514580205016,
          0.3777199037546968,
          0.37162884289554454,
          0.3111635648978449,
          0.13122122737174702,
          0.29809718313239286,
          0.29017404898080557
         ],
         "yaxis": "y"
        }
       ],
       "layout": {
        "coloraxis": {
         "colorbar": {
          "title": {
           "text": "color"
          }
         },
         "colorscale": [
          [
           0,
           "rgb(41, 24, 107)"
          ],
          [
           0.09090909090909091,
           "rgb(42, 35, 160)"
          ],
          [
           0.18181818181818182,
           "rgb(15, 71, 153)"
          ],
          [
           0.2727272727272727,
           "rgb(18, 95, 142)"
          ],
          [
           0.36363636363636365,
           "rgb(38, 116, 137)"
          ],
          [
           0.45454545454545453,
           "rgb(53, 136, 136)"
          ],
          [
           0.5454545454545454,
           "rgb(65, 157, 133)"
          ],
          [
           0.6363636363636364,
           "rgb(81, 178, 124)"
          ],
          [
           0.7272727272727273,
           "rgb(111, 198, 107)"
          ],
          [
           0.8181818181818182,
           "rgb(160, 214, 91)"
          ],
          [
           0.9090909090909091,
           "rgb(212, 225, 112)"
          ],
          [
           1,
           "rgb(253, 238, 153)"
          ]
         ]
        },
        "legend": {
         "tracegroupgap": 0
        },
        "template": {
         "data": {
          "bar": [
           {
            "error_x": {
             "color": "#2a3f5f"
            },
            "error_y": {
             "color": "#2a3f5f"
            },
            "marker": {
             "line": {
              "color": "#E5ECF6",
              "width": 0.5
             },
             "pattern": {
              "fillmode": "overlay",
              "size": 10,
              "solidity": 0.2
             }
            },
            "type": "bar"
           }
          ],
          "barpolar": [
           {
            "marker": {
             "line": {
              "color": "#E5ECF6",
              "width": 0.5
             },
             "pattern": {
              "fillmode": "overlay",
              "size": 10,
              "solidity": 0.2
             }
            },
            "type": "barpolar"
           }
          ],
          "carpet": [
           {
            "aaxis": {
             "endlinecolor": "#2a3f5f",
             "gridcolor": "white",
             "linecolor": "white",
             "minorgridcolor": "white",
             "startlinecolor": "#2a3f5f"
            },
            "baxis": {
             "endlinecolor": "#2a3f5f",
             "gridcolor": "white",
             "linecolor": "white",
             "minorgridcolor": "white",
             "startlinecolor": "#2a3f5f"
            },
            "type": "carpet"
           }
          ],
          "choropleth": [
           {
            "colorbar": {
             "outlinewidth": 0,
             "ticks": ""
            },
            "type": "choropleth"
           }
          ],
          "contour": [
           {
            "colorbar": {
             "outlinewidth": 0,
             "ticks": ""
            },
            "colorscale": [
             [
              0,
              "#0d0887"
             ],
             [
              0.1111111111111111,
              "#46039f"
             ],
             [
              0.2222222222222222,
              "#7201a8"
             ],
             [
              0.3333333333333333,
              "#9c179e"
             ],
             [
              0.4444444444444444,
              "#bd3786"
             ],
             [
              0.5555555555555556,
              "#d8576b"
             ],
             [
              0.6666666666666666,
              "#ed7953"
             ],
             [
              0.7777777777777778,
              "#fb9f3a"
             ],
             [
              0.8888888888888888,
              "#fdca26"
             ],
             [
              1,
              "#f0f921"
             ]
            ],
            "type": "contour"
           }
          ],
          "contourcarpet": [
           {
            "colorbar": {
             "outlinewidth": 0,
             "ticks": ""
            },
            "type": "contourcarpet"
           }
          ],
          "heatmap": [
           {
            "colorbar": {
             "outlinewidth": 0,
             "ticks": ""
            },
            "colorscale": [
             [
              0,
              "#0d0887"
             ],
             [
              0.1111111111111111,
              "#46039f"
             ],
             [
              0.2222222222222222,
              "#7201a8"
             ],
             [
              0.3333333333333333,
              "#9c179e"
             ],
             [
              0.4444444444444444,
              "#bd3786"
             ],
             [
              0.5555555555555556,
              "#d8576b"
             ],
             [
              0.6666666666666666,
              "#ed7953"
             ],
             [
              0.7777777777777778,
              "#fb9f3a"
             ],
             [
              0.8888888888888888,
              "#fdca26"
             ],
             [
              1,
              "#f0f921"
             ]
            ],
            "type": "heatmap"
           }
          ],
          "heatmapgl": [
           {
            "colorbar": {
             "outlinewidth": 0,
             "ticks": ""
            },
            "colorscale": [
             [
              0,
              "#0d0887"
             ],
             [
              0.1111111111111111,
              "#46039f"
             ],
             [
              0.2222222222222222,
              "#7201a8"
             ],
             [
              0.3333333333333333,
              "#9c179e"
             ],
             [
              0.4444444444444444,
              "#bd3786"
             ],
             [
              0.5555555555555556,
              "#d8576b"
             ],
             [
              0.6666666666666666,
              "#ed7953"
             ],
             [
              0.7777777777777778,
              "#fb9f3a"
             ],
             [
              0.8888888888888888,
              "#fdca26"
             ],
             [
              1,
              "#f0f921"
             ]
            ],
            "type": "heatmapgl"
           }
          ],
          "histogram": [
           {
            "marker": {
             "pattern": {
              "fillmode": "overlay",
              "size": 10,
              "solidity": 0.2
             }
            },
            "type": "histogram"
           }
          ],
          "histogram2d": [
           {
            "colorbar": {
             "outlinewidth": 0,
             "ticks": ""
            },
            "colorscale": [
             [
              0,
              "#0d0887"
             ],
             [
              0.1111111111111111,
              "#46039f"
             ],
             [
              0.2222222222222222,
              "#7201a8"
             ],
             [
              0.3333333333333333,
              "#9c179e"
             ],
             [
              0.4444444444444444,
              "#bd3786"
             ],
             [
              0.5555555555555556,
              "#d8576b"
             ],
             [
              0.6666666666666666,
              "#ed7953"
             ],
             [
              0.7777777777777778,
              "#fb9f3a"
             ],
             [
              0.8888888888888888,
              "#fdca26"
             ],
             [
              1,
              "#f0f921"
             ]
            ],
            "type": "histogram2d"
           }
          ],
          "histogram2dcontour": [
           {
            "colorbar": {
             "outlinewidth": 0,
             "ticks": ""
            },
            "colorscale": [
             [
              0,
              "#0d0887"
             ],
             [
              0.1111111111111111,
              "#46039f"
             ],
             [
              0.2222222222222222,
              "#7201a8"
             ],
             [
              0.3333333333333333,
              "#9c179e"
             ],
             [
              0.4444444444444444,
              "#bd3786"
             ],
             [
              0.5555555555555556,
              "#d8576b"
             ],
             [
              0.6666666666666666,
              "#ed7953"
             ],
             [
              0.7777777777777778,
              "#fb9f3a"
             ],
             [
              0.8888888888888888,
              "#fdca26"
             ],
             [
              1,
              "#f0f921"
             ]
            ],
            "type": "histogram2dcontour"
           }
          ],
          "mesh3d": [
           {
            "colorbar": {
             "outlinewidth": 0,
             "ticks": ""
            },
            "type": "mesh3d"
           }
          ],
          "parcoords": [
           {
            "line": {
             "colorbar": {
              "outlinewidth": 0,
              "ticks": ""
             }
            },
            "type": "parcoords"
           }
          ],
          "pie": [
           {
            "automargin": true,
            "type": "pie"
           }
          ],
          "scatter": [
           {
            "marker": {
             "colorbar": {
              "outlinewidth": 0,
              "ticks": ""
             }
            },
            "type": "scatter"
           }
          ],
          "scatter3d": [
           {
            "line": {
             "colorbar": {
              "outlinewidth": 0,
              "ticks": ""
             }
            },
            "marker": {
             "colorbar": {
              "outlinewidth": 0,
              "ticks": ""
             }
            },
            "type": "scatter3d"
           }
          ],
          "scattercarpet": [
           {
            "marker": {
             "colorbar": {
              "outlinewidth": 0,
              "ticks": ""
             }
            },
            "type": "scattercarpet"
           }
          ],
          "scattergeo": [
           {
            "marker": {
             "colorbar": {
              "outlinewidth": 0,
              "ticks": ""
             }
            },
            "type": "scattergeo"
           }
          ],
          "scattergl": [
           {
            "marker": {
             "colorbar": {
              "outlinewidth": 0,
              "ticks": ""
             }
            },
            "type": "scattergl"
           }
          ],
          "scattermapbox": [
           {
            "marker": {
             "colorbar": {
              "outlinewidth": 0,
              "ticks": ""
             }
            },
            "type": "scattermapbox"
           }
          ],
          "scatterpolar": [
           {
            "marker": {
             "colorbar": {
              "outlinewidth": 0,
              "ticks": ""
             }
            },
            "type": "scatterpolar"
           }
          ],
          "scatterpolargl": [
           {
            "marker": {
             "colorbar": {
              "outlinewidth": 0,
              "ticks": ""
             }
            },
            "type": "scatterpolargl"
           }
          ],
          "scatterternary": [
           {
            "marker": {
             "colorbar": {
              "outlinewidth": 0,
              "ticks": ""
             }
            },
            "type": "scatterternary"
           }
          ],
          "surface": [
           {
            "colorbar": {
             "outlinewidth": 0,
             "ticks": ""
            },
            "colorscale": [
             [
              0,
              "#0d0887"
             ],
             [
              0.1111111111111111,
              "#46039f"
             ],
             [
              0.2222222222222222,
              "#7201a8"
             ],
             [
              0.3333333333333333,
              "#9c179e"
             ],
             [
              0.4444444444444444,
              "#bd3786"
             ],
             [
              0.5555555555555556,
              "#d8576b"
             ],
             [
              0.6666666666666666,
              "#ed7953"
             ],
             [
              0.7777777777777778,
              "#fb9f3a"
             ],
             [
              0.8888888888888888,
              "#fdca26"
             ],
             [
              1,
              "#f0f921"
             ]
            ],
            "type": "surface"
           }
          ],
          "table": [
           {
            "cells": {
             "fill": {
              "color": "#EBF0F8"
             },
             "line": {
              "color": "white"
             }
            },
            "header": {
             "fill": {
              "color": "#C8D4E3"
             },
             "line": {
              "color": "white"
             }
            },
            "type": "table"
           }
          ]
         },
         "layout": {
          "annotationdefaults": {
           "arrowcolor": "#2a3f5f",
           "arrowhead": 0,
           "arrowwidth": 1
          },
          "autotypenumbers": "strict",
          "coloraxis": {
           "colorbar": {
            "outlinewidth": 0,
            "ticks": ""
           }
          },
          "colorscale": {
           "diverging": [
            [
             0,
             "#8e0152"
            ],
            [
             0.1,
             "#c51b7d"
            ],
            [
             0.2,
             "#de77ae"
            ],
            [
             0.3,
             "#f1b6da"
            ],
            [
             0.4,
             "#fde0ef"
            ],
            [
             0.5,
             "#f7f7f7"
            ],
            [
             0.6,
             "#e6f5d0"
            ],
            [
             0.7,
             "#b8e186"
            ],
            [
             0.8,
             "#7fbc41"
            ],
            [
             0.9,
             "#4d9221"
            ],
            [
             1,
             "#276419"
            ]
           ],
           "sequential": [
            [
             0,
             "#0d0887"
            ],
            [
             0.1111111111111111,
             "#46039f"
            ],
            [
             0.2222222222222222,
             "#7201a8"
            ],
            [
             0.3333333333333333,
             "#9c179e"
            ],
            [
             0.4444444444444444,
             "#bd3786"
            ],
            [
             0.5555555555555556,
             "#d8576b"
            ],
            [
             0.6666666666666666,
             "#ed7953"
            ],
            [
             0.7777777777777778,
             "#fb9f3a"
            ],
            [
             0.8888888888888888,
             "#fdca26"
            ],
            [
             1,
             "#f0f921"
            ]
           ],
           "sequentialminus": [
            [
             0,
             "#0d0887"
            ],
            [
             0.1111111111111111,
             "#46039f"
            ],
            [
             0.2222222222222222,
             "#7201a8"
            ],
            [
             0.3333333333333333,
             "#9c179e"
            ],
            [
             0.4444444444444444,
             "#bd3786"
            ],
            [
             0.5555555555555556,
             "#d8576b"
            ],
            [
             0.6666666666666666,
             "#ed7953"
            ],
            [
             0.7777777777777778,
             "#fb9f3a"
            ],
            [
             0.8888888888888888,
             "#fdca26"
            ],
            [
             1,
             "#f0f921"
            ]
           ]
          },
          "colorway": [
           "#636efa",
           "#EF553B",
           "#00cc96",
           "#ab63fa",
           "#FFA15A",
           "#19d3f3",
           "#FF6692",
           "#B6E880",
           "#FF97FF",
           "#FECB52"
          ],
          "font": {
           "color": "#2a3f5f"
          },
          "geo": {
           "bgcolor": "white",
           "lakecolor": "white",
           "landcolor": "#E5ECF6",
           "showlakes": true,
           "showland": true,
           "subunitcolor": "white"
          },
          "hoverlabel": {
           "align": "left"
          },
          "hovermode": "closest",
          "mapbox": {
           "style": "light"
          },
          "paper_bgcolor": "white",
          "plot_bgcolor": "#E5ECF6",
          "polar": {
           "angularaxis": {
            "gridcolor": "white",
            "linecolor": "white",
            "ticks": ""
           },
           "bgcolor": "#E5ECF6",
           "radialaxis": {
            "gridcolor": "white",
            "linecolor": "white",
            "ticks": ""
           }
          },
          "scene": {
           "xaxis": {
            "backgroundcolor": "#E5ECF6",
            "gridcolor": "white",
            "gridwidth": 2,
            "linecolor": "white",
            "showbackground": true,
            "ticks": "",
            "zerolinecolor": "white"
           },
           "yaxis": {
            "backgroundcolor": "#E5ECF6",
            "gridcolor": "white",
            "gridwidth": 2,
            "linecolor": "white",
            "showbackground": true,
            "ticks": "",
            "zerolinecolor": "white"
           },
           "zaxis": {
            "backgroundcolor": "#E5ECF6",
            "gridcolor": "white",
            "gridwidth": 2,
            "linecolor": "white",
            "showbackground": true,
            "ticks": "",
            "zerolinecolor": "white"
           }
          },
          "shapedefaults": {
           "line": {
            "color": "#2a3f5f"
           }
          },
          "ternary": {
           "aaxis": {
            "gridcolor": "white",
            "linecolor": "white",
            "ticks": ""
           },
           "baxis": {
            "gridcolor": "white",
            "linecolor": "white",
            "ticks": ""
           },
           "bgcolor": "#E5ECF6",
           "caxis": {
            "gridcolor": "white",
            "linecolor": "white",
            "ticks": ""
           }
          },
          "title": {
           "x": 0.05
          },
          "xaxis": {
           "automargin": true,
           "gridcolor": "white",
           "linecolor": "white",
           "ticks": "",
           "title": {
            "standoff": 15
           },
           "zerolinecolor": "white",
           "zerolinewidth": 2
          },
          "yaxis": {
           "automargin": true,
           "gridcolor": "white",
           "linecolor": "white",
           "ticks": "",
           "title": {
            "standoff": 15
           },
           "zerolinecolor": "white",
           "zerolinewidth": 2
          }
         }
        },
        "title": {
         "text": "Agglomerative Clustering for dataset B with 6 clusters on projected data"
        },
        "xaxis": {
         "anchor": "y",
         "domain": [
          0,
          1
         ],
         "title": {
          "text": "0"
         }
        },
        "yaxis": {
         "anchor": "x",
         "domain": [
          0,
          1
         ],
         "title": {
          "text": "1"
         }
        }
       }
      }
     },
     "metadata": {},
     "output_type": "display_data"
    }
   ],
   "source": [
    "# re-cluster with agglomerative clustering on the projected data\n",
    "agg_a = AgglomerativeClustering(n_clusters=6, linkage='complete')\n",
    "assignments_a = agg_a.fit_predict(projected_a)\n",
    "fig_a = px.scatter(projected_a,x=0, y=1, color=assignments_a, title='Agglomerative Clustering for dataset A with 6 clusters on projected data',\n",
    "                   color_continuous_scale='solar')\n",
    "fig_a.show()\n",
    "\n",
    "agg_b = AgglomerativeClustering(n_clusters=6, linkage='complete')\n",
    "assignments_b = agg_b.fit_predict(projected_b)\n",
    "fig_b = px.scatter(projected_b,x=0, y=1, color=assignments_b, title='Agglomerative Clustering for dataset B with 6 clusters on projected data',\n",
    "                     color_continuous_scale='haline')\n",
    "fig_b.show()"
   ]
  },
  {
   "attachments": {},
   "cell_type": "markdown",
   "metadata": {},
   "source": [
    "# Apply K-Means Clustering to your data set"
   ]
  },
  {
   "cell_type": "code",
   "execution_count": 24,
   "metadata": {},
   "outputs": [
    {
     "name": "stdout",
     "output_type": "stream",
     "text": [
      "Mean: [90.26744186 69.93023256 29.79844961 24.59302326 38.50775194]\n",
      "Standard Deviation: [ 4.52321596 17.15306651 18.47452881 10.01051142 39.73899753]\n",
      "Eigenvalues: [2.29249695 0.97198351 0.92816507 0.55450711 0.27230261]\n",
      "Eigenvectors: \n",
      "[[-0.23404322 -0.22746188 -0.54525691 -0.58300473 -0.50624624]\n",
      " [-0.81250145 -0.41913017  0.3496958   0.20006706 -0.04309662]\n",
      " [-0.46141344  0.87656152 -0.03040711 -0.01298116 -0.13283235]\n",
      " [ 0.26215636  0.02755323  0.39846119  0.24412776 -0.84388694]\n",
      " [ 0.05862461  0.0589213   0.64862303 -0.74853976  0.10985364]]\n"
     ]
    },
    {
     "data": {
      "application/vnd.plotly.v1+json": {
       "config": {
        "plotlyServerURL": "https://plot.ly"
       },
       "data": [
        {
         "hovertemplate": "X1=%{x}<br>X2=%{y}<br>X3=%{z}<br>Alcoholic Beverage Consumption=%{marker.color}<extra></extra>",
         "legendgroup": "",
         "marker": {
          "color": [
           4,
           0,
           1,
           0,
           0,
           1,
           1,
           0,
           0,
           1,
           0,
           1,
           0,
           0,
           0,
           0,
           0,
           0,
           0,
           1,
           0,
           1,
           0,
           0,
           1,
           0,
           0,
           1,
           0,
           0,
           0,
           0,
           0,
           0,
           1,
           2,
           0,
           1,
           0,
           2,
           1,
           1,
           0,
           0,
           0,
           1,
           0,
           1,
           1,
           1,
           0,
           1,
           0,
           0,
           0,
           1,
           1,
           0,
           1,
           1,
           0,
           0,
           0,
           0,
           2,
           0,
           0,
           0,
           1,
           0,
           0,
           0,
           0,
           0,
           0,
           0,
           0,
           2,
           0,
           1,
           0,
           1,
           1,
           1,
           0,
           1,
           0,
           3,
           0,
           1,
           1,
           0,
           1,
           1,
           1,
           0,
           0,
           0,
           0,
           0,
           1,
           0,
           0,
           0,
           0,
           0,
           2,
           0,
           1,
           0,
           0,
           0,
           1,
           0,
           0,
           0,
           0,
           2,
           0,
           0,
           0,
           0,
           0,
           0,
           3,
           2,
           1,
           0,
           0,
           0,
           0,
           0,
           2,
           1,
           0,
           0,
           0,
           0,
           0,
           0,
           0,
           0,
           0,
           1,
           0,
           0,
           0,
           1,
           0,
           0,
           0,
           0,
           1,
           0,
           2,
           0,
           0,
           1,
           0,
           0,
           0,
           1,
           2,
           0,
           0,
           2,
           0,
           0,
           1,
           0,
           0,
           0,
           0,
           1,
           0,
           0,
           1,
           0,
           1,
           1,
           0,
           0,
           0,
           0,
           1,
           1,
           1,
           1,
           1,
           3,
           0,
           0,
           0,
           0,
           0,
           1,
           0,
           0,
           0,
           0,
           0,
           0,
           1,
           0,
           0,
           0,
           1,
           0,
           0,
           0,
           0,
           0,
           0,
           2,
           1,
           1,
           0,
           0,
           0,
           0,
           0,
           2,
           1,
           0,
           1,
           1,
           0,
           1,
           1,
           0,
           0,
           0,
           0,
           0,
           0,
           0,
           1,
           1,
           1,
           1,
           0,
           0,
           1,
           0,
           0,
           0,
           0,
           0,
           0,
           0,
           0,
           0,
           0,
           1,
           0,
           0,
           0,
           1
          ],
          "coloraxis": "coloraxis",
          "symbol": "circle"
         },
         "mode": "markers",
         "name": "",
         "scene": "scene",
         "showlegend": false,
         "type": "scatter3d",
         "x": [
          -3.1143943148177335,
          0.4052177840858681,
          0.6445675763106689,
          0.27781840075051323,
          1.0498893636660682,
          1.1072650050584936,
          -4.6065646387822525,
          0.018707353391711097,
          -1.3470644718918812,
          0.3293910681032134,
          1.2761359256884375,
          1.9154588214531372,
          0.016098155004013473,
          -0.7444826796071394,
          -1.5193728462375684,
          1.020642704783576,
          0.7261851262206307,
          0.9852946610867501,
          -0.9006608647781119,
          0.6878292591867523,
          0.10686236994786347,
          -0.23833708757671754,
          0.5820239139618758,
          -0.20525730517824012,
          -0.09986717163290304,
          1.0098768335416288,
          0.01494403663292198,
          0.4695352594289127,
          1.116484691549774,
          0.8368109429948378,
          1.480506679251726,
          -0.436999913489571,
          0.76806070167863,
          1.2243600462776834,
          1.4141931682847597,
          -0.40417935046914577,
          1.088655365767477,
          0.5149857934362945,
          -0.18759319301851762,
          -1.0259921609316107,
          -2.8721559364510423,
          -1.9477267459808023,
          1.9476762763893887,
          1.424972316228421,
          0.9019636640269164,
          0.4627170249213763,
          0.26867825168189585,
          0.6818317529825367,
          0.35662953158585553,
          1.2647923776230159,
          1.1297051542541134,
          0.9967933708794121,
          0.7546416631648406,
          1.0310556653807093,
          0.5874716432412567,
          -1.378687819151224,
          2.0132699643758403,
          0.5381808918768003,
          -0.6595107273187738,
          0.9383730065623151,
          0.15873975064335502,
          -0.4683054584245046,
          -6.842597335763628,
          0.7677924462284847,
          -4.1365739027393715,
          -0.35908620570680205,
          0.6600353084036269,
          1.3577349932574343,
          -0.3598467024620142,
          1.105802056006975,
          1.4029706188681228,
          0.32486163399155055,
          1.3722035252407694,
          0.8159059660404221,
          -0.19562915198886213,
          -8.413318890940687,
          -0.18461200041408116,
          -1.440195644404969,
          0.2695964071452015,
          -0.9623598568395386,
          0.7784946935738605,
          -0.021286098429831896,
          -0.2578810876626694,
          -0.502820488784236,
          1.1002438537958412,
          0.7214097371229431,
          0.76806070167863,
          -2.4869808616467854,
          0.8504936420092778,
          1.3151118918179143,
          -6.097027411726785,
          -1.0762321715419263,
          0.4131472330298582,
          -1.2124998095174628,
          0.7721359727346547,
          1.168706626923624,
          0.7714521744110647,
          -0.22959132632523416,
          1.0343775282535819,
          1.360233050778315,
          0.7469925703429611,
          0.8581925412595373,
          -0.37422709026854384,
          0.011596423754243964,
          1.2726112550908368,
          0.8677820203766681,
          -2.656071593461681,
          1.2365669704403541,
          -0.7331888362065065,
          0.6828681665088902,
          -0.1861640904402624,
          1.4269140075806628,
          0.3017452082801224,
          -1.8883869606708887,
          1.0183180478651288,
          0.8556675111349651,
          0.16945659755229048,
          0.25166530870135734,
          -0.20243566167573462,
          2.2977150871467873,
          1.4242100474815287,
          -1.5516896419406383,
          0.9280611893456185,
          0.16313116442078457,
          -2.1145686959143966,
          -1.2513633156876742,
          -0.5394850694279509,
          0.9562696214109689,
          1.0765934501080283,
          -0.3884204053431407,
          -2.3831043980071263,
          0.8906844058823885,
          -2.7020156054945,
          -1.747156493968863,
          -1.2653100849442316,
          1.023770604882606,
          0.6406557031016694,
          1.6523570365276525,
          0.564446497720156,
          -0.7628722248590658,
          0.36608482308062096,
          1.1331466768806995,
          -0.30320775349531404,
          -0.9205860261320481,
          -0.19564778465932414,
          -0.6802558864396041,
          0.3837278160750005,
          -0.49218034016781076,
          0.7098270972638985,
          1.8722859376806413,
          -0.23600174934271329,
          1.7480557241809456,
          -1.4102870634749733,
          0.10322919530782403,
          0.8226754897431097,
          0.845439849645568,
          0.6800526664786422,
          -0.8466100990733506,
          2.212811709558935,
          0.024323116627607902,
          0.7181295090186844,
          0.7927638727822937,
          -0.7429414749739196,
          0.6514459153919588,
          0.2560997376358121,
          -2.4757969039824035,
          1.2861152388332036,
          -3.5396915138621114,
          -0.6889275306622497,
          -0.5133048365016399,
          1.566256608149013,
          0.7332043298962236,
          0.6589863018656241,
          -5.471807630297549,
          1.5557420119708714,
          -0.26849785101075857,
          0.5149857934362945,
          1.0543283357128517,
          1.6158385938487712,
          -0.3598467024620142,
          1.0344512874302043,
          0.5674468153347385,
          0.33099882876032005,
          -1.0973916064751497,
          0.6332565589843495,
          0.04416889266000662,
          -2.37335942596885,
          0.7078441361750277,
          -0.009391439761447545,
          0.30055498992068597,
          0.006725954147928176,
          0.0017821266212861286,
          -3.3970995495219993,
          0.6061104461887956,
          0.17170112472265533,
          -5.357529791458265,
          1.4824301782969123,
          -0.9863901596699698,
          -0.21750629207621705,
          1.3575045991622292,
          1.0835949895681043,
          0.5835792780734744,
          -0.0519949293983908,
          0.30304118482723197,
          0.6287081968992869,
          1.0552417511661945,
          0.4603954503206292,
          0.24077831910306735,
          0.6880435929237686,
          -0.40663618482153535,
          1.5595400557906225,
          0.5530201490499631,
          0.8382445208150296,
          0.6969667663010755,
          -0.4357683770537396,
          -0.11336257738441002,
          0.17898507356400162,
          -1.1088228974610808,
          0.14638480866007073,
          0.20497819218104668,
          -0.5393193195214283,
          -3.4797679888048294,
          0.3948399909131024,
          -0.6322331527587667,
          1.073632517105266,
          -2.640532182303802,
          -4.2114172944238115,
          -0.3489224581478851,
          0.9609914306666028,
          0.05810852327896618,
          0.30366274471745913,
          0.6859120540824329,
          1.7618202035080455,
          -0.3883433955753547,
          0.8307004773639883,
          0.91507180983469,
          0.19307884020994942,
          -2.3958702609747915,
          -3.141179098539767,
          -0.3668830781525524,
          0.6025786170958556,
          0.17702688861785004,
          0.5882088458115207,
          0.6381677826324685,
          -0.013498047440712702,
          0.7056699421338544,
          0.9699758846474119,
          0.5542144954242054,
          -2.7200211700180272,
          1.2978370750562305,
          1.0397396232061795,
          0.4573222847911471,
          -0.4151593190229955,
          1.7583275355580084,
          -0.014874300574228547,
          1.3034327395580076,
          -0.1271256372159899,
          0.7814531454898832
         ],
         "y": [
          -1.2053015280948831,
          0.08294936683341192,
          -0.17574843207936736,
          -2.084645470713992,
          -0.36782759434152545,
          0.3945856104478274,
          -1.2579679341962986,
          1.0433133934358967,
          1.1514870250451195,
          0.3778887410108613,
          0.9665213029378462,
          0.9874407416367594,
          0.8401355173809717,
          1.8086838751041803,
          -0.036243792052559544,
          -0.12720548797372222,
          -0.6293844157833722,
          -0.5728938809040571,
          0.4428492135736686,
          -0.6640487754830536,
          -1.0335779960928442,
          -0.48917260236708465,
          -1.2694565857571432,
          1.2013364165413907,
          -0.08820155479804673,
          -1.4705739559827702,
          -0.3371779193969286,
          0.24186808236210047,
          0.14291192147164453,
          -0.7995549422444154,
          0.7004015179067771,
          -0.5697713853403588,
          -0.6637079050477958,
          0.5159763847896564,
          0.4908588174745208,
          -1.7789542007518404,
          0.3769613025953487,
          -0.8838345351475638,
          1.5986698859357305,
          -0.4071939367460462,
          -0.22149387796166442,
          2.7395615320804656,
          -0.6107862840690383,
          -0.41069946871253626,
          -0.2914143935430762,
          0.21260901918229955,
          -0.0013458691918570992,
          0.9719985265323148,
          0.3955905600331428,
          -0.3897737509429189,
          1.229202178129147,
          1.588768070133613,
          0.7799555365622227,
          0.27696977688506996,
          -0.13873042867918878,
          -0.906061362347787,
          0.6509412514229685,
          0.547496767142496,
          -0.23442365792337433,
          -0.33541420939274025,
          0.6621816051964347,
          0.39966583511822384,
          3.0080709616755343,
          -0.40384127814003073,
          -0.37834743243245905,
          0.16362302929846811,
          -0.3944028608025915,
          0.7863587991039384,
          -1.3170722642121218,
          -0.44960852009702146,
          0.14846164005900908,
          0.14737505495678271,
          -0.2691281692549128,
          -0.4315703483523238,
          -1.3336130260379224,
          1.6256917299565476,
          -1.0828980679693812,
          -1.0460745712822082,
          0.11012112080065699,
          -0.9790648526911248,
          -0.36438367318224196,
          -1.8051829651892766,
          -0.22136787559674864,
          -2.0633873979068813,
          1.026927965076744,
          -0.1957263836323429,
          -0.6637079050477958,
          -0.9314798260885617,
          -0.6799452189829046,
          -0.7048620818660829,
          -1.4339162946874813,
          0.9307071701840144,
          0.0005351610108129436,
          -0.21124976300310858,
          -0.07241361806237767,
          0.02976303461409132,
          -0.617906606262293,
          -0.6178617859140999,
          -0.02589789710203573,
          -0.4628223601201938,
          -1.625749442322055,
          0.3473316934876501,
          2.1568278446010805,
          -0.9711404867133286,
          -0.47105812240942474,
          1.3418077700068904,
          0.5015281202717219,
          -1.4532025008648302,
          -1.5932200450324623,
          -0.3514189296839855,
          0.45343076939836585,
          -1.0519705375248927,
          0.4445686713454702,
          1.5516522042134213,
          1.1889830885225863,
          0.4134416474614823,
          -1.1951292594538927,
          0.4818104026046633,
          -0.2583743519888,
          4.438492195484131,
          -0.4024440487123021,
          1.3099485524693792,
          0.3624852388099667,
          -1.2169046285912692,
          -0.3168246059691807,
          -0.8997043832780942,
          -1.5414548715295202,
          0.5931271056991356,
          0.7818645966540724,
          -1.9541534619708143,
          0.3291808458652838,
          1.2097438042922182,
          0.9158944567784656,
          -0.2205763839574394,
          -0.9104533657081466,
          0.9593420027541901,
          1.0278694121161973,
          1.310332655506256,
          -0.3813034276232506,
          0.0860268360202061,
          1.0666233477627567,
          0.3614614105155579,
          1.846958700453486,
          -2.7234890251112684,
          -0.9991952254948825,
          0.48708126157483134,
          -1.0352115066636036,
          -0.6974090445334665,
          -0.08360112855777413,
          0.18269083255200824,
          -0.323334016945727,
          0.16224709718902625,
          1.3448260895772215,
          -1.1508746530283744,
          -0.11228571203863523,
          -0.27576056146872563,
          0.5199958806342235,
          -2.0902529396470517,
          -0.5590600423371529,
          0.3284245630512744,
          0.8869718718444816,
          -0.5474901036612552,
          -1.8395332165916896,
          -1.296521754441617,
          1.100142453511626,
          -0.6944317833030271,
          0.012139426396996441,
          -0.16316490885253454,
          -0.15603146015035313,
          0.7509081140989061,
          1.4787486124871252,
          -0.8223232471949261,
          0.1471926659755047,
          0.41376192422478747,
          1.1209156706639352,
          0.7805336341085884,
          -0.8838345351475638,
          0.24263854056872025,
          -0.011599766452925594,
          -1.3170722642121218,
          -0.08903651966783323,
          -0.38721469483408655,
          -0.544163559710897,
          1.0522167733560852,
          -0.3146815235122875,
          -0.05021966595112366,
          1.039437653035583,
          -0.5029336712019268,
          1.2931018886022594,
          -0.08269681182503116,
          -1.0972939593616817,
          0.775923929828547,
          -0.29698822757683174,
          1.0874475612208587,
          0.8620474902941703,
          0.6584447976483795,
          1.0604050893229366,
          -0.4185137916836832,
          -0.7782741551520631,
          -0.24308343940221502,
          0.7025850786360329,
          0.8356840599222284,
          -0.7511818289786394,
          -0.7190419004434719,
          1.1396104667446192,
          0.16000060688710654,
          -1.2683843204058995,
          0.5244791241917685,
          -0.5271540674565744,
          0.267915409585014,
          1.6660623866155095,
          0.25659936786744314,
          -1.367998784499668,
          0.7166903787647952,
          -0.37139936483800134,
          -0.6693265850045488,
          0.03746507220113783,
          -0.7862586817062457,
          0.17147624879158008,
          -0.7433777699243245,
          0.22010886685747655,
          0.05591881020024657,
          -0.48971365522115445,
          1.5049778066781712,
          -0.3771806789481013,
          0.29828336390831317,
          -0.31409784053442463,
          -1.1788867851810023,
          -0.5312423069418076,
          -0.46314237474500036,
          0.3642263551407079,
          2.4851988975502795,
          0.32369133401118066,
          -1.1387263469243374,
          0.6101688776589326,
          -0.6408089757676384,
          0.38563913628821644,
          -1.3047002264356173,
          1.2191587735987244,
          -2.158891155504154,
          0.19600742089130724,
          -1.3045812291980363,
          0.047926749717179515,
          -0.7424111487451678,
          0.15037270099879518,
          -0.3928704480871061,
          -0.45410444265948147,
          1.2196336063221551,
          2.7189681065392186,
          1.9929398947672172,
          0.12441346598573524,
          -0.8333182764182744,
          0.9362698938220692,
          0.9910891979467561,
          0.5916651979821788,
          0.9013419009642086,
          -0.3825590182090642,
          0.04137796526424368
         ],
         "z": [
          0.536946871766433,
          0.8267984435475749,
          -0.76577702595,
          -1.2675176326989912,
          -0.5953599700314145,
          0.10742391498495518,
          -0.6884304698719834,
          -0.22515492219833083,
          0.03315543557415977,
          2.168666612615889,
          0.8250714850330338,
          -0.7790875962112392,
          -0.8848900602945476,
          0.2284521573390758,
          -1.4080613901350838,
          -0.8667003349207162,
          0.5435143763175911,
          0.5711205919357595,
          -0.5065262416798806,
          -0.2940875893777709,
          2.5557236028415176,
          -1.260132579361927,
          0.6646302986991196,
          -0.25616679584420066,
          0.2944465315424805,
          -1.4423811508041529,
          1.5661587765208125,
          -0.6500915149005948,
          -1.6239918281298333,
          -0.5193718516782406,
          -0.10657580034719454,
          0.9046245658888326,
          -0.9255815007509831,
          -0.37222101531902374,
          -0.10503361317965595,
          -0.6330415124849262,
          -0.11735870984799439,
          0.43047618172119634,
          1.0016907856402533,
          1.0884705098552412,
          0.6698707475710555,
          -0.1259247002573839,
          -0.17488400086940983,
          -0.7561693906618618,
          -0.31164069707484165,
          -0.6007701226680213,
          0.23707708753148324,
          -0.38746071947301003,
          -1.0300271146164048,
          -1.5388756099803507,
          -1.0645801778947845,
          0.0835187898734379,
          -0.909734920487186,
          0.1465348626526431,
          0.28771133320514,
          1.1526496503803767,
          -1.329602833812063,
          0.44384521238141217,
          -2.0431847279207167,
          0.22657632183351162,
          1.5769064535484691,
          0.7838172979826264,
          -0.3766929451163726,
          0.7827360673811274,
          -1.2442070988192047,
          0.799760115876804,
          -0.8016683734898172,
          0.37556950655511645,
          -0.6725437075113745,
          0.321945081884928,
          0.13655485710598708,
          1.2180618660583296,
          -0.15470617997517,
          0.009041992408451202,
          1.7832361825851883,
          -1.2434962960595652,
          -0.037868217638972954,
          0.7281723291426467,
          -0.11204328336375444,
          1.3388848764505088,
          -0.4230118330221584,
          -0.1936212037677393,
          -0.20679146232995543,
          0.41398611004143027,
          0.02309222496952411,
          -1.2064460442427274,
          -0.9255815007509831,
          -0.6512677568847289,
          1.2342577262265777,
          -0.20646671990992888,
          -1.2060515207068248,
          0.7155293650563874,
          -0.3442285520811821,
          0.6319093156390164,
          -0.2408776104585046,
          0.09717322523849929,
          0.5617066221810232,
          2.094508978022111,
          -0.4700974059806949,
          -0.6639926058987442,
          -1.3291032681700483,
          0.45704407119223533,
          0.42086213794743155,
          -0.1043848416522193,
          0.24004363241594254,
          -0.3711895115327876,
          0.9589423374352508,
          -0.9439399904139429,
          -1.6222189858941836,
          1.5781000008497494,
          0.48252194267573045,
          0.7868303448069001,
          -1.298826848850501,
          1.6698353874505334,
          -1.0137780175271767,
          0.8803035620779601,
          1.9975475098399125,
          -1.6585910090064324,
          0.33989172481614693,
          2.329030999953434,
          -0.0034959143217282024,
          0.9191994748931771,
          0.9848034012175813,
          -0.44035756611638527,
          -0.18098652983109878,
          -1.579034076181176,
          0.6791239320676458,
          -0.2985998663243138,
          -0.09772761192552157,
          2.085500090509435,
          0.6357769918089354,
          -0.3489756767427579,
          0.09586119595295926,
          -0.2930184920452013,
          1.3118612202888746,
          0.33913739462732334,
          -0.424661026006598,
          0.5475974138103639,
          1.6094957468350206,
          -0.894485670377008,
          -0.9157993970487815,
          -0.6799897789498599,
          -0.2607744672772335,
          1.952014370296917,
          -0.7217103709946444,
          0.006548735132880474,
          -0.6353020505044419,
          -2.273415397136215,
          0.4323400664566259,
          1.1420332480647288,
          -0.5774326399203482,
          -0.30755640256291206,
          -1.0281587568616728,
          -0.5100346461310459,
          1.3239869999149319,
          0.5186267273713971,
          0.38873369849544614,
          0.8168894903944982,
          -0.6884565730438768,
          -0.4067330044790242,
          0.07785070326176878,
          -0.3335476781918677,
          0.4143736442139318,
          -0.591539101638481,
          -0.9324616622114069,
          1.53413665023148,
          1.262710070272356,
          0.8847563529828417,
          -0.2048460900028627,
          1.6621024795198884,
          0.032931227400649396,
          -0.9563826709493456,
          -0.09947070976308148,
          0.44336892234677827,
          -0.7992401457015352,
          -0.24119109228716323,
          0.43047618172119634,
          -0.880595243596165,
          -0.7579570124699,
          -0.6725437075113745,
          -0.21757908633957362,
          0.2892026882656414,
          0.9820388427612461,
          0.7269239732139117,
          -0.5019342855563996,
          -0.5808028842138526,
          -0.6289409370356391,
          -0.5495483650830214,
          -0.4530747957652294,
          -0.08866611216185728,
          -1.3639478836871468,
          0.9644571861938833,
          -1.551690464263249,
          2.8069095956187167,
          -1.0332610059806977,
          -1.404490232340418,
          -0.5546196139459184,
          1.4550549445754741,
          2.1700377463811704,
          -0.6247586389049945,
          -0.7535849315215661,
          0.2967287228735926,
          -0.29492201261879925,
          1.8211829956241465,
          -1.584940758482965,
          -0.6383697199138508,
          -2.322518098014996,
          1.341943474032611,
          -1.4834540729931283,
          0.1715437430919204,
          -0.4249456518900523,
          -0.6218714106753651,
          1.665416443278018,
          0.2898909876446162,
          0.11871461474230458,
          0.4504696067347259,
          -0.14465528263762073,
          1.6403331508290868,
          -0.7470783111716743,
          0.11923996075744038,
          -0.9845338140687403,
          -0.10765796390618199,
          2.4930744430171887,
          0.7582977984845461,
          -1.664647186517949,
          -1.0922087163964131,
          1.8611007238912192,
          -0.38774159738137803,
          -0.72836763551017,
          0.13525979731801566,
          0.515348497366561,
          -0.526352892080061,
          0.4309360625291328,
          0.7389506669867077,
          0.23906951445685543,
          -0.10678747920373667,
          -0.18924950716100092,
          -0.933669363253964,
          -0.4711728050500016,
          -0.2811330340021484,
          -0.20766230950304385,
          0.785095057708609,
          -2.1443507466988936,
          0.3974872263249921,
          -0.38530184566756875,
          -0.3095143309095041,
          -0.07620207651446677,
          -0.2942469080597755,
          -0.23330135786818415,
          1.2470539076092837,
          -0.3530220139485053,
          0.6958208552254619,
          0.9033265563426367,
          -0.361385231419352,
          2.0319423508527588,
          0.13751825825686836,
          -1.5388773978133294,
          -0.3019551061202448
         ]
        }
       ],
       "layout": {
        "coloraxis": {
         "colorbar": {
          "title": {
           "text": "Alcoholic Beverage Consumption"
          }
         },
         "colorscale": [
          [
           0,
           "#0d0887"
          ],
          [
           0.1111111111111111,
           "#46039f"
          ],
          [
           0.2222222222222222,
           "#7201a8"
          ],
          [
           0.3333333333333333,
           "#9c179e"
          ],
          [
           0.4444444444444444,
           "#bd3786"
          ],
          [
           0.5555555555555556,
           "#d8576b"
          ],
          [
           0.6666666666666666,
           "#ed7953"
          ],
          [
           0.7777777777777778,
           "#fb9f3a"
          ],
          [
           0.8888888888888888,
           "#fdca26"
          ],
          [
           1,
           "#f0f921"
          ]
         ]
        },
        "legend": {
         "tracegroupgap": 0
        },
        "scene": {
         "domain": {
          "x": [
           0,
           1
          ],
          "y": [
           0,
           1
          ]
         },
         "xaxis": {
          "title": {
           "text": "X1"
          }
         },
         "yaxis": {
          "title": {
           "text": "X2"
          }
         },
         "zaxis": {
          "title": {
           "text": "X3"
          }
         }
        },
        "template": {
         "data": {
          "bar": [
           {
            "error_x": {
             "color": "#2a3f5f"
            },
            "error_y": {
             "color": "#2a3f5f"
            },
            "marker": {
             "line": {
              "color": "#E5ECF6",
              "width": 0.5
             },
             "pattern": {
              "fillmode": "overlay",
              "size": 10,
              "solidity": 0.2
             }
            },
            "type": "bar"
           }
          ],
          "barpolar": [
           {
            "marker": {
             "line": {
              "color": "#E5ECF6",
              "width": 0.5
             },
             "pattern": {
              "fillmode": "overlay",
              "size": 10,
              "solidity": 0.2
             }
            },
            "type": "barpolar"
           }
          ],
          "carpet": [
           {
            "aaxis": {
             "endlinecolor": "#2a3f5f",
             "gridcolor": "white",
             "linecolor": "white",
             "minorgridcolor": "white",
             "startlinecolor": "#2a3f5f"
            },
            "baxis": {
             "endlinecolor": "#2a3f5f",
             "gridcolor": "white",
             "linecolor": "white",
             "minorgridcolor": "white",
             "startlinecolor": "#2a3f5f"
            },
            "type": "carpet"
           }
          ],
          "choropleth": [
           {
            "colorbar": {
             "outlinewidth": 0,
             "ticks": ""
            },
            "type": "choropleth"
           }
          ],
          "contour": [
           {
            "colorbar": {
             "outlinewidth": 0,
             "ticks": ""
            },
            "colorscale": [
             [
              0,
              "#0d0887"
             ],
             [
              0.1111111111111111,
              "#46039f"
             ],
             [
              0.2222222222222222,
              "#7201a8"
             ],
             [
              0.3333333333333333,
              "#9c179e"
             ],
             [
              0.4444444444444444,
              "#bd3786"
             ],
             [
              0.5555555555555556,
              "#d8576b"
             ],
             [
              0.6666666666666666,
              "#ed7953"
             ],
             [
              0.7777777777777778,
              "#fb9f3a"
             ],
             [
              0.8888888888888888,
              "#fdca26"
             ],
             [
              1,
              "#f0f921"
             ]
            ],
            "type": "contour"
           }
          ],
          "contourcarpet": [
           {
            "colorbar": {
             "outlinewidth": 0,
             "ticks": ""
            },
            "type": "contourcarpet"
           }
          ],
          "heatmap": [
           {
            "colorbar": {
             "outlinewidth": 0,
             "ticks": ""
            },
            "colorscale": [
             [
              0,
              "#0d0887"
             ],
             [
              0.1111111111111111,
              "#46039f"
             ],
             [
              0.2222222222222222,
              "#7201a8"
             ],
             [
              0.3333333333333333,
              "#9c179e"
             ],
             [
              0.4444444444444444,
              "#bd3786"
             ],
             [
              0.5555555555555556,
              "#d8576b"
             ],
             [
              0.6666666666666666,
              "#ed7953"
             ],
             [
              0.7777777777777778,
              "#fb9f3a"
             ],
             [
              0.8888888888888888,
              "#fdca26"
             ],
             [
              1,
              "#f0f921"
             ]
            ],
            "type": "heatmap"
           }
          ],
          "heatmapgl": [
           {
            "colorbar": {
             "outlinewidth": 0,
             "ticks": ""
            },
            "colorscale": [
             [
              0,
              "#0d0887"
             ],
             [
              0.1111111111111111,
              "#46039f"
             ],
             [
              0.2222222222222222,
              "#7201a8"
             ],
             [
              0.3333333333333333,
              "#9c179e"
             ],
             [
              0.4444444444444444,
              "#bd3786"
             ],
             [
              0.5555555555555556,
              "#d8576b"
             ],
             [
              0.6666666666666666,
              "#ed7953"
             ],
             [
              0.7777777777777778,
              "#fb9f3a"
             ],
             [
              0.8888888888888888,
              "#fdca26"
             ],
             [
              1,
              "#f0f921"
             ]
            ],
            "type": "heatmapgl"
           }
          ],
          "histogram": [
           {
            "marker": {
             "pattern": {
              "fillmode": "overlay",
              "size": 10,
              "solidity": 0.2
             }
            },
            "type": "histogram"
           }
          ],
          "histogram2d": [
           {
            "colorbar": {
             "outlinewidth": 0,
             "ticks": ""
            },
            "colorscale": [
             [
              0,
              "#0d0887"
             ],
             [
              0.1111111111111111,
              "#46039f"
             ],
             [
              0.2222222222222222,
              "#7201a8"
             ],
             [
              0.3333333333333333,
              "#9c179e"
             ],
             [
              0.4444444444444444,
              "#bd3786"
             ],
             [
              0.5555555555555556,
              "#d8576b"
             ],
             [
              0.6666666666666666,
              "#ed7953"
             ],
             [
              0.7777777777777778,
              "#fb9f3a"
             ],
             [
              0.8888888888888888,
              "#fdca26"
             ],
             [
              1,
              "#f0f921"
             ]
            ],
            "type": "histogram2d"
           }
          ],
          "histogram2dcontour": [
           {
            "colorbar": {
             "outlinewidth": 0,
             "ticks": ""
            },
            "colorscale": [
             [
              0,
              "#0d0887"
             ],
             [
              0.1111111111111111,
              "#46039f"
             ],
             [
              0.2222222222222222,
              "#7201a8"
             ],
             [
              0.3333333333333333,
              "#9c179e"
             ],
             [
              0.4444444444444444,
              "#bd3786"
             ],
             [
              0.5555555555555556,
              "#d8576b"
             ],
             [
              0.6666666666666666,
              "#ed7953"
             ],
             [
              0.7777777777777778,
              "#fb9f3a"
             ],
             [
              0.8888888888888888,
              "#fdca26"
             ],
             [
              1,
              "#f0f921"
             ]
            ],
            "type": "histogram2dcontour"
           }
          ],
          "mesh3d": [
           {
            "colorbar": {
             "outlinewidth": 0,
             "ticks": ""
            },
            "type": "mesh3d"
           }
          ],
          "parcoords": [
           {
            "line": {
             "colorbar": {
              "outlinewidth": 0,
              "ticks": ""
             }
            },
            "type": "parcoords"
           }
          ],
          "pie": [
           {
            "automargin": true,
            "type": "pie"
           }
          ],
          "scatter": [
           {
            "marker": {
             "colorbar": {
              "outlinewidth": 0,
              "ticks": ""
             }
            },
            "type": "scatter"
           }
          ],
          "scatter3d": [
           {
            "line": {
             "colorbar": {
              "outlinewidth": 0,
              "ticks": ""
             }
            },
            "marker": {
             "colorbar": {
              "outlinewidth": 0,
              "ticks": ""
             }
            },
            "type": "scatter3d"
           }
          ],
          "scattercarpet": [
           {
            "marker": {
             "colorbar": {
              "outlinewidth": 0,
              "ticks": ""
             }
            },
            "type": "scattercarpet"
           }
          ],
          "scattergeo": [
           {
            "marker": {
             "colorbar": {
              "outlinewidth": 0,
              "ticks": ""
             }
            },
            "type": "scattergeo"
           }
          ],
          "scattergl": [
           {
            "marker": {
             "colorbar": {
              "outlinewidth": 0,
              "ticks": ""
             }
            },
            "type": "scattergl"
           }
          ],
          "scattermapbox": [
           {
            "marker": {
             "colorbar": {
              "outlinewidth": 0,
              "ticks": ""
             }
            },
            "type": "scattermapbox"
           }
          ],
          "scatterpolar": [
           {
            "marker": {
             "colorbar": {
              "outlinewidth": 0,
              "ticks": ""
             }
            },
            "type": "scatterpolar"
           }
          ],
          "scatterpolargl": [
           {
            "marker": {
             "colorbar": {
              "outlinewidth": 0,
              "ticks": ""
             }
            },
            "type": "scatterpolargl"
           }
          ],
          "scatterternary": [
           {
            "marker": {
             "colorbar": {
              "outlinewidth": 0,
              "ticks": ""
             }
            },
            "type": "scatterternary"
           }
          ],
          "surface": [
           {
            "colorbar": {
             "outlinewidth": 0,
             "ticks": ""
            },
            "colorscale": [
             [
              0,
              "#0d0887"
             ],
             [
              0.1111111111111111,
              "#46039f"
             ],
             [
              0.2222222222222222,
              "#7201a8"
             ],
             [
              0.3333333333333333,
              "#9c179e"
             ],
             [
              0.4444444444444444,
              "#bd3786"
             ],
             [
              0.5555555555555556,
              "#d8576b"
             ],
             [
              0.6666666666666666,
              "#ed7953"
             ],
             [
              0.7777777777777778,
              "#fb9f3a"
             ],
             [
              0.8888888888888888,
              "#fdca26"
             ],
             [
              1,
              "#f0f921"
             ]
            ],
            "type": "surface"
           }
          ],
          "table": [
           {
            "cells": {
             "fill": {
              "color": "#EBF0F8"
             },
             "line": {
              "color": "white"
             }
            },
            "header": {
             "fill": {
              "color": "#C8D4E3"
             },
             "line": {
              "color": "white"
             }
            },
            "type": "table"
           }
          ]
         },
         "layout": {
          "annotationdefaults": {
           "arrowcolor": "#2a3f5f",
           "arrowhead": 0,
           "arrowwidth": 1
          },
          "autotypenumbers": "strict",
          "coloraxis": {
           "colorbar": {
            "outlinewidth": 0,
            "ticks": ""
           }
          },
          "colorscale": {
           "diverging": [
            [
             0,
             "#8e0152"
            ],
            [
             0.1,
             "#c51b7d"
            ],
            [
             0.2,
             "#de77ae"
            ],
            [
             0.3,
             "#f1b6da"
            ],
            [
             0.4,
             "#fde0ef"
            ],
            [
             0.5,
             "#f7f7f7"
            ],
            [
             0.6,
             "#e6f5d0"
            ],
            [
             0.7,
             "#b8e186"
            ],
            [
             0.8,
             "#7fbc41"
            ],
            [
             0.9,
             "#4d9221"
            ],
            [
             1,
             "#276419"
            ]
           ],
           "sequential": [
            [
             0,
             "#0d0887"
            ],
            [
             0.1111111111111111,
             "#46039f"
            ],
            [
             0.2222222222222222,
             "#7201a8"
            ],
            [
             0.3333333333333333,
             "#9c179e"
            ],
            [
             0.4444444444444444,
             "#bd3786"
            ],
            [
             0.5555555555555556,
             "#d8576b"
            ],
            [
             0.6666666666666666,
             "#ed7953"
            ],
            [
             0.7777777777777778,
             "#fb9f3a"
            ],
            [
             0.8888888888888888,
             "#fdca26"
            ],
            [
             1,
             "#f0f921"
            ]
           ],
           "sequentialminus": [
            [
             0,
             "#0d0887"
            ],
            [
             0.1111111111111111,
             "#46039f"
            ],
            [
             0.2222222222222222,
             "#7201a8"
            ],
            [
             0.3333333333333333,
             "#9c179e"
            ],
            [
             0.4444444444444444,
             "#bd3786"
            ],
            [
             0.5555555555555556,
             "#d8576b"
            ],
            [
             0.6666666666666666,
             "#ed7953"
            ],
            [
             0.7777777777777778,
             "#fb9f3a"
            ],
            [
             0.8888888888888888,
             "#fdca26"
            ],
            [
             1,
             "#f0f921"
            ]
           ]
          },
          "colorway": [
           "#636efa",
           "#EF553B",
           "#00cc96",
           "#ab63fa",
           "#FFA15A",
           "#19d3f3",
           "#FF6692",
           "#B6E880",
           "#FF97FF",
           "#FECB52"
          ],
          "font": {
           "color": "#2a3f5f"
          },
          "geo": {
           "bgcolor": "white",
           "lakecolor": "white",
           "landcolor": "#E5ECF6",
           "showlakes": true,
           "showland": true,
           "subunitcolor": "white"
          },
          "hoverlabel": {
           "align": "left"
          },
          "hovermode": "closest",
          "mapbox": {
           "style": "light"
          },
          "paper_bgcolor": "white",
          "plot_bgcolor": "#E5ECF6",
          "polar": {
           "angularaxis": {
            "gridcolor": "white",
            "linecolor": "white",
            "ticks": ""
           },
           "bgcolor": "#E5ECF6",
           "radialaxis": {
            "gridcolor": "white",
            "linecolor": "white",
            "ticks": ""
           }
          },
          "scene": {
           "xaxis": {
            "backgroundcolor": "#E5ECF6",
            "gridcolor": "white",
            "gridwidth": 2,
            "linecolor": "white",
            "showbackground": true,
            "ticks": "",
            "zerolinecolor": "white"
           },
           "yaxis": {
            "backgroundcolor": "#E5ECF6",
            "gridcolor": "white",
            "gridwidth": 2,
            "linecolor": "white",
            "showbackground": true,
            "ticks": "",
            "zerolinecolor": "white"
           },
           "zaxis": {
            "backgroundcolor": "#E5ECF6",
            "gridcolor": "white",
            "gridwidth": 2,
            "linecolor": "white",
            "showbackground": true,
            "ticks": "",
            "zerolinecolor": "white"
           }
          },
          "shapedefaults": {
           "line": {
            "color": "#2a3f5f"
           }
          },
          "ternary": {
           "aaxis": {
            "gridcolor": "white",
            "linecolor": "white",
            "ticks": ""
           },
           "baxis": {
            "gridcolor": "white",
            "linecolor": "white",
            "ticks": ""
           },
           "bgcolor": "#E5ECF6",
           "caxis": {
            "gridcolor": "white",
            "linecolor": "white",
            "ticks": ""
           }
          },
          "title": {
           "x": 0.05
          },
          "xaxis": {
           "automargin": true,
           "gridcolor": "white",
           "linecolor": "white",
           "ticks": "",
           "title": {
            "standoff": 15
           },
           "zerolinecolor": "white",
           "zerolinewidth": 2
          },
          "yaxis": {
           "automargin": true,
           "gridcolor": "white",
           "linecolor": "white",
           "ticks": "",
           "title": {
            "standoff": 15
           },
           "zerolinecolor": "white",
           "zerolinewidth": 2
          }
         }
        },
        "title": {
         "text": "Liver dataset projected on 3 dimensions"
        }
       }
      }
     },
     "metadata": {},
     "output_type": "display_data"
    }
   ],
   "source": [
    "# Apply PCA on the liver dataset\n",
    "pca_liver = PCA(data=X_train)\n",
    "projected_liver = pca_liver.do_pca()\n",
    "reduced_data = pca_liver.transform(X_train.to_numpy(), n_components=3)\n",
    "fig = px.scatter_3d(reduced_data, x=reduced_data[:, 0], y=reduced_data[:, 1], z=reduced_data[:, 2],\n",
    "                    color=y_train.to_numpy().flatten(), title='Liver dataset projected on 3 dimensions',\n",
    "                    labels={'x': 'X1', 'y': 'X2', 'z': 'X3', 'color': 'Alcoholic Beverage Consumption'})\n",
    "fig.show()"
   ]
  },
  {
   "attachments": {},
   "cell_type": "markdown",
   "metadata": {},
   "source": [
    "From the graph above, we can see that our data does not appear to have distinct natural clustering and tends to be noisy. We attempt to do further analysis with k-means clustering and DBSCAN."
   ]
  },
  {
   "cell_type": "code",
   "execution_count": 25,
   "metadata": {},
   "outputs": [
    {
     "data": {
      "application/vnd.plotly.v1+json": {
       "config": {
        "plotlyServerURL": "https://plot.ly"
       },
       "data": [
        {
         "hovertemplate": "Number of clusters=%{x}<br>Cluster quality=%{y}<extra></extra>",
         "legendgroup": "",
         "line": {
          "color": "#636efa",
          "dash": "solid"
         },
         "marker": {
          "symbol": "circle"
         },
         "mode": "lines",
         "name": "",
         "orientation": "v",
         "showlegend": false,
         "type": "scatter",
         "x": [
          3,
          4,
          5,
          6,
          7,
          8,
          9,
          10,
          11,
          12,
          13,
          14,
          15,
          16,
          17,
          18,
          19,
          20,
          21,
          22,
          23,
          24,
          25,
          26,
          27,
          28,
          29,
          30,
          31,
          32,
          33,
          34,
          35,
          36,
          37,
          38,
          39,
          40,
          41,
          42,
          43,
          44,
          45,
          46,
          47,
          48,
          49
         ],
         "xaxis": "x",
         "y": [
          0.2857880766374622,
          0.8923283392809498,
          1.14265394241219,
          2.6247399101369,
          0.17287701696111565,
          0.9627729850695713,
          1.854452521206484,
          0.14565260534782362,
          4.062476723921057,
          1.178900641634681,
          2.3254410712521194,
          0.07451604120153578,
          3.9639369768517425,
          3.0269392177146375,
          0.8213815066707632,
          0.4648885052035381,
          -0.630612531811108,
          -2.4034406325498785,
          1.2300039338020614,
          0.4349840904738447,
          0.5204207585984846,
          -0.5624410416523307,
          -12.145448496174229,
          -0.04039954241198786,
          -1.2731173774676248,
          4.914327909358285,
          1.9343271916084712,
          0.5131147791970405,
          0.6362092326539607,
          4.056358774160629,
          -0.3054535322040065,
          -1.2769432659419468,
          1.4394182780428861,
          1.574730708198693,
          -0.7276054621005348,
          -0.7928410186939806,
          1.573478805987964,
          0.6702147760996673,
          0.1121057586462362,
          2.12343481243551,
          7.958415657773284,
          -0.3621203723881451,
          -1.4122704196275437,
          0.8291711672660548,
          1.055464311032091,
          1.158724357792123,
          0.054321247906988904
         ],
         "yaxis": "y"
        }
       ],
       "layout": {
        "legend": {
         "tracegroupgap": 0
        },
        "template": {
         "data": {
          "bar": [
           {
            "error_x": {
             "color": "#2a3f5f"
            },
            "error_y": {
             "color": "#2a3f5f"
            },
            "marker": {
             "line": {
              "color": "#E5ECF6",
              "width": 0.5
             },
             "pattern": {
              "fillmode": "overlay",
              "size": 10,
              "solidity": 0.2
             }
            },
            "type": "bar"
           }
          ],
          "barpolar": [
           {
            "marker": {
             "line": {
              "color": "#E5ECF6",
              "width": 0.5
             },
             "pattern": {
              "fillmode": "overlay",
              "size": 10,
              "solidity": 0.2
             }
            },
            "type": "barpolar"
           }
          ],
          "carpet": [
           {
            "aaxis": {
             "endlinecolor": "#2a3f5f",
             "gridcolor": "white",
             "linecolor": "white",
             "minorgridcolor": "white",
             "startlinecolor": "#2a3f5f"
            },
            "baxis": {
             "endlinecolor": "#2a3f5f",
             "gridcolor": "white",
             "linecolor": "white",
             "minorgridcolor": "white",
             "startlinecolor": "#2a3f5f"
            },
            "type": "carpet"
           }
          ],
          "choropleth": [
           {
            "colorbar": {
             "outlinewidth": 0,
             "ticks": ""
            },
            "type": "choropleth"
           }
          ],
          "contour": [
           {
            "colorbar": {
             "outlinewidth": 0,
             "ticks": ""
            },
            "colorscale": [
             [
              0,
              "#0d0887"
             ],
             [
              0.1111111111111111,
              "#46039f"
             ],
             [
              0.2222222222222222,
              "#7201a8"
             ],
             [
              0.3333333333333333,
              "#9c179e"
             ],
             [
              0.4444444444444444,
              "#bd3786"
             ],
             [
              0.5555555555555556,
              "#d8576b"
             ],
             [
              0.6666666666666666,
              "#ed7953"
             ],
             [
              0.7777777777777778,
              "#fb9f3a"
             ],
             [
              0.8888888888888888,
              "#fdca26"
             ],
             [
              1,
              "#f0f921"
             ]
            ],
            "type": "contour"
           }
          ],
          "contourcarpet": [
           {
            "colorbar": {
             "outlinewidth": 0,
             "ticks": ""
            },
            "type": "contourcarpet"
           }
          ],
          "heatmap": [
           {
            "colorbar": {
             "outlinewidth": 0,
             "ticks": ""
            },
            "colorscale": [
             [
              0,
              "#0d0887"
             ],
             [
              0.1111111111111111,
              "#46039f"
             ],
             [
              0.2222222222222222,
              "#7201a8"
             ],
             [
              0.3333333333333333,
              "#9c179e"
             ],
             [
              0.4444444444444444,
              "#bd3786"
             ],
             [
              0.5555555555555556,
              "#d8576b"
             ],
             [
              0.6666666666666666,
              "#ed7953"
             ],
             [
              0.7777777777777778,
              "#fb9f3a"
             ],
             [
              0.8888888888888888,
              "#fdca26"
             ],
             [
              1,
              "#f0f921"
             ]
            ],
            "type": "heatmap"
           }
          ],
          "heatmapgl": [
           {
            "colorbar": {
             "outlinewidth": 0,
             "ticks": ""
            },
            "colorscale": [
             [
              0,
              "#0d0887"
             ],
             [
              0.1111111111111111,
              "#46039f"
             ],
             [
              0.2222222222222222,
              "#7201a8"
             ],
             [
              0.3333333333333333,
              "#9c179e"
             ],
             [
              0.4444444444444444,
              "#bd3786"
             ],
             [
              0.5555555555555556,
              "#d8576b"
             ],
             [
              0.6666666666666666,
              "#ed7953"
             ],
             [
              0.7777777777777778,
              "#fb9f3a"
             ],
             [
              0.8888888888888888,
              "#fdca26"
             ],
             [
              1,
              "#f0f921"
             ]
            ],
            "type": "heatmapgl"
           }
          ],
          "histogram": [
           {
            "marker": {
             "pattern": {
              "fillmode": "overlay",
              "size": 10,
              "solidity": 0.2
             }
            },
            "type": "histogram"
           }
          ],
          "histogram2d": [
           {
            "colorbar": {
             "outlinewidth": 0,
             "ticks": ""
            },
            "colorscale": [
             [
              0,
              "#0d0887"
             ],
             [
              0.1111111111111111,
              "#46039f"
             ],
             [
              0.2222222222222222,
              "#7201a8"
             ],
             [
              0.3333333333333333,
              "#9c179e"
             ],
             [
              0.4444444444444444,
              "#bd3786"
             ],
             [
              0.5555555555555556,
              "#d8576b"
             ],
             [
              0.6666666666666666,
              "#ed7953"
             ],
             [
              0.7777777777777778,
              "#fb9f3a"
             ],
             [
              0.8888888888888888,
              "#fdca26"
             ],
             [
              1,
              "#f0f921"
             ]
            ],
            "type": "histogram2d"
           }
          ],
          "histogram2dcontour": [
           {
            "colorbar": {
             "outlinewidth": 0,
             "ticks": ""
            },
            "colorscale": [
             [
              0,
              "#0d0887"
             ],
             [
              0.1111111111111111,
              "#46039f"
             ],
             [
              0.2222222222222222,
              "#7201a8"
             ],
             [
              0.3333333333333333,
              "#9c179e"
             ],
             [
              0.4444444444444444,
              "#bd3786"
             ],
             [
              0.5555555555555556,
              "#d8576b"
             ],
             [
              0.6666666666666666,
              "#ed7953"
             ],
             [
              0.7777777777777778,
              "#fb9f3a"
             ],
             [
              0.8888888888888888,
              "#fdca26"
             ],
             [
              1,
              "#f0f921"
             ]
            ],
            "type": "histogram2dcontour"
           }
          ],
          "mesh3d": [
           {
            "colorbar": {
             "outlinewidth": 0,
             "ticks": ""
            },
            "type": "mesh3d"
           }
          ],
          "parcoords": [
           {
            "line": {
             "colorbar": {
              "outlinewidth": 0,
              "ticks": ""
             }
            },
            "type": "parcoords"
           }
          ],
          "pie": [
           {
            "automargin": true,
            "type": "pie"
           }
          ],
          "scatter": [
           {
            "marker": {
             "colorbar": {
              "outlinewidth": 0,
              "ticks": ""
             }
            },
            "type": "scatter"
           }
          ],
          "scatter3d": [
           {
            "line": {
             "colorbar": {
              "outlinewidth": 0,
              "ticks": ""
             }
            },
            "marker": {
             "colorbar": {
              "outlinewidth": 0,
              "ticks": ""
             }
            },
            "type": "scatter3d"
           }
          ],
          "scattercarpet": [
           {
            "marker": {
             "colorbar": {
              "outlinewidth": 0,
              "ticks": ""
             }
            },
            "type": "scattercarpet"
           }
          ],
          "scattergeo": [
           {
            "marker": {
             "colorbar": {
              "outlinewidth": 0,
              "ticks": ""
             }
            },
            "type": "scattergeo"
           }
          ],
          "scattergl": [
           {
            "marker": {
             "colorbar": {
              "outlinewidth": 0,
              "ticks": ""
             }
            },
            "type": "scattergl"
           }
          ],
          "scattermapbox": [
           {
            "marker": {
             "colorbar": {
              "outlinewidth": 0,
              "ticks": ""
             }
            },
            "type": "scattermapbox"
           }
          ],
          "scatterpolar": [
           {
            "marker": {
             "colorbar": {
              "outlinewidth": 0,
              "ticks": ""
             }
            },
            "type": "scatterpolar"
           }
          ],
          "scatterpolargl": [
           {
            "marker": {
             "colorbar": {
              "outlinewidth": 0,
              "ticks": ""
             }
            },
            "type": "scatterpolargl"
           }
          ],
          "scatterternary": [
           {
            "marker": {
             "colorbar": {
              "outlinewidth": 0,
              "ticks": ""
             }
            },
            "type": "scatterternary"
           }
          ],
          "surface": [
           {
            "colorbar": {
             "outlinewidth": 0,
             "ticks": ""
            },
            "colorscale": [
             [
              0,
              "#0d0887"
             ],
             [
              0.1111111111111111,
              "#46039f"
             ],
             [
              0.2222222222222222,
              "#7201a8"
             ],
             [
              0.3333333333333333,
              "#9c179e"
             ],
             [
              0.4444444444444444,
              "#bd3786"
             ],
             [
              0.5555555555555556,
              "#d8576b"
             ],
             [
              0.6666666666666666,
              "#ed7953"
             ],
             [
              0.7777777777777778,
              "#fb9f3a"
             ],
             [
              0.8888888888888888,
              "#fdca26"
             ],
             [
              1,
              "#f0f921"
             ]
            ],
            "type": "surface"
           }
          ],
          "table": [
           {
            "cells": {
             "fill": {
              "color": "#EBF0F8"
             },
             "line": {
              "color": "white"
             }
            },
            "header": {
             "fill": {
              "color": "#C8D4E3"
             },
             "line": {
              "color": "white"
             }
            },
            "type": "table"
           }
          ]
         },
         "layout": {
          "annotationdefaults": {
           "arrowcolor": "#2a3f5f",
           "arrowhead": 0,
           "arrowwidth": 1
          },
          "autotypenumbers": "strict",
          "coloraxis": {
           "colorbar": {
            "outlinewidth": 0,
            "ticks": ""
           }
          },
          "colorscale": {
           "diverging": [
            [
             0,
             "#8e0152"
            ],
            [
             0.1,
             "#c51b7d"
            ],
            [
             0.2,
             "#de77ae"
            ],
            [
             0.3,
             "#f1b6da"
            ],
            [
             0.4,
             "#fde0ef"
            ],
            [
             0.5,
             "#f7f7f7"
            ],
            [
             0.6,
             "#e6f5d0"
            ],
            [
             0.7,
             "#b8e186"
            ],
            [
             0.8,
             "#7fbc41"
            ],
            [
             0.9,
             "#4d9221"
            ],
            [
             1,
             "#276419"
            ]
           ],
           "sequential": [
            [
             0,
             "#0d0887"
            ],
            [
             0.1111111111111111,
             "#46039f"
            ],
            [
             0.2222222222222222,
             "#7201a8"
            ],
            [
             0.3333333333333333,
             "#9c179e"
            ],
            [
             0.4444444444444444,
             "#bd3786"
            ],
            [
             0.5555555555555556,
             "#d8576b"
            ],
            [
             0.6666666666666666,
             "#ed7953"
            ],
            [
             0.7777777777777778,
             "#fb9f3a"
            ],
            [
             0.8888888888888888,
             "#fdca26"
            ],
            [
             1,
             "#f0f921"
            ]
           ],
           "sequentialminus": [
            [
             0,
             "#0d0887"
            ],
            [
             0.1111111111111111,
             "#46039f"
            ],
            [
             0.2222222222222222,
             "#7201a8"
            ],
            [
             0.3333333333333333,
             "#9c179e"
            ],
            [
             0.4444444444444444,
             "#bd3786"
            ],
            [
             0.5555555555555556,
             "#d8576b"
            ],
            [
             0.6666666666666666,
             "#ed7953"
            ],
            [
             0.7777777777777778,
             "#fb9f3a"
            ],
            [
             0.8888888888888888,
             "#fdca26"
            ],
            [
             1,
             "#f0f921"
            ]
           ]
          },
          "colorway": [
           "#636efa",
           "#EF553B",
           "#00cc96",
           "#ab63fa",
           "#FFA15A",
           "#19d3f3",
           "#FF6692",
           "#B6E880",
           "#FF97FF",
           "#FECB52"
          ],
          "font": {
           "color": "#2a3f5f"
          },
          "geo": {
           "bgcolor": "white",
           "lakecolor": "white",
           "landcolor": "#E5ECF6",
           "showlakes": true,
           "showland": true,
           "subunitcolor": "white"
          },
          "hoverlabel": {
           "align": "left"
          },
          "hovermode": "closest",
          "mapbox": {
           "style": "light"
          },
          "paper_bgcolor": "white",
          "plot_bgcolor": "#E5ECF6",
          "polar": {
           "angularaxis": {
            "gridcolor": "white",
            "linecolor": "white",
            "ticks": ""
           },
           "bgcolor": "#E5ECF6",
           "radialaxis": {
            "gridcolor": "white",
            "linecolor": "white",
            "ticks": ""
           }
          },
          "scene": {
           "xaxis": {
            "backgroundcolor": "#E5ECF6",
            "gridcolor": "white",
            "gridwidth": 2,
            "linecolor": "white",
            "showbackground": true,
            "ticks": "",
            "zerolinecolor": "white"
           },
           "yaxis": {
            "backgroundcolor": "#E5ECF6",
            "gridcolor": "white",
            "gridwidth": 2,
            "linecolor": "white",
            "showbackground": true,
            "ticks": "",
            "zerolinecolor": "white"
           },
           "zaxis": {
            "backgroundcolor": "#E5ECF6",
            "gridcolor": "white",
            "gridwidth": 2,
            "linecolor": "white",
            "showbackground": true,
            "ticks": "",
            "zerolinecolor": "white"
           }
          },
          "shapedefaults": {
           "line": {
            "color": "#2a3f5f"
           }
          },
          "ternary": {
           "aaxis": {
            "gridcolor": "white",
            "linecolor": "white",
            "ticks": ""
           },
           "baxis": {
            "gridcolor": "white",
            "linecolor": "white",
            "ticks": ""
           },
           "bgcolor": "#E5ECF6",
           "caxis": {
            "gridcolor": "white",
            "linecolor": "white",
            "ticks": ""
           }
          },
          "title": {
           "x": 0.05
          },
          "xaxis": {
           "automargin": true,
           "gridcolor": "white",
           "linecolor": "white",
           "ticks": "",
           "title": {
            "standoff": 15
           },
           "zerolinecolor": "white",
           "zerolinewidth": 2
          },
          "yaxis": {
           "automargin": true,
           "gridcolor": "white",
           "linecolor": "white",
           "ticks": "",
           "title": {
            "standoff": 15
           },
           "zerolinecolor": "white",
           "zerolinewidth": 2
          }
         }
        },
        "title": {
         "text": "Cluster quality for liver data using elbow"
        },
        "xaxis": {
         "anchor": "y",
         "domain": [
          0,
          1
         ],
         "title": {
          "text": "Number of clusters"
         }
        },
        "yaxis": {
         "anchor": "x",
         "domain": [
          0,
          1
         ],
         "title": {
          "text": "Cluster quality"
         }
        }
       }
      }
     },
     "metadata": {},
     "output_type": "display_data"
    },
    {
     "data": {
      "application/vnd.plotly.v1+json": {
       "config": {
        "plotlyServerURL": "https://plot.ly"
       },
       "data": [
        {
         "hovertemplate": "Number of clusters=%{x}<br>Cluster quality=%{y}<extra></extra>",
         "legendgroup": "",
         "line": {
          "color": "#636efa",
          "dash": "solid"
         },
         "marker": {
          "symbol": "circle"
         },
         "mode": "lines",
         "name": "",
         "orientation": "v",
         "showlegend": false,
         "type": "scatter",
         "x": [
          3,
          4,
          5,
          6,
          7,
          8,
          9,
          10,
          11,
          12,
          13,
          14,
          15,
          16,
          17,
          18,
          19,
          20,
          21,
          22,
          23,
          24,
          25,
          26,
          27,
          28,
          29,
          30,
          31,
          32,
          33,
          34,
          35,
          36,
          37,
          38,
          39,
          40,
          41,
          42,
          43,
          44,
          45,
          46,
          47,
          48,
          49
         ],
         "xaxis": "x",
         "y": [
          767.308844192192,
          675.7843445761337,
          609.4166595526228,
          537.718455035672,
          505.4398250586775,
          479.5342461645321,
          453.95722179224305,
          439.4612329868726,
          423.617921272049,
          409.0517099752356,
          389.0958394803533,
          382.3471130385435,
          373.9607166505401,
          359.61032498790826,
          348.2326895782901,
          342.1333157882881,
          342.68992395543955,
          335.7995113380465,
          328.2507118330534,
          324.9320811837109,
          323.320811038449,
          324.22212902073164,
          314.9965337931446,
          316.03702027412953,
          316.3922692456607,
          315.0867657381215,
          311.86974766333805,
          311.0150562229135,
          311.13719524893247,
          307.1895150140398,
          310.6930566334997,
          310.4501155317631,
          309.4167605889995,
          306.8081202298428,
          312.4368828688248,
          312.0363872760951,
          310.24230430469305,
          309.9441352331574,
          312.17277562397055,
          314.1168048720746,
          311.6911028996095,
          316.2374833742151,
          316.4468719625064,
          317.1698613331316,
          317.8494478371704,
          318.254832583262,
          321.09021179636403
         ],
         "yaxis": "y"
        }
       ],
       "layout": {
        "legend": {
         "tracegroupgap": 0
        },
        "template": {
         "data": {
          "bar": [
           {
            "error_x": {
             "color": "#2a3f5f"
            },
            "error_y": {
             "color": "#2a3f5f"
            },
            "marker": {
             "line": {
              "color": "#E5ECF6",
              "width": 0.5
             },
             "pattern": {
              "fillmode": "overlay",
              "size": 10,
              "solidity": 0.2
             }
            },
            "type": "bar"
           }
          ],
          "barpolar": [
           {
            "marker": {
             "line": {
              "color": "#E5ECF6",
              "width": 0.5
             },
             "pattern": {
              "fillmode": "overlay",
              "size": 10,
              "solidity": 0.2
             }
            },
            "type": "barpolar"
           }
          ],
          "carpet": [
           {
            "aaxis": {
             "endlinecolor": "#2a3f5f",
             "gridcolor": "white",
             "linecolor": "white",
             "minorgridcolor": "white",
             "startlinecolor": "#2a3f5f"
            },
            "baxis": {
             "endlinecolor": "#2a3f5f",
             "gridcolor": "white",
             "linecolor": "white",
             "minorgridcolor": "white",
             "startlinecolor": "#2a3f5f"
            },
            "type": "carpet"
           }
          ],
          "choropleth": [
           {
            "colorbar": {
             "outlinewidth": 0,
             "ticks": ""
            },
            "type": "choropleth"
           }
          ],
          "contour": [
           {
            "colorbar": {
             "outlinewidth": 0,
             "ticks": ""
            },
            "colorscale": [
             [
              0,
              "#0d0887"
             ],
             [
              0.1111111111111111,
              "#46039f"
             ],
             [
              0.2222222222222222,
              "#7201a8"
             ],
             [
              0.3333333333333333,
              "#9c179e"
             ],
             [
              0.4444444444444444,
              "#bd3786"
             ],
             [
              0.5555555555555556,
              "#d8576b"
             ],
             [
              0.6666666666666666,
              "#ed7953"
             ],
             [
              0.7777777777777778,
              "#fb9f3a"
             ],
             [
              0.8888888888888888,
              "#fdca26"
             ],
             [
              1,
              "#f0f921"
             ]
            ],
            "type": "contour"
           }
          ],
          "contourcarpet": [
           {
            "colorbar": {
             "outlinewidth": 0,
             "ticks": ""
            },
            "type": "contourcarpet"
           }
          ],
          "heatmap": [
           {
            "colorbar": {
             "outlinewidth": 0,
             "ticks": ""
            },
            "colorscale": [
             [
              0,
              "#0d0887"
             ],
             [
              0.1111111111111111,
              "#46039f"
             ],
             [
              0.2222222222222222,
              "#7201a8"
             ],
             [
              0.3333333333333333,
              "#9c179e"
             ],
             [
              0.4444444444444444,
              "#bd3786"
             ],
             [
              0.5555555555555556,
              "#d8576b"
             ],
             [
              0.6666666666666666,
              "#ed7953"
             ],
             [
              0.7777777777777778,
              "#fb9f3a"
             ],
             [
              0.8888888888888888,
              "#fdca26"
             ],
             [
              1,
              "#f0f921"
             ]
            ],
            "type": "heatmap"
           }
          ],
          "heatmapgl": [
           {
            "colorbar": {
             "outlinewidth": 0,
             "ticks": ""
            },
            "colorscale": [
             [
              0,
              "#0d0887"
             ],
             [
              0.1111111111111111,
              "#46039f"
             ],
             [
              0.2222222222222222,
              "#7201a8"
             ],
             [
              0.3333333333333333,
              "#9c179e"
             ],
             [
              0.4444444444444444,
              "#bd3786"
             ],
             [
              0.5555555555555556,
              "#d8576b"
             ],
             [
              0.6666666666666666,
              "#ed7953"
             ],
             [
              0.7777777777777778,
              "#fb9f3a"
             ],
             [
              0.8888888888888888,
              "#fdca26"
             ],
             [
              1,
              "#f0f921"
             ]
            ],
            "type": "heatmapgl"
           }
          ],
          "histogram": [
           {
            "marker": {
             "pattern": {
              "fillmode": "overlay",
              "size": 10,
              "solidity": 0.2
             }
            },
            "type": "histogram"
           }
          ],
          "histogram2d": [
           {
            "colorbar": {
             "outlinewidth": 0,
             "ticks": ""
            },
            "colorscale": [
             [
              0,
              "#0d0887"
             ],
             [
              0.1111111111111111,
              "#46039f"
             ],
             [
              0.2222222222222222,
              "#7201a8"
             ],
             [
              0.3333333333333333,
              "#9c179e"
             ],
             [
              0.4444444444444444,
              "#bd3786"
             ],
             [
              0.5555555555555556,
              "#d8576b"
             ],
             [
              0.6666666666666666,
              "#ed7953"
             ],
             [
              0.7777777777777778,
              "#fb9f3a"
             ],
             [
              0.8888888888888888,
              "#fdca26"
             ],
             [
              1,
              "#f0f921"
             ]
            ],
            "type": "histogram2d"
           }
          ],
          "histogram2dcontour": [
           {
            "colorbar": {
             "outlinewidth": 0,
             "ticks": ""
            },
            "colorscale": [
             [
              0,
              "#0d0887"
             ],
             [
              0.1111111111111111,
              "#46039f"
             ],
             [
              0.2222222222222222,
              "#7201a8"
             ],
             [
              0.3333333333333333,
              "#9c179e"
             ],
             [
              0.4444444444444444,
              "#bd3786"
             ],
             [
              0.5555555555555556,
              "#d8576b"
             ],
             [
              0.6666666666666666,
              "#ed7953"
             ],
             [
              0.7777777777777778,
              "#fb9f3a"
             ],
             [
              0.8888888888888888,
              "#fdca26"
             ],
             [
              1,
              "#f0f921"
             ]
            ],
            "type": "histogram2dcontour"
           }
          ],
          "mesh3d": [
           {
            "colorbar": {
             "outlinewidth": 0,
             "ticks": ""
            },
            "type": "mesh3d"
           }
          ],
          "parcoords": [
           {
            "line": {
             "colorbar": {
              "outlinewidth": 0,
              "ticks": ""
             }
            },
            "type": "parcoords"
           }
          ],
          "pie": [
           {
            "automargin": true,
            "type": "pie"
           }
          ],
          "scatter": [
           {
            "marker": {
             "colorbar": {
              "outlinewidth": 0,
              "ticks": ""
             }
            },
            "type": "scatter"
           }
          ],
          "scatter3d": [
           {
            "line": {
             "colorbar": {
              "outlinewidth": 0,
              "ticks": ""
             }
            },
            "marker": {
             "colorbar": {
              "outlinewidth": 0,
              "ticks": ""
             }
            },
            "type": "scatter3d"
           }
          ],
          "scattercarpet": [
           {
            "marker": {
             "colorbar": {
              "outlinewidth": 0,
              "ticks": ""
             }
            },
            "type": "scattercarpet"
           }
          ],
          "scattergeo": [
           {
            "marker": {
             "colorbar": {
              "outlinewidth": 0,
              "ticks": ""
             }
            },
            "type": "scattergeo"
           }
          ],
          "scattergl": [
           {
            "marker": {
             "colorbar": {
              "outlinewidth": 0,
              "ticks": ""
             }
            },
            "type": "scattergl"
           }
          ],
          "scattermapbox": [
           {
            "marker": {
             "colorbar": {
              "outlinewidth": 0,
              "ticks": ""
             }
            },
            "type": "scattermapbox"
           }
          ],
          "scatterpolar": [
           {
            "marker": {
             "colorbar": {
              "outlinewidth": 0,
              "ticks": ""
             }
            },
            "type": "scatterpolar"
           }
          ],
          "scatterpolargl": [
           {
            "marker": {
             "colorbar": {
              "outlinewidth": 0,
              "ticks": ""
             }
            },
            "type": "scatterpolargl"
           }
          ],
          "scatterternary": [
           {
            "marker": {
             "colorbar": {
              "outlinewidth": 0,
              "ticks": ""
             }
            },
            "type": "scatterternary"
           }
          ],
          "surface": [
           {
            "colorbar": {
             "outlinewidth": 0,
             "ticks": ""
            },
            "colorscale": [
             [
              0,
              "#0d0887"
             ],
             [
              0.1111111111111111,
              "#46039f"
             ],
             [
              0.2222222222222222,
              "#7201a8"
             ],
             [
              0.3333333333333333,
              "#9c179e"
             ],
             [
              0.4444444444444444,
              "#bd3786"
             ],
             [
              0.5555555555555556,
              "#d8576b"
             ],
             [
              0.6666666666666666,
              "#ed7953"
             ],
             [
              0.7777777777777778,
              "#fb9f3a"
             ],
             [
              0.8888888888888888,
              "#fdca26"
             ],
             [
              1,
              "#f0f921"
             ]
            ],
            "type": "surface"
           }
          ],
          "table": [
           {
            "cells": {
             "fill": {
              "color": "#EBF0F8"
             },
             "line": {
              "color": "white"
             }
            },
            "header": {
             "fill": {
              "color": "#C8D4E3"
             },
             "line": {
              "color": "white"
             }
            },
            "type": "table"
           }
          ]
         },
         "layout": {
          "annotationdefaults": {
           "arrowcolor": "#2a3f5f",
           "arrowhead": 0,
           "arrowwidth": 1
          },
          "autotypenumbers": "strict",
          "coloraxis": {
           "colorbar": {
            "outlinewidth": 0,
            "ticks": ""
           }
          },
          "colorscale": {
           "diverging": [
            [
             0,
             "#8e0152"
            ],
            [
             0.1,
             "#c51b7d"
            ],
            [
             0.2,
             "#de77ae"
            ],
            [
             0.3,
             "#f1b6da"
            ],
            [
             0.4,
             "#fde0ef"
            ],
            [
             0.5,
             "#f7f7f7"
            ],
            [
             0.6,
             "#e6f5d0"
            ],
            [
             0.7,
             "#b8e186"
            ],
            [
             0.8,
             "#7fbc41"
            ],
            [
             0.9,
             "#4d9221"
            ],
            [
             1,
             "#276419"
            ]
           ],
           "sequential": [
            [
             0,
             "#0d0887"
            ],
            [
             0.1111111111111111,
             "#46039f"
            ],
            [
             0.2222222222222222,
             "#7201a8"
            ],
            [
             0.3333333333333333,
             "#9c179e"
            ],
            [
             0.4444444444444444,
             "#bd3786"
            ],
            [
             0.5555555555555556,
             "#d8576b"
            ],
            [
             0.6666666666666666,
             "#ed7953"
            ],
            [
             0.7777777777777778,
             "#fb9f3a"
            ],
            [
             0.8888888888888888,
             "#fdca26"
            ],
            [
             1,
             "#f0f921"
            ]
           ],
           "sequentialminus": [
            [
             0,
             "#0d0887"
            ],
            [
             0.1111111111111111,
             "#46039f"
            ],
            [
             0.2222222222222222,
             "#7201a8"
            ],
            [
             0.3333333333333333,
             "#9c179e"
            ],
            [
             0.4444444444444444,
             "#bd3786"
            ],
            [
             0.5555555555555556,
             "#d8576b"
            ],
            [
             0.6666666666666666,
             "#ed7953"
            ],
            [
             0.7777777777777778,
             "#fb9f3a"
            ],
            [
             0.8888888888888888,
             "#fdca26"
            ],
            [
             1,
             "#f0f921"
            ]
           ]
          },
          "colorway": [
           "#636efa",
           "#EF553B",
           "#00cc96",
           "#ab63fa",
           "#FFA15A",
           "#19d3f3",
           "#FF6692",
           "#B6E880",
           "#FF97FF",
           "#FECB52"
          ],
          "font": {
           "color": "#2a3f5f"
          },
          "geo": {
           "bgcolor": "white",
           "lakecolor": "white",
           "landcolor": "#E5ECF6",
           "showlakes": true,
           "showland": true,
           "subunitcolor": "white"
          },
          "hoverlabel": {
           "align": "left"
          },
          "hovermode": "closest",
          "mapbox": {
           "style": "light"
          },
          "paper_bgcolor": "white",
          "plot_bgcolor": "#E5ECF6",
          "polar": {
           "angularaxis": {
            "gridcolor": "white",
            "linecolor": "white",
            "ticks": ""
           },
           "bgcolor": "#E5ECF6",
           "radialaxis": {
            "gridcolor": "white",
            "linecolor": "white",
            "ticks": ""
           }
          },
          "scene": {
           "xaxis": {
            "backgroundcolor": "#E5ECF6",
            "gridcolor": "white",
            "gridwidth": 2,
            "linecolor": "white",
            "showbackground": true,
            "ticks": "",
            "zerolinecolor": "white"
           },
           "yaxis": {
            "backgroundcolor": "#E5ECF6",
            "gridcolor": "white",
            "gridwidth": 2,
            "linecolor": "white",
            "showbackground": true,
            "ticks": "",
            "zerolinecolor": "white"
           },
           "zaxis": {
            "backgroundcolor": "#E5ECF6",
            "gridcolor": "white",
            "gridwidth": 2,
            "linecolor": "white",
            "showbackground": true,
            "ticks": "",
            "zerolinecolor": "white"
           }
          },
          "shapedefaults": {
           "line": {
            "color": "#2a3f5f"
           }
          },
          "ternary": {
           "aaxis": {
            "gridcolor": "white",
            "linecolor": "white",
            "ticks": ""
           },
           "baxis": {
            "gridcolor": "white",
            "linecolor": "white",
            "ticks": ""
           },
           "bgcolor": "#E5ECF6",
           "caxis": {
            "gridcolor": "white",
            "linecolor": "white",
            "ticks": ""
           }
          },
          "title": {
           "x": 0.05
          },
          "xaxis": {
           "automargin": true,
           "gridcolor": "white",
           "linecolor": "white",
           "ticks": "",
           "title": {
            "standoff": 15
           },
           "zerolinecolor": "white",
           "zerolinewidth": 2
          },
          "yaxis": {
           "automargin": true,
           "gridcolor": "white",
           "linecolor": "white",
           "ticks": "",
           "title": {
            "standoff": 15
           },
           "zerolinecolor": "white",
           "zerolinewidth": 2
          }
         }
        },
        "title": {
         "text": "Cluster quality for liver data using mdl"
        },
        "xaxis": {
         "anchor": "y",
         "domain": [
          0,
          1
         ],
         "title": {
          "text": "Number of clusters"
         }
        },
        "yaxis": {
         "anchor": "x",
         "domain": [
          0,
          1
         ],
         "title": {
          "text": "Cluster quality"
         }
        }
       }
      }
     },
     "metadata": {},
     "output_type": "display_data"
    },
    {
     "data": {
      "application/vnd.plotly.v1+json": {
       "config": {
        "plotlyServerURL": "https://plot.ly"
       },
       "data": [
        {
         "hovertemplate": "Number of clusters=%{x}<br>Cluster quality=%{y}<extra></extra>",
         "legendgroup": "",
         "line": {
          "color": "#636efa",
          "dash": "solid"
         },
         "marker": {
          "symbol": "circle"
         },
         "mode": "lines",
         "name": "",
         "orientation": "v",
         "showlegend": false,
         "type": "scatter",
         "x": [
          3,
          4,
          5,
          6,
          7,
          8,
          9,
          10,
          11,
          12,
          13,
          14,
          15,
          16,
          17,
          18,
          19,
          20,
          21,
          22,
          23,
          24,
          25,
          26,
          27,
          28,
          29,
          30,
          31,
          32,
          33,
          34,
          35,
          36,
          37,
          38,
          39,
          40,
          41,
          42,
          43,
          44,
          45,
          46,
          47,
          48,
          49
         ],
         "xaxis": "x",
         "y": [
          263.7644669990859,
          266.40653811588527,
          241.9653197380342,
          198.44342121682186,
          263.92009423723727,
          339.32892750210164,
          228.6213651209217,
          289.35706742335844,
          197.2492127985304,
          215.19432477162712,
          211.5140173764146,
          233.79621237367124,
          279.5695232885671,
          281.87775770298055,
          217.26717239151307,
          200.0364130922832,
          223.54441759826403,
          196.3180011782867,
          241.67551000870213,
          222.11593592885222,
          272.15189049434446,
          262.5123273880083,
          268.2218292457238,
          248.94822082247944,
          226.31494275829786,
          254.23217466129384,
          370.27256148011617,
          361.85811522784496,
          226.20068881126326,
          225.34396574020866,
          296.75179944150227,
          216.46418476936105,
          193.9145616922788,
          255.66883878736473,
          255.1286380803319,
          309.1915009153221,
          236.51571760520852,
          255.16190496207662,
          240.19231958717572,
          302.8342430252946,
          203.36415995161687,
          180.883058009498,
          208.89638059788817,
          209.78672708420257,
          213.33625970892373,
          171.08762717768087,
          227.717447203886
         ],
         "yaxis": "y"
        }
       ],
       "layout": {
        "legend": {
         "tracegroupgap": 0
        },
        "template": {
         "data": {
          "bar": [
           {
            "error_x": {
             "color": "#2a3f5f"
            },
            "error_y": {
             "color": "#2a3f5f"
            },
            "marker": {
             "line": {
              "color": "#E5ECF6",
              "width": 0.5
             },
             "pattern": {
              "fillmode": "overlay",
              "size": 10,
              "solidity": 0.2
             }
            },
            "type": "bar"
           }
          ],
          "barpolar": [
           {
            "marker": {
             "line": {
              "color": "#E5ECF6",
              "width": 0.5
             },
             "pattern": {
              "fillmode": "overlay",
              "size": 10,
              "solidity": 0.2
             }
            },
            "type": "barpolar"
           }
          ],
          "carpet": [
           {
            "aaxis": {
             "endlinecolor": "#2a3f5f",
             "gridcolor": "white",
             "linecolor": "white",
             "minorgridcolor": "white",
             "startlinecolor": "#2a3f5f"
            },
            "baxis": {
             "endlinecolor": "#2a3f5f",
             "gridcolor": "white",
             "linecolor": "white",
             "minorgridcolor": "white",
             "startlinecolor": "#2a3f5f"
            },
            "type": "carpet"
           }
          ],
          "choropleth": [
           {
            "colorbar": {
             "outlinewidth": 0,
             "ticks": ""
            },
            "type": "choropleth"
           }
          ],
          "contour": [
           {
            "colorbar": {
             "outlinewidth": 0,
             "ticks": ""
            },
            "colorscale": [
             [
              0,
              "#0d0887"
             ],
             [
              0.1111111111111111,
              "#46039f"
             ],
             [
              0.2222222222222222,
              "#7201a8"
             ],
             [
              0.3333333333333333,
              "#9c179e"
             ],
             [
              0.4444444444444444,
              "#bd3786"
             ],
             [
              0.5555555555555556,
              "#d8576b"
             ],
             [
              0.6666666666666666,
              "#ed7953"
             ],
             [
              0.7777777777777778,
              "#fb9f3a"
             ],
             [
              0.8888888888888888,
              "#fdca26"
             ],
             [
              1,
              "#f0f921"
             ]
            ],
            "type": "contour"
           }
          ],
          "contourcarpet": [
           {
            "colorbar": {
             "outlinewidth": 0,
             "ticks": ""
            },
            "type": "contourcarpet"
           }
          ],
          "heatmap": [
           {
            "colorbar": {
             "outlinewidth": 0,
             "ticks": ""
            },
            "colorscale": [
             [
              0,
              "#0d0887"
             ],
             [
              0.1111111111111111,
              "#46039f"
             ],
             [
              0.2222222222222222,
              "#7201a8"
             ],
             [
              0.3333333333333333,
              "#9c179e"
             ],
             [
              0.4444444444444444,
              "#bd3786"
             ],
             [
              0.5555555555555556,
              "#d8576b"
             ],
             [
              0.6666666666666666,
              "#ed7953"
             ],
             [
              0.7777777777777778,
              "#fb9f3a"
             ],
             [
              0.8888888888888888,
              "#fdca26"
             ],
             [
              1,
              "#f0f921"
             ]
            ],
            "type": "heatmap"
           }
          ],
          "heatmapgl": [
           {
            "colorbar": {
             "outlinewidth": 0,
             "ticks": ""
            },
            "colorscale": [
             [
              0,
              "#0d0887"
             ],
             [
              0.1111111111111111,
              "#46039f"
             ],
             [
              0.2222222222222222,
              "#7201a8"
             ],
             [
              0.3333333333333333,
              "#9c179e"
             ],
             [
              0.4444444444444444,
              "#bd3786"
             ],
             [
              0.5555555555555556,
              "#d8576b"
             ],
             [
              0.6666666666666666,
              "#ed7953"
             ],
             [
              0.7777777777777778,
              "#fb9f3a"
             ],
             [
              0.8888888888888888,
              "#fdca26"
             ],
             [
              1,
              "#f0f921"
             ]
            ],
            "type": "heatmapgl"
           }
          ],
          "histogram": [
           {
            "marker": {
             "pattern": {
              "fillmode": "overlay",
              "size": 10,
              "solidity": 0.2
             }
            },
            "type": "histogram"
           }
          ],
          "histogram2d": [
           {
            "colorbar": {
             "outlinewidth": 0,
             "ticks": ""
            },
            "colorscale": [
             [
              0,
              "#0d0887"
             ],
             [
              0.1111111111111111,
              "#46039f"
             ],
             [
              0.2222222222222222,
              "#7201a8"
             ],
             [
              0.3333333333333333,
              "#9c179e"
             ],
             [
              0.4444444444444444,
              "#bd3786"
             ],
             [
              0.5555555555555556,
              "#d8576b"
             ],
             [
              0.6666666666666666,
              "#ed7953"
             ],
             [
              0.7777777777777778,
              "#fb9f3a"
             ],
             [
              0.8888888888888888,
              "#fdca26"
             ],
             [
              1,
              "#f0f921"
             ]
            ],
            "type": "histogram2d"
           }
          ],
          "histogram2dcontour": [
           {
            "colorbar": {
             "outlinewidth": 0,
             "ticks": ""
            },
            "colorscale": [
             [
              0,
              "#0d0887"
             ],
             [
              0.1111111111111111,
              "#46039f"
             ],
             [
              0.2222222222222222,
              "#7201a8"
             ],
             [
              0.3333333333333333,
              "#9c179e"
             ],
             [
              0.4444444444444444,
              "#bd3786"
             ],
             [
              0.5555555555555556,
              "#d8576b"
             ],
             [
              0.6666666666666666,
              "#ed7953"
             ],
             [
              0.7777777777777778,
              "#fb9f3a"
             ],
             [
              0.8888888888888888,
              "#fdca26"
             ],
             [
              1,
              "#f0f921"
             ]
            ],
            "type": "histogram2dcontour"
           }
          ],
          "mesh3d": [
           {
            "colorbar": {
             "outlinewidth": 0,
             "ticks": ""
            },
            "type": "mesh3d"
           }
          ],
          "parcoords": [
           {
            "line": {
             "colorbar": {
              "outlinewidth": 0,
              "ticks": ""
             }
            },
            "type": "parcoords"
           }
          ],
          "pie": [
           {
            "automargin": true,
            "type": "pie"
           }
          ],
          "scatter": [
           {
            "marker": {
             "colorbar": {
              "outlinewidth": 0,
              "ticks": ""
             }
            },
            "type": "scatter"
           }
          ],
          "scatter3d": [
           {
            "line": {
             "colorbar": {
              "outlinewidth": 0,
              "ticks": ""
             }
            },
            "marker": {
             "colorbar": {
              "outlinewidth": 0,
              "ticks": ""
             }
            },
            "type": "scatter3d"
           }
          ],
          "scattercarpet": [
           {
            "marker": {
             "colorbar": {
              "outlinewidth": 0,
              "ticks": ""
             }
            },
            "type": "scattercarpet"
           }
          ],
          "scattergeo": [
           {
            "marker": {
             "colorbar": {
              "outlinewidth": 0,
              "ticks": ""
             }
            },
            "type": "scattergeo"
           }
          ],
          "scattergl": [
           {
            "marker": {
             "colorbar": {
              "outlinewidth": 0,
              "ticks": ""
             }
            },
            "type": "scattergl"
           }
          ],
          "scattermapbox": [
           {
            "marker": {
             "colorbar": {
              "outlinewidth": 0,
              "ticks": ""
             }
            },
            "type": "scattermapbox"
           }
          ],
          "scatterpolar": [
           {
            "marker": {
             "colorbar": {
              "outlinewidth": 0,
              "ticks": ""
             }
            },
            "type": "scatterpolar"
           }
          ],
          "scatterpolargl": [
           {
            "marker": {
             "colorbar": {
              "outlinewidth": 0,
              "ticks": ""
             }
            },
            "type": "scatterpolargl"
           }
          ],
          "scatterternary": [
           {
            "marker": {
             "colorbar": {
              "outlinewidth": 0,
              "ticks": ""
             }
            },
            "type": "scatterternary"
           }
          ],
          "surface": [
           {
            "colorbar": {
             "outlinewidth": 0,
             "ticks": ""
            },
            "colorscale": [
             [
              0,
              "#0d0887"
             ],
             [
              0.1111111111111111,
              "#46039f"
             ],
             [
              0.2222222222222222,
              "#7201a8"
             ],
             [
              0.3333333333333333,
              "#9c179e"
             ],
             [
              0.4444444444444444,
              "#bd3786"
             ],
             [
              0.5555555555555556,
              "#d8576b"
             ],
             [
              0.6666666666666666,
              "#ed7953"
             ],
             [
              0.7777777777777778,
              "#fb9f3a"
             ],
             [
              0.8888888888888888,
              "#fdca26"
             ],
             [
              1,
              "#f0f921"
             ]
            ],
            "type": "surface"
           }
          ],
          "table": [
           {
            "cells": {
             "fill": {
              "color": "#EBF0F8"
             },
             "line": {
              "color": "white"
             }
            },
            "header": {
             "fill": {
              "color": "#C8D4E3"
             },
             "line": {
              "color": "white"
             }
            },
            "type": "table"
           }
          ]
         },
         "layout": {
          "annotationdefaults": {
           "arrowcolor": "#2a3f5f",
           "arrowhead": 0,
           "arrowwidth": 1
          },
          "autotypenumbers": "strict",
          "coloraxis": {
           "colorbar": {
            "outlinewidth": 0,
            "ticks": ""
           }
          },
          "colorscale": {
           "diverging": [
            [
             0,
             "#8e0152"
            ],
            [
             0.1,
             "#c51b7d"
            ],
            [
             0.2,
             "#de77ae"
            ],
            [
             0.3,
             "#f1b6da"
            ],
            [
             0.4,
             "#fde0ef"
            ],
            [
             0.5,
             "#f7f7f7"
            ],
            [
             0.6,
             "#e6f5d0"
            ],
            [
             0.7,
             "#b8e186"
            ],
            [
             0.8,
             "#7fbc41"
            ],
            [
             0.9,
             "#4d9221"
            ],
            [
             1,
             "#276419"
            ]
           ],
           "sequential": [
            [
             0,
             "#0d0887"
            ],
            [
             0.1111111111111111,
             "#46039f"
            ],
            [
             0.2222222222222222,
             "#7201a8"
            ],
            [
             0.3333333333333333,
             "#9c179e"
            ],
            [
             0.4444444444444444,
             "#bd3786"
            ],
            [
             0.5555555555555556,
             "#d8576b"
            ],
            [
             0.6666666666666666,
             "#ed7953"
            ],
            [
             0.7777777777777778,
             "#fb9f3a"
            ],
            [
             0.8888888888888888,
             "#fdca26"
            ],
            [
             1,
             "#f0f921"
            ]
           ],
           "sequentialminus": [
            [
             0,
             "#0d0887"
            ],
            [
             0.1111111111111111,
             "#46039f"
            ],
            [
             0.2222222222222222,
             "#7201a8"
            ],
            [
             0.3333333333333333,
             "#9c179e"
            ],
            [
             0.4444444444444444,
             "#bd3786"
            ],
            [
             0.5555555555555556,
             "#d8576b"
            ],
            [
             0.6666666666666666,
             "#ed7953"
            ],
            [
             0.7777777777777778,
             "#fb9f3a"
            ],
            [
             0.8888888888888888,
             "#fdca26"
            ],
            [
             1,
             "#f0f921"
            ]
           ]
          },
          "colorway": [
           "#636efa",
           "#EF553B",
           "#00cc96",
           "#ab63fa",
           "#FFA15A",
           "#19d3f3",
           "#FF6692",
           "#B6E880",
           "#FF97FF",
           "#FECB52"
          ],
          "font": {
           "color": "#2a3f5f"
          },
          "geo": {
           "bgcolor": "white",
           "lakecolor": "white",
           "landcolor": "#E5ECF6",
           "showlakes": true,
           "showland": true,
           "subunitcolor": "white"
          },
          "hoverlabel": {
           "align": "left"
          },
          "hovermode": "closest",
          "mapbox": {
           "style": "light"
          },
          "paper_bgcolor": "white",
          "plot_bgcolor": "#E5ECF6",
          "polar": {
           "angularaxis": {
            "gridcolor": "white",
            "linecolor": "white",
            "ticks": ""
           },
           "bgcolor": "#E5ECF6",
           "radialaxis": {
            "gridcolor": "white",
            "linecolor": "white",
            "ticks": ""
           }
          },
          "scene": {
           "xaxis": {
            "backgroundcolor": "#E5ECF6",
            "gridcolor": "white",
            "gridwidth": 2,
            "linecolor": "white",
            "showbackground": true,
            "ticks": "",
            "zerolinecolor": "white"
           },
           "yaxis": {
            "backgroundcolor": "#E5ECF6",
            "gridcolor": "white",
            "gridwidth": 2,
            "linecolor": "white",
            "showbackground": true,
            "ticks": "",
            "zerolinecolor": "white"
           },
           "zaxis": {
            "backgroundcolor": "#E5ECF6",
            "gridcolor": "white",
            "gridwidth": 2,
            "linecolor": "white",
            "showbackground": true,
            "ticks": "",
            "zerolinecolor": "white"
           }
          },
          "shapedefaults": {
           "line": {
            "color": "#2a3f5f"
           }
          },
          "ternary": {
           "aaxis": {
            "gridcolor": "white",
            "linecolor": "white",
            "ticks": ""
           },
           "baxis": {
            "gridcolor": "white",
            "linecolor": "white",
            "ticks": ""
           },
           "bgcolor": "#E5ECF6",
           "caxis": {
            "gridcolor": "white",
            "linecolor": "white",
            "ticks": ""
           }
          },
          "title": {
           "x": 0.05
          },
          "xaxis": {
           "automargin": true,
           "gridcolor": "white",
           "linecolor": "white",
           "ticks": "",
           "title": {
            "standoff": 15
           },
           "zerolinecolor": "white",
           "zerolinewidth": 2
          },
          "yaxis": {
           "automargin": true,
           "gridcolor": "white",
           "linecolor": "white",
           "ticks": "",
           "title": {
            "standoff": 15
           },
           "zerolinecolor": "white",
           "zerolinewidth": 2
          }
         }
        },
        "title": {
         "text": "Cluster quality for liver data using ray-turi"
        },
        "xaxis": {
         "anchor": "y",
         "domain": [
          0,
          1
         ],
         "title": {
          "text": "Number of clusters"
         }
        },
        "yaxis": {
         "anchor": "x",
         "domain": [
          0,
          1
         ],
         "title": {
          "text": "Cluster quality"
         }
        }
       }
      }
     },
     "metadata": {},
     "output_type": "display_data"
    }
   ],
   "source": [
    "k_range = list(range(3, 50))\n",
    "cluster_quality_metrics = ['elbow', 'mdl', 'ray-turi']\n",
    "X_train = pca_liver.transform(X_train.to_numpy())\n",
    "\n",
    "def graph_kmeans(k_range, X, metric: str):\n",
    "    cluster_qualities = np.zeros(len(k_range))\n",
    "    for i in k_range:\n",
    "        # Train a kmeans model on the liver data\n",
    "        kmeans_liver = KMeans(n_clusters=i, random_state=0)\n",
    "        kmeans_liver.fit_predict(X)\n",
    "\n",
    "        # Compute cluster quality\n",
    "        cq = cluster_quality(X, kmeans_liver, metric=metric)\n",
    "        cluster_qualities[i-k_range[0]] = cq\n",
    "\n",
    "    # plot the cluster qualities\n",
    "    fig_cq = px.line(x=k_range, y=cluster_qualities, title=f'Cluster quality for liver data using {metric}',\n",
    "                    labels={'x': 'Number of clusters', 'y': 'Cluster quality'})\n",
    "    fig_cq.show()\n",
    "\n",
    "for metric in cluster_quality_metrics:\n",
    "    graph_kmeans(k_range, X_train, metric)\n",
    "    "
   ]
  },
  {
   "attachments": {},
   "cell_type": "markdown",
   "metadata": {},
   "source": [
    "## Apply DBSCAN Clustering\n",
    "\n",
    "We will attempt clustering with another algorithm, DBSCAN, which is density based and does not require us to define the number of clusters."
   ]
  },
  {
   "cell_type": "code",
   "execution_count": 26,
   "metadata": {},
   "outputs": [
    {
     "data": {
      "application/vnd.plotly.v1+json": {
       "config": {
        "plotlyServerURL": "https://plot.ly"
       },
       "data": [
        {
         "hovertemplate": "x=%{x}<br>y=%{y}<br>z=%{z}<br>color=%{marker.color}<extra></extra>",
         "legendgroup": "",
         "marker": {
          "color": [
           -1,
           0,
           0,
           0,
           0,
           0,
           -1,
           0,
           0,
           0,
           0,
           0,
           0,
           0,
           0,
           0,
           0,
           0,
           0,
           0,
           0,
           0,
           0,
           0,
           0,
           0,
           0,
           0,
           0,
           0,
           0,
           0,
           0,
           0,
           0,
           0,
           0,
           0,
           0,
           0,
           1,
           2,
           0,
           0,
           0,
           0,
           0,
           0,
           0,
           0,
           0,
           0,
           0,
           0,
           0,
           0,
           0,
           0,
           0,
           0,
           0,
           0,
           -1,
           0,
           3,
           0,
           0,
           0,
           0,
           0,
           0,
           0,
           0,
           0,
           0,
           -1,
           0,
           0,
           0,
           0,
           0,
           0,
           0,
           0,
           0,
           0,
           0,
           4,
           0,
           0,
           -1,
           0,
           0,
           0,
           0,
           0,
           0,
           0,
           0,
           0,
           0,
           0,
           0,
           0,
           0,
           0,
           1,
           0,
           0,
           0,
           0,
           0,
           0,
           0,
           0,
           0,
           0,
           0,
           0,
           -1,
           0,
           0,
           0,
           0,
           4,
           0,
           0,
           0,
           0,
           0,
           1,
           0,
           1,
           4,
           0,
           0,
           0,
           0,
           0,
           0,
           0,
           0,
           0,
           0,
           0,
           0,
           0,
           0,
           0,
           0,
           0,
           0,
           -1,
           0,
           0,
           0,
           0,
           0,
           0,
           0,
           0,
           0,
           0,
           0,
           0,
           -1,
           0,
           1,
           0,
           0,
           0,
           0,
           0,
           -1,
           0,
           0,
           0,
           0,
           0,
           0,
           0,
           0,
           0,
           0,
           0,
           0,
           1,
           0,
           0,
           0,
           0,
           0,
           3,
           0,
           0,
           -1,
           0,
           0,
           0,
           0,
           0,
           0,
           0,
           0,
           0,
           0,
           -1,
           0,
           0,
           0,
           0,
           0,
           0,
           0,
           0,
           0,
           0,
           0,
           0,
           0,
           0,
           -1,
           0,
           0,
           0,
           1,
           -1,
           0,
           0,
           0,
           0,
           -1,
           0,
           0,
           0,
           0,
           0,
           4,
           1,
           0,
           0,
           0,
           0,
           0,
           0,
           0,
           0,
           0,
           2,
           -1,
           0,
           0,
           0,
           0,
           0,
           0,
           0,
           0
          ],
          "coloraxis": "coloraxis",
          "symbol": "circle"
         },
         "mode": "markers",
         "name": "",
         "scene": "scene",
         "showlegend": false,
         "type": "scatter3d",
         "x": [
          -3.1143943148177335,
          0.4052177840858681,
          0.6445675763106689,
          0.27781840075051323,
          1.0498893636660682,
          1.1072650050584936,
          -4.6065646387822525,
          0.018707353391711097,
          -1.3470644718918812,
          0.3293910681032134,
          1.2761359256884375,
          1.9154588214531372,
          0.016098155004013473,
          -0.7444826796071394,
          -1.5193728462375684,
          1.020642704783576,
          0.7261851262206307,
          0.9852946610867501,
          -0.9006608647781119,
          0.6878292591867523,
          0.10686236994786347,
          -0.23833708757671754,
          0.5820239139618758,
          -0.20525730517824012,
          -0.09986717163290304,
          1.0098768335416288,
          0.01494403663292198,
          0.4695352594289127,
          1.116484691549774,
          0.8368109429948378,
          1.480506679251726,
          -0.436999913489571,
          0.76806070167863,
          1.2243600462776834,
          1.4141931682847597,
          -0.40417935046914577,
          1.088655365767477,
          0.5149857934362945,
          -0.18759319301851762,
          -1.0259921609316107,
          -2.8721559364510423,
          -1.9477267459808023,
          1.9476762763893887,
          1.424972316228421,
          0.9019636640269164,
          0.4627170249213763,
          0.26867825168189585,
          0.6818317529825367,
          0.35662953158585553,
          1.2647923776230159,
          1.1297051542541134,
          0.9967933708794121,
          0.7546416631648406,
          1.0310556653807093,
          0.5874716432412567,
          -1.378687819151224,
          2.0132699643758403,
          0.5381808918768003,
          -0.6595107273187738,
          0.9383730065623151,
          0.15873975064335502,
          -0.4683054584245046,
          -6.842597335763628,
          0.7677924462284847,
          -4.1365739027393715,
          -0.35908620570680205,
          0.6600353084036269,
          1.3577349932574343,
          -0.3598467024620142,
          1.105802056006975,
          1.4029706188681228,
          0.32486163399155055,
          1.3722035252407694,
          0.8159059660404221,
          -0.19562915198886213,
          -8.413318890940687,
          -0.18461200041408116,
          -1.440195644404969,
          0.2695964071452015,
          -0.9623598568395386,
          0.7784946935738605,
          -0.021286098429831896,
          -0.2578810876626694,
          -0.502820488784236,
          1.1002438537958412,
          0.7214097371229431,
          0.76806070167863,
          -2.4869808616467854,
          0.8504936420092778,
          1.3151118918179143,
          -6.097027411726785,
          -1.0762321715419263,
          0.4131472330298582,
          -1.2124998095174628,
          0.7721359727346547,
          1.168706626923624,
          0.7714521744110647,
          -0.22959132632523416,
          1.0343775282535819,
          1.360233050778315,
          0.7469925703429611,
          0.8581925412595373,
          -0.37422709026854384,
          0.011596423754243964,
          1.2726112550908368,
          0.8677820203766681,
          -2.656071593461681,
          1.2365669704403541,
          -0.7331888362065065,
          0.6828681665088902,
          -0.1861640904402624,
          1.4269140075806628,
          0.3017452082801224,
          -1.8883869606708887,
          1.0183180478651288,
          0.8556675111349651,
          0.16945659755229048,
          0.25166530870135734,
          -0.20243566167573462,
          2.2977150871467873,
          1.4242100474815287,
          -1.5516896419406383,
          0.9280611893456185,
          0.16313116442078457,
          -2.1145686959143966,
          -1.2513633156876742,
          -0.5394850694279509,
          0.9562696214109689,
          1.0765934501080283,
          -0.3884204053431407,
          -2.3831043980071263,
          0.8906844058823885,
          -2.7020156054945,
          -1.747156493968863,
          -1.2653100849442316,
          1.023770604882606,
          0.6406557031016694,
          1.6523570365276525,
          0.564446497720156,
          -0.7628722248590658,
          0.36608482308062096,
          1.1331466768806995,
          -0.30320775349531404,
          -0.9205860261320481,
          -0.19564778465932414,
          -0.6802558864396041,
          0.3837278160750005,
          -0.49218034016781076,
          0.7098270972638985,
          1.8722859376806413,
          -0.23600174934271329,
          1.7480557241809456,
          -1.4102870634749733,
          0.10322919530782403,
          0.8226754897431097,
          0.845439849645568,
          0.6800526664786422,
          -0.8466100990733506,
          2.212811709558935,
          0.024323116627607902,
          0.7181295090186844,
          0.7927638727822937,
          -0.7429414749739196,
          0.6514459153919588,
          0.2560997376358121,
          -2.4757969039824035,
          1.2861152388332036,
          -3.5396915138621114,
          -0.6889275306622497,
          -0.5133048365016399,
          1.566256608149013,
          0.7332043298962236,
          0.6589863018656241,
          -5.471807630297549,
          1.5557420119708714,
          -0.26849785101075857,
          0.5149857934362945,
          1.0543283357128517,
          1.6158385938487712,
          -0.3598467024620142,
          1.0344512874302043,
          0.5674468153347385,
          0.33099882876032005,
          -1.0973916064751497,
          0.6332565589843495,
          0.04416889266000662,
          -2.37335942596885,
          0.7078441361750277,
          -0.009391439761447545,
          0.30055498992068597,
          0.006725954147928176,
          0.0017821266212861286,
          -3.3970995495219993,
          0.6061104461887956,
          0.17170112472265533,
          -5.357529791458265,
          1.4824301782969123,
          -0.9863901596699698,
          -0.21750629207621705,
          1.3575045991622292,
          1.0835949895681043,
          0.5835792780734744,
          -0.0519949293983908,
          0.30304118482723197,
          0.6287081968992869,
          1.0552417511661945,
          0.4603954503206292,
          0.24077831910306735,
          0.6880435929237686,
          -0.40663618482153535,
          1.5595400557906225,
          0.5530201490499631,
          0.8382445208150296,
          0.6969667663010755,
          -0.4357683770537396,
          -0.11336257738441002,
          0.17898507356400162,
          -1.1088228974610808,
          0.14638480866007073,
          0.20497819218104668,
          -0.5393193195214283,
          -3.4797679888048294,
          0.3948399909131024,
          -0.6322331527587667,
          1.073632517105266,
          -2.640532182303802,
          -4.2114172944238115,
          -0.3489224581478851,
          0.9609914306666028,
          0.05810852327896618,
          0.30366274471745913,
          0.6859120540824329,
          1.7618202035080455,
          -0.3883433955753547,
          0.8307004773639883,
          0.91507180983469,
          0.19307884020994942,
          -2.3958702609747915,
          -3.141179098539767,
          -0.3668830781525524,
          0.6025786170958556,
          0.17702688861785004,
          0.5882088458115207,
          0.6381677826324685,
          -0.013498047440712702,
          0.7056699421338544,
          0.9699758846474119,
          0.5542144954242054,
          -2.7200211700180272,
          1.2978370750562305,
          1.0397396232061795,
          0.4573222847911471,
          -0.4151593190229955,
          1.7583275355580084,
          -0.014874300574228547,
          1.3034327395580076,
          -0.1271256372159899,
          0.7814531454898832
         ],
         "y": [
          -1.2053015280948831,
          0.08294936683341192,
          -0.17574843207936736,
          -2.084645470713992,
          -0.36782759434152545,
          0.3945856104478274,
          -1.2579679341962986,
          1.0433133934358967,
          1.1514870250451195,
          0.3778887410108613,
          0.9665213029378462,
          0.9874407416367594,
          0.8401355173809717,
          1.8086838751041803,
          -0.036243792052559544,
          -0.12720548797372222,
          -0.6293844157833722,
          -0.5728938809040571,
          0.4428492135736686,
          -0.6640487754830536,
          -1.0335779960928442,
          -0.48917260236708465,
          -1.2694565857571432,
          1.2013364165413907,
          -0.08820155479804673,
          -1.4705739559827702,
          -0.3371779193969286,
          0.24186808236210047,
          0.14291192147164453,
          -0.7995549422444154,
          0.7004015179067771,
          -0.5697713853403588,
          -0.6637079050477958,
          0.5159763847896564,
          0.4908588174745208,
          -1.7789542007518404,
          0.3769613025953487,
          -0.8838345351475638,
          1.5986698859357305,
          -0.4071939367460462,
          -0.22149387796166442,
          2.7395615320804656,
          -0.6107862840690383,
          -0.41069946871253626,
          -0.2914143935430762,
          0.21260901918229955,
          -0.0013458691918570992,
          0.9719985265323148,
          0.3955905600331428,
          -0.3897737509429189,
          1.229202178129147,
          1.588768070133613,
          0.7799555365622227,
          0.27696977688506996,
          -0.13873042867918878,
          -0.906061362347787,
          0.6509412514229685,
          0.547496767142496,
          -0.23442365792337433,
          -0.33541420939274025,
          0.6621816051964347,
          0.39966583511822384,
          3.0080709616755343,
          -0.40384127814003073,
          -0.37834743243245905,
          0.16362302929846811,
          -0.3944028608025915,
          0.7863587991039384,
          -1.3170722642121218,
          -0.44960852009702146,
          0.14846164005900908,
          0.14737505495678271,
          -0.2691281692549128,
          -0.4315703483523238,
          -1.3336130260379224,
          1.6256917299565476,
          -1.0828980679693812,
          -1.0460745712822082,
          0.11012112080065699,
          -0.9790648526911248,
          -0.36438367318224196,
          -1.8051829651892766,
          -0.22136787559674864,
          -2.0633873979068813,
          1.026927965076744,
          -0.1957263836323429,
          -0.6637079050477958,
          -0.9314798260885617,
          -0.6799452189829046,
          -0.7048620818660829,
          -1.4339162946874813,
          0.9307071701840144,
          0.0005351610108129436,
          -0.21124976300310858,
          -0.07241361806237767,
          0.02976303461409132,
          -0.617906606262293,
          -0.6178617859140999,
          -0.02589789710203573,
          -0.4628223601201938,
          -1.625749442322055,
          0.3473316934876501,
          2.1568278446010805,
          -0.9711404867133286,
          -0.47105812240942474,
          1.3418077700068904,
          0.5015281202717219,
          -1.4532025008648302,
          -1.5932200450324623,
          -0.3514189296839855,
          0.45343076939836585,
          -1.0519705375248927,
          0.4445686713454702,
          1.5516522042134213,
          1.1889830885225863,
          0.4134416474614823,
          -1.1951292594538927,
          0.4818104026046633,
          -0.2583743519888,
          4.438492195484131,
          -0.4024440487123021,
          1.3099485524693792,
          0.3624852388099667,
          -1.2169046285912692,
          -0.3168246059691807,
          -0.8997043832780942,
          -1.5414548715295202,
          0.5931271056991356,
          0.7818645966540724,
          -1.9541534619708143,
          0.3291808458652838,
          1.2097438042922182,
          0.9158944567784656,
          -0.2205763839574394,
          -0.9104533657081466,
          0.9593420027541901,
          1.0278694121161973,
          1.310332655506256,
          -0.3813034276232506,
          0.0860268360202061,
          1.0666233477627567,
          0.3614614105155579,
          1.846958700453486,
          -2.7234890251112684,
          -0.9991952254948825,
          0.48708126157483134,
          -1.0352115066636036,
          -0.6974090445334665,
          -0.08360112855777413,
          0.18269083255200824,
          -0.323334016945727,
          0.16224709718902625,
          1.3448260895772215,
          -1.1508746530283744,
          -0.11228571203863523,
          -0.27576056146872563,
          0.5199958806342235,
          -2.0902529396470517,
          -0.5590600423371529,
          0.3284245630512744,
          0.8869718718444816,
          -0.5474901036612552,
          -1.8395332165916896,
          -1.296521754441617,
          1.100142453511626,
          -0.6944317833030271,
          0.012139426396996441,
          -0.16316490885253454,
          -0.15603146015035313,
          0.7509081140989061,
          1.4787486124871252,
          -0.8223232471949261,
          0.1471926659755047,
          0.41376192422478747,
          1.1209156706639352,
          0.7805336341085884,
          -0.8838345351475638,
          0.24263854056872025,
          -0.011599766452925594,
          -1.3170722642121218,
          -0.08903651966783323,
          -0.38721469483408655,
          -0.544163559710897,
          1.0522167733560852,
          -0.3146815235122875,
          -0.05021966595112366,
          1.039437653035583,
          -0.5029336712019268,
          1.2931018886022594,
          -0.08269681182503116,
          -1.0972939593616817,
          0.775923929828547,
          -0.29698822757683174,
          1.0874475612208587,
          0.8620474902941703,
          0.6584447976483795,
          1.0604050893229366,
          -0.4185137916836832,
          -0.7782741551520631,
          -0.24308343940221502,
          0.7025850786360329,
          0.8356840599222284,
          -0.7511818289786394,
          -0.7190419004434719,
          1.1396104667446192,
          0.16000060688710654,
          -1.2683843204058995,
          0.5244791241917685,
          -0.5271540674565744,
          0.267915409585014,
          1.6660623866155095,
          0.25659936786744314,
          -1.367998784499668,
          0.7166903787647952,
          -0.37139936483800134,
          -0.6693265850045488,
          0.03746507220113783,
          -0.7862586817062457,
          0.17147624879158008,
          -0.7433777699243245,
          0.22010886685747655,
          0.05591881020024657,
          -0.48971365522115445,
          1.5049778066781712,
          -0.3771806789481013,
          0.29828336390831317,
          -0.31409784053442463,
          -1.1788867851810023,
          -0.5312423069418076,
          -0.46314237474500036,
          0.3642263551407079,
          2.4851988975502795,
          0.32369133401118066,
          -1.1387263469243374,
          0.6101688776589326,
          -0.6408089757676384,
          0.38563913628821644,
          -1.3047002264356173,
          1.2191587735987244,
          -2.158891155504154,
          0.19600742089130724,
          -1.3045812291980363,
          0.047926749717179515,
          -0.7424111487451678,
          0.15037270099879518,
          -0.3928704480871061,
          -0.45410444265948147,
          1.2196336063221551,
          2.7189681065392186,
          1.9929398947672172,
          0.12441346598573524,
          -0.8333182764182744,
          0.9362698938220692,
          0.9910891979467561,
          0.5916651979821788,
          0.9013419009642086,
          -0.3825590182090642,
          0.04137796526424368
         ],
         "z": [
          0.536946871766433,
          0.8267984435475749,
          -0.76577702595,
          -1.2675176326989912,
          -0.5953599700314145,
          0.10742391498495518,
          -0.6884304698719834,
          -0.22515492219833083,
          0.03315543557415977,
          2.168666612615889,
          0.8250714850330338,
          -0.7790875962112392,
          -0.8848900602945476,
          0.2284521573390758,
          -1.4080613901350838,
          -0.8667003349207162,
          0.5435143763175911,
          0.5711205919357595,
          -0.5065262416798806,
          -0.2940875893777709,
          2.5557236028415176,
          -1.260132579361927,
          0.6646302986991196,
          -0.25616679584420066,
          0.2944465315424805,
          -1.4423811508041529,
          1.5661587765208125,
          -0.6500915149005948,
          -1.6239918281298333,
          -0.5193718516782406,
          -0.10657580034719454,
          0.9046245658888326,
          -0.9255815007509831,
          -0.37222101531902374,
          -0.10503361317965595,
          -0.6330415124849262,
          -0.11735870984799439,
          0.43047618172119634,
          1.0016907856402533,
          1.0884705098552412,
          0.6698707475710555,
          -0.1259247002573839,
          -0.17488400086940983,
          -0.7561693906618618,
          -0.31164069707484165,
          -0.6007701226680213,
          0.23707708753148324,
          -0.38746071947301003,
          -1.0300271146164048,
          -1.5388756099803507,
          -1.0645801778947845,
          0.0835187898734379,
          -0.909734920487186,
          0.1465348626526431,
          0.28771133320514,
          1.1526496503803767,
          -1.329602833812063,
          0.44384521238141217,
          -2.0431847279207167,
          0.22657632183351162,
          1.5769064535484691,
          0.7838172979826264,
          -0.3766929451163726,
          0.7827360673811274,
          -1.2442070988192047,
          0.799760115876804,
          -0.8016683734898172,
          0.37556950655511645,
          -0.6725437075113745,
          0.321945081884928,
          0.13655485710598708,
          1.2180618660583296,
          -0.15470617997517,
          0.009041992408451202,
          1.7832361825851883,
          -1.2434962960595652,
          -0.037868217638972954,
          0.7281723291426467,
          -0.11204328336375444,
          1.3388848764505088,
          -0.4230118330221584,
          -0.1936212037677393,
          -0.20679146232995543,
          0.41398611004143027,
          0.02309222496952411,
          -1.2064460442427274,
          -0.9255815007509831,
          -0.6512677568847289,
          1.2342577262265777,
          -0.20646671990992888,
          -1.2060515207068248,
          0.7155293650563874,
          -0.3442285520811821,
          0.6319093156390164,
          -0.2408776104585046,
          0.09717322523849929,
          0.5617066221810232,
          2.094508978022111,
          -0.4700974059806949,
          -0.6639926058987442,
          -1.3291032681700483,
          0.45704407119223533,
          0.42086213794743155,
          -0.1043848416522193,
          0.24004363241594254,
          -0.3711895115327876,
          0.9589423374352508,
          -0.9439399904139429,
          -1.6222189858941836,
          1.5781000008497494,
          0.48252194267573045,
          0.7868303448069001,
          -1.298826848850501,
          1.6698353874505334,
          -1.0137780175271767,
          0.8803035620779601,
          1.9975475098399125,
          -1.6585910090064324,
          0.33989172481614693,
          2.329030999953434,
          -0.0034959143217282024,
          0.9191994748931771,
          0.9848034012175813,
          -0.44035756611638527,
          -0.18098652983109878,
          -1.579034076181176,
          0.6791239320676458,
          -0.2985998663243138,
          -0.09772761192552157,
          2.085500090509435,
          0.6357769918089354,
          -0.3489756767427579,
          0.09586119595295926,
          -0.2930184920452013,
          1.3118612202888746,
          0.33913739462732334,
          -0.424661026006598,
          0.5475974138103639,
          1.6094957468350206,
          -0.894485670377008,
          -0.9157993970487815,
          -0.6799897789498599,
          -0.2607744672772335,
          1.952014370296917,
          -0.7217103709946444,
          0.006548735132880474,
          -0.6353020505044419,
          -2.273415397136215,
          0.4323400664566259,
          1.1420332480647288,
          -0.5774326399203482,
          -0.30755640256291206,
          -1.0281587568616728,
          -0.5100346461310459,
          1.3239869999149319,
          0.5186267273713971,
          0.38873369849544614,
          0.8168894903944982,
          -0.6884565730438768,
          -0.4067330044790242,
          0.07785070326176878,
          -0.3335476781918677,
          0.4143736442139318,
          -0.591539101638481,
          -0.9324616622114069,
          1.53413665023148,
          1.262710070272356,
          0.8847563529828417,
          -0.2048460900028627,
          1.6621024795198884,
          0.032931227400649396,
          -0.9563826709493456,
          -0.09947070976308148,
          0.44336892234677827,
          -0.7992401457015352,
          -0.24119109228716323,
          0.43047618172119634,
          -0.880595243596165,
          -0.7579570124699,
          -0.6725437075113745,
          -0.21757908633957362,
          0.2892026882656414,
          0.9820388427612461,
          0.7269239732139117,
          -0.5019342855563996,
          -0.5808028842138526,
          -0.6289409370356391,
          -0.5495483650830214,
          -0.4530747957652294,
          -0.08866611216185728,
          -1.3639478836871468,
          0.9644571861938833,
          -1.551690464263249,
          2.8069095956187167,
          -1.0332610059806977,
          -1.404490232340418,
          -0.5546196139459184,
          1.4550549445754741,
          2.1700377463811704,
          -0.6247586389049945,
          -0.7535849315215661,
          0.2967287228735926,
          -0.29492201261879925,
          1.8211829956241465,
          -1.584940758482965,
          -0.6383697199138508,
          -2.322518098014996,
          1.341943474032611,
          -1.4834540729931283,
          0.1715437430919204,
          -0.4249456518900523,
          -0.6218714106753651,
          1.665416443278018,
          0.2898909876446162,
          0.11871461474230458,
          0.4504696067347259,
          -0.14465528263762073,
          1.6403331508290868,
          -0.7470783111716743,
          0.11923996075744038,
          -0.9845338140687403,
          -0.10765796390618199,
          2.4930744430171887,
          0.7582977984845461,
          -1.664647186517949,
          -1.0922087163964131,
          1.8611007238912192,
          -0.38774159738137803,
          -0.72836763551017,
          0.13525979731801566,
          0.515348497366561,
          -0.526352892080061,
          0.4309360625291328,
          0.7389506669867077,
          0.23906951445685543,
          -0.10678747920373667,
          -0.18924950716100092,
          -0.933669363253964,
          -0.4711728050500016,
          -0.2811330340021484,
          -0.20766230950304385,
          0.785095057708609,
          -2.1443507466988936,
          0.3974872263249921,
          -0.38530184566756875,
          -0.3095143309095041,
          -0.07620207651446677,
          -0.2942469080597755,
          -0.23330135786818415,
          1.2470539076092837,
          -0.3530220139485053,
          0.6958208552254619,
          0.9033265563426367,
          -0.361385231419352,
          2.0319423508527588,
          0.13751825825686836,
          -1.5388773978133294,
          -0.3019551061202448
         ]
        }
       ],
       "layout": {
        "coloraxis": {
         "colorbar": {
          "title": {
           "text": "color"
          }
         },
         "colorscale": [
          [
           0,
           "#0508b8"
          ],
          [
           0.08333333333333333,
           "#1910d8"
          ],
          [
           0.16666666666666666,
           "#3c19f0"
          ],
          [
           0.25,
           "#6b1cfb"
          ],
          [
           0.3333333333333333,
           "#981cfd"
          ],
          [
           0.4166666666666667,
           "#bf1cfd"
          ],
          [
           0.5,
           "#dd2bfd"
          ],
          [
           0.5833333333333334,
           "#f246fe"
          ],
          [
           0.6666666666666666,
           "#fc67fd"
          ],
          [
           0.75,
           "#fe88fc"
          ],
          [
           0.8333333333333334,
           "#fea5fd"
          ],
          [
           0.9166666666666666,
           "#febefe"
          ],
          [
           1,
           "#fec3fe"
          ]
         ]
        },
        "legend": {
         "tracegroupgap": 0
        },
        "scene": {
         "domain": {
          "x": [
           0,
           1
          ],
          "y": [
           0,
           1
          ]
         },
         "xaxis": {
          "title": {
           "text": "x"
          }
         },
         "yaxis": {
          "title": {
           "text": "y"
          }
         },
         "zaxis": {
          "title": {
           "text": "z"
          }
         }
        },
        "template": {
         "data": {
          "bar": [
           {
            "error_x": {
             "color": "#2a3f5f"
            },
            "error_y": {
             "color": "#2a3f5f"
            },
            "marker": {
             "line": {
              "color": "#E5ECF6",
              "width": 0.5
             },
             "pattern": {
              "fillmode": "overlay",
              "size": 10,
              "solidity": 0.2
             }
            },
            "type": "bar"
           }
          ],
          "barpolar": [
           {
            "marker": {
             "line": {
              "color": "#E5ECF6",
              "width": 0.5
             },
             "pattern": {
              "fillmode": "overlay",
              "size": 10,
              "solidity": 0.2
             }
            },
            "type": "barpolar"
           }
          ],
          "carpet": [
           {
            "aaxis": {
             "endlinecolor": "#2a3f5f",
             "gridcolor": "white",
             "linecolor": "white",
             "minorgridcolor": "white",
             "startlinecolor": "#2a3f5f"
            },
            "baxis": {
             "endlinecolor": "#2a3f5f",
             "gridcolor": "white",
             "linecolor": "white",
             "minorgridcolor": "white",
             "startlinecolor": "#2a3f5f"
            },
            "type": "carpet"
           }
          ],
          "choropleth": [
           {
            "colorbar": {
             "outlinewidth": 0,
             "ticks": ""
            },
            "type": "choropleth"
           }
          ],
          "contour": [
           {
            "colorbar": {
             "outlinewidth": 0,
             "ticks": ""
            },
            "colorscale": [
             [
              0,
              "#0d0887"
             ],
             [
              0.1111111111111111,
              "#46039f"
             ],
             [
              0.2222222222222222,
              "#7201a8"
             ],
             [
              0.3333333333333333,
              "#9c179e"
             ],
             [
              0.4444444444444444,
              "#bd3786"
             ],
             [
              0.5555555555555556,
              "#d8576b"
             ],
             [
              0.6666666666666666,
              "#ed7953"
             ],
             [
              0.7777777777777778,
              "#fb9f3a"
             ],
             [
              0.8888888888888888,
              "#fdca26"
             ],
             [
              1,
              "#f0f921"
             ]
            ],
            "type": "contour"
           }
          ],
          "contourcarpet": [
           {
            "colorbar": {
             "outlinewidth": 0,
             "ticks": ""
            },
            "type": "contourcarpet"
           }
          ],
          "heatmap": [
           {
            "colorbar": {
             "outlinewidth": 0,
             "ticks": ""
            },
            "colorscale": [
             [
              0,
              "#0d0887"
             ],
             [
              0.1111111111111111,
              "#46039f"
             ],
             [
              0.2222222222222222,
              "#7201a8"
             ],
             [
              0.3333333333333333,
              "#9c179e"
             ],
             [
              0.4444444444444444,
              "#bd3786"
             ],
             [
              0.5555555555555556,
              "#d8576b"
             ],
             [
              0.6666666666666666,
              "#ed7953"
             ],
             [
              0.7777777777777778,
              "#fb9f3a"
             ],
             [
              0.8888888888888888,
              "#fdca26"
             ],
             [
              1,
              "#f0f921"
             ]
            ],
            "type": "heatmap"
           }
          ],
          "heatmapgl": [
           {
            "colorbar": {
             "outlinewidth": 0,
             "ticks": ""
            },
            "colorscale": [
             [
              0,
              "#0d0887"
             ],
             [
              0.1111111111111111,
              "#46039f"
             ],
             [
              0.2222222222222222,
              "#7201a8"
             ],
             [
              0.3333333333333333,
              "#9c179e"
             ],
             [
              0.4444444444444444,
              "#bd3786"
             ],
             [
              0.5555555555555556,
              "#d8576b"
             ],
             [
              0.6666666666666666,
              "#ed7953"
             ],
             [
              0.7777777777777778,
              "#fb9f3a"
             ],
             [
              0.8888888888888888,
              "#fdca26"
             ],
             [
              1,
              "#f0f921"
             ]
            ],
            "type": "heatmapgl"
           }
          ],
          "histogram": [
           {
            "marker": {
             "pattern": {
              "fillmode": "overlay",
              "size": 10,
              "solidity": 0.2
             }
            },
            "type": "histogram"
           }
          ],
          "histogram2d": [
           {
            "colorbar": {
             "outlinewidth": 0,
             "ticks": ""
            },
            "colorscale": [
             [
              0,
              "#0d0887"
             ],
             [
              0.1111111111111111,
              "#46039f"
             ],
             [
              0.2222222222222222,
              "#7201a8"
             ],
             [
              0.3333333333333333,
              "#9c179e"
             ],
             [
              0.4444444444444444,
              "#bd3786"
             ],
             [
              0.5555555555555556,
              "#d8576b"
             ],
             [
              0.6666666666666666,
              "#ed7953"
             ],
             [
              0.7777777777777778,
              "#fb9f3a"
             ],
             [
              0.8888888888888888,
              "#fdca26"
             ],
             [
              1,
              "#f0f921"
             ]
            ],
            "type": "histogram2d"
           }
          ],
          "histogram2dcontour": [
           {
            "colorbar": {
             "outlinewidth": 0,
             "ticks": ""
            },
            "colorscale": [
             [
              0,
              "#0d0887"
             ],
             [
              0.1111111111111111,
              "#46039f"
             ],
             [
              0.2222222222222222,
              "#7201a8"
             ],
             [
              0.3333333333333333,
              "#9c179e"
             ],
             [
              0.4444444444444444,
              "#bd3786"
             ],
             [
              0.5555555555555556,
              "#d8576b"
             ],
             [
              0.6666666666666666,
              "#ed7953"
             ],
             [
              0.7777777777777778,
              "#fb9f3a"
             ],
             [
              0.8888888888888888,
              "#fdca26"
             ],
             [
              1,
              "#f0f921"
             ]
            ],
            "type": "histogram2dcontour"
           }
          ],
          "mesh3d": [
           {
            "colorbar": {
             "outlinewidth": 0,
             "ticks": ""
            },
            "type": "mesh3d"
           }
          ],
          "parcoords": [
           {
            "line": {
             "colorbar": {
              "outlinewidth": 0,
              "ticks": ""
             }
            },
            "type": "parcoords"
           }
          ],
          "pie": [
           {
            "automargin": true,
            "type": "pie"
           }
          ],
          "scatter": [
           {
            "marker": {
             "colorbar": {
              "outlinewidth": 0,
              "ticks": ""
             }
            },
            "type": "scatter"
           }
          ],
          "scatter3d": [
           {
            "line": {
             "colorbar": {
              "outlinewidth": 0,
              "ticks": ""
             }
            },
            "marker": {
             "colorbar": {
              "outlinewidth": 0,
              "ticks": ""
             }
            },
            "type": "scatter3d"
           }
          ],
          "scattercarpet": [
           {
            "marker": {
             "colorbar": {
              "outlinewidth": 0,
              "ticks": ""
             }
            },
            "type": "scattercarpet"
           }
          ],
          "scattergeo": [
           {
            "marker": {
             "colorbar": {
              "outlinewidth": 0,
              "ticks": ""
             }
            },
            "type": "scattergeo"
           }
          ],
          "scattergl": [
           {
            "marker": {
             "colorbar": {
              "outlinewidth": 0,
              "ticks": ""
             }
            },
            "type": "scattergl"
           }
          ],
          "scattermapbox": [
           {
            "marker": {
             "colorbar": {
              "outlinewidth": 0,
              "ticks": ""
             }
            },
            "type": "scattermapbox"
           }
          ],
          "scatterpolar": [
           {
            "marker": {
             "colorbar": {
              "outlinewidth": 0,
              "ticks": ""
             }
            },
            "type": "scatterpolar"
           }
          ],
          "scatterpolargl": [
           {
            "marker": {
             "colorbar": {
              "outlinewidth": 0,
              "ticks": ""
             }
            },
            "type": "scatterpolargl"
           }
          ],
          "scatterternary": [
           {
            "marker": {
             "colorbar": {
              "outlinewidth": 0,
              "ticks": ""
             }
            },
            "type": "scatterternary"
           }
          ],
          "surface": [
           {
            "colorbar": {
             "outlinewidth": 0,
             "ticks": ""
            },
            "colorscale": [
             [
              0,
              "#0d0887"
             ],
             [
              0.1111111111111111,
              "#46039f"
             ],
             [
              0.2222222222222222,
              "#7201a8"
             ],
             [
              0.3333333333333333,
              "#9c179e"
             ],
             [
              0.4444444444444444,
              "#bd3786"
             ],
             [
              0.5555555555555556,
              "#d8576b"
             ],
             [
              0.6666666666666666,
              "#ed7953"
             ],
             [
              0.7777777777777778,
              "#fb9f3a"
             ],
             [
              0.8888888888888888,
              "#fdca26"
             ],
             [
              1,
              "#f0f921"
             ]
            ],
            "type": "surface"
           }
          ],
          "table": [
           {
            "cells": {
             "fill": {
              "color": "#EBF0F8"
             },
             "line": {
              "color": "white"
             }
            },
            "header": {
             "fill": {
              "color": "#C8D4E3"
             },
             "line": {
              "color": "white"
             }
            },
            "type": "table"
           }
          ]
         },
         "layout": {
          "annotationdefaults": {
           "arrowcolor": "#2a3f5f",
           "arrowhead": 0,
           "arrowwidth": 1
          },
          "autotypenumbers": "strict",
          "coloraxis": {
           "colorbar": {
            "outlinewidth": 0,
            "ticks": ""
           }
          },
          "colorscale": {
           "diverging": [
            [
             0,
             "#8e0152"
            ],
            [
             0.1,
             "#c51b7d"
            ],
            [
             0.2,
             "#de77ae"
            ],
            [
             0.3,
             "#f1b6da"
            ],
            [
             0.4,
             "#fde0ef"
            ],
            [
             0.5,
             "#f7f7f7"
            ],
            [
             0.6,
             "#e6f5d0"
            ],
            [
             0.7,
             "#b8e186"
            ],
            [
             0.8,
             "#7fbc41"
            ],
            [
             0.9,
             "#4d9221"
            ],
            [
             1,
             "#276419"
            ]
           ],
           "sequential": [
            [
             0,
             "#0d0887"
            ],
            [
             0.1111111111111111,
             "#46039f"
            ],
            [
             0.2222222222222222,
             "#7201a8"
            ],
            [
             0.3333333333333333,
             "#9c179e"
            ],
            [
             0.4444444444444444,
             "#bd3786"
            ],
            [
             0.5555555555555556,
             "#d8576b"
            ],
            [
             0.6666666666666666,
             "#ed7953"
            ],
            [
             0.7777777777777778,
             "#fb9f3a"
            ],
            [
             0.8888888888888888,
             "#fdca26"
            ],
            [
             1,
             "#f0f921"
            ]
           ],
           "sequentialminus": [
            [
             0,
             "#0d0887"
            ],
            [
             0.1111111111111111,
             "#46039f"
            ],
            [
             0.2222222222222222,
             "#7201a8"
            ],
            [
             0.3333333333333333,
             "#9c179e"
            ],
            [
             0.4444444444444444,
             "#bd3786"
            ],
            [
             0.5555555555555556,
             "#d8576b"
            ],
            [
             0.6666666666666666,
             "#ed7953"
            ],
            [
             0.7777777777777778,
             "#fb9f3a"
            ],
            [
             0.8888888888888888,
             "#fdca26"
            ],
            [
             1,
             "#f0f921"
            ]
           ]
          },
          "colorway": [
           "#636efa",
           "#EF553B",
           "#00cc96",
           "#ab63fa",
           "#FFA15A",
           "#19d3f3",
           "#FF6692",
           "#B6E880",
           "#FF97FF",
           "#FECB52"
          ],
          "font": {
           "color": "#2a3f5f"
          },
          "geo": {
           "bgcolor": "white",
           "lakecolor": "white",
           "landcolor": "#E5ECF6",
           "showlakes": true,
           "showland": true,
           "subunitcolor": "white"
          },
          "hoverlabel": {
           "align": "left"
          },
          "hovermode": "closest",
          "mapbox": {
           "style": "light"
          },
          "paper_bgcolor": "white",
          "plot_bgcolor": "#E5ECF6",
          "polar": {
           "angularaxis": {
            "gridcolor": "white",
            "linecolor": "white",
            "ticks": ""
           },
           "bgcolor": "#E5ECF6",
           "radialaxis": {
            "gridcolor": "white",
            "linecolor": "white",
            "ticks": ""
           }
          },
          "scene": {
           "xaxis": {
            "backgroundcolor": "#E5ECF6",
            "gridcolor": "white",
            "gridwidth": 2,
            "linecolor": "white",
            "showbackground": true,
            "ticks": "",
            "zerolinecolor": "white"
           },
           "yaxis": {
            "backgroundcolor": "#E5ECF6",
            "gridcolor": "white",
            "gridwidth": 2,
            "linecolor": "white",
            "showbackground": true,
            "ticks": "",
            "zerolinecolor": "white"
           },
           "zaxis": {
            "backgroundcolor": "#E5ECF6",
            "gridcolor": "white",
            "gridwidth": 2,
            "linecolor": "white",
            "showbackground": true,
            "ticks": "",
            "zerolinecolor": "white"
           }
          },
          "shapedefaults": {
           "line": {
            "color": "#2a3f5f"
           }
          },
          "ternary": {
           "aaxis": {
            "gridcolor": "white",
            "linecolor": "white",
            "ticks": ""
           },
           "baxis": {
            "gridcolor": "white",
            "linecolor": "white",
            "ticks": ""
           },
           "bgcolor": "#E5ECF6",
           "caxis": {
            "gridcolor": "white",
            "linecolor": "white",
            "ticks": ""
           }
          },
          "title": {
           "x": 0.05
          },
          "xaxis": {
           "automargin": true,
           "gridcolor": "white",
           "linecolor": "white",
           "ticks": "",
           "title": {
            "standoff": 15
           },
           "zerolinecolor": "white",
           "zerolinewidth": 2
          },
          "yaxis": {
           "automargin": true,
           "gridcolor": "white",
           "linecolor": "white",
           "ticks": "",
           "title": {
            "standoff": 15
           },
           "zerolinecolor": "white",
           "zerolinewidth": 2
          }
         }
        },
        "title": {
         "text": "Clustering of liver data using DBSCAN"
        }
       }
      }
     },
     "metadata": {},
     "output_type": "display_data"
    }
   ],
   "source": [
    "dbscan = DBSCAN(eps=1, min_samples=2)\n",
    "clusters = dbscan.fit_predict(reduced_data)\n",
    "# plot the cluster assignments\n",
    "fig = px.scatter_3d(reduced_data, x=reduced_data[:, 0], y=reduced_data[:, 1], z=reduced_data[:, 2],\n",
    "                    color=clusters, color_continuous_scale='Plotly3',\n",
    "                    title='Clustering of liver data using DBSCAN',)\n",
    "fig.show()"
   ]
  },
  {
   "cell_type": "code",
   "execution_count": 27,
   "metadata": {},
   "outputs": [
    {
     "name": "stdout",
     "output_type": "stream",
     "text": [
      "Homogeneity: 0.09817436598216324\n",
      "Completeness: 0.15881833206823637\n",
      "Adjusted Rand Index: 0.15871440279491728\n"
     ]
    }
   ],
   "source": [
    "# evaluate the clustering\n",
    "print(f'Homogeneity: {homogeneity_score(y_train.to_numpy().flatten(), clusters)}')\n",
    "print(f'Completeness: {completeness_score(y_train.to_numpy().flatten(), clusters)}')\n",
    "print(f'Adjusted Rand Index: {adjusted_rand_score(y_train.to_numpy().flatten(), clusters)}')"
   ]
  },
  {
   "attachments": {},
   "cell_type": "markdown",
   "metadata": {},
   "source": [
    "Still, these scores tell us that the clustering is not of high quality."
   ]
  },
  {
   "attachments": {},
   "cell_type": "markdown",
   "metadata": {},
   "source": [
    "# Use K-Nearest Neighbor and PCA to classify activity from phone measurements\n",
    "Finally, using the UCI activity recognition data set, we train two classifiers and compare their performance."
   ]
  },
  {
   "cell_type": "code",
   "execution_count": 28,
   "metadata": {},
   "outputs": [],
   "source": [
    "# Load UCI HAR Dataset\n",
    "X_train = pd.read_csv('project2/data/UCI HAR Dataset/train/X_train.txt', sep='\\s+', header=None)\n",
    "y_train = pd.read_csv('project2/data/UCI HAR Dataset/train/y_train.txt', sep='\\s+', header=None)\n",
    "X_test = pd.read_csv('project2/data/UCI HAR Dataset/test/X_test.txt', sep='\\s+', header=None)\n",
    "y_test = pd.read_csv('project2/data/UCI HAR Dataset/test/y_test.txt', sep='\\s+', header=None)\n",
    "\n",
    "# Merge train and test data and re-split into train and test with 75% train and 25% test\n",
    "X = pd.concat([X_train, X_test])\n",
    "y = pd.concat([y_train, y_test])\n",
    "X_train, X_test, y_train, y_test = train_test_split(X, y, test_size=0.25, random_state=0)\n"
   ]
  },
  {
   "cell_type": "code",
   "execution_count": 29,
   "metadata": {},
   "outputs": [
    {
     "name": "stderr",
     "output_type": "stream",
     "text": [
      "/Applications/anaconda3/lib/python3.8/site-packages/sklearn/neighbors/_classification.py:228: FutureWarning:\n",
      "\n",
      "Unlike other reduction functions (e.g. `skew`, `kurtosis`), the default behavior of `mode` typically preserves the axis it acts along. In SciPy 1.11.0, this behavior will change: the default value of `keepdims` will become False, the `axis` over which the statistic is taken will be eliminated, and the value None will no longer be accepted. Set `keepdims` to True or False to avoid this warning.\n",
      "\n"
     ]
    },
    {
     "name": "stdout",
     "output_type": "stream",
     "text": [
      "training score: 0.9801916105644743\n",
      "test score: 0.9681553398058252\n"
     ]
    },
    {
     "name": "stderr",
     "output_type": "stream",
     "text": [
      "/Applications/anaconda3/lib/python3.8/site-packages/sklearn/neighbors/_classification.py:228: FutureWarning:\n",
      "\n",
      "Unlike other reduction functions (e.g. `skew`, `kurtosis`), the default behavior of `mode` typically preserves the axis it acts along. In SciPy 1.11.0, this behavior will change: the default value of `keepdims` will become False, the `axis` over which the statistic is taken will be eliminated, and the value None will no longer be accepted. Set `keepdims` to True or False to avoid this warning.\n",
      "\n"
     ]
    }
   ],
   "source": [
    "# Build k-Nearst Neighbors classifier on the training data\n",
    "knn = KNeighborsClassifier(n_neighbors=5)\n",
    "knn.fit(X_train, y_train.to_numpy().ravel())\n",
    "print(f'training score: {knn.score(X_train, y_train)}')\n",
    "print(f'test score: {knn.score(X_test, y_test)}')\n"
   ]
  },
  {
   "cell_type": "code",
   "execution_count": 30,
   "metadata": {},
   "outputs": [
    {
     "name": "stdout",
     "output_type": "stream",
     "text": [
      "Mean: [ 0.27485682 -0.01804801 -0.10893692 -0.60471144 -0.50712232 -0.61050949\n",
      " -0.63053925 -0.52299668 -0.61232846 -0.46361789 -0.30331473 -0.56078686\n",
      "  0.52392734  0.38711323  0.59653613 -0.54892222 -0.82359121 -0.90200008\n",
      " -0.85400831 -0.68614661 -0.64187695 -0.63790093 -0.09570928 -0.12759217\n",
      " -0.15508421 -0.12048605  0.10873482 -0.03555604  0.12276875 -0.0320319\n",
      "  0.03478455  0.15301409 -0.01749757  0.00396974  0.03815427  0.0343004\n",
      " -0.08241367 -0.11913871 -0.1965712   0.09941128  0.66847622  0.00470753\n",
      "  0.0911893  -0.96532309 -0.95471246 -0.93889215 -0.96612017 -0.95568428\n",
      " -0.94021979  0.60822908 -0.00978221  0.09579842  0.68302532  0.01728674\n",
      "  0.07839253 -0.0992228   0.44477224 -0.71909397 -0.76465177 -0.96831894\n",
      " -0.95897598 -0.94486794 -0.67435841 -0.86745338 -0.66697084 -0.5055584\n",
      "  0.5442787  -0.58230505  0.61968994 -0.34162817  0.32834604 -0.35919674\n",
      "  0.40765717 -0.43036018  0.45572375 -0.48048611  0.50200256  0.17543436\n",
      " -0.11184531  0.08045124  0.07837844  0.00825574 -0.00448006 -0.63702122\n",
      " -0.60428745 -0.76129059 -0.63372319 -0.59043044 -0.75488187 -0.69805685\n",
      " -0.74496786 -0.81772161  0.61486667  0.68205732  0.73784234 -0.64406908\n",
      " -0.84890835 -0.82510392 -0.93022423 -0.62417324 -0.65715102 -0.7691362\n",
      " -0.07779282 -0.08332277 -0.12373441 -0.11041587  0.16838679  0.06619911\n",
      "  0.12600091 -0.07566437  0.07261071  0.17223338  0.31606537 -0.03444566\n",
      "  0.0878573  -0.00266211  0.13849165 -0.13565617  0.0056406   0.07794408\n",
      " -0.03138921 -0.07441017  0.08891379 -0.71871812 -0.68080314 -0.65141948\n",
      " -0.72399268 -0.69272698 -0.66512013 -0.64406085 -0.73697504 -0.48169737\n",
      "  0.63048573  0.7327855   0.55767384 -0.60030486 -0.90092591 -0.88375569\n",
      " -0.87262783 -0.72681872 -0.71544873 -0.71851421 -0.14098327 -0.09593119\n",
      " -0.05881187 -0.22616462  0.15086969  0.12663585 -0.0812932  -0.20671823\n",
      "  0.1710245  -0.04383641  0.14322393 -0.08799869  0.06932608 -0.01024531\n",
      "  0.14870748 -0.16755063  0.01473851 -0.10325595 -0.09631914 -0.04265542\n",
      " -0.0546955  -0.72881953 -0.78480959 -0.73724073 -0.72749658 -0.79528224\n",
      " -0.74393684 -0.74497375 -0.80857572 -0.740254    0.75846898  0.82988292\n",
      "  0.79773154 -0.76486812 -0.91585259 -0.93902106 -0.91817967 -0.73528686\n",
      " -0.80745715 -0.76367478 -0.01052172  0.02299321 -0.01167008 -0.07518563\n",
      "  0.04361967  0.15831803  0.1658383  -0.16464571  0.20113595  0.08053633\n",
      "  0.08339147 -0.03205121  0.05405723  0.08593389  0.03388696  0.03773155\n",
      "  0.05056354 -0.11336425 -0.54496909 -0.58843379 -0.64014297 -0.55580103\n",
      " -0.83611845 -0.54496909 -0.77550493 -0.70029296  0.13753236 -0.07207645\n",
      "  0.02578549  0.05820638 -0.05762786 -0.54496909 -0.58843379 -0.64014297\n",
      " -0.55580103 -0.83611845 -0.54496909 -0.77550493 -0.70029296  0.13753236\n",
      " -0.07207645  0.02578549  0.05820638 -0.05762786 -0.64652119 -0.62523149\n",
      " -0.64415627 -0.63698427 -0.78682854 -0.64652119 -0.84967009 -0.696727\n",
      " -0.05675931  0.07809097 -0.02895528 -0.08869331 -0.04360975 -0.60278567\n",
      " -0.66040212 -0.62793174 -0.6933262  -0.72919284 -0.60278567 -0.83396354\n",
      " -0.65195064  0.23938319 -0.02583386 -0.0681368   0.10761429 -0.05508426\n",
      " -0.7602427  -0.77651584 -0.79102356 -0.78341275 -0.80219861 -0.7602427\n",
      " -0.93115903 -0.8048973   0.13544045  0.28439163 -0.22551951 -0.05740209\n",
      " -0.10665122 -0.61981801 -0.53414406 -0.66265066 -0.60023188 -0.52569488\n",
      " -0.61540068 -0.58727551 -0.51900911 -0.62959048 -0.64894869 -0.65648628\n",
      " -0.63397838 -0.85578723 -0.87927353 -0.91327086 -0.55189159 -0.82408533\n",
      " -0.75087651 -0.83900157 -0.64980046 -0.64714231 -0.74497115 -0.19506278\n",
      " -0.17958046 -0.20067329 -0.75915872 -0.79562403 -0.84570569 -0.22442375\n",
      "  0.01549617  0.04401673 -0.13429135 -0.46384395 -0.27107631 -0.58537185\n",
      " -0.23821391 -0.4767198  -0.81619876 -0.88570512 -0.85785225 -0.89388143\n",
      " -0.91391628 -0.91221073 -0.94515055 -0.95570879 -0.8195961  -0.84635468\n",
      " -0.91329136 -0.94868941 -0.82231681 -0.88254817 -0.78726495 -0.84569483\n",
      " -0.85817243 -0.90122487 -0.89569846 -0.88168013 -0.9018724  -0.95106168\n",
      " -0.7576259  -0.83441004 -0.87839193 -0.91944417 -0.75348365 -0.88911331\n",
      " -0.85661974 -0.89840164 -0.92559282 -0.9616579  -0.96334274 -0.93760567\n",
      " -0.94135493 -0.95821216 -0.8526507  -0.93868997 -0.95409233 -0.94591935\n",
      " -0.84247101 -0.95951696 -0.65405791 -0.62569736 -0.74185451 -0.65237159\n",
      " -0.60835415 -0.77961033 -0.59213578 -0.6204689  -0.76297312 -0.70925005\n",
      " -0.67848108 -0.80012965 -0.88151021 -0.86063147 -0.88393055 -0.61725254\n",
      " -0.84872285 -0.82518955 -0.93025197 -0.63131355 -0.71743006 -0.76998257\n",
      " -0.26209282 -0.26022412 -0.36135353 -0.4145883  -0.39585189 -0.32508545\n",
      " -0.04947521 -0.21562461 -0.12576786 -0.3113693  -0.70967389 -0.39753657\n",
      " -0.82119078 -0.48775319 -0.81627489 -0.86634352 -0.88491417 -0.87328116\n",
      " -0.89716098 -0.92085966 -0.90191008 -0.94382408 -0.98442464 -0.86650741\n",
      " -0.85422043 -0.90648726 -0.94178582 -0.84458136 -0.86124745 -0.83373484\n",
      " -0.86720444 -0.83399892 -0.90669929 -0.91444015 -0.87580579 -0.9231505\n",
      " -0.97156374 -0.84042588 -0.83488739 -0.87740216 -0.92926185 -0.81083528\n",
      " -0.89415852 -0.89975295 -0.89855216 -0.93109843 -0.96319319 -0.9667844\n",
      " -0.94204658 -0.93174692 -0.97118097 -0.87763522 -0.9468192  -0.95708985\n",
      " -0.93193692 -0.89856959 -0.96082098 -0.66940215 -0.70433994 -0.6414044\n",
      " -0.73622621 -0.67239324 -0.68857305 -0.68520154 -0.7103046  -0.63844014\n",
      " -0.73301687 -0.73245416 -0.76276782 -0.93107131 -0.90032205 -0.90743899\n",
      " -0.65776384 -0.91451608 -0.88498433 -0.86902926 -0.70562587 -0.75225316\n",
      " -0.69415043 -0.08930612 -0.04230328 -0.14464318 -0.88036423 -0.80179082\n",
      " -0.80727334 -0.10330148 -0.17602227 -0.05277174 -0.1744713  -0.49174857\n",
      " -0.17703802 -0.53194807 -0.21205818 -0.53202077 -0.92844482 -0.90656583\n",
      " -0.91888723 -0.95862794 -0.94930498 -0.95170759 -0.96378637 -0.97516847\n",
      " -0.9189994  -0.91787947 -0.94518659 -0.96882278 -0.91596154 -0.95429692\n",
      " -0.87840291 -0.95694822 -0.95963784 -0.9669794  -0.97716207 -0.95774877\n",
      " -0.95214397 -0.97605527 -0.89012643 -0.952244   -0.97294214 -0.95599246\n",
      " -0.87859896 -0.96628927 -0.89923163 -0.93173076 -0.93057874 -0.96477921\n",
      " -0.97046454 -0.96000824 -0.95046774 -0.96890894 -0.88126312 -0.91675394\n",
      " -0.96754747 -0.95848557 -0.87249543 -0.96564001 -0.58306381 -0.65722192\n",
      " -0.59305664 -0.75520692 -0.89073532 -0.58306381 -0.82033291 -0.69238487\n",
      " -0.18516181 -0.75101341  0.0747062  -0.35243235 -0.63241802 -0.61823124\n",
      " -0.63756426 -0.61184445 -0.67997449 -0.80273598 -0.61823124 -0.83974326\n",
      " -0.67442702 -0.3344023  -0.87597922  0.17456367 -0.29644299 -0.59906188\n",
      " -0.69545849 -0.69813236 -0.67891975 -0.73336788 -0.88773958 -0.69545849\n",
      " -0.88057357 -0.72046331 -0.07243763 -0.88643456 -0.04251969 -0.26524747\n",
      " -0.57721721 -0.7784061  -0.79069995 -0.77184804 -0.80842953 -0.8701134\n",
      " -0.7784061  -0.93728943 -0.77102993 -0.27071087 -0.89842832  0.12688531\n",
      " -0.29944796 -0.61826723  0.00368187  0.00380028  0.01802447 -0.01212934\n",
      " -0.49580268  0.06240302 -0.05366009]\n",
      "Standard Deviation: [0.06864023 0.03781928 0.05237732 0.44010873 0.50035359 0.40322999\n",
      " 0.41494086 0.48400211 0.39866784 0.53935613 0.28039729 0.28270071\n",
      " 0.35639639 0.33962555 0.29082657 0.46214179 0.24919529 0.12670077\n",
      " 0.20403385 0.36139274 0.36814802 0.37236201 0.46030543 0.43300051\n",
      " 0.36724304 0.3073654  0.24702601 0.24641976 0.23077686 0.25577097\n",
      " 0.21470041 0.20830397 0.21908663 0.28136106 0.2158016  0.23717173\n",
      " 0.23073509 0.35639977 0.32652113 0.37697496 0.5156035  0.3804773\n",
      " 0.33370896 0.07858477 0.08493002 0.10206195 0.0771794  0.0838437\n",
      " 0.10102325 0.50930042 0.36819852 0.32920587 0.50715751 0.37797259\n",
      " 0.33598882 0.39186955 0.69789878 0.4585667  0.42232159 0.07312331\n",
      " 0.08032945 0.09647081 0.35968514 0.2799984  0.39325344 0.21566195\n",
      " 0.20898861 0.20717304 0.21016904 0.29498983 0.30075126 0.29278602\n",
      " 0.28394356 0.26604155 0.25718055 0.25113589 0.24767498 0.69404908\n",
      " 0.70507546 0.70097135 0.17663672 0.16576219 0.15567069 0.40972852\n",
      " 0.4344389  0.27827083 0.41501683 0.44758857 0.28414734 0.35967043\n",
      " 0.29571949 0.22419085 0.43469878 0.36016351 0.30726102 0.39393626\n",
      " 0.21626208 0.24458753 0.11869564 0.43106547 0.37616312 0.26729403\n",
      " 0.65190941 0.63227172 0.60818056 0.30348166 0.19228664 0.24071115\n",
      " 0.19545995 0.26947056 0.21759972 0.23800457 0.20175782 0.27277041\n",
      " 0.196129   0.22553028 0.23875232 0.25880388 0.29389659 0.27882492\n",
      " 0.18259557 0.13511568 0.13293088 0.30179039 0.35646727 0.37209354\n",
      " 0.29849599 0.34405227 0.36109664 0.27592858 0.26581726 0.30362475\n",
      " 0.25132152 0.21241518 0.30823936 0.40152985 0.14280585 0.1903306\n",
      " 0.18844001 0.30298834 0.32503317 0.31563779 0.45302803 0.37006973\n",
      " 0.45435697 0.27622739 0.2270516  0.22975296 0.23973446 0.20823136\n",
      " 0.1919118  0.22773596 0.21542984 0.31293574 0.28305033 0.26808266\n",
      " 0.25787572 0.38479108 0.38883134 0.41970104 0.12851854 0.11475089\n",
      " 0.13004718 0.30509135 0.27363019 0.30399205 0.30771012 0.25861984\n",
      " 0.29492825 0.29299606 0.2546735  0.30762489 0.2806513  0.22819458\n",
      " 0.24879015 0.27045553 0.13459516 0.1342886  0.13650567 0.30273028\n",
      " 0.24325751 0.27355176 0.56528765 0.54397298 0.58094474 0.25021365\n",
      " 0.18483894 0.21038923 0.21094974 0.21416566 0.16765021 0.19677751\n",
      " 0.24438313 0.34384349 0.23382645 0.24733759 0.2480459  0.27578162\n",
      " 0.2670863  0.26080119 0.46793679 0.43028731 0.3754104  0.46210188\n",
      " 0.19180876 0.46793679 0.28183239 0.31504492 0.6692666  0.28922898\n",
      " 0.23400347 0.25184042 0.26156502 0.46793679 0.43028731 0.3754104\n",
      " 0.46210188 0.19180876 0.46793679 0.28183239 0.31504492 0.6692666\n",
      " 0.28922898 0.23400347 0.25184042 0.26156502 0.39069595 0.41789084\n",
      " 0.39851726 0.40329663 0.2557851  0.39069595 0.20723765 0.34376659\n",
      " 0.72428729 0.2426798  0.24285288 0.23983871 0.25886451 0.39925777\n",
      " 0.3492086  0.38065129 0.3191914  0.31019429 0.39925777 0.220688\n",
      " 0.35831238 0.48183978 0.29777815 0.26723738 0.25159109 0.25013997\n",
      " 0.27764657 0.27261315 0.25175831 0.26876086 0.24723712 0.27764657\n",
      " 0.12307891 0.23235959 0.69256067 0.23873509 0.20933276 0.22960476\n",
      " 0.25016251 0.42202584 0.48231305 0.35905954 0.44827896 0.47978892\n",
      " 0.39825066 0.45907804 0.49672723 0.38968293 0.40664763 0.35340422\n",
      " 0.38792852 0.22714964 0.17950943 0.12868084 0.47259794 0.24906572\n",
      " 0.31339674 0.2254291  0.40049313 0.39145537 0.29068511 0.7231432\n",
      " 0.66667807 0.61158406 0.26379507 0.2453805  0.23642425 0.2651674\n",
      " 0.24127371 0.28253403 0.39961492 0.44046487 0.35503629 0.38373927\n",
      " 0.40258926 0.41406833 0.27003843 0.17863668 0.22632847 0.18048211\n",
      " 0.14246847 0.15079593 0.10367718 0.1168928  0.25921566 0.23897679\n",
      " 0.14038302 0.10430571 0.25207185 0.18870037 0.27307835 0.23883585\n",
      " 0.22123254 0.16774914 0.17456438 0.18950887 0.17003891 0.13075834\n",
      " 0.30771129 0.25322788 0.19270067 0.15187325 0.3106888  0.17651926\n",
      " 0.21380988 0.17597164 0.14333829 0.08167128 0.07904204 0.11640798\n",
      " 0.10993625 0.11173873 0.21102049 0.116062   0.09097144 0.10511047\n",
      " 0.22142066 0.08173516 0.39106817 0.40858797 0.29822269 0.39417683\n",
      " 0.43530214 0.2597561  0.46060129 0.41953962 0.27693311 0.33943981\n",
      " 0.36665514 0.24299457 0.18814216 0.21206542 0.17926705 0.42225498\n",
      " 0.21654884 0.24449492 0.11867182 0.42340491 0.31331144 0.26734245\n",
      " 0.74928476 0.73516493 0.63918087 0.32016296 0.2637749  0.29821605\n",
      " 0.29649288 0.27269531 0.27391366 0.25837734 0.21266492 0.19086986\n",
      " 0.14578664 0.19710144 0.14691946 0.21174048 0.17634053 0.20432837\n",
      " 0.17822111 0.1336798  0.16570928 0.10432004 0.05262751 0.19596386\n",
      " 0.2295905  0.1512375  0.10781968 0.22153301 0.22347067 0.23557679\n",
      " 0.20691802 0.25926205 0.16015204 0.14563129 0.20088192 0.12803147\n",
      " 0.08569004 0.23241726 0.25355506 0.19537952 0.11744223 0.26656974\n",
      " 0.16819617 0.16469793 0.17706478 0.13245166 0.07986355 0.0752461\n",
      " 0.11175201 0.13257509 0.0970643  0.19814778 0.10196224 0.08805528\n",
      " 0.13181907 0.16806872 0.0805227  0.35204302 0.3360819  0.3828885\n",
      " 0.286624   0.36879671 0.33637585 0.33465584 0.32628564 0.38542086\n",
      " 0.30550502 0.32400795 0.27289243 0.11352243 0.15735532 0.14114411\n",
      " 0.3622547  0.1307276  0.19120574 0.19753887 0.33551543 0.30502421\n",
      " 0.35374797 0.60973624 0.6090426  0.60312891 0.19105211 0.28987554\n",
      " 0.23567916 0.25501951 0.27261737 0.26412721 0.32198059 0.33934507\n",
      " 0.34730757 0.37741846 0.32966527 0.34524047 0.11847139 0.15735553\n",
      " 0.13927043 0.08396072 0.10698021 0.09364598 0.08194962 0.07222124\n",
      " 0.12627509 0.13979367 0.10838222 0.07593505 0.12904281 0.08894314\n",
      " 0.21559803 0.10370395 0.11252775 0.08757914 0.06246497 0.098216\n",
      " 0.11290493 0.0750017  0.18446064 0.12473961 0.06863042 0.10550541\n",
      " 0.20193456 0.0863742  0.16749689 0.13553141 0.13673703 0.07913963\n",
      " 0.06918867 0.08217301 0.10648985 0.09355401 0.18552532 0.15964977\n",
      " 0.07091429 0.09768807 0.19379994 0.07440657 0.4462268  0.35611799\n",
      " 0.43010291 0.25806889 0.16076266 0.4462268  0.24802838 0.34530392\n",
      " 0.67861522 0.26401019 0.26277391 0.3215982  0.31938772 0.42580042\n",
      " 0.40659486 0.43154217 0.37088611 0.26942558 0.42580042 0.2289296\n",
      " 0.36582018 0.66704539 0.19272674 0.25189122 0.36585272 0.35575385\n",
      " 0.32386295 0.3103773  0.33125008 0.28019045 0.16428498 0.32386295\n",
      " 0.18082677 0.3108643  0.60222655 0.16073568 0.28047187 0.32156088\n",
      " 0.31873649 0.26851085 0.26023747 0.28089135 0.24372052 0.19142418\n",
      " 0.26851085 0.13019859 0.27984837 0.62427401 0.14377873 0.24384758\n",
      " 0.3207346  0.30911449 0.33787773 0.44929946 0.61518827 0.48400297\n",
      " 0.51158112 0.30731936 0.26822337]\n",
      "Eigenvalues: [2.84408517e+02 3.53538913e+01 1.52097981e+01 1.37167391e+01\n",
      " 1.05421161e+01 9.20619094e+00 7.93906183e+00 6.72872725e+00\n",
      " 5.54422366e+00 5.39735608e+00 4.84609141e+00 4.48765299e+00\n",
      " 4.22661860e+00 3.82328006e+00 3.53060345e+00 3.49192175e+00\n",
      " 3.40055002e+00 3.23741289e+00 3.13337101e+00 2.99337162e+00\n",
      " 2.88887116e+00 2.81346312e+00 2.65950436e+00 2.62566247e+00\n",
      " 2.54055376e+00 2.45943330e+00 2.34881218e+00 2.29832740e+00\n",
      " 2.19307748e+00 2.13866009e+00 2.07225611e+00 2.04684663e+00\n",
      " 2.00346218e+00 1.95315316e+00 1.88639113e+00 1.84180989e+00\n",
      " 1.79584633e+00 1.69596291e+00 1.67479144e+00 1.61548019e+00\n",
      " 1.57166161e+00 1.53087257e+00 1.46970646e+00 1.44865270e+00\n",
      " 1.43945307e+00 1.39203301e+00 1.37678563e+00 1.34229033e+00\n",
      " 1.31773224e+00 1.29727267e+00 1.28891111e+00 1.23388862e+00\n",
      " 1.18811861e+00 1.18501847e+00 1.15220663e+00 1.12843135e+00\n",
      " 1.11043803e+00 1.09255241e+00 1.08498567e+00 1.06705235e+00\n",
      " 1.05675073e+00 1.02289423e+00 1.01119296e+00 9.94009856e-01\n",
      " 9.82996741e-01 9.62625157e-01 9.56920434e-01 9.42165069e-01\n",
      " 9.18408351e-01 9.12135138e-01 8.92783203e-01 8.72387074e-01\n",
      " 8.48816821e-01 8.40489109e-01 8.34026791e-01 8.17011707e-01\n",
      " 8.15869945e-01 7.95096406e-01 7.87937374e-01 7.80366720e-01\n",
      " 7.51048729e-01 7.41422679e-01 7.32454456e-01 7.21648335e-01\n",
      " 7.14925227e-01 6.88762470e-01 6.81207509e-01 6.78273254e-01\n",
      " 6.58339986e-01 6.54271832e-01 6.43335149e-01 6.23876129e-01\n",
      " 6.15358197e-01 6.13014700e-01 5.91807098e-01 5.88560302e-01\n",
      " 5.71383572e-01 5.66831651e-01 5.55495572e-01 5.46733201e-01\n",
      " 5.42489047e-01 5.28928658e-01 5.22383310e-01 5.09277909e-01\n",
      " 5.06582511e-01 4.99103002e-01 4.92739644e-01 4.89427407e-01\n",
      " 4.80294423e-01 4.73623029e-01 4.70549771e-01 4.53770061e-01\n",
      " 4.43177878e-01 4.35684451e-01 4.29905417e-01 4.22024662e-01\n",
      " 4.12379636e-01 4.04484132e-01 3.98677925e-01 3.89744111e-01\n",
      " 3.81440561e-01 3.76108818e-01 3.72711246e-01 3.62200638e-01\n",
      " 3.60088023e-01 3.51584578e-01 3.43914582e-01 3.41344039e-01\n",
      " 3.36043674e-01 3.31659891e-01 3.28678528e-01 3.19480322e-01\n",
      " 3.13751524e-01 3.04245037e-01 3.02173490e-01 2.99851345e-01\n",
      " 2.93230355e-01 2.90539986e-01 2.85505231e-01 2.83193875e-01\n",
      " 2.76193186e-01 2.72147920e-01 2.67008495e-01 2.64060054e-01\n",
      " 2.58219250e-01 2.55176241e-01 2.51265984e-01 2.47344068e-01\n",
      " 2.45360870e-01 2.42812818e-01 2.35719414e-01 2.31352946e-01\n",
      " 2.28773793e-01 2.25453164e-01 2.23206829e-01 2.20800494e-01\n",
      " 2.19771819e-01 2.17522126e-01 2.09687899e-01 2.08499022e-01\n",
      " 2.05557183e-01 2.00018440e-01 1.99641489e-01 1.94479880e-01\n",
      " 1.90526642e-01 1.88451267e-01 1.85267571e-01 1.71905670e-01\n",
      " 1.67712174e-01 1.63829618e-01 1.60900528e-01 1.50468376e-01\n",
      " 1.49007382e-01 1.41815129e-01 1.38736036e-01 1.36310332e-01\n",
      " 1.33646668e-01 1.31503375e-01 1.26434274e-01 1.21484685e-01\n",
      " 1.20454659e-01 1.18724388e-01 1.16723680e-01 1.13107862e-01\n",
      " 1.07401075e-01 1.05420323e-01 1.03650654e-01 1.01192665e-01\n",
      " 9.99321249e-02 9.54543888e-02 9.40141731e-02 9.04880194e-02\n",
      " 8.88958497e-02 8.69916039e-02 8.60126299e-02 8.40635870e-02\n",
      " 8.19412088e-02 7.91836037e-02 7.48069685e-02 7.38148286e-02\n",
      " 7.27202831e-02 7.17794212e-02 6.82720936e-02 6.62288225e-02\n",
      " 6.58329545e-02 6.17213193e-02 6.00712636e-02 5.88921822e-02\n",
      " 5.81624189e-02 5.67655669e-02 5.59940012e-02 5.50867832e-02\n",
      " 5.38016176e-02 5.28742484e-02 5.17440650e-02 5.09636610e-02\n",
      " 5.04933003e-02 4.94438712e-02 4.88894691e-02 4.83432186e-02\n",
      " 4.80414807e-02 4.63261718e-02 4.57204265e-02 4.50535049e-02\n",
      " 4.42113055e-02 4.31415670e-02 4.25005726e-02 4.18774279e-02\n",
      " 4.12938009e-02 4.05901723e-02 3.99244807e-02 3.93254748e-02\n",
      " 3.82937344e-02 3.76296758e-02 3.68416233e-02 3.65167236e-02\n",
      " 3.61865475e-02 3.59433928e-02 3.49212782e-02 3.44650127e-02\n",
      " 3.36222267e-02 3.34854776e-02 3.31212153e-02 3.24219224e-02\n",
      " 3.17586990e-02 3.10162018e-02 3.06440507e-02 3.02770176e-02\n",
      " 2.97453110e-02 2.91962082e-02 2.73901903e-02 2.73078893e-02\n",
      " 2.66854817e-02 2.63085625e-02 2.58762384e-02 2.53408526e-02\n",
      " 2.49968278e-02 2.45715705e-02 2.42476636e-02 2.36002731e-02\n",
      " 2.32809244e-02 2.29411747e-02 2.24111848e-02 2.16384902e-02\n",
      " 2.15202220e-02 2.10584644e-02 2.07834408e-02 2.06266308e-02\n",
      " 2.00705845e-02 1.96001255e-02 1.91784427e-02 1.89612116e-02\n",
      " 1.86364182e-02 1.83140214e-02 1.79736074e-02 1.73169559e-02\n",
      " 1.69997964e-02 1.67846263e-02 1.66422241e-02 1.62751973e-02\n",
      " 1.61864535e-02 1.59402316e-02 1.57410011e-02 1.54710718e-02\n",
      " 1.51525558e-02 1.49835574e-02 1.49655061e-02 1.48106931e-02\n",
      " 1.43216833e-02 1.41923603e-02 1.39649530e-02 1.37525472e-02\n",
      " 1.32503934e-02 1.31292575e-02 1.29740013e-02 1.27313991e-02\n",
      " 1.25398446e-02 1.23548494e-02 1.22411955e-02 1.18116609e-02\n",
      " 1.17304650e-02 1.14781859e-02 1.14076219e-02 1.12610362e-02\n",
      " 1.10944304e-02 1.07216971e-02 1.05314001e-02 1.04196541e-02\n",
      " 1.03760875e-02 1.00730697e-02 1.00613225e-02 9.93074965e-03\n",
      " 9.72569956e-03 9.67413794e-03 9.46116373e-03 9.22590758e-03\n",
      " 9.10834457e-03 9.05218846e-03 8.92626015e-03 8.82396906e-03\n",
      " 8.61089200e-03 8.48690484e-03 8.17725263e-03 8.14696905e-03\n",
      " 7.89265595e-03 7.83883896e-03 7.66849178e-03 7.43663123e-03\n",
      " 7.32057177e-03 7.23846589e-03 7.14411014e-03 7.05699318e-03\n",
      " 6.76111936e-03 6.58424856e-03 6.45507160e-03 6.41252854e-03\n",
      " 6.22243582e-03 6.19746450e-03 5.99207582e-03 5.83649742e-03\n",
      " 5.69769212e-03 5.56613037e-03 5.40702623e-03 5.26683418e-03\n",
      " 5.17049862e-03 5.15338172e-03 4.91524962e-03 4.71164728e-03\n",
      " 4.67228144e-03 4.61442354e-03 4.43526303e-03 4.39502115e-03\n",
      " 4.12688705e-03 4.03779250e-03 3.93154838e-03 3.82571194e-03\n",
      " 3.70304798e-03 3.64287118e-03 3.58516511e-03 3.37014278e-03\n",
      " 3.22239919e-03 3.09105362e-03 3.05870760e-03 2.96844073e-03\n",
      " 2.85707767e-03 2.73318519e-03 2.67643401e-03 2.62719010e-03\n",
      " 2.55162497e-03 2.50812399e-03 2.43575870e-03 2.37384931e-03\n",
      " 2.30904870e-03 2.24858165e-03 2.21062567e-03 2.17050819e-03\n",
      " 2.06521178e-03 2.03460134e-03 2.02150058e-03 1.95717197e-03\n",
      " 1.80979896e-03 1.75745587e-03 1.62138506e-03 1.51367152e-03\n",
      " 1.46108307e-03 1.44642280e-03 1.38124051e-03 1.27787124e-03\n",
      " 1.26621279e-03 1.25124178e-03 1.20939599e-03 1.18464039e-03\n",
      " 1.17647268e-03 1.11541688e-03 1.03153075e-03 9.74490890e-04\n",
      " 9.00479992e-04 8.52614526e-04 8.48975640e-04 8.08107096e-04\n",
      " 7.78346540e-04 7.54106626e-04 7.51621993e-04 7.27299842e-04\n",
      " 7.04854585e-04 5.83953076e-04 5.58364890e-04 5.50218694e-04\n",
      " 5.12008320e-04 5.04809098e-04 4.72661190e-04 4.67977069e-04\n",
      " 4.47782932e-04 4.36115964e-04 4.08246949e-04 4.06460932e-04\n",
      " 3.95919055e-04 3.88390850e-04 3.69926963e-04 3.60213190e-04\n",
      " 3.47491094e-04 3.40592039e-04 3.23546985e-04 3.15919550e-04\n",
      " 3.04995908e-04 2.92134071e-04 2.76842810e-04 2.57180132e-04\n",
      " 2.42656868e-04 2.36904561e-04 2.21673986e-04 2.10700792e-04\n",
      " 2.08302404e-04 2.03681402e-04 1.92758488e-04 1.81589106e-04\n",
      " 1.62768814e-04 1.56987096e-04 1.42247869e-04 1.30834638e-04\n",
      " 1.21805168e-04 1.14015026e-04 8.78205616e-05 4.20391480e-05\n",
      " 2.56194358e-05 2.31379974e-05 2.04685557e-05 1.74612006e-05\n",
      " 1.64078266e-05 1.53558642e-05 1.33983669e-05 1.26163748e-05\n",
      " 1.22979471e-05 9.50787397e-06 9.19583991e-06 7.14338117e-06\n",
      " 6.58930520e-06 6.34718825e-06 4.82331470e-06 4.35809980e-06\n",
      " 3.81484558e-06 3.44530330e-06 3.29635254e-06 2.50481053e-06\n",
      " 1.39515693e-07 8.02967914e-08 5.98455966e-08 2.09846790e-09\n",
      " 7.21509631e-10 1.44554839e-10 1.72708171e-15 1.61126925e-15\n",
      " 1.37456058e-15 1.31571002e-15 1.22220461e-15 1.19033348e-15\n",
      " 1.10605697e-15 1.06416157e-15 1.00711319e-15 9.90696653e-16\n",
      " 7.86011961e-16 7.47576622e-16 7.24650165e-16 7.05718988e-16\n",
      " 6.93860552e-16 6.86864145e-16 6.68484916e-16 5.66405514e-16\n",
      " 5.49116691e-16 5.34413280e-16 5.20073317e-16 5.11202492e-16\n",
      " 4.83705733e-16 4.76438148e-16 4.70188051e-16 4.51349564e-16\n",
      " 4.13991688e-16 3.82312122e-16 3.69649712e-16 3.56356659e-16\n",
      " 3.24370987e-16 3.07327452e-16 2.80170597e-16 2.66027295e-16\n",
      " 2.61373169e-16 2.51281165e-16 2.40037744e-16 2.35372742e-16\n",
      " 2.29066260e-16 2.22960710e-16 2.19665227e-16 2.14602098e-16\n",
      " 2.09068717e-16 2.06905086e-16 2.01173662e-16 1.98413218e-16\n",
      " 1.92468462e-16 1.89438547e-16 1.81889979e-16 1.74922263e-16\n",
      " 1.70785174e-16 1.65459657e-16 1.64733157e-16 1.55389289e-16\n",
      " 1.54030275e-16 1.52683528e-16 1.43794177e-16 1.35069821e-16\n",
      " 1.30766144e-16 1.25617591e-16 1.21863195e-16 1.16956525e-16\n",
      " 1.11753607e-16 1.09798526e-16 9.82139672e-17 7.90195049e-17\n",
      " 7.70218571e-17 5.80306972e-17 4.16756010e-17 3.26211398e-17\n",
      " 1.59295306e-30 1.59295306e-30 1.59295306e-30 1.59295306e-30\n",
      " 1.59295306e-30 1.59295306e-30 1.59295306e-30 1.59295306e-30\n",
      " 1.59295306e-30 1.59295306e-30 1.59295306e-30 1.59295306e-30\n",
      " 1.59295306e-30 1.59295306e-30 1.59295306e-30 1.59295306e-30\n",
      " 1.59295306e-30 1.59295306e-30 1.59295306e-30 6.67256613e-32\n",
      " 8.79878773e-33]\n",
      "Eigenvectors: \n",
      "[[-5.19741438e-04  2.71916058e-03  1.51620557e-03 ...  2.34878080e-02\n",
      "  -2.87661174e-02 -2.62742021e-02]\n",
      " [-1.57846562e-02 -1.09235526e-03  3.82104591e-03 ... -2.42925696e-02\n",
      "   3.99599492e-02  2.12483787e-02]\n",
      " [ 3.16645093e-02  6.53711602e-04 -7.88255003e-03 ... -9.46651509e-02\n",
      "   6.80697481e-02  5.01744821e-02]\n",
      " ...\n",
      " [ 0.00000000e+00 -4.12616834e-17 -1.70858229e-17 ...  5.47958039e-17\n",
      "   6.96088476e-17 -5.63943513e-17]\n",
      " [ 0.00000000e+00 -7.50962472e-16 -1.21735380e-15 ... -1.56187222e-14\n",
      "   3.21090799e-15 -1.12494669e-14]\n",
      " [ 0.00000000e+00  3.42352891e-17  2.57191200e-17 ... -4.06370260e-16\n",
      "  -1.18503171e-16 -2.53387502e-16]]\n",
      "(7724, 65)\n"
     ]
    },
    {
     "name": "stderr",
     "output_type": "stream",
     "text": [
      "/Applications/anaconda3/lib/python3.8/site-packages/sklearn/neighbors/_classification.py:228: FutureWarning:\n",
      "\n",
      "Unlike other reduction functions (e.g. `skew`, `kurtosis`), the default behavior of `mode` typically preserves the axis it acts along. In SciPy 1.11.0, this behavior will change: the default value of `keepdims` will become False, the `axis` over which the statistic is taken will be eliminated, and the value None will no longer be accepted. Set `keepdims` to True or False to avoid this warning.\n",
      "\n"
     ]
    },
    {
     "name": "stdout",
     "output_type": "stream",
     "text": [
      "training score: 0.9712584153288452\n",
      "test score: 0.9495145631067962\n"
     ]
    },
    {
     "name": "stderr",
     "output_type": "stream",
     "text": [
      "/Applications/anaconda3/lib/python3.8/site-packages/sklearn/neighbors/_classification.py:228: FutureWarning:\n",
      "\n",
      "Unlike other reduction functions (e.g. `skew`, `kurtosis`), the default behavior of `mode` typically preserves the axis it acts along. In SciPy 1.11.0, this behavior will change: the default value of `keepdims` will become False, the `axis` over which the statistic is taken will be eliminated, and the value None will no longer be accepted. Set `keepdims` to True or False to avoid this warning.\n",
      "\n"
     ]
    }
   ],
   "source": [
    "# Do PCA on the training data\n",
    "pca = PCA(data=X_train)\n",
    "pca.do_pca()\n",
    "knn_pca = KNeighborsClassifier(n_neighbors=5)\n",
    "X_train_projected = pca.transform(X_train, n_components=0.9)\n",
    "X_test_projected = pca.transform(X_test, n_components=0.9)\n",
    "print(X_train_projected.shape)\n",
    "knn_pca.fit(X_train_projected, y_train.to_numpy().ravel())\n",
    "\n",
    "print(f'training score: {knn_pca.score(X_train_projected, y_train)}')\n",
    "print(f'test score: {knn_pca.score(X_test_projected, y_test)}')"
   ]
  },
  {
   "attachments": {},
   "cell_type": "markdown",
   "metadata": {},
   "source": [
    "# References\n",
    "\n",
    "1. Charles Elkan. 2003. Using the triangle inequality to accelerate k-means. In Proceedings of the Twentieth International Conference on International Conference on Machine Learning (ICML'03). AAAI Press, 147–153. https://www.aaai.org/Papers/ICML/2003/ICML03-022.pdf\n",
    "2. https://www.analyticsvidhya.com/blog/2020/02/4-types-of-distance-metrics-in-machine-learning/\n",
    "3. https://en.wikipedia.org/wiki/Chebyshev_distance\n",
    "4. https://medium.com/swlh/euclidean-distance-matrix-4c3e1378d87f\n",
    "5. https://www.dabblingbadger.com/blog/2020/2/27/implementing-euclidean-distance-matrix-calculations-from-scratch-in-python\n",
    "6. https://medium.com/@muhammadammarabid01/k-nearest-neigbors-knn-basic-algorithm-from-scratch-in-python-8471b655a013\n",
    "7. https://machinelearningmastery.com/distance-measures-for-machine-learning/\n",
    "8. https://www.fmrib.ox.ac.uk/datasets/techrep/tr00mj2/tr00mj2/node24.html#:~:text=For%20the%20method%20proposed%20here,%3D%20n%20(IQR)%2F100.\n",
    "9. http://www.jtrive.com/determining-histogram-bin-width-using-the-freedman-diaconis-rule.html\n",
    "10. Ray, Siddheswar & Turi, Rose. (2000). Determination of Number of Clusters in K-Means Clustering and Application in Colour Image Segmentation. Proceedings of the 4th International Conference on Advances in Pattern Recognition and Digital Techniques (ICAPRDT'99). 1.\n",
    "11. https://www.statology.org/confusion-matrix-python/\n",
    "12. https://towardsdatascience.com/cosine-similarity-how-does-it-measure-the-similarity-maths-behind-and-usage-in-python-50ad30aad7db\n",
    "13. https://en.wikipedia.org/wiki/Minkowski_distance\n",
    "\n",
    "## Data Source\n",
    "1. Liver Disorders. (1990). UCI Machine Learning Repository. https://archive-beta.ics.uci.edu/dataset/60/liver+disorders\n",
    "2. https://archive.ics.uci.edu/ml/datasets/human+activity+recognition+using+smartphones"
   ]
  }
 ],
 "metadata": {
  "kernelspec": {
   "display_name": "base",
   "language": "python",
   "name": "python3"
  },
  "language_info": {
   "codemirror_mode": {
    "name": "ipython",
    "version": 3
   },
   "file_extension": ".py",
   "mimetype": "text/x-python",
   "name": "python",
   "nbconvert_exporter": "python",
   "pygments_lexer": "ipython3",
   "version": "3.8.13"
  },
  "orig_nbformat": 4,
  "vscode": {
   "interpreter": {
    "hash": "cd78fef2128015050713e82ca51c6520b11aee7c9ee8df750520bbbc7384cbaa"
   }
  }
 },
 "nbformat": 4,
 "nbformat_minor": 2
}
