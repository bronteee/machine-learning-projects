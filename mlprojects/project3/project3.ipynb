{
 "cells": [
  {
   "attachments": {},
   "cell_type": "markdown",
   "metadata": {},
   "source": [
    "Copyright © 2023 \"Bronte\" Sihan Li"
   ]
  },
  {
   "attachments": {},
   "cell_type": "markdown",
   "metadata": {},
   "source": [
    "## Introduction\n",
    "In this project, we will combine all the knowledge learned from previous lessons and implement some classic machine learning techniques to perform two-class classification on the heart disease prediction dataset.\n"
   ]
  },
  {
   "cell_type": "code",
   "execution_count": 2,
   "metadata": {},
   "outputs": [],
   "source": [
    "import os\n",
    "import pandas as pd\n",
    "import matplotlib.pyplot as plt\n",
    "import plotly.express as px\n",
    "import seaborn as sns\n",
    "from sklearn.preprocessing import StandardScaler\n",
    "os.chdir('..')\n",
    "from project3.utility.colors import color_list1\n",
    "from project1.utility.pca import PCA\n",
    "from prince import FAMD"
   ]
  },
  {
   "attachments": {},
   "cell_type": "markdown",
   "metadata": {},
   "source": [
    "## Pre-processing, Data Mining, and Visualization"
   ]
  },
  {
   "cell_type": "code",
   "execution_count": 3,
   "metadata": {},
   "outputs": [
    {
     "data": {
      "text/html": [
       "<div>\n",
       "<style scoped>\n",
       "    .dataframe tbody tr th:only-of-type {\n",
       "        vertical-align: middle;\n",
       "    }\n",
       "\n",
       "    .dataframe tbody tr th {\n",
       "        vertical-align: top;\n",
       "    }\n",
       "\n",
       "    .dataframe thead th {\n",
       "        text-align: right;\n",
       "    }\n",
       "</style>\n",
       "<table border=\"1\" class=\"dataframe\">\n",
       "  <thead>\n",
       "    <tr style=\"text-align: right;\">\n",
       "      <th></th>\n",
       "      <th>Age</th>\n",
       "      <th>Sex</th>\n",
       "      <th>ChestPainType</th>\n",
       "      <th>RestingBP</th>\n",
       "      <th>Cholesterol</th>\n",
       "      <th>FastingBS</th>\n",
       "      <th>RestingECG</th>\n",
       "      <th>MaxHR</th>\n",
       "      <th>ExerciseAngina</th>\n",
       "      <th>Oldpeak</th>\n",
       "      <th>ST_Slope</th>\n",
       "      <th>HeartDisease</th>\n",
       "    </tr>\n",
       "  </thead>\n",
       "  <tbody>\n",
       "    <tr>\n",
       "      <th>0</th>\n",
       "      <td>66</td>\n",
       "      <td>F</td>\n",
       "      <td>NAP</td>\n",
       "      <td>146</td>\n",
       "      <td>278</td>\n",
       "      <td>0</td>\n",
       "      <td>LVH</td>\n",
       "      <td>152</td>\n",
       "      <td>N</td>\n",
       "      <td>0.0</td>\n",
       "      <td>Flat</td>\n",
       "      <td>0</td>\n",
       "    </tr>\n",
       "    <tr>\n",
       "      <th>1</th>\n",
       "      <td>65</td>\n",
       "      <td>M</td>\n",
       "      <td>ASY</td>\n",
       "      <td>150</td>\n",
       "      <td>235</td>\n",
       "      <td>0</td>\n",
       "      <td>Normal</td>\n",
       "      <td>120</td>\n",
       "      <td>Y</td>\n",
       "      <td>1.5</td>\n",
       "      <td>Flat</td>\n",
       "      <td>1</td>\n",
       "    </tr>\n",
       "    <tr>\n",
       "      <th>2</th>\n",
       "      <td>63</td>\n",
       "      <td>M</td>\n",
       "      <td>ASY</td>\n",
       "      <td>150</td>\n",
       "      <td>223</td>\n",
       "      <td>0</td>\n",
       "      <td>Normal</td>\n",
       "      <td>115</td>\n",
       "      <td>N</td>\n",
       "      <td>0.0</td>\n",
       "      <td>Flat</td>\n",
       "      <td>1</td>\n",
       "    </tr>\n",
       "    <tr>\n",
       "      <th>3</th>\n",
       "      <td>58</td>\n",
       "      <td>M</td>\n",
       "      <td>ATA</td>\n",
       "      <td>136</td>\n",
       "      <td>164</td>\n",
       "      <td>0</td>\n",
       "      <td>ST</td>\n",
       "      <td>99</td>\n",
       "      <td>Y</td>\n",
       "      <td>2.0</td>\n",
       "      <td>Flat</td>\n",
       "      <td>1</td>\n",
       "    </tr>\n",
       "    <tr>\n",
       "      <th>4</th>\n",
       "      <td>54</td>\n",
       "      <td>M</td>\n",
       "      <td>ATA</td>\n",
       "      <td>192</td>\n",
       "      <td>283</td>\n",
       "      <td>0</td>\n",
       "      <td>LVH</td>\n",
       "      <td>195</td>\n",
       "      <td>N</td>\n",
       "      <td>0.0</td>\n",
       "      <td>Up</td>\n",
       "      <td>1</td>\n",
       "    </tr>\n",
       "  </tbody>\n",
       "</table>\n",
       "</div>"
      ],
      "text/plain": [
       "   Age Sex ChestPainType  RestingBP  Cholesterol  FastingBS RestingECG  MaxHR  \\\n",
       "0   66   F           NAP        146          278          0        LVH    152   \n",
       "1   65   M           ASY        150          235          0     Normal    120   \n",
       "2   63   M           ASY        150          223          0     Normal    115   \n",
       "3   58   M           ATA        136          164          0         ST     99   \n",
       "4   54   M           ATA        192          283          0        LVH    195   \n",
       "\n",
       "  ExerciseAngina  Oldpeak ST_Slope  HeartDisease  \n",
       "0              N      0.0     Flat             0  \n",
       "1              Y      1.5     Flat             1  \n",
       "2              N      0.0     Flat             1  \n",
       "3              Y      2.0     Flat             1  \n",
       "4              N      0.0       Up             1  "
      ]
     },
     "execution_count": 3,
     "metadata": {},
     "output_type": "execute_result"
    }
   ],
   "source": [
    "# Load training set\n",
    "train_data = pd.read_csv('project3/data/heart_train.csv')\n",
    "train_data.head()"
   ]
  },
  {
   "cell_type": "code",
   "execution_count": 4,
   "metadata": {},
   "outputs": [
    {
     "data": {
      "text/plain": [
       "1    403\n",
       "0    315\n",
       "Name: HeartDisease, dtype: int64"
      ]
     },
     "execution_count": 4,
     "metadata": {},
     "output_type": "execute_result"
    }
   ],
   "source": [
    "train_data['HeartDisease'].value_counts()"
   ]
  },
  {
   "attachments": {},
   "cell_type": "markdown",
   "metadata": {},
   "source": [
    "### Initial Visualization\n",
    "As we can see here, there are both numerical and categorical features here. Let's take a look at the value ranges for each variable."
   ]
  },
  {
   "cell_type": "code",
   "execution_count": 6,
   "metadata": {},
   "outputs": [
    {
     "name": "stdout",
     "output_type": "stream",
     "text": [
      "Age [66 65 63 58 54 38 51 62 55 52 46 60 59 36 43 41 47 49 45 53 40 61 57 64\n",
      " 69 74 75 33 56 35 39 37 50 32 42 76 28 34 72 71 48 44 70 30 67 68 31 77\n",
      " 29]\n",
      "Sex ['F' 'M']\n",
      "M    575\n",
      "F    143\n",
      "Name: Sex, dtype: int64\n",
      "ChestPainType ['NAP' 'ASY' 'ATA' 'TA']\n",
      "ASY    389\n",
      "NAP    154\n",
      "ATA    136\n",
      "TA      39\n",
      "Name: ChestPainType, dtype: int64\n",
      "RestingBP [146 150 136 192 105 100 130 110 140 120 115 112 155 134 125 160 106 200\n",
      " 142 154 145 104 156 135  80 148 122 118 124 137  95 152 132 126 131 172\n",
      " 128 170 138 133 114 174 180 108 141 144 101 139 178 190 165 158 143  92\n",
      " 123  96 102 164 127 117 113   0 185]\n",
      "Cholesterol [278 235 223 164 283   0 213 224 203 214 100 230 284 293 169 308 204 267\n",
      " 315 268 211 271 253 237 212 246 264 254 240 177 186 210 247 276 231 338\n",
      " 303 216 208 173 201 310 298 274 192 225 289 219 160 207 185 281 341 245\n",
      " 282 295 257 197 312 132 233 221 238 417 152 297 199 184 161 123 180 412\n",
      " 262 306 232 342 159 258 458 249 327 181 209 260 166 248 266 141 222 234\n",
      " 182 218 318 564 518 316 294 275 242 299 286 190 226 335 239 270 202 309\n",
      " 220 325 229 355 227 305 243 319 198 205 178 194 273 193 261 196 277 188\n",
      " 163 244 167 228 156 217 195 265 139 336 328 259 256 215 269 241 126 300\n",
      " 322 263 285 287 236 290 170 157 147 529 288 172 171 252 304 320 117 313\n",
      " 292 388 291 326 250 168 179 280 206 174 603 321 339 272 176 353 344 354\n",
      " 404 110 149 333 200 183 468 384 311 142 187 307 385 393 392 394 175 165\n",
      " 131 255 337]\n",
      "FastingBS [0 1]\n",
      "RestingECG ['LVH' 'Normal' 'ST']\n",
      "Normal    437\n",
      "LVH       144\n",
      "ST        137\n",
      "Name: RestingECG, dtype: int64\n",
      "MaxHR [152 120 115  99 195 166 110 150 123  78 180 138 118 170 140  72 172 160\n",
      " 162 161 179 168 116 132 147  88  80  70 154  96 112 130 181 182 131 108\n",
      " 148 119 165 185  98 127 141 174 105 117 156 155 125 126 157 136 135 145\n",
      " 111 143 142 104 128 144 106  90  94 146 190 121 129  87 149 164 139 100\n",
      "  69 163 109 175 133 122 184 124  92  91 173  86 107 158 188 176 178 171\n",
      " 167 113 134 114 102 103 137 169  84  82 177 153  95  67 159 202  71  73\n",
      " 186 187 151  97]\n",
      "ExerciseAngina ['N' 'Y']\n",
      "N    429\n",
      "Y    289\n",
      "Name: ExerciseAngina, dtype: int64\n",
      "Oldpeak [ 0.   1.5  2.   2.8  1.2  0.4 -0.5  3.   1.9  1.   1.4  2.2  0.6  3.6\n",
      "  3.8  1.8 -2.   0.5  2.5  2.4  0.7  1.1  6.2  0.1  2.3  1.6 -1.5  0.8\n",
      "  2.1  3.4  3.7  1.7  1.3 -0.7  0.2 -1.   0.3  4.   3.2  4.2  0.9  5.6\n",
      " -0.8  2.6 -0.1 -2.6  3.1 -1.1  4.4  3.5 -0.9  5. ]\n",
      "ST_Slope ['Flat' 'Up' 'Down']\n",
      "Flat    363\n",
      "Up      303\n",
      "Down     52\n",
      "Name: ST_Slope, dtype: int64\n"
     ]
    }
   ],
   "source": [
    "NUMERICAL_COLS = []\n",
    "CATEGORICAL_COLS = []\n",
    "for col in train_data.drop(columns=['HeartDisease']).columns:\n",
    "    print(col, train_data[col].unique())\n",
    "    if type(train_data[col].unique()[0]) == str:\n",
    "        print(train_data[col].value_counts())\n",
    "        CATEGORICAL_COLS.append(col)\n",
    "    else:\n",
    "        NUMERICAL_COLS.append(col)\n"
   ]
  },
  {
   "attachments": {},
   "cell_type": "markdown",
   "metadata": {},
   "source": [
    "There are a few observations we can draw:\n",
    "* There are some missing values (0) in `RestingBP` and `Cholesterol`\n",
    "* `FastingBS` is a categorical feature\n",
    "* Each numerical feature is on a different scale"
   ]
  },
  {
   "cell_type": "code",
   "execution_count": 7,
   "metadata": {},
   "outputs": [],
   "source": [
    "# Move \"fasting blood sugar\" to categorical\n",
    "NUMERICAL_COLS.remove('FastingBS')\n",
    "CATEGORICAL_COLS.append('FastingBS')\n",
    "\n",
    "# Replace missing values with mean\n",
    "for col in ['Cholesterol', 'RestingBP']:\n",
    "    train_data[col].replace(to_replace=0, value=train_data[col].mean(), inplace=True)"
   ]
  },
  {
   "attachments": {},
   "cell_type": "markdown",
   "metadata": {},
   "source": [
    "Now that we have a better idea of what our variables are like, let's plot each of them."
   ]
  },
  {
   "cell_type": "code",
   "execution_count": 8,
   "metadata": {},
   "outputs": [
    {
     "data": {
      "image/png": "[encoded data removed]",
      "text/plain": [
       "<Figure size 1500x1000 with 5 Axes>"
      ]
     },
     "metadata": {},
     "output_type": "display_data"
    }
   ],
   "source": [
    "font_dict = {'family': 'monospace', 'color': 'black', 'size': 16}\n",
    "# Plot histograms of categorical columns\n",
    "fig, axes = plt.subplots(2, 3, figsize=(15, 10))\n",
    "for i, col in enumerate(NUMERICAL_COLS):\n",
    "    ax = axes[i // 3, i % 3]\n",
    "    ax.hist(train_data[col], color=color_list1[i])\n",
    "    ax.set_title(col, fontdict=font_dict)\n",
    "    ax.text(0.5, 0.9, f'Mean: {train_data[col].mean():.2f}', transform=ax.transAxes, fontdict=font_dict)\n",
    "    ax.tick_params(left=False, bottom=False)\n",
    "# Remove empty axes\n",
    "fig.delaxes(axes[1][2])\n",
    "plt.tight_layout()\n",
    "plt.show()"
   ]
  },
  {
   "cell_type": "code",
   "execution_count": 9,
   "metadata": {},
   "outputs": [
    {
     "data": {
      "image/png": "[encoded data removed]",
      "text/plain": [
       "<Figure size 1500x1000 with 5 Axes>"
      ]
     },
     "metadata": {},
     "output_type": "display_data"
    }
   ],
   "source": [
    "# Plot violin plots of numerical columns against HeartDisease\n",
    "fig, axes = plt.subplots(2, 3, figsize=(15, 10))\n",
    "for i, col in enumerate(NUMERICAL_COLS):\n",
    "    ax = axes[i // 3, i % 3]\n",
    "    ax.violinplot([train_data[train_data['HeartDisease'] == 0][col], train_data[train_data['HeartDisease'] == 1][col]], showmeans=True)\n",
    "    ax.set_title(col, fontdict=font_dict)\n",
    "    ax.set_xticks([1, 2])\n",
    "    ax.set_xticklabels(['No', 'Yes'])\n",
    "    ax.tick_params(left=False, bottom=False)\n",
    "# Remove empty axes\n",
    "fig.delaxes(axes[1][2])\n",
    "plt.tight_layout()\n"
   ]
  },
  {
   "attachments": {},
   "cell_type": "markdown",
   "metadata": {},
   "source": [
    "As we mentioned, each of our numerical variables are on a different scale, so now we will standardize our data."
   ]
  },
  {
   "cell_type": "code",
   "execution_count": 10,
   "metadata": {},
   "outputs": [],
   "source": [
    "# Normalize numerical columns with standard scaler\n",
    "sc = StandardScaler()\n",
    "train_data[NUMERICAL_COLS] = sc.fit_transform(train_data[NUMERICAL_COLS])"
   ]
  },
  {
   "attachments": {},
   "cell_type": "markdown",
   "metadata": {},
   "source": [
    "Now we can look for correlations in our numerical features and visualize with a heatmap:"
   ]
  },
  {
   "cell_type": "code",
   "execution_count": 11,
   "metadata": {},
   "outputs": [
    {
     "data": {
      "text/plain": [
       "<AxesSubplot:>"
      ]
     },
     "execution_count": 11,
     "metadata": {},
     "output_type": "execute_result"
    },
    {
     "data": {
      "image/png": "[encoded data removed]",
      "text/plain": [
       "<Figure size 640x480 with 2 Axes>"
      ]
     },
     "metadata": {},
     "output_type": "display_data"
    }
   ],
   "source": [
    "# Compute correlation confusion matrix of numerical columns with Spearman correlation\n",
    "corr_matrix = train_data[NUMERICAL_COLS].corr(method='spearman')\n",
    "# Plot correlation confusion matrix with heatmap\n",
    "sns.heatmap(corr_matrix, cmap='magma', annot=True)\n"
   ]
  },
  {
   "cell_type": "code",
   "execution_count": 12,
   "metadata": {},
   "outputs": [
    {
     "data": {
      "image/png": "[encoded data removed]",
      "text/plain": [
       "<Figure size 1500x1000 with 6 Axes>"
      ]
     },
     "metadata": {},
     "output_type": "display_data"
    }
   ],
   "source": [
    "# Plot bar charts of categorical columns against target\n",
    "fig, axes = plt.subplots(2, 3, figsize=(15, 10))\n",
    "for i, col in enumerate(CATEGORICAL_COLS):\n",
    "    ax = axes[i // 3, i % 3]\n",
    "    # Stacked bar chart\n",
    "    ax.bar(train_data[col].unique(), train_data[train_data['HeartDisease']==0][col].value_counts(), label='No', color=[color_list1[0]])\n",
    "    ax.bar(train_data[col].unique(), train_data[train_data['HeartDisease']==1][col].value_counts(), label='Yes',\n",
    "           bottom=train_data[train_data['HeartDisease']==0][col].value_counts(), color=[color_list1[1]])\n",
    "    ax.set_title(col, fontdict=font_dict)\n",
    "    ax.tick_params(left=False, bottom=False)\n",
    "    ax.legend()\n",
    "plt.tight_layout()\n",
    "plt.show()"
   ]
  },
  {
   "attachments": {},
   "cell_type": "markdown",
   "metadata": {},
   "source": [
    "### Apply One-Hot Encoding Transformation"
   ]
  },
  {
   "cell_type": "code",
   "execution_count": 13,
   "metadata": {},
   "outputs": [
    {
     "data": {
      "text/html": [
       "<div>\n",
       "<style scoped>\n",
       "    .dataframe tbody tr th:only-of-type {\n",
       "        vertical-align: middle;\n",
       "    }\n",
       "\n",
       "    .dataframe tbody tr th {\n",
       "        vertical-align: top;\n",
       "    }\n",
       "\n",
       "    .dataframe thead th {\n",
       "        text-align: right;\n",
       "    }\n",
       "</style>\n",
       "<table border=\"1\" class=\"dataframe\">\n",
       "  <thead>\n",
       "    <tr style=\"text-align: right;\">\n",
       "      <th></th>\n",
       "      <th>Age</th>\n",
       "      <th>RestingBP</th>\n",
       "      <th>Cholesterol</th>\n",
       "      <th>MaxHR</th>\n",
       "      <th>Oldpeak</th>\n",
       "      <th>HeartDisease</th>\n",
       "      <th>Sex_F</th>\n",
       "      <th>Sex_M</th>\n",
       "      <th>ChestPainType_ASY</th>\n",
       "      <th>ChestPainType_ATA</th>\n",
       "      <th>...</th>\n",
       "      <th>RestingECG_LVH</th>\n",
       "      <th>RestingECG_Normal</th>\n",
       "      <th>RestingECG_ST</th>\n",
       "      <th>ExerciseAngina_N</th>\n",
       "      <th>ExerciseAngina_Y</th>\n",
       "      <th>ST_Slope_Down</th>\n",
       "      <th>ST_Slope_Flat</th>\n",
       "      <th>ST_Slope_Up</th>\n",
       "      <th>FastingBS_0</th>\n",
       "      <th>FastingBS_1</th>\n",
       "    </tr>\n",
       "  </thead>\n",
       "  <tbody>\n",
       "    <tr>\n",
       "      <th>0</th>\n",
       "      <td>1.350090</td>\n",
       "      <td>0.750995</td>\n",
       "      <td>0.792316</td>\n",
       "      <td>0.610516</td>\n",
       "      <td>-0.820203</td>\n",
       "      <td>0</td>\n",
       "      <td>1</td>\n",
       "      <td>0</td>\n",
       "      <td>0</td>\n",
       "      <td>0</td>\n",
       "      <td>...</td>\n",
       "      <td>1</td>\n",
       "      <td>0</td>\n",
       "      <td>0</td>\n",
       "      <td>1</td>\n",
       "      <td>0</td>\n",
       "      <td>0</td>\n",
       "      <td>1</td>\n",
       "      <td>0</td>\n",
       "      <td>1</td>\n",
       "      <td>0</td>\n",
       "    </tr>\n",
       "    <tr>\n",
       "      <th>1</th>\n",
       "      <td>1.243824</td>\n",
       "      <td>0.974744</td>\n",
       "      <td>0.026594</td>\n",
       "      <td>-0.666892</td>\n",
       "      <td>0.566545</td>\n",
       "      <td>1</td>\n",
       "      <td>0</td>\n",
       "      <td>1</td>\n",
       "      <td>1</td>\n",
       "      <td>0</td>\n",
       "      <td>...</td>\n",
       "      <td>0</td>\n",
       "      <td>1</td>\n",
       "      <td>0</td>\n",
       "      <td>0</td>\n",
       "      <td>1</td>\n",
       "      <td>0</td>\n",
       "      <td>1</td>\n",
       "      <td>0</td>\n",
       "      <td>1</td>\n",
       "      <td>0</td>\n",
       "    </tr>\n",
       "    <tr>\n",
       "      <th>2</th>\n",
       "      <td>1.031290</td>\n",
       "      <td>0.974744</td>\n",
       "      <td>-0.187096</td>\n",
       "      <td>-0.866487</td>\n",
       "      <td>-0.820203</td>\n",
       "      <td>1</td>\n",
       "      <td>0</td>\n",
       "      <td>1</td>\n",
       "      <td>1</td>\n",
       "      <td>0</td>\n",
       "      <td>...</td>\n",
       "      <td>0</td>\n",
       "      <td>1</td>\n",
       "      <td>0</td>\n",
       "      <td>1</td>\n",
       "      <td>0</td>\n",
       "      <td>0</td>\n",
       "      <td>1</td>\n",
       "      <td>0</td>\n",
       "      <td>1</td>\n",
       "      <td>0</td>\n",
       "    </tr>\n",
       "    <tr>\n",
       "      <th>3</th>\n",
       "      <td>0.499957</td>\n",
       "      <td>0.191621</td>\n",
       "      <td>-1.237739</td>\n",
       "      <td>-1.505191</td>\n",
       "      <td>1.028795</td>\n",
       "      <td>1</td>\n",
       "      <td>0</td>\n",
       "      <td>1</td>\n",
       "      <td>0</td>\n",
       "      <td>1</td>\n",
       "      <td>...</td>\n",
       "      <td>0</td>\n",
       "      <td>0</td>\n",
       "      <td>1</td>\n",
       "      <td>0</td>\n",
       "      <td>1</td>\n",
       "      <td>0</td>\n",
       "      <td>1</td>\n",
       "      <td>0</td>\n",
       "      <td>1</td>\n",
       "      <td>0</td>\n",
       "    </tr>\n",
       "    <tr>\n",
       "      <th>4</th>\n",
       "      <td>0.074890</td>\n",
       "      <td>3.324112</td>\n",
       "      <td>0.881354</td>\n",
       "      <td>2.327033</td>\n",
       "      <td>-0.820203</td>\n",
       "      <td>1</td>\n",
       "      <td>0</td>\n",
       "      <td>1</td>\n",
       "      <td>0</td>\n",
       "      <td>1</td>\n",
       "      <td>...</td>\n",
       "      <td>1</td>\n",
       "      <td>0</td>\n",
       "      <td>0</td>\n",
       "      <td>1</td>\n",
       "      <td>0</td>\n",
       "      <td>0</td>\n",
       "      <td>0</td>\n",
       "      <td>1</td>\n",
       "      <td>1</td>\n",
       "      <td>0</td>\n",
       "    </tr>\n",
       "  </tbody>\n",
       "</table>\n",
       "<p>5 rows × 22 columns</p>\n",
       "</div>"
      ],
      "text/plain": [
       "        Age  RestingBP  Cholesterol     MaxHR   Oldpeak  HeartDisease  Sex_F  \\\n",
       "0  1.350090   0.750995     0.792316  0.610516 -0.820203             0      1   \n",
       "1  1.243824   0.974744     0.026594 -0.666892  0.566545             1      0   \n",
       "2  1.031290   0.974744    -0.187096 -0.866487 -0.820203             1      0   \n",
       "3  0.499957   0.191621    -1.237739 -1.505191  1.028795             1      0   \n",
       "4  0.074890   3.324112     0.881354  2.327033 -0.820203             1      0   \n",
       "\n",
       "   Sex_M  ChestPainType_ASY  ChestPainType_ATA  ...  RestingECG_LVH  \\\n",
       "0      0                  0                  0  ...               1   \n",
       "1      1                  1                  0  ...               0   \n",
       "2      1                  1                  0  ...               0   \n",
       "3      1                  0                  1  ...               0   \n",
       "4      1                  0                  1  ...               1   \n",
       "\n",
       "   RestingECG_Normal  RestingECG_ST  ExerciseAngina_N  ExerciseAngina_Y  \\\n",
       "0                  0              0                 1                 0   \n",
       "1                  1              0                 0                 1   \n",
       "2                  1              0                 1                 0   \n",
       "3                  0              1                 0                 1   \n",
       "4                  0              0                 1                 0   \n",
       "\n",
       "   ST_Slope_Down  ST_Slope_Flat  ST_Slope_Up  FastingBS_0  FastingBS_1  \n",
       "0              0              1            0            1            0  \n",
       "1              0              1            0            1            0  \n",
       "2              0              1            0            1            0  \n",
       "3              0              1            0            1            0  \n",
       "4              0              0            1            1            0  \n",
       "\n",
       "[5 rows x 22 columns]"
      ]
     },
     "execution_count": 13,
     "metadata": {},
     "output_type": "execute_result"
    }
   ],
   "source": [
    "# Apply one-hot encoding to categorical columns\n",
    "train_data_dummies = pd.get_dummies(train_data, columns=CATEGORICAL_COLS)\n",
    "train_data_dummies.head()"
   ]
  },
  {
   "cell_type": "code",
   "execution_count": 14,
   "metadata": {},
   "outputs": [
    {
     "data": {
      "application/vnd.plotly.v1+json": {
       "config": {
        "plotlyServerURL": "https://plot.ly"
       },
       "data": [
        {
         "hovertemplate": "0=%{x}<br>1=%{y}<br>color=%{marker.color}<extra></extra>",
         "legendgroup": "",
         "marker": {
          "color": [
           0,
           1,
           1,
           1,
           1,
           1,
           0,
           0,
           1,
           1,
           0,
           0,
           0,
           0,
           1,
           0,
           1,
           1,
           0,
           1,
           0,
           0,
           1,
           0,
           0,
           0,
           0,
           1,
           1,
           1,
           1,
           1,
           0,
           1,
           1,
           1,
           0,
           1,
           1,
           0,
           1,
           1,
           1,
           1,
           1,
           1,
           0,
           0,
           1,
           0,
           1,
           1,
           0,
           1,
           0,
           0,
           0,
           0,
           1,
           1,
           1,
           0,
           1,
           0,
           1,
           1,
           1,
           1,
           1,
           1,
           1,
           1,
           1,
           0,
           1,
           1,
           0,
           1,
           1,
           0,
           0,
           0,
           0,
           1,
           0,
           0,
           1,
           0,
           0,
           1,
           0,
           0,
           1,
           1,
           1,
           1,
           0,
           1,
           0,
           0,
           0,
           1,
           1,
           0,
           1,
           0,
           1,
           0,
           1,
           0,
           1,
           0,
           1,
           0,
           1,
           0,
           1,
           0,
           1,
           1,
           0,
           0,
           1,
           1,
           1,
           1,
           1,
           0,
           0,
           0,
           0,
           1,
           1,
           1,
           0,
           0,
           0,
           0,
           1,
           1,
           0,
           0,
           1,
           1,
           1,
           1,
           1,
           0,
           0,
           1,
           0,
           0,
           1,
           0,
           0,
           1,
           0,
           0,
           0,
           1,
           1,
           0,
           1,
           1,
           0,
           1,
           0,
           1,
           1,
           1,
           1,
           0,
           0,
           0,
           1,
           1,
           1,
           1,
           0,
           1,
           1,
           1,
           0,
           0,
           0,
           1,
           0,
           1,
           0,
           1,
           1,
           0,
           1,
           1,
           1,
           1,
           1,
           1,
           1,
           1,
           1,
           1,
           0,
           0,
           0,
           0,
           0,
           1,
           1,
           1,
           0,
           1,
           1,
           0,
           0,
           1,
           1,
           1,
           1,
           0,
           0,
           1,
           0,
           1,
           1,
           0,
           1,
           0,
           0,
           0,
           1,
           1,
           0,
           0,
           1,
           1,
           0,
           0,
           0,
           0,
           0,
           1,
           0,
           1,
           0,
           1,
           0,
           1,
           1,
           0,
           0,
           0,
           1,
           1,
           1,
           1,
           0,
           0,
           0,
           1,
           1,
           0,
           1,
           0,
           1,
           0,
           1,
           0,
           1,
           1,
           1,
           1,
           1,
           1,
           1,
           1,
           0,
           0,
           0,
           1,
           0,
           1,
           1,
           1,
           1,
           1,
           0,
           1,
           0,
           1,
           1,
           0,
           1,
           1,
           0,
           1,
           1,
           1,
           1,
           0,
           0,
           1,
           0,
           0,
           0,
           0,
           0,
           1,
           0,
           1,
           1,
           1,
           0,
           0,
           0,
           1,
           1,
           0,
           1,
           0,
           0,
           1,
           1,
           1,
           0,
           0,
           0,
           1,
           0,
           0,
           0,
           0,
           1,
           1,
           1,
           1,
           1,
           1,
           1,
           1,
           1,
           0,
           1,
           1,
           1,
           0,
           1,
           0,
           1,
           1,
           1,
           0,
           1,
           1,
           1,
           0,
           1,
           1,
           1,
           1,
           0,
           1,
           0,
           1,
           0,
           1,
           1,
           1,
           1,
           0,
           1,
           1,
           0,
           0,
           0,
           0,
           1,
           0,
           1,
           1,
           1,
           0,
           1,
           1,
           1,
           1,
           0,
           1,
           1,
           1,
           0,
           0,
           1,
           0,
           1,
           0,
           1,
           1,
           1,
           1,
           1,
           1,
           1,
           1,
           1,
           0,
           1,
           1,
           0,
           0,
           1,
           1,
           1,
           1,
           1,
           1,
           0,
           1,
           0,
           1,
           1,
           0,
           0,
           1,
           1,
           1,
           1,
           1,
           1,
           1,
           0,
           0,
           0,
           1,
           1,
           0,
           0,
           1,
           1,
           1,
           1,
           0,
           0,
           1,
           1,
           0,
           1,
           0,
           0,
           1,
           1,
           1,
           0,
           1,
           0,
           1,
           1,
           0,
           1,
           0,
           1,
           0,
           0,
           1,
           1,
           1,
           0,
           1,
           0,
           1,
           1,
           0,
           0,
           0,
           0,
           0,
           0,
           1,
           0,
           0,
           0,
           1,
           1,
           0,
           1,
           0,
           0,
           1,
           1,
           1,
           1,
           0,
           0,
           1,
           0,
           0,
           1,
           0,
           0,
           1,
           0,
           0,
           1,
           1,
           1,
           1,
           1,
           0,
           1,
           1,
           1,
           1,
           0,
           1,
           1,
           0,
           1,
           0,
           0,
           1,
           1,
           0,
           1,
           1,
           1,
           0,
           0,
           1,
           0,
           1,
           0,
           1,
           1,
           1,
           1,
           0,
           1,
           1,
           0,
           0,
           1,
           0,
           0,
           0,
           1,
           1,
           0,
           0,
           0,
           1,
           1,
           1,
           0,
           1,
           1,
           1,
           1,
           0,
           1,
           1,
           1,
           1,
           0,
           0,
           0,
           0,
           1,
           0,
           1,
           0,
           1,
           1,
           1,
           0,
           1,
           1,
           0,
           0,
           1,
           1,
           1,
           0,
           0,
           0,
           1,
           0,
           0,
           1,
           0,
           0,
           0,
           0,
           1,
           0,
           1,
           0,
           1,
           1,
           0,
           1,
           1,
           1,
           0,
           1,
           1,
           0,
           0,
           0,
           1,
           0,
           1,
           1,
           0,
           0,
           1,
           1,
           0,
           1,
           1,
           1,
           1,
           0,
           0,
           1,
           0,
           1,
           0,
           0,
           1,
           1,
           0,
           0,
           1,
           0,
           1,
           1,
           0,
           0,
           0,
           0,
           1,
           0,
           0,
           0,
           1,
           0,
           0,
           0,
           1,
           1,
           0,
           1,
           0,
           0,
           0,
           1,
           1,
           0,
           1,
           0,
           0,
           0,
           1,
           0,
           0,
           1,
           1,
           0,
           1,
           0,
           0,
           0,
           0,
           1,
           0,
           1,
           1,
           1,
           1,
           1,
           0,
           0,
           0,
           1,
           1,
           0,
           0,
           0,
           0,
           0,
           0,
           1,
           1,
           0,
           1,
           1,
           0,
           1,
           1,
           0,
           0,
           1,
           1,
           0,
           1,
           1,
           1,
           0,
           1,
           1,
           1,
           1,
           1,
           1,
           1,
           1,
           1,
           0
          ],
          "coloraxis": "coloraxis",
          "symbol": "circle"
         },
         "mode": "markers",
         "name": "",
         "orientation": "v",
         "showlegend": false,
         "type": "scatter",
         "x": [
          1.3013681299448554,
          -2.4524208999714587,
          -0.6450406320130104,
          -1.8099968951110137,
          2.562977533349644,
          1.5085372200220974,
          0.4788638414435993,
          2.6924771444641697,
          -2.893157279568076,
          -2.807152007786325,
          1.6464281886612264,
          1.011975336971124,
          2.4697717736331852,
          2.3832002745944814,
          -0.4211956252473534,
          1.0618727412003062,
          -2.2088376417099065,
          -3.01808624321278,
          4.119962019426288,
          1.195732756863939,
          2.168404994194838,
          2.1418029057348953,
          -1.0875543440027338,
          1.8431712186872329,
          2.4996116587887895,
          2.7124784542588185,
          3.991280232343324,
          1.3796326805178387,
          -1.6788282327875526,
          0.6929111293429517,
          -0.7450939114324135,
          -4.214325006312653,
          0.4748979345912136,
          -1.7852179965298116,
          -0.715425617562262,
          -1.3609298887335615,
          0.9315300608158399,
          1.6100855780587366,
          -2.3360369897308173,
          3.7464928384349694,
          -2.7704024300027097,
          -3.884257869123039,
          -1.938936450208199,
          -2.3450699277697824,
          0.1021045220533112,
          -2.4274194709298413,
          0.4643271576286649,
          3.538810941026859,
          -0.738441614167108,
          -1.4287680276613062,
          -4.218078978826898,
          -2.752847098738223,
          -2.0122071827809505,
          -2.7556749352516183,
          4.03269084331915,
          -3.5779453822225573,
          3.173657816664443,
          -1.998708348285516,
          0.04082377214498889,
          -1.3804779967693173,
          0.2978810132473284,
          -1.5356300956494033,
          1.2059978779198037,
          3.3743798099767517,
          -2.157489133996208,
          -1.5975988394813934,
          0.08085466738232704,
          -2.0911548974713967,
          1.5471803850612416,
          -1.6261461342295735,
          -0.1730799292976602,
          -2.796969227897961,
          -2.7162388494447653,
          -0.3845934902226171,
          -3.0349827195658525,
          -2.8049214112269993,
          3.00419641231041,
          -2.1827292371531675,
          1.6485702177791084,
          2.652245053800824,
          3.2656206444168374,
          3.168315214746932,
          0.13836457292343823,
          -1.009791210349583,
          -1.2176808321244894,
          3.1885606154704362,
          -0.07842780382531467,
          3.385502496401684,
          0.8701169339365564,
          -2.2416983284806915,
          -0.8616058810755935,
          2.6397585918193522,
          -3.1869100332923015,
          -1.4818853197264166,
          0.5193917913086907,
          -0.37910856068763266,
          3.2345469708366856,
          -0.4625622349774942,
          2.6069164600795864,
          1.8257676711482784,
          1.7488334838756254,
          -2.8046449342079534,
          -0.9947815889517193,
          2.439125376049725,
          -0.23026702938677002,
          1.2631255613561339,
          -2.681349345032971,
          4.4593724504235,
          -2.139631663760465,
          1.7524934210984002,
          -1.7441301275985028,
          2.5022455663585155,
          -2.681254574745755,
          3.4353251281856005,
          -2.6084793962862873,
          1.7335550290385406,
          -3.31074790582156,
          2.6582121347280596,
          -3.5314268576659744,
          -0.42564846532658124,
          2.856761583597301,
          3.1512876591045105,
          0.47619707766849934,
          -2.0004461791369117,
          -1.347542736968234,
          2.3509051494507656,
          -2.901698684627868,
          2.9748284211107094,
          3.423000584473269,
          3.2321097548987403,
          2.2416991917019846,
          -1.5494294961840307,
          -2.455793912373302,
          -1.8333361282046776,
          2.3696626277862647,
          0.6118082377688447,
          -1.7715312951969977,
          0.205221546276876,
          -0.885164221877031,
          -2.4278227844781397,
          2.49524163637124,
          2.2707077456169085,
          -3.3037695264004525,
          -2.9836393632153806,
          -0.43182615354707793,
          -1.1220701875467396,
          -2.5570708490714655,
          2.336980474298305,
          0.6843563302030593,
          -2.010506270732193,
          -0.0852016333137059,
          0.015440513903979311,
          -1.7311147481483267,
          1.9762693257676733,
          2.3618800282653996,
          -1.1025753163315053,
          -0.8636401841808934,
          -1.1949217369268024,
          1.1911290106681065,
          -0.01799470923845238,
          -1.4019456826179413,
          1.8027879736928465,
          0.7035266810804988,
          -2.716438852913468,
          3.62609878277879,
          -1.9926205353195268,
          -1.1857631352034046,
          -0.9557544500188292,
          -0.606317205048343,
          -2.699046129718759,
          -1.9211545291029586,
          2.4351991659836774,
          -0.1939105435971762,
          0.6132812461877193,
          -2.8315471013758438,
          -2.2753170176635686,
          -1.8811495211775937,
          1.0258775852642554,
          1.6201418948374169,
          -0.20569791120259,
          -0.29857379421968216,
          -2.905285982972061,
          0.9613667469565439,
          1.1744026443968152,
          1.6700012908969375,
          -2.8995813343300374,
          3.0052735909206767,
          -2.2656482745783455,
          2.920211584830099,
          -2.098230112873402,
          -3.0581437395550433,
          3.65705173051259,
          -2.4048962281869573,
          -2.1418805349060355,
          -0.0846876198162752,
          -2.223556556421788,
          -1.7544039555193047,
          1.464996291564465,
          -3.1963236523713183,
          -2.8509657692315944,
          -1.0931167063017144,
          -1.2526808935923484,
          3.8027588659164433,
          2.9023770681293586,
          1.6671981553862865,
          1.1646201015700723,
          2.5869111986956526,
          -0.8262507062334787,
          -0.7768417189584917,
          -1.6747029128502122,
          0.3888219710421634,
          -3.0697876733851426,
          0.7033500438334881,
          1.8920313498682362,
          3.051650294993464,
          1.6357290926721826,
          0.5511680608484797,
          -2.433476133976208,
          -1.822469882223587,
          1.448389992459308,
          -0.05336667751936219,
          0.08155847587304253,
          1.766324151497532,
          -2.0449324555268507,
          -2.2640612045005906,
          2.744566626962547,
          -0.6234243204664536,
          1.1934523008030717,
          1.3812566669407864,
          -2.9783650368368857,
          1.2047612048261098,
          2.458927187968226,
          4.375973204609865,
          2.2637312896945945,
          -1.4318053824892587,
          -1.2007975960801085,
          1.687438314358583,
          2.8303410049794704,
          3.6777356540925634,
          1.6317053925499094,
          -1.0330325807955016,
          -1.9766791032088684,
          0.2993242252740909,
          0.23126927414700033,
          0.2620990981558612,
          -1.7814884864938174,
          2.8206600115514173,
          2.416726677684603,
          0.26602601400655607,
          0.02167154902341384,
          3.2492248679166593,
          3.8692020595747474,
          -4.30373141757821,
          -0.3740026273318316,
          -0.7494308363707705,
          -0.4422695480016153,
          2.246190461882783,
          2.5380224695569247,
          2.3838569974711,
          -0.7296913726540311,
          1.3654743354152816,
          2.9566912282454014,
          -2.64638638849718,
          0.29561924420330526,
          -1.5057912165606515,
          -2.8019424040274115,
          -2.2140944974293557,
          -0.1790018018450275,
          -3.4700185774262273,
          -2.4419348876597478,
          0.16561264865847486,
          -3.0087726380839017,
          -1.293831056591801,
          -3.602824372478575,
          -0.9073512885398596,
          -0.6367208835135831,
          2.3266986163598777,
          2.2252264583405355,
          2.773523653174301,
          -2.0519853716403245,
          3.8906875085872263,
          -3.1092036527500495,
          -2.6911159511878933,
          -0.14642025972135458,
          -2.060316423127216,
          1.3691868585423979,
          3.418205557479535,
          -2.597308612662425,
          0.25830293860126136,
          -1.3633319327241333,
          -1.5360718819935355,
          1.7728018195317297,
          -2.6719066501215685,
          -1.5857686919026945,
          -0.009674350620942532,
          0.12349043555517085,
          1.591420753052935,
          -3.1133893385827394,
          -1.532262340407034,
          3.170840188789308,
          3.077806343491247,
          1.4120056263796115,
          2.963101640144296,
          2.59986277491945,
          1.2184028442511494,
          2.1615356788229625,
          3.6338465454733715,
          -0.8288629035636474,
          1.8037023769512677,
          -2.422213798308407,
          -1.148641478488699,
          -2.0883587182024135,
          -0.9684220078818475,
          2.1957002497378384,
          1.2774667669336222,
          -0.2747598793190415,
          -2.066667290585137,
          -2.0259329269898925,
          -1.18188017810542,
          1.9374931463245304,
          1.9851280535944593,
          -1.9255878091322234,
          -2.161593651129837,
          -2.0051023811265822,
          -1.685273302571114,
          2.6937133159564395,
          2.9785442276770135,
          -0.7727527213807468,
          2.349365529391288,
          0.7506176413694641,
          0.8951167445825712,
          2.1732680577468986,
          -0.3476811525978719,
          2.535349523970788,
          -2.1237526758053216,
          -0.4430094262477062,
          -2.3626557002858064,
          -2.878900127055547,
          -2.1824115339341437,
          -3.348042776023111,
          -3.3238898614654495,
          -0.5225813844156804,
          -0.49774414073694057,
          1.7696333644406759,
          -2.90509199424851,
          1.9632721120379169,
          -2.9893819476432544,
          3.835367712683351,
          1.7860071931946855,
          -1.8998546478273544,
          1.117927872695493,
          1.6072594897723436,
          -1.820144071534977,
          -2.6763406092510826,
          -1.7196986137998833,
          2.623720048315251,
          -1.5601966337464441,
          -1.7252407914126082,
          -0.3909632429535034,
          -0.8804533903637128,
          1.445131847518204,
          -1.0084223181871967,
          3.074316294624781,
          -2.8254974068685157,
          2.959972635390094,
          -2.6142291178532937,
          -2.1069027120199095,
          -3.2183910401871314,
          1.9050323772839721,
          0.4929806454773055,
          -2.0574460873645624,
          -1.8609429537765079,
          1.283008035552988,
          -0.5304499560142131,
          0.9345626273991239,
          2.6836529095872925,
          -2.987441826826317,
          -2.1507657302127683,
          -1.8030979035977088,
          -2.1579472475154766,
          -1.046858267563118,
          2.2008883720541492,
          2.037033042083006,
          -3.0256029231058212,
          -2.721999239139402,
          -0.28111898512649064,
          3.4227115616505763,
          -2.73014804488983,
          1.682326190833423,
          1.3059912777947231,
          1.690300125738211,
          -0.6738992147351097,
          1.5118383268985678,
          0.6813307105411099,
          -0.030516163337611535,
          1.9680988240243702,
          -2.1879976630929594,
          -0.389562584619524,
          -1.851506226847377,
          -3.7949360777071695,
          -1.2288606822603723,
          -3.202070237718535,
          0.8002370830891417,
          -3.0125662683579213,
          -2.654331500769099,
          3.323946091841913,
          -0.03931626823426343,
          -3.163744319284983,
          0.8342859821580528,
          2.289587888357762,
          0.4899336848659262,
          -0.32402923761792024,
          0.4831108395547585,
          -2.408212768413204,
          -1.8023804286979905,
          -0.9212222727829384,
          2.8411193667675345,
          -3.069875793733078,
          2.117694735506693,
          -2.1670115721113428,
          -2.5692806383677733,
          3.599339429728162,
          3.171782183787668,
          0.0758259784560431,
          0.3536342786652598,
          -0.27814149213232836,
          -2.7705843901805647,
          -3.1661707855696655,
          0.7253673364945128,
          -0.8486520063713747,
          2.4579468906923507,
          2.880129768533946,
          2.2848973193075497,
          -2.7765205329733984,
          -1.1429266024158453,
          -0.023304737549443302,
          -1.80381189584558,
          -1.1121873200866006,
          -2.5913800578108526,
          -0.6946901605778679,
          -2.640976053580816,
          1.665862580203027,
          1.861798955508304,
          0.6331425115037863,
          -2.5314246920149555,
          2.7376607989496926,
          -1.6039923791300463,
          2.6460704909690898,
          1.5606051050921153,
          -0.6416914004695071,
          -3.264624786595567,
          -1.652557900944875,
          3.133571047654616,
          2.2338161746347676,
          3.442047360997309,
          -3.5181735131558423,
          0.15634119711645506,
          1.5500089766881098,
          -1.0438649038861503,
          1.3224352470052543,
          -0.710986695304537,
          4.043365735584561,
          1.4711010653827532,
          -2.8699561611472273,
          -0.31155797130313284,
          -1.6471103206995803,
          3.770506834645057,
          -0.18707324318249186,
          0.7843128736054259,
          -2.9254661118509704,
          -2.075539757551331,
          2.6018081330842158,
          3.474023711143513,
          2.257225736882047,
          2.587227850986435,
          2.8933855267823625,
          1.7726330520341265,
          -1.1368825408419903,
          3.383659984181964,
          0.08289879082180356,
          -0.1895665818477602,
          1.3753642858321988,
          1.1200268240461695,
          2.9317865686864497,
          -1.5929074365034328,
          2.4336930573167534,
          2.8707559573359527,
          -0.8528633649076893,
          -3.550674320782904,
          -2.7625769122780928,
          -0.7233407507768725,
          1.1028692558452744,
          2.8998862698151093,
          -1.2928883334360581,
          2.1757551469489766,
          0.449645693234074,
          -2.296744368769425,
          2.5578129688339777,
          1.5962883221352242,
          0.11123826273708204,
          1.9233405990741097,
          1.1184893077329086,
          -1.343157688705525,
          -2.5150925114299185,
          -2.3503102612429814,
          -1.1771411887614156,
          -2.0971871985841495,
          2.720408028826886,
          0.7216935617962383,
          -1.9647205826544953,
          0.6767304895633655,
          -1.1051103226258794,
          2.6488031241947025,
          -1.9175421882875636,
          -2.616928658449835,
          1.2327331424832744,
          -0.015242402024187696,
          2.4245223625544265,
          2.659003432602923,
          -2.4866318637364717,
          -0.4291444901468176,
          1.6095443585700868,
          -2.2410319406678543,
          -2.4450148431743575,
          -1.8490829364941552,
          2.956267811576989,
          3.3874413103838457,
          0.02652220925599745,
          -0.6727839681493231,
          -1.6810834416568499,
          1.250758054626372,
          -2.3617439997286027,
          -3.262813202259963,
          -2.6197258649801407,
          -2.627533162304865,
          3.559639872705702,
          -0.3193934877416583,
          -0.8171829391639893,
          1.730361255744442,
          1.485935904957319,
          -1.3664991784621996,
          3.2932739993444757,
          2.670467702859772,
          -1.944549261782247,
          -1.2999280642501139,
          -2.9833803719555503,
          2.8735200824170515,
          3.3492060689089955,
          1.1971561212486301,
          -2.8219291216734677,
          -0.002475626036477774,
          -1.8229307397094736,
          1.1015639081558875,
          -2.1581862669188023,
          -2.886645112377204,
          -1.3099285272398626,
          -1.8919040762056185,
          0.7252327653938953,
          -1.4700038444878532,
          -1.137706032692495,
          0.7311321230534109,
          -1.4954855095404245,
          1.4915527569302847,
          1.9057796623526448,
          3.4556286294852088,
          3.266520938744586,
          -0.4046678837166526,
          0.8391891459984422,
          -0.5468797262349481,
          1.5137398518230198,
          -0.012795413805588352,
          -2.50112243169381,
          -2.138251047916566,
          2.134816331570903,
          -3.0524484581788816,
          -1.2099094942846218,
          3.6464371455150317,
          1.6939698088659612,
          -1.7472790029769012,
          -2.6003963987843095,
          -3.4189398028203346,
          3.1212615626042517,
          2.93990703306946,
          3.0265767259498526,
          -3.1894946446264942,
          1.5145391700552508,
          0.012631357131637419,
          -0.21390256612135822,
          3.0117064976531687,
          2.667029874737389,
          0.2497962889437247,
          1.9490571728876203,
          -1.578746065273733,
          2.6646160654589632,
          -1.5783057695429021,
          2.1877690767476032,
          -1.436264352337068,
          -2.600125572511958,
          2.6994260470369746,
          -1.9104709621156164,
          -1.1842205664587404,
          -2.0499802883142157,
          3.640425441551317,
          -3.9824858816189677,
          -3.5385347015479587,
          3.461664771743319,
          1.278158474788915,
          2.721549192905785,
          0.35782717920644286,
          -0.22068191255844022,
          -2.6203637312673296,
          -3.3424789834554893,
          0.5133279520778482,
          3.5902270587920704,
          -3.2444464334673064,
          1.7155151466662817,
          1.3745130997426764,
          -1.6644553225688217,
          -2.2086089658803485,
          -1.5156279581803718,
          -2.0376388705195274,
          1.042917880508095,
          0.792471848715959,
          -1.0370708269170998,
          -0.8823408010924076,
          -2.849382385734539,
          2.4552611235804647,
          -0.8008585290959465,
          -0.7439330517576939,
          -0.7143408901957915,
          0.1608278182992411,
          2.7245410293507755,
          -2.3614696746365142,
          0.6382627742938005,
          -1.350618304636127,
          -1.1024290619135302,
          2.5227639809380196,
          1.6159575121547516,
          -0.012876723115177846,
          0.5421156012728461,
          -2.4834854694309123,
          2.177021116425284,
          0.8210396426438125,
          4.194344895217916,
          0.39609541433997936,
          1.3489585150945382,
          1.2289846353510196,
          1.7115809745396944,
          -1.9994536552223041,
          -2.78396472429656,
          1.4959259958889355,
          -2.6418356566741865,
          3.1515756163083344,
          3.5295719269480603,
          2.717592026678938,
          -1.5254906619215345,
          -0.20797012691954186,
          -0.5042793778362704,
          0.5419831255675926,
          -0.9054611518688529,
          2.677677632632732,
          1.4003318740520014,
          -1.7092411214609131,
          3.338224004999107,
          1.5316028803268522,
          -0.9777851398532365,
          0.08169697599066615,
          2.5352036514802556,
          0.5777763510795846,
          2.0102265801837786,
          1.4794957668696807,
          2.0883193501027386,
          1.0391675855159064,
          0.7095234352006738,
          -0.8892871709210071,
          -2.355662226461823,
          0.9689557711312433,
          -2.77338629353365,
          0.22043775805551774,
          -2.651448094984067,
          0.2543563066162582,
          2.8046737158108646,
          1.6253006396340903,
          -0.36691978517122015,
          -0.6909511917926914,
          2.019845819308387,
          0.3408329853101591,
          2.3743124878686226,
          -1.1110981684330317,
          1.5088759168217207,
          -0.35038934660236515,
          -2.1517313665878115,
          0.16838312246518233,
          -0.04544855646055096,
          -0.7291114394690514,
          -0.6398548018193457,
          1.4103645259347042,
          -0.09488627170867941,
          -1.0077042080846839,
          4.214308264278909,
          3.1317774499307376,
          -3.18092364512276,
          1.6291421886432749,
          0.3533259648040739,
          0.745005259899904,
          -2.097561570958167,
          -2.680981654977725,
          2.6798040764178173,
          -2.5033343761507396,
          -1.8599728936551503,
          -2.930864718012275,
          -1.181398658170809,
          -1.1836418591587576,
          -2.7104050384140983,
          -0.02221405343408768,
          1.9371025485928153,
          -2.2566040359426416,
          1.2835985082197394
         ],
         "xaxis": "x",
         "y": [
          -0.7343517068877361,
          -1.671973181835616,
          -0.5382652983437348,
          -0.38110674734259176,
          0.8723216042059847,
          0.7942801180556089,
          1.002012413017795,
          0.1804390052245594,
          0.7598919184960591,
          2.7160587178877558,
          3.63684146154587,
          -0.42426836596344575,
          0.1546932267679399,
          0.0060906904462442735,
          -0.2134356048001772,
          0.17757516615678498,
          -1.9710597265060297,
          0.9723950053944304,
          -0.9593040101705237,
          -1.1148178793772276,
          -0.30596025829037615,
          -1.3734649952371885,
          -1.396488492290728,
          -0.16407587734731144,
          -1.6802244459518354,
          0.13804879882538107,
          -1.0128271587357567,
          -0.15087562603911892,
          -1.716415443242864,
          -0.23984218226414855,
          -0.12959007637609832,
          1.6182617961640386,
          -0.9460258000085142,
          3.3495961060599764,
          0.15206942364564308,
          1.0656715160174839,
          0.14470910689855726,
          -0.10290540027762507,
          -1.7432506989876115,
          -0.8773279657543123,
          -0.3765619755326923,
          1.8754809371610541,
          -2.020156910559776,
          -1.088913567420213,
          -0.8620346833029133,
          0.31692163325170597,
          -1.1587706287257598,
          -0.46525267572742784,
          -1.4598608189828126,
          0.03494339549956477,
          1.5279841983123927,
          1.6824940742654348,
          -1.4115520636017749,
          -0.29485054303095143,
          -0.9639049736216214,
          1.4329229699203831,
          -0.158974480714964,
          -1.9063683660053117,
          2.378476670121114,
          -0.27502134097171327,
          2.412303550966412,
          -1.081899647359934,
          0.1374228663215466,
          0.0692178639173206,
          -1.8964025425243527,
          -1.403587073634347,
          -1.003357600463493,
          -1.5372518179405112,
          -1.9140986929643107,
          -1.9458606750543879,
          0.15942728754967878,
          -0.8347588434221889,
          -1.22549754624416,
          2.369012957535202,
          1.4712201101395666,
          0.5361015126442179,
          -0.4414134935466834,
          0.48102257817326977,
          2.864616896124148,
          -0.010617258074474167,
          -1.15926481079802,
          -0.06919880926745164,
          -0.21176888839253405,
          -0.7298474749097994,
          0.21863301219953496,
          -1.063691750483489,
          2.241716249832081,
          0.8377811551469532,
          0.8527530927542475,
          1.2816783542997727,
          3.894376344508369,
          0.2183644729825744,
          -0.5313580457961598,
          1.6682563413559026,
          3.2596414038019508,
          -0.6325048269896496,
          -1.017463647849126,
          0.4447848267472924,
          0.19636907938622888,
          -1.291810193337919,
          1.8422688953509065,
          1.5047427925850219,
          2.268554071107877,
          -1.4277189539694177,
          0.20569374788488975,
          2.7623134327912258,
          -1.0802751327468496,
          -0.9391738632860092,
          2.7673291867584613,
          0.9516319691566786,
          1.3203407854647742,
          0.2533692506254814,
          -0.38760784645470503,
          -1.138033896203,
          -0.008917624611872232,
          -0.5944255295097123,
          0.19495307836075254,
          0.13249701484541937,
          0.532954843266247,
          3.018024032588195,
          0.5770032321968352,
          0.48605072576422564,
          -0.4519564662393667,
          -1.002517476485271,
          -3.0283300411108334,
          0.9581989296777238,
          1.4435453389620183,
          0.06939454598606426,
          -1.3071655610959017,
          -0.12905415162110778,
          0.12398666099537897,
          -0.5658544245131178,
          0.7677763606174057,
          -2.209668963448095,
          0.23663500242788377,
          1.6681878115707978,
          1.8502095678961559,
          -2.6788700051919516,
          -2.6429773650460926,
          -2.269272904791391,
          0.2890765122809555,
          -1.0050582660169671,
          -0.9289471430242486,
          -1.136198346817452,
          -0.8427015493546408,
          3.1876119046795717,
          -1.3392870097771383,
          -1.4511498131607987,
          0.0027039091645656987,
          -1.9678119865421606,
          -0.6803537774071027,
          -0.8931943575170997,
          -1.1092345958305374,
          1.3449505929767482,
          0.11212407037954802,
          -0.83788415597265,
          -1.106090396178096,
          -1.612334161268126,
          -1.7021952432880287,
          -0.9872794878808564,
          -1.1881092096801429,
          1.0733827771171778,
          -1.0984790526138286,
          1.7937892782575422,
          -0.06798081642682036,
          -0.9593693259507432,
          1.1502207038425543,
          0.3350405858185852,
          -1.106102138630918,
          -0.7308281067562405,
          -1.3213614832542353,
          2.6029493139284763,
          -1.060987431881383,
          -0.7818785740800893,
          -0.370429504278043,
          -1.8085525983679944,
          -0.5077518980787259,
          2.5148202742951056,
          1.2959326460091225,
          -1.3779238991265634,
          0.7160223788528624,
          -1.6695186435329838,
          -0.021311020397493163,
          0.9073006799463759,
          -1.6448680722962787,
          -1.0886364469438903,
          -0.811590723654487,
          -1.8725580020172892,
          0.12282115616415984,
          -0.35783231407819555,
          1.9423662308367051,
          -0.04896353436632067,
          0.6255086696609113,
          -2.26559514910233,
          -0.7118443507615972,
          -2.037849874836309,
          2.763899796839996,
          -0.07693139212953298,
          1.543225486890245,
          0.9092276028484861,
          -1.6888937849234644,
          3.213119239707712,
          -1.2025595600362904,
          -0.05334721251661706,
          0.7894525497183889,
          1.0203357876916126,
          -0.1467273302399062,
          2.254039433291568,
          -3.0192226221304908,
          -1.5834701508253086,
          -2.1324931645007332,
          -1.7368611966491592,
          -0.34627615018099744,
          -0.15399720687926155,
          0.805543349193639,
          -1.457079877760779,
          0.3012285831953521,
          -2.2346640190698293,
          -2.1095524967596044,
          -0.12841291617929884,
          3.347551786237392,
          -0.7913296782673211,
          2.6057340175411237,
          0.40172378292650285,
          -1.961017047753187,
          0.07192155533686634,
          -1.5622602278671571,
          0.01313613416328957,
          -0.07728668541187994,
          -1.076001266948774,
          -0.18152653124693408,
          2.0316585198739388,
          -1.1133636252543937,
          2.6727438453242245,
          -2.521994949241075,
          2.587029858477633,
          1.7530072075428622,
          -0.014387822267128814,
          -0.7780389817323798,
          -0.3839956396950411,
          1.225334138169616,
          1.9045052572181298,
          0.6983818327501059,
          -0.6849790970018026,
          3.0282051057698363,
          -0.4038112855443192,
          -0.03860198232716022,
          0.10575677835333014,
          0.035411097425260885,
          2.2704742662745274,
          -0.27800854379127987,
          -1.089872640116759,
          2.3370652099309743,
          1.644702943932777,
          -3.105023803598275,
          0.1670675038422682,
          2.561861017436106,
          0.317607792772905,
          -1.027889086458028,
          -0.18413822103593658,
          0.6361484674349864,
          0.1278488298287272,
          -1.8218847071517492,
          -1.2868659153165831,
          0.06283104230757303,
          -0.6472304848833861,
          -0.9726837321872681,
          3.4690235799025193,
          0.7020852793291876,
          -1.146296290676144,
          -0.6092929976551582,
          1.822200954789155,
          0.28459620749281317,
          1.509697898742428,
          1.8026537444624737,
          -0.7781089035967791,
          -1.3175298987155317,
          1.2212710165497462,
          0.2786233653935161,
          -1.9779212120352339,
          -0.9304869095183292,
          1.6874102051289426,
          -2.3431377403728564,
          -0.7808601696538446,
          -1.2493968866368563,
          1.0136168187258363,
          -0.4929406298903813,
          -1.3297835560226048,
          -0.49026549883657244,
          -1.6302942909221296,
          1.4373202006809462,
          0.43705192310750424,
          -1.9375413064745994,
          3.8636979973253056,
          0.5441068843309813,
          0.00429702823916539,
          0.12646187661862723,
          -1.4559818005704286,
          1.6882761270516395,
          0.03991294600185852,
          -0.8402163022133076,
          -0.5282773068083981,
          -0.08140506304119138,
          0.11062181562159518,
          2.11510767343202,
          0.08806816608190221,
          -0.8877060099327021,
          -1.528082057550572,
          0.3801537087398767,
          -1.8976955042746129,
          -1.8738657508200243,
          -2.451826778689743,
          -3.1838467022534456,
          0.8100223502865416,
          1.5617075362662574,
          3.496929719928381,
          1.6086134277382693,
          -1.6767201259080138,
          1.7291309121890275,
          1.2290947895587718,
          1.3284269360639662,
          -1.5556154495660264,
          -1.4432535392356727,
          1.9950513906552039,
          -1.9101562695846406,
          0.11369363323895748,
          -0.7478154268880463,
          -2.9690641653004826,
          -0.09580586374830435,
          0.09293411444883465,
          2.638172419299092,
          0.0803122047020341,
          -0.36719414723653654,
          0.11287270509703545,
          -1.9404939791319085,
          2.4261663451656643,
          -1.4535797888872433,
          0.6657599583653049,
          0.4730978158747199,
          0.4981104653862809,
          1.4646281753981083,
          -1.6466374509319155,
          2.339889694055516,
          0.5693916644431958,
          -0.590655789558524,
          0.8725636948010524,
          1.4404855400005572,
          -1.0022249391546407,
          -0.7652757455678043,
          -1.297609104009187,
          2.1705065053328427,
          2.592228980141371,
          -1.784608399936947,
          -0.566617519561939,
          1.3493154900354993,
          0.15795824710583867,
          -0.3590202920633445,
          2.228778434322004,
          -0.5677694678334055,
          1.520671436234974,
          3.0117660665783808,
          1.7888211676031185,
          -0.0006144756589994693,
          -0.8567578914436091,
          -0.14409598314949695,
          -1.8556411046067467,
          -1.062661882603277,
          2.0740594762940905,
          -0.5381452731363504,
          1.3875799231625572,
          -1.8286485317804633,
          2.8725499759426976,
          -0.1649395547066942,
          -2.1811172130738186,
          -0.3994959562696365,
          0.14489394761085478,
          -0.3497010387214695,
          -1.6443773550227687,
          -1.4626509777839858,
          0.49717980345194124,
          -0.37391226545014855,
          -1.5985932519130794,
          0.13745875670178725,
          0.8476614214692125,
          -1.7323644298604204,
          2.5350222657031933,
          0.1471087030057056,
          -1.1360944079852808,
          0.15829475884806682,
          0.4946867093337823,
          2.5341533775232725,
          1.1583460549801086,
          0.3230573686778046,
          2.284323301516448,
          -1.3781739837487852,
          0.24909342409215113,
          -1.7576234416233647,
          0.060345998156193514,
          -1.6713531736435217,
          1.5361009992819281,
          -0.6071886927054713,
          -0.7076008765358157,
          -0.39549467024898977,
          -0.8428418388176486,
          2.894962021185214,
          0.23055778293408163,
          1.0799204467075234,
          2.6465947243822137,
          0.9064713987381652,
          0.38935997387137905,
          -0.5791008865242356,
          0.8412272984882116,
          -1.7431854900886643,
          3.1412395224336,
          1.6679046367161767,
          -2.7392548323866452,
          -0.3421553713418689,
          0.20693536815700386,
          -0.6224724693618159,
          -1.6097764991727397,
          -1.904164154323753,
          -0.669278674097609,
          -0.010375221443691685,
          -0.2526531117044486,
          0.7819316082198777,
          -1.1737699496844105,
          1.28626426777415,
          1.7164654867595366,
          -1.015365532368367,
          0.09478653056150627,
          0.13115175670727147,
          -0.31499235795974406,
          -1.579630965252048,
          1.5873541495933843,
          1.9014728913051557,
          -2.103260782574751,
          -1.789016123243112,
          -2.204145487990221,
          -0.8280152467857886,
          -0.2415582018041718,
          -1.353921699040913,
          -1.1281903788592413,
          -0.46884147944354354,
          -0.001089642503712629,
          -0.4149437834842201,
          -0.019629321974246994,
          -1.9062241732002674,
          -0.9387959273374633,
          0.660479278656948,
          -1.1591605852707831,
          1.7565798205102712,
          -1.9960446938127845,
          -0.6967833061738403,
          -0.8184276527652565,
          0.12666571465426796,
          1.4112820879464878,
          -0.6008256601827096,
          -0.28443988285865524,
          -0.5042922921289366,
          3.4426088421568295,
          -1.4046920801331655,
          -1.2479636206293245,
          1.4033082425053716,
          1.594087870932026,
          1.8930364633392678,
          0.7025889997066856,
          -1.2296933860816537,
          3.1179101856882094,
          0.4879130739613924,
          -1.1630831056995192,
          -0.4108638178674894,
          0.9096102437201661,
          -0.9868200266821965,
          1.2535571483460546,
          -0.005601204026438433,
          0.09628977343677708,
          -1.0442566334548666,
          -0.4552204841694131,
          -0.14300296205469187,
          0.9480972672191574,
          -0.5810414656086733,
          1.4427888012092103,
          0.36572080273806645,
          -0.09933418546586714,
          -1.9425325473923267,
          -1.491889985083409,
          0.29937799235479295,
          -0.8304743460323933,
          0.6472450929260931,
          -0.49791125456776925,
          -0.9404527717835871,
          -1.0834958805466472,
          -0.06559943669099716,
          -3.02936034808227,
          0.46817725269422533,
          0.8327574485041693,
          0.710823119441095,
          -1.3032236022690058,
          0.8226077137276351,
          2.099673550536037,
          0.3646903147034332,
          -0.19780243457910512,
          -1.5183911282283409,
          -1.8884513621809773,
          -1.669876152716195,
          -0.24574039837456346,
          -1.4847213272180662,
          1.3275261958176738,
          -0.8136668651416636,
          -0.9444708229406593,
          1.663706920551387,
          1.7521402543293787,
          0.047571971392448675,
          -0.7635634559166086,
          -1.217726153423547,
          -0.8421843517441661,
          1.4558575841152916,
          0.13424234546628105,
          0.2619476609784361,
          2.7399092487527414,
          3.0178480476708978,
          -1.492800490389401,
          -1.2795191310722145,
          1.4796383683670056,
          -2.0290310815715693,
          0.12002911306489844,
          -0.15467122494895846,
          -0.6975631808010264,
          0.46128488226759407,
          -1.8724305338411424,
          0.9928518887229101,
          -1.553663406696564,
          1.7667701622298306,
          -0.7897957287041151,
          -0.3016883640285274,
          0.6721346540935338,
          0.8038715262782861,
          2.895418946183276,
          2.542122198647951,
          1.2473134992107433,
          1.7330663475860515,
          -1.0299954786323546,
          0.5655561906018856,
          -0.8732553969942007,
          -0.7201050936706193,
          1.9761668554846388,
          -0.1998098548934128,
          0.25911299563070095,
          1.1122070762369471,
          2.185484067817583,
          2.146906047002023,
          -2.1409856828900633,
          -0.04810155629840468,
          2.5261279660993545,
          0.6119831694382858,
          -0.23028427023938075,
          -2.0843700824140807,
          -0.031971517478189326,
          0.4131335194677594,
          -0.3959920521378888,
          0.8732599316393179,
          -1.9938459791327963,
          -1.800878979514469,
          0.3152562988014724,
          0.6619485799935374,
          -0.17544205990786466,
          3.5780858115707708,
          -2.46452815646401,
          -0.4157710101447145,
          -0.16805810540216015,
          2.48949513468414,
          0.16131100938437948,
          -2.337230270572635,
          0.27736669436169764,
          -0.6507554019289326,
          -0.7142955322725064,
          -1.1282398195863803,
          -0.23716806528642614,
          -1.6805279157696527,
          -0.6919796369052149,
          1.0942954842663553,
          -0.9755918339616423,
          -0.08262491409660039,
          -0.9816981656948109,
          1.9463629930512343,
          -0.11514489382790805,
          -1.6062134978260663,
          1.4046598880123582,
          0.12494246320138352,
          -0.8271168179915496,
          -0.9054270253953756,
          -1.0590215013504303,
          1.4139768723224768,
          0.3239534799457026,
          -0.18105989520195975,
          0.3233939595024495,
          4.37943387966369,
          -1.382135149119455,
          -1.3949115699521684,
          0.9118656082012002,
          1.3040897372253895,
          2.776988990224618,
          0.03801275448178293,
          1.6405181450470652,
          1.9532300972105587,
          -1.5609554395444842,
          0.56875622480083,
          0.16423540840628753,
          -2.592274246894197,
          -0.9777091386935559,
          -0.9472879618429522,
          1.6252693023027036,
          -0.2912961821117811,
          -0.9760455466896429,
          1.4077366647819622,
          0.9661706097818012,
          -0.36274926983147243,
          -1.2161397837070997,
          2.076794545584036,
          -0.9499669739324219,
          -1.137857366292049,
          0.8210560939422202,
          0.9413138632711604,
          -1.3341032835719728,
          -2.8860404255991776,
          0.7601611093844824,
          -1.557025765721734,
          -0.7258192519908523,
          1.7184048979506703,
          -1.9730031390188871,
          1.7815603984943635,
          0.14971065202705008,
          1.972524204142934,
          0.17555791060216436,
          1.825086318333539,
          -2.8315528932731953,
          0.3460303313787784,
          -0.4325563032519118,
          2.670151367447176,
          -1.7289026664744778,
          -2.0813777473036366,
          0.36541562044706727,
          0.7767532895113192,
          -1.0050783642687535,
          -0.671596981534104,
          0.05878825992536568,
          3.4864539388879683,
          0.5778362443965215,
          -1.0996235519250614,
          -0.6037456715997651,
          3.3229814838080562,
          2.0048234473440574,
          -0.0899212563944064,
          -1.1520584100864018,
          1.5009459848150062,
          -1.7614717911879276,
          -2.8975488570335415,
          -2.1630802785706167,
          -2.5784246442944747,
          3.441408655895277,
          -1.1954812714728384,
          -2.02479177262822,
          1.6258346578963896,
          -0.6282055860438195,
          0.12750603298676283,
          1.783061306708847,
          0.4578018925162732,
          0.16548284737874058,
          -0.4374482721327301,
          -0.24545378817630176,
          -0.9334626549757548,
          -1.6686049266783523,
          -0.21780695191473282,
          -1.0153591226757694,
          -2.8088555570534757,
          -0.22875563349540545,
          -0.4678342362878207,
          -0.7185190749737844,
          0.7566264318380713,
          2.1725647990797734,
          4.504462390935408,
          0.2430956605877918,
          1.4870083421553701,
          -0.6062024748374353,
          1.6366305206903027,
          0.3203413563609651,
          -1.5526723790611472,
          -0.6114145094789677,
          -0.06683283701893733,
          1.3455898211624326,
          1.8517326919681323,
          -1.5009121949406057,
          1.0026102244792363,
          0.3234787098434945,
          -0.09265981861271999,
          1.8015820171236139,
          -0.5146026347000088,
          3.0530593348886716,
          1.9703726471018808,
          -0.9284286220226572,
          0.09884811189123072,
          -1.2378641400723802,
          0.5895282852916244,
          -0.29221488424645636,
          -0.07376122717448924,
          -1.9402907777054543,
          -1.5322768642111924,
          1.0809258494468743,
          -1.3038050233560083,
          -0.2592619248049537,
          -2.0121320002744496,
          -1.5441385831822518,
          -0.729887004442703,
          -1.511876838267431,
          -0.6601351047960229,
          0.8158402284761106,
          2.8856406686835028,
          0.43637192319914403
         ],
         "yaxis": "y"
        }
       ],
       "layout": {
        "coloraxis": {
         "colorbar": {
          "title": {
           "text": "color"
          }
         },
         "colorscale": [
          [
           0,
           "rgb(0, 147, 146)"
          ],
          [
           0.16666666666666666,
           "rgb(114, 170, 161)"
          ],
          [
           0.3333333333333333,
           "rgb(177, 199, 179)"
          ],
          [
           0.5,
           "rgb(241, 234, 200)"
          ],
          [
           0.6666666666666666,
           "rgb(229, 185, 173)"
          ],
          [
           0.8333333333333334,
           "rgb(217, 137, 148)"
          ],
          [
           1,
           "rgb(208, 88, 126)"
          ]
         ]
        },
        "legend": {
         "tracegroupgap": 0
        },
        "margin": {
         "t": 60
        },
        "template": {
         "data": {
          "bar": [
           {
            "error_x": {
             "color": "#2a3f5f"
            },
            "error_y": {
             "color": "#2a3f5f"
            },
            "marker": {
             "line": {
              "color": "#E5ECF6",
              "width": 0.5
             },
             "pattern": {
              "fillmode": "overlay",
              "size": 10,
              "solidity": 0.2
             }
            },
            "type": "bar"
           }
          ],
          "barpolar": [
           {
            "marker": {
             "line": {
              "color": "#E5ECF6",
              "width": 0.5
             },
             "pattern": {
              "fillmode": "overlay",
              "size": 10,
              "solidity": 0.2
             }
            },
            "type": "barpolar"
           }
          ],
          "carpet": [
           {
            "aaxis": {
             "endlinecolor": "#2a3f5f",
             "gridcolor": "white",
             "linecolor": "white",
             "minorgridcolor": "white",
             "startlinecolor": "#2a3f5f"
            },
            "baxis": {
             "endlinecolor": "#2a3f5f",
             "gridcolor": "white",
             "linecolor": "white",
             "minorgridcolor": "white",
             "startlinecolor": "#2a3f5f"
            },
            "type": "carpet"
           }
          ],
          "choropleth": [
           {
            "colorbar": {
             "outlinewidth": 0,
             "ticks": ""
            },
            "type": "choropleth"
           }
          ],
          "contour": [
           {
            "colorbar": {
             "outlinewidth": 0,
             "ticks": ""
            },
            "colorscale": [
             [
              0,
              "#0d0887"
             ],
             [
              0.1111111111111111,
              "#46039f"
             ],
             [
              0.2222222222222222,
              "#7201a8"
             ],
             [
              0.3333333333333333,
              "#9c179e"
             ],
             [
              0.4444444444444444,
              "#bd3786"
             ],
             [
              0.5555555555555556,
              "#d8576b"
             ],
             [
              0.6666666666666666,
              "#ed7953"
             ],
             [
              0.7777777777777778,
              "#fb9f3a"
             ],
             [
              0.8888888888888888,
              "#fdca26"
             ],
             [
              1,
              "#f0f921"
             ]
            ],
            "type": "contour"
           }
          ],
          "contourcarpet": [
           {
            "colorbar": {
             "outlinewidth": 0,
             "ticks": ""
            },
            "type": "contourcarpet"
           }
          ],
          "heatmap": [
           {
            "colorbar": {
             "outlinewidth": 0,
             "ticks": ""
            },
            "colorscale": [
             [
              0,
              "#0d0887"
             ],
             [
              0.1111111111111111,
              "#46039f"
             ],
             [
              0.2222222222222222,
              "#7201a8"
             ],
             [
              0.3333333333333333,
              "#9c179e"
             ],
             [
              0.4444444444444444,
              "#bd3786"
             ],
             [
              0.5555555555555556,
              "#d8576b"
             ],
             [
              0.6666666666666666,
              "#ed7953"
             ],
             [
              0.7777777777777778,
              "#fb9f3a"
             ],
             [
              0.8888888888888888,
              "#fdca26"
             ],
             [
              1,
              "#f0f921"
             ]
            ],
            "type": "heatmap"
           }
          ],
          "heatmapgl": [
           {
            "colorbar": {
             "outlinewidth": 0,
             "ticks": ""
            },
            "colorscale": [
             [
              0,
              "#0d0887"
             ],
             [
              0.1111111111111111,
              "#46039f"
             ],
             [
              0.2222222222222222,
              "#7201a8"
             ],
             [
              0.3333333333333333,
              "#9c179e"
             ],
             [
              0.4444444444444444,
              "#bd3786"
             ],
             [
              0.5555555555555556,
              "#d8576b"
             ],
             [
              0.6666666666666666,
              "#ed7953"
             ],
             [
              0.7777777777777778,
              "#fb9f3a"
             ],
             [
              0.8888888888888888,
              "#fdca26"
             ],
             [
              1,
              "#f0f921"
             ]
            ],
            "type": "heatmapgl"
           }
          ],
          "histogram": [
           {
            "marker": {
             "pattern": {
              "fillmode": "overlay",
              "size": 10,
              "solidity": 0.2
             }
            },
            "type": "histogram"
           }
          ],
          "histogram2d": [
           {
            "colorbar": {
             "outlinewidth": 0,
             "ticks": ""
            },
            "colorscale": [
             [
              0,
              "#0d0887"
             ],
             [
              0.1111111111111111,
              "#46039f"
             ],
             [
              0.2222222222222222,
              "#7201a8"
             ],
             [
              0.3333333333333333,
              "#9c179e"
             ],
             [
              0.4444444444444444,
              "#bd3786"
             ],
             [
              0.5555555555555556,
              "#d8576b"
             ],
             [
              0.6666666666666666,
              "#ed7953"
             ],
             [
              0.7777777777777778,
              "#fb9f3a"
             ],
             [
              0.8888888888888888,
              "#fdca26"
             ],
             [
              1,
              "#f0f921"
             ]
            ],
            "type": "histogram2d"
           }
          ],
          "histogram2dcontour": [
           {
            "colorbar": {
             "outlinewidth": 0,
             "ticks": ""
            },
            "colorscale": [
             [
              0,
              "#0d0887"
             ],
             [
              0.1111111111111111,
              "#46039f"
             ],
             [
              0.2222222222222222,
              "#7201a8"
             ],
             [
              0.3333333333333333,
              "#9c179e"
             ],
             [
              0.4444444444444444,
              "#bd3786"
             ],
             [
              0.5555555555555556,
              "#d8576b"
             ],
             [
              0.6666666666666666,
              "#ed7953"
             ],
             [
              0.7777777777777778,
              "#fb9f3a"
             ],
             [
              0.8888888888888888,
              "#fdca26"
             ],
             [
              1,
              "#f0f921"
             ]
            ],
            "type": "histogram2dcontour"
           }
          ],
          "mesh3d": [
           {
            "colorbar": {
             "outlinewidth": 0,
             "ticks": ""
            },
            "type": "mesh3d"
           }
          ],
          "parcoords": [
           {
            "line": {
             "colorbar": {
              "outlinewidth": 0,
              "ticks": ""
             }
            },
            "type": "parcoords"
           }
          ],
          "pie": [
           {
            "automargin": true,
            "type": "pie"
           }
          ],
          "scatter": [
           {
            "marker": {
             "colorbar": {
              "outlinewidth": 0,
              "ticks": ""
             }
            },
            "type": "scatter"
           }
          ],
          "scatter3d": [
           {
            "line": {
             "colorbar": {
              "outlinewidth": 0,
              "ticks": ""
             }
            },
            "marker": {
             "colorbar": {
              "outlinewidth": 0,
              "ticks": ""
             }
            },
            "type": "scatter3d"
           }
          ],
          "scattercarpet": [
           {
            "marker": {
             "colorbar": {
              "outlinewidth": 0,
              "ticks": ""
             }
            },
            "type": "scattercarpet"
           }
          ],
          "scattergeo": [
           {
            "marker": {
             "colorbar": {
              "outlinewidth": 0,
              "ticks": ""
             }
            },
            "type": "scattergeo"
           }
          ],
          "scattergl": [
           {
            "marker": {
             "colorbar": {
              "outlinewidth": 0,
              "ticks": ""
             }
            },
            "type": "scattergl"
           }
          ],
          "scattermapbox": [
           {
            "marker": {
             "colorbar": {
              "outlinewidth": 0,
              "ticks": ""
             }
            },
            "type": "scattermapbox"
           }
          ],
          "scatterpolar": [
           {
            "marker": {
             "colorbar": {
              "outlinewidth": 0,
              "ticks": ""
             }
            },
            "type": "scatterpolar"
           }
          ],
          "scatterpolargl": [
           {
            "marker": {
             "colorbar": {
              "outlinewidth": 0,
              "ticks": ""
             }
            },
            "type": "scatterpolargl"
           }
          ],
          "scatterternary": [
           {
            "marker": {
             "colorbar": {
              "outlinewidth": 0,
              "ticks": ""
             }
            },
            "type": "scatterternary"
           }
          ],
          "surface": [
           {
            "colorbar": {
             "outlinewidth": 0,
             "ticks": ""
            },
            "colorscale": [
             [
              0,
              "#0d0887"
             ],
             [
              0.1111111111111111,
              "#46039f"
             ],
             [
              0.2222222222222222,
              "#7201a8"
             ],
             [
              0.3333333333333333,
              "#9c179e"
             ],
             [
              0.4444444444444444,
              "#bd3786"
             ],
             [
              0.5555555555555556,
              "#d8576b"
             ],
             [
              0.6666666666666666,
              "#ed7953"
             ],
             [
              0.7777777777777778,
              "#fb9f3a"
             ],
             [
              0.8888888888888888,
              "#fdca26"
             ],
             [
              1,
              "#f0f921"
             ]
            ],
            "type": "surface"
           }
          ],
          "table": [
           {
            "cells": {
             "fill": {
              "color": "#EBF0F8"
             },
             "line": {
              "color": "white"
             }
            },
            "header": {
             "fill": {
              "color": "#C8D4E3"
             },
             "line": {
              "color": "white"
             }
            },
            "type": "table"
           }
          ]
         },
         "layout": {
          "annotationdefaults": {
           "arrowcolor": "#2a3f5f",
           "arrowhead": 0,
           "arrowwidth": 1
          },
          "autotypenumbers": "strict",
          "coloraxis": {
           "colorbar": {
            "outlinewidth": 0,
            "ticks": ""
           }
          },
          "colorscale": {
           "diverging": [
            [
             0,
             "#8e0152"
            ],
            [
             0.1,
             "#c51b7d"
            ],
            [
             0.2,
             "#de77ae"
            ],
            [
             0.3,
             "#f1b6da"
            ],
            [
             0.4,
             "#fde0ef"
            ],
            [
             0.5,
             "#f7f7f7"
            ],
            [
             0.6,
             "#e6f5d0"
            ],
            [
             0.7,
             "#b8e186"
            ],
            [
             0.8,
             "#7fbc41"
            ],
            [
             0.9,
             "#4d9221"
            ],
            [
             1,
             "#276419"
            ]
           ],
           "sequential": [
            [
             0,
             "#0d0887"
            ],
            [
             0.1111111111111111,
             "#46039f"
            ],
            [
             0.2222222222222222,
             "#7201a8"
            ],
            [
             0.3333333333333333,
             "#9c179e"
            ],
            [
             0.4444444444444444,
             "#bd3786"
            ],
            [
             0.5555555555555556,
             "#d8576b"
            ],
            [
             0.6666666666666666,
             "#ed7953"
            ],
            [
             0.7777777777777778,
             "#fb9f3a"
            ],
            [
             0.8888888888888888,
             "#fdca26"
            ],
            [
             1,
             "#f0f921"
            ]
           ],
           "sequentialminus": [
            [
             0,
             "#0d0887"
            ],
            [
             0.1111111111111111,
             "#46039f"
            ],
            [
             0.2222222222222222,
             "#7201a8"
            ],
            [
             0.3333333333333333,
             "#9c179e"
            ],
            [
             0.4444444444444444,
             "#bd3786"
            ],
            [
             0.5555555555555556,
             "#d8576b"
            ],
            [
             0.6666666666666666,
             "#ed7953"
            ],
            [
             0.7777777777777778,
             "#fb9f3a"
            ],
            [
             0.8888888888888888,
             "#fdca26"
            ],
            [
             1,
             "#f0f921"
            ]
           ]
          },
          "colorway": [
           "#636efa",
           "#EF553B",
           "#00cc96",
           "#ab63fa",
           "#FFA15A",
           "#19d3f3",
           "#FF6692",
           "#B6E880",
           "#FF97FF",
           "#FECB52"
          ],
          "font": {
           "color": "#2a3f5f"
          },
          "geo": {
           "bgcolor": "white",
           "lakecolor": "white",
           "landcolor": "#E5ECF6",
           "showlakes": true,
           "showland": true,
           "subunitcolor": "white"
          },
          "hoverlabel": {
           "align": "left"
          },
          "hovermode": "closest",
          "mapbox": {
           "style": "light"
          },
          "paper_bgcolor": "white",
          "plot_bgcolor": "#E5ECF6",
          "polar": {
           "angularaxis": {
            "gridcolor": "white",
            "linecolor": "white",
            "ticks": ""
           },
           "bgcolor": "#E5ECF6",
           "radialaxis": {
            "gridcolor": "white",
            "linecolor": "white",
            "ticks": ""
           }
          },
          "scene": {
           "xaxis": {
            "backgroundcolor": "#E5ECF6",
            "gridcolor": "white",
            "gridwidth": 2,
            "linecolor": "white",
            "showbackground": true,
            "ticks": "",
            "zerolinecolor": "white"
           },
           "yaxis": {
            "backgroundcolor": "#E5ECF6",
            "gridcolor": "white",
            "gridwidth": 2,
            "linecolor": "white",
            "showbackground": true,
            "ticks": "",
            "zerolinecolor": "white"
           },
           "zaxis": {
            "backgroundcolor": "#E5ECF6",
            "gridcolor": "white",
            "gridwidth": 2,
            "linecolor": "white",
            "showbackground": true,
            "ticks": "",
            "zerolinecolor": "white"
           }
          },
          "shapedefaults": {
           "line": {
            "color": "#2a3f5f"
           }
          },
          "ternary": {
           "aaxis": {
            "gridcolor": "white",
            "linecolor": "white",
            "ticks": ""
           },
           "baxis": {
            "gridcolor": "white",
            "linecolor": "white",
            "ticks": ""
           },
           "bgcolor": "#E5ECF6",
           "caxis": {
            "gridcolor": "white",
            "linecolor": "white",
            "ticks": ""
           }
          },
          "title": {
           "x": 0.05
          },
          "xaxis": {
           "automargin": true,
           "gridcolor": "white",
           "linecolor": "white",
           "ticks": "",
           "title": {
            "standoff": 15
           },
           "zerolinecolor": "white",
           "zerolinewidth": 2
          },
          "yaxis": {
           "automargin": true,
           "gridcolor": "white",
           "linecolor": "white",
           "ticks": "",
           "title": {
            "standoff": 15
           },
           "zerolinecolor": "white",
           "zerolinewidth": 2
          }
         }
        },
        "title": {
         "font": {
          "size": 20
         },
         "text": "PCA of Heart Disease Dataset"
        },
        "xaxis": {
         "anchor": "y",
         "domain": [
          0,
          1
         ],
         "title": {
          "text": "0"
         }
        },
        "yaxis": {
         "anchor": "x",
         "domain": [
          0,
          1
         ],
         "title": {
          "text": "1"
         }
        }
       }
      }
     },
     "metadata": {},
     "output_type": "display_data"
    }
   ],
   "source": [
    "# Apply PCA\n",
    "pca = PCA(data=train_data_dummies.drop(columns=['HeartDisease']))\n",
    "projected = pca.do_pca()\n",
    "# Plot first two principal components\n",
    "fig = px.scatter(projected, x=0, y=1, color=train_data_dummies['HeartDisease'], color_continuous_scale='tealrose',)\n",
    "fig.update_layout(title='PCA of Heart Disease Dataset', title_font_size=20)\n",
    "fig.show()\n"
   ]
  },
  {
   "cell_type": "code",
   "execution_count": 16,
   "metadata": {},
   "outputs": [
    {
     "name": "stdout",
     "output_type": "stream",
     "text": [
      "The number of principal components to explain 90% of the variance is 12\n"
     ]
    }
   ],
   "source": [
    "print(f'The number of principal components to explain 90% of the variance is {pca.principal_components}')"
   ]
  },
  {
   "attachments": {},
   "cell_type": "markdown",
   "metadata": {},
   "source": [
    "### FAMD Analysis"
   ]
  },
  {
   "cell_type": "code",
   "execution_count": 17,
   "metadata": {},
   "outputs": [
    {
     "data": {
      "image/png": "[encoded data removed]",
      "text/plain": [
       "<Figure size 640x480 with 1 Axes>"
      ]
     },
     "metadata": {},
     "output_type": "display_data"
    }
   ],
   "source": [
    "# Apply FAMD to data\n",
    "famd = FAMD(n_components=2, n_iter=3, copy=True, check_input=True, engine='auto', random_state=42)\n",
    "famd.fit(train_data.drop(columns=['HeartDisease']))\n",
    "projected_famd = famd.transform(train_data.drop(columns=['HeartDisease']))\n",
    "fig, ax = plt.subplots()\n",
    "famd.plot_row_coordinates(train_data, ax=ax, color_labels=train_data['HeartDisease'],)\n",
    "ax.set_title('FAMD Analysis', fontdict=font_dict)\n",
    "ax.grid(False)"
   ]
  },
  {
   "attachments": {},
   "cell_type": "markdown",
   "metadata": {},
   "source": [
    "### Feature Selection with Recursive feature elimination with cross-validation (RFECV)"
   ]
  },
  {
   "cell_type": "code",
   "execution_count": 18,
   "metadata": {},
   "outputs": [
    {
     "name": "stdout",
     "output_type": "stream",
     "text": [
      "Optimal number of features: 8\n"
     ]
    }
   ],
   "source": [
    "from sklearn.feature_selection import RFECV\n",
    "from sklearn.model_selection import StratifiedKFold\n",
    "from sklearn.linear_model import LogisticRegression\n",
    "\n",
    "min_features_to_select = 1\n",
    "cv = StratifiedKFold(n_splits=5, shuffle=True, random_state=42)\n",
    "estimator = LogisticRegression(max_iter=1000, random_state=42)\n",
    "selector = RFECV(estimator, step=1, cv=cv, scoring='accuracy', min_features_to_select=min_features_to_select)\n",
    "selector = selector.fit(projected, train_data_dummies['HeartDisease'])\n",
    "print(f'Optimal number of features: {selector.n_features_}')"
   ]
  },
  {
   "cell_type": "code",
   "execution_count": 19,
   "metadata": {},
   "outputs": [
    {
     "data": {
      "image/png": "[encoded data removed]",
      "text/plain": [
       "<Figure size 640x480 with 1 Axes>"
      ]
     },
     "metadata": {},
     "output_type": "display_data"
    }
   ],
   "source": [
    "# Plot number of features VS. cross-validation scores\n",
    "n_scores = len(selector.cv_results_[\"mean_test_score\"])\n",
    "plt.figure()\n",
    "plt.xlabel(\"Number of features selected\")\n",
    "plt.ylabel(\"Mean test accuracy\")\n",
    "plt.errorbar(\n",
    "    range(min_features_to_select, n_scores + min_features_to_select),\n",
    "    selector.cv_results_[\"mean_test_score\"],\n",
    "    yerr=selector.cv_results_[\"std_test_score\"],\n",
    ")\n",
    "plt.title(\"Recursive Feature Elimination \\nwith correlated features\")\n",
    "plt.show()"
   ]
  },
  {
   "cell_type": "code",
   "execution_count": 20,
   "metadata": {},
   "outputs": [
    {
     "data": {
      "text/plain": [
       "(718, 8)"
      ]
     },
     "execution_count": 20,
     "metadata": {},
     "output_type": "execute_result"
    }
   ],
   "source": [
    "selected_features = selector.transform(projected)\n",
    "selected_features.shape"
   ]
  },
  {
   "attachments": {},
   "cell_type": "markdown",
   "metadata": {},
   "source": [
    "## Classification\n",
    "\n",
    "We will be using the following classifiers for our task:\n",
    "\n",
    "* Support Vector Machine\n",
    "* Random forest\n",
    "* Gradient Boosting\n",
    "* XGBoost\n",
    "* MLP"
   ]
  },
  {
   "cell_type": "code",
   "execution_count": 27,
   "metadata": {},
   "outputs": [
    {
     "data": {
      "text/plain": [
       "((574, 8), (144, 8), (574,), (144,))"
      ]
     },
     "execution_count": 27,
     "metadata": {},
     "output_type": "execute_result"
    }
   ],
   "source": [
    "from sklearn.model_selection import train_test_split\n",
    "\n",
    "# Split training data into training and validation sets\n",
    "X_train, X_val, y_train, y_val = train_test_split(selected_features, train_data_dummies['HeartDisease'], test_size=0.2, random_state=42)\n",
    "\n",
    "# # Transform test data\n",
    "# val_data_dummies = pd.get_dummies(test_data, columns=CATEGORICAL_COLS)\n",
    "# test_data_dummies[NUMERICAL_COLS] = sc.transform(test_data_dummies[NUMERICAL_COLS])\n",
    "# projected_test = pca.transform(test_data_dummies.drop(columns=['HeartDisease']).to_numpy())\n",
    "# selected_features_test = selector.transform(projected_test)\n",
    "# selected_features_test.shape\n",
    "\n",
    "X_train.shape, X_val.shape, y_train.shape, y_val.shape"
   ]
  },
  {
   "cell_type": "code",
   "execution_count": 28,
   "metadata": {},
   "outputs": [
    {
     "name": "stdout",
     "output_type": "stream",
     "text": [
      "SVM accuracy: 0.861\n",
      "              precision    recall  f1-score   support\n",
      "\n",
      "           0       0.91      0.76      0.83        63\n",
      "           1       0.84      0.94      0.88        81\n",
      "\n",
      "    accuracy                           0.86       144\n",
      "   macro avg       0.87      0.85      0.86       144\n",
      "weighted avg       0.87      0.86      0.86       144\n",
      "\n",
      "RF accuracy: 0.840\n",
      "              precision    recall  f1-score   support\n",
      "\n",
      "           0       0.88      0.73      0.80        63\n",
      "           1       0.82      0.93      0.87        81\n",
      "\n",
      "    accuracy                           0.84       144\n",
      "   macro avg       0.85      0.83      0.83       144\n",
      "weighted avg       0.85      0.84      0.84       144\n",
      "\n",
      "GB accuracy: 0.833\n",
      "              precision    recall  f1-score   support\n",
      "\n",
      "           0       0.88      0.71      0.79        63\n",
      "           1       0.81      0.93      0.86        81\n",
      "\n",
      "    accuracy                           0.83       144\n",
      "   macro avg       0.84      0.82      0.83       144\n",
      "weighted avg       0.84      0.83      0.83       144\n",
      "\n"
     ]
    },
    {
     "name": "stderr",
     "output_type": "stream",
     "text": [
      "/Applications/anaconda3/lib/python3.8/site-packages/sklearn/neural_network/_multilayer_perceptron.py:692: ConvergenceWarning:\n",
      "\n",
      "Stochastic Optimizer: Maximum iterations (100) reached and the optimization hasn't converged yet.\n",
      "\n"
     ]
    },
    {
     "name": "stdout",
     "output_type": "stream",
     "text": [
      "MLP accuracy: 0.875\n",
      "              precision    recall  f1-score   support\n",
      "\n",
      "           0       0.89      0.81      0.85        63\n",
      "           1       0.86      0.93      0.89        81\n",
      "\n",
      "    accuracy                           0.88       144\n",
      "   macro avg       0.88      0.87      0.87       144\n",
      "weighted avg       0.88      0.88      0.87       144\n",
      "\n",
      "XGBoost accuracy: 0.847\n",
      "              precision    recall  f1-score   support\n",
      "\n",
      "           0       0.89      0.75      0.81        63\n",
      "           1       0.82      0.93      0.87        81\n",
      "\n",
      "    accuracy                           0.85       144\n",
      "   macro avg       0.86      0.84      0.84       144\n",
      "weighted avg       0.85      0.85      0.85       144\n",
      "\n"
     ]
    }
   ],
   "source": [
    "from sklearn.svm import SVC\n",
    "from sklearn.ensemble import RandomForestClassifier, GradientBoostingClassifier\n",
    "from sklearn.neural_network import MLPClassifier\n",
    "from xgboost import XGBClassifier\n",
    "from sklearn.metrics import classification_report\n",
    "\n",
    "# Define classifiers\n",
    "classifiers = {\n",
    "    'SVM': SVC(random_state=42, C=1.2),\n",
    "    'RF': RandomForestClassifier(random_state=42, max_depth=100, n_estimators=100, criterion='entropy'),\n",
    "    'GB': GradientBoostingClassifier(random_state=42, max_depth=2, learning_rate=0.2, criterion='friedman_mse'),\n",
    "    'MLP': MLPClassifier(random_state=42, max_iter=100, hidden_layer_sizes=(20, 20, 20)),\n",
    "    'XGBoost': XGBClassifier(random_state=42, eta=0.2, max_depth=4),\n",
    "}    \n",
    "\n",
    "# Define function to train and evaluate classifiers\n",
    "def train_and_evaluate(classifiers, X_train, y_train, X_val, y_val):\n",
    "    trained_classifiers = {}\n",
    "    for name, clf in classifiers.items():\n",
    "        clf.fit(X_train, y_train)\n",
    "        print(f'{name} accuracy: {clf.score(X_val, y_val):.3f}')\n",
    "        y_pred = clf.predict(X_val)\n",
    "        print(classification_report(y_val, y_pred))\n",
    "        trained_classifiers[name] = clf\n",
    "    return trained_classifiers\n",
    "        \n",
    "\n",
    "# Train and evaluate classifiers\n",
    "trained_classifiers = train_and_evaluate(classifiers, X_train, y_train, X_val, y_val)\n"
   ]
  },
  {
   "attachments": {},
   "cell_type": "markdown",
   "metadata": {},
   "source": [
    "## Evaluation"
   ]
  },
  {
   "cell_type": "code",
   "execution_count": 33,
   "metadata": {},
   "outputs": [
    {
     "name": "stdout",
     "output_type": "stream",
     "text": [
      "SVM confusion matrix:\n",
      " [[49 14]\n",
      " [ 6 75]]\n",
      "RF confusion matrix:\n",
      " [[46 17]\n",
      " [ 6 75]]\n",
      "GB confusion matrix:\n",
      " [[45 18]\n",
      " [ 6 75]]\n"
     ]
    },
    {
     "name": "stderr",
     "output_type": "stream",
     "text": [
      "/Applications/anaconda3/lib/python3.8/site-packages/sklearn/neural_network/_multilayer_perceptron.py:692: ConvergenceWarning:\n",
      "\n",
      "Stochastic Optimizer: Maximum iterations (100) reached and the optimization hasn't converged yet.\n",
      "\n",
      "/Applications/anaconda3/lib/python3.8/site-packages/sklearn/neural_network/_multilayer_perceptron.py:692: ConvergenceWarning:\n",
      "\n",
      "Stochastic Optimizer: Maximum iterations (100) reached and the optimization hasn't converged yet.\n",
      "\n",
      "/Applications/anaconda3/lib/python3.8/site-packages/sklearn/neural_network/_multilayer_perceptron.py:692: ConvergenceWarning:\n",
      "\n",
      "Stochastic Optimizer: Maximum iterations (100) reached and the optimization hasn't converged yet.\n",
      "\n",
      "/Applications/anaconda3/lib/python3.8/site-packages/sklearn/neural_network/_multilayer_perceptron.py:692: ConvergenceWarning:\n",
      "\n",
      "Stochastic Optimizer: Maximum iterations (100) reached and the optimization hasn't converged yet.\n",
      "\n",
      "/Applications/anaconda3/lib/python3.8/site-packages/sklearn/neural_network/_multilayer_perceptron.py:692: ConvergenceWarning:\n",
      "\n",
      "Stochastic Optimizer: Maximum iterations (100) reached and the optimization hasn't converged yet.\n",
      "\n",
      "/Applications/anaconda3/lib/python3.8/site-packages/sklearn/neural_network/_multilayer_perceptron.py:692: ConvergenceWarning:\n",
      "\n",
      "Stochastic Optimizer: Maximum iterations (100) reached and the optimization hasn't converged yet.\n",
      "\n",
      "/Applications/anaconda3/lib/python3.8/site-packages/sklearn/neural_network/_multilayer_perceptron.py:692: ConvergenceWarning:\n",
      "\n",
      "Stochastic Optimizer: Maximum iterations (100) reached and the optimization hasn't converged yet.\n",
      "\n",
      "/Applications/anaconda3/lib/python3.8/site-packages/sklearn/neural_network/_multilayer_perceptron.py:692: ConvergenceWarning:\n",
      "\n",
      "Stochastic Optimizer: Maximum iterations (100) reached and the optimization hasn't converged yet.\n",
      "\n",
      "/Applications/anaconda3/lib/python3.8/site-packages/sklearn/neural_network/_multilayer_perceptron.py:692: ConvergenceWarning:\n",
      "\n",
      "Stochastic Optimizer: Maximum iterations (100) reached and the optimization hasn't converged yet.\n",
      "\n",
      "/Applications/anaconda3/lib/python3.8/site-packages/sklearn/neural_network/_multilayer_perceptron.py:692: ConvergenceWarning:\n",
      "\n",
      "Stochastic Optimizer: Maximum iterations (100) reached and the optimization hasn't converged yet.\n",
      "\n",
      "/Applications/anaconda3/lib/python3.8/site-packages/sklearn/neural_network/_multilayer_perceptron.py:692: ConvergenceWarning:\n",
      "\n",
      "Stochastic Optimizer: Maximum iterations (100) reached and the optimization hasn't converged yet.\n",
      "\n",
      "/Applications/anaconda3/lib/python3.8/site-packages/sklearn/neural_network/_multilayer_perceptron.py:692: ConvergenceWarning:\n",
      "\n",
      "Stochastic Optimizer: Maximum iterations (100) reached and the optimization hasn't converged yet.\n",
      "\n",
      "/Applications/anaconda3/lib/python3.8/site-packages/sklearn/neural_network/_multilayer_perceptron.py:692: ConvergenceWarning:\n",
      "\n",
      "Stochastic Optimizer: Maximum iterations (100) reached and the optimization hasn't converged yet.\n",
      "\n",
      "/Applications/anaconda3/lib/python3.8/site-packages/sklearn/neural_network/_multilayer_perceptron.py:692: ConvergenceWarning:\n",
      "\n",
      "Stochastic Optimizer: Maximum iterations (100) reached and the optimization hasn't converged yet.\n",
      "\n",
      "/Applications/anaconda3/lib/python3.8/site-packages/sklearn/neural_network/_multilayer_perceptron.py:692: ConvergenceWarning:\n",
      "\n",
      "Stochastic Optimizer: Maximum iterations (100) reached and the optimization hasn't converged yet.\n",
      "\n",
      "/Applications/anaconda3/lib/python3.8/site-packages/sklearn/neural_network/_multilayer_perceptron.py:692: ConvergenceWarning:\n",
      "\n",
      "Stochastic Optimizer: Maximum iterations (100) reached and the optimization hasn't converged yet.\n",
      "\n",
      "/Applications/anaconda3/lib/python3.8/site-packages/sklearn/neural_network/_multilayer_perceptron.py:692: ConvergenceWarning:\n",
      "\n",
      "Stochastic Optimizer: Maximum iterations (100) reached and the optimization hasn't converged yet.\n",
      "\n",
      "/Applications/anaconda3/lib/python3.8/site-packages/sklearn/neural_network/_multilayer_perceptron.py:692: ConvergenceWarning:\n",
      "\n",
      "Stochastic Optimizer: Maximum iterations (100) reached and the optimization hasn't converged yet.\n",
      "\n",
      "/Applications/anaconda3/lib/python3.8/site-packages/sklearn/neural_network/_multilayer_perceptron.py:692: ConvergenceWarning:\n",
      "\n",
      "Stochastic Optimizer: Maximum iterations (100) reached and the optimization hasn't converged yet.\n",
      "\n",
      "/Applications/anaconda3/lib/python3.8/site-packages/sklearn/neural_network/_multilayer_perceptron.py:692: ConvergenceWarning:\n",
      "\n",
      "Stochastic Optimizer: Maximum iterations (100) reached and the optimization hasn't converged yet.\n",
      "\n",
      "/Applications/anaconda3/lib/python3.8/site-packages/sklearn/neural_network/_multilayer_perceptron.py:692: ConvergenceWarning:\n",
      "\n",
      "Stochastic Optimizer: Maximum iterations (100) reached and the optimization hasn't converged yet.\n",
      "\n",
      "/Applications/anaconda3/lib/python3.8/site-packages/sklearn/neural_network/_multilayer_perceptron.py:692: ConvergenceWarning:\n",
      "\n",
      "Stochastic Optimizer: Maximum iterations (100) reached and the optimization hasn't converged yet.\n",
      "\n",
      "/Applications/anaconda3/lib/python3.8/site-packages/sklearn/neural_network/_multilayer_perceptron.py:692: ConvergenceWarning:\n",
      "\n",
      "Stochastic Optimizer: Maximum iterations (100) reached and the optimization hasn't converged yet.\n",
      "\n",
      "/Applications/anaconda3/lib/python3.8/site-packages/sklearn/neural_network/_multilayer_perceptron.py:692: ConvergenceWarning:\n",
      "\n",
      "Stochastic Optimizer: Maximum iterations (100) reached and the optimization hasn't converged yet.\n",
      "\n",
      "/Applications/anaconda3/lib/python3.8/site-packages/sklearn/neural_network/_multilayer_perceptron.py:692: ConvergenceWarning:\n",
      "\n",
      "Stochastic Optimizer: Maximum iterations (100) reached and the optimization hasn't converged yet.\n",
      "\n",
      "/Applications/anaconda3/lib/python3.8/site-packages/sklearn/neural_network/_multilayer_perceptron.py:692: ConvergenceWarning:\n",
      "\n",
      "Stochastic Optimizer: Maximum iterations (100) reached and the optimization hasn't converged yet.\n",
      "\n",
      "/Applications/anaconda3/lib/python3.8/site-packages/sklearn/neural_network/_multilayer_perceptron.py:692: ConvergenceWarning:\n",
      "\n",
      "Stochastic Optimizer: Maximum iterations (100) reached and the optimization hasn't converged yet.\n",
      "\n",
      "/Applications/anaconda3/lib/python3.8/site-packages/sklearn/neural_network/_multilayer_perceptron.py:692: ConvergenceWarning:\n",
      "\n",
      "Stochastic Optimizer: Maximum iterations (100) reached and the optimization hasn't converged yet.\n",
      "\n",
      "/Applications/anaconda3/lib/python3.8/site-packages/sklearn/neural_network/_multilayer_perceptron.py:692: ConvergenceWarning:\n",
      "\n",
      "Stochastic Optimizer: Maximum iterations (100) reached and the optimization hasn't converged yet.\n",
      "\n",
      "/Applications/anaconda3/lib/python3.8/site-packages/sklearn/neural_network/_multilayer_perceptron.py:692: ConvergenceWarning:\n",
      "\n",
      "Stochastic Optimizer: Maximum iterations (100) reached and the optimization hasn't converged yet.\n",
      "\n",
      "/Applications/anaconda3/lib/python3.8/site-packages/sklearn/neural_network/_multilayer_perceptron.py:692: ConvergenceWarning:\n",
      "\n",
      "Stochastic Optimizer: Maximum iterations (100) reached and the optimization hasn't converged yet.\n",
      "\n",
      "/Applications/anaconda3/lib/python3.8/site-packages/sklearn/neural_network/_multilayer_perceptron.py:692: ConvergenceWarning:\n",
      "\n",
      "Stochastic Optimizer: Maximum iterations (100) reached and the optimization hasn't converged yet.\n",
      "\n",
      "/Applications/anaconda3/lib/python3.8/site-packages/sklearn/neural_network/_multilayer_perceptron.py:692: ConvergenceWarning:\n",
      "\n",
      "Stochastic Optimizer: Maximum iterations (100) reached and the optimization hasn't converged yet.\n",
      "\n",
      "/Applications/anaconda3/lib/python3.8/site-packages/sklearn/neural_network/_multilayer_perceptron.py:692: ConvergenceWarning:\n",
      "\n",
      "Stochastic Optimizer: Maximum iterations (100) reached and the optimization hasn't converged yet.\n",
      "\n",
      "/Applications/anaconda3/lib/python3.8/site-packages/sklearn/neural_network/_multilayer_perceptron.py:692: ConvergenceWarning:\n",
      "\n",
      "Stochastic Optimizer: Maximum iterations (100) reached and the optimization hasn't converged yet.\n",
      "\n",
      "/Applications/anaconda3/lib/python3.8/site-packages/sklearn/neural_network/_multilayer_perceptron.py:692: ConvergenceWarning:\n",
      "\n",
      "Stochastic Optimizer: Maximum iterations (100) reached and the optimization hasn't converged yet.\n",
      "\n",
      "/Applications/anaconda3/lib/python3.8/site-packages/sklearn/neural_network/_multilayer_perceptron.py:692: ConvergenceWarning:\n",
      "\n",
      "Stochastic Optimizer: Maximum iterations (100) reached and the optimization hasn't converged yet.\n",
      "\n",
      "/Applications/anaconda3/lib/python3.8/site-packages/sklearn/neural_network/_multilayer_perceptron.py:692: ConvergenceWarning:\n",
      "\n",
      "Stochastic Optimizer: Maximum iterations (100) reached and the optimization hasn't converged yet.\n",
      "\n",
      "/Applications/anaconda3/lib/python3.8/site-packages/sklearn/neural_network/_multilayer_perceptron.py:692: ConvergenceWarning:\n",
      "\n",
      "Stochastic Optimizer: Maximum iterations (100) reached and the optimization hasn't converged yet.\n",
      "\n",
      "/Applications/anaconda3/lib/python3.8/site-packages/sklearn/neural_network/_multilayer_perceptron.py:692: ConvergenceWarning:\n",
      "\n",
      "Stochastic Optimizer: Maximum iterations (100) reached and the optimization hasn't converged yet.\n",
      "\n",
      "/Applications/anaconda3/lib/python3.8/site-packages/sklearn/neural_network/_multilayer_perceptron.py:692: ConvergenceWarning:\n",
      "\n",
      "Stochastic Optimizer: Maximum iterations (100) reached and the optimization hasn't converged yet.\n",
      "\n",
      "/Applications/anaconda3/lib/python3.8/site-packages/sklearn/neural_network/_multilayer_perceptron.py:692: ConvergenceWarning:\n",
      "\n",
      "Stochastic Optimizer: Maximum iterations (100) reached and the optimization hasn't converged yet.\n",
      "\n",
      "/Applications/anaconda3/lib/python3.8/site-packages/sklearn/neural_network/_multilayer_perceptron.py:692: ConvergenceWarning:\n",
      "\n",
      "Stochastic Optimizer: Maximum iterations (100) reached and the optimization hasn't converged yet.\n",
      "\n",
      "/Applications/anaconda3/lib/python3.8/site-packages/sklearn/neural_network/_multilayer_perceptron.py:692: ConvergenceWarning:\n",
      "\n",
      "Stochastic Optimizer: Maximum iterations (100) reached and the optimization hasn't converged yet.\n",
      "\n",
      "/Applications/anaconda3/lib/python3.8/site-packages/sklearn/neural_network/_multilayer_perceptron.py:692: ConvergenceWarning:\n",
      "\n",
      "Stochastic Optimizer: Maximum iterations (100) reached and the optimization hasn't converged yet.\n",
      "\n",
      "/Applications/anaconda3/lib/python3.8/site-packages/sklearn/neural_network/_multilayer_perceptron.py:692: ConvergenceWarning:\n",
      "\n",
      "Stochastic Optimizer: Maximum iterations (100) reached and the optimization hasn't converged yet.\n",
      "\n",
      "/Applications/anaconda3/lib/python3.8/site-packages/sklearn/neural_network/_multilayer_perceptron.py:692: ConvergenceWarning:\n",
      "\n",
      "Stochastic Optimizer: Maximum iterations (100) reached and the optimization hasn't converged yet.\n",
      "\n",
      "/Applications/anaconda3/lib/python3.8/site-packages/sklearn/neural_network/_multilayer_perceptron.py:692: ConvergenceWarning:\n",
      "\n",
      "Stochastic Optimizer: Maximum iterations (100) reached and the optimization hasn't converged yet.\n",
      "\n",
      "/Applications/anaconda3/lib/python3.8/site-packages/sklearn/neural_network/_multilayer_perceptron.py:692: ConvergenceWarning:\n",
      "\n",
      "Stochastic Optimizer: Maximum iterations (100) reached and the optimization hasn't converged yet.\n",
      "\n",
      "/Applications/anaconda3/lib/python3.8/site-packages/sklearn/neural_network/_multilayer_perceptron.py:692: ConvergenceWarning:\n",
      "\n",
      "Stochastic Optimizer: Maximum iterations (100) reached and the optimization hasn't converged yet.\n",
      "\n",
      "/Applications/anaconda3/lib/python3.8/site-packages/sklearn/neural_network/_multilayer_perceptron.py:692: ConvergenceWarning:\n",
      "\n",
      "Stochastic Optimizer: Maximum iterations (100) reached and the optimization hasn't converged yet.\n",
      "\n",
      "/Applications/anaconda3/lib/python3.8/site-packages/sklearn/neural_network/_multilayer_perceptron.py:692: ConvergenceWarning:\n",
      "\n",
      "Stochastic Optimizer: Maximum iterations (100) reached and the optimization hasn't converged yet.\n",
      "\n",
      "/Applications/anaconda3/lib/python3.8/site-packages/sklearn/neural_network/_multilayer_perceptron.py:692: ConvergenceWarning:\n",
      "\n",
      "Stochastic Optimizer: Maximum iterations (100) reached and the optimization hasn't converged yet.\n",
      "\n",
      "/Applications/anaconda3/lib/python3.8/site-packages/sklearn/neural_network/_multilayer_perceptron.py:692: ConvergenceWarning:\n",
      "\n",
      "Stochastic Optimizer: Maximum iterations (100) reached and the optimization hasn't converged yet.\n",
      "\n",
      "/Applications/anaconda3/lib/python3.8/site-packages/sklearn/neural_network/_multilayer_perceptron.py:692: ConvergenceWarning:\n",
      "\n",
      "Stochastic Optimizer: Maximum iterations (100) reached and the optimization hasn't converged yet.\n",
      "\n",
      "/Applications/anaconda3/lib/python3.8/site-packages/sklearn/neural_network/_multilayer_perceptron.py:692: ConvergenceWarning:\n",
      "\n",
      "Stochastic Optimizer: Maximum iterations (100) reached and the optimization hasn't converged yet.\n",
      "\n",
      "/Applications/anaconda3/lib/python3.8/site-packages/sklearn/neural_network/_multilayer_perceptron.py:692: ConvergenceWarning:\n",
      "\n",
      "Stochastic Optimizer: Maximum iterations (100) reached and the optimization hasn't converged yet.\n",
      "\n",
      "/Applications/anaconda3/lib/python3.8/site-packages/sklearn/neural_network/_multilayer_perceptron.py:692: ConvergenceWarning:\n",
      "\n",
      "Stochastic Optimizer: Maximum iterations (100) reached and the optimization hasn't converged yet.\n",
      "\n",
      "/Applications/anaconda3/lib/python3.8/site-packages/sklearn/neural_network/_multilayer_perceptron.py:692: ConvergenceWarning:\n",
      "\n",
      "Stochastic Optimizer: Maximum iterations (100) reached and the optimization hasn't converged yet.\n",
      "\n",
      "/Applications/anaconda3/lib/python3.8/site-packages/sklearn/neural_network/_multilayer_perceptron.py:692: ConvergenceWarning:\n",
      "\n",
      "Stochastic Optimizer: Maximum iterations (100) reached and the optimization hasn't converged yet.\n",
      "\n",
      "/Applications/anaconda3/lib/python3.8/site-packages/sklearn/neural_network/_multilayer_perceptron.py:692: ConvergenceWarning:\n",
      "\n",
      "Stochastic Optimizer: Maximum iterations (100) reached and the optimization hasn't converged yet.\n",
      "\n",
      "/Applications/anaconda3/lib/python3.8/site-packages/sklearn/neural_network/_multilayer_perceptron.py:692: ConvergenceWarning:\n",
      "\n",
      "Stochastic Optimizer: Maximum iterations (100) reached and the optimization hasn't converged yet.\n",
      "\n",
      "/Applications/anaconda3/lib/python3.8/site-packages/sklearn/neural_network/_multilayer_perceptron.py:692: ConvergenceWarning:\n",
      "\n",
      "Stochastic Optimizer: Maximum iterations (100) reached and the optimization hasn't converged yet.\n",
      "\n",
      "/Applications/anaconda3/lib/python3.8/site-packages/sklearn/neural_network/_multilayer_perceptron.py:692: ConvergenceWarning:\n",
      "\n",
      "Stochastic Optimizer: Maximum iterations (100) reached and the optimization hasn't converged yet.\n",
      "\n",
      "/Applications/anaconda3/lib/python3.8/site-packages/sklearn/neural_network/_multilayer_perceptron.py:692: ConvergenceWarning:\n",
      "\n",
      "Stochastic Optimizer: Maximum iterations (100) reached and the optimization hasn't converged yet.\n",
      "\n",
      "/Applications/anaconda3/lib/python3.8/site-packages/sklearn/neural_network/_multilayer_perceptron.py:692: ConvergenceWarning:\n",
      "\n",
      "Stochastic Optimizer: Maximum iterations (100) reached and the optimization hasn't converged yet.\n",
      "\n",
      "/Applications/anaconda3/lib/python3.8/site-packages/sklearn/neural_network/_multilayer_perceptron.py:692: ConvergenceWarning:\n",
      "\n",
      "Stochastic Optimizer: Maximum iterations (100) reached and the optimization hasn't converged yet.\n",
      "\n",
      "/Applications/anaconda3/lib/python3.8/site-packages/sklearn/neural_network/_multilayer_perceptron.py:692: ConvergenceWarning:\n",
      "\n",
      "Stochastic Optimizer: Maximum iterations (100) reached and the optimization hasn't converged yet.\n",
      "\n",
      "/Applications/anaconda3/lib/python3.8/site-packages/sklearn/neural_network/_multilayer_perceptron.py:692: ConvergenceWarning:\n",
      "\n",
      "Stochastic Optimizer: Maximum iterations (100) reached and the optimization hasn't converged yet.\n",
      "\n",
      "/Applications/anaconda3/lib/python3.8/site-packages/sklearn/neural_network/_multilayer_perceptron.py:692: ConvergenceWarning:\n",
      "\n",
      "Stochastic Optimizer: Maximum iterations (100) reached and the optimization hasn't converged yet.\n",
      "\n",
      "/Applications/anaconda3/lib/python3.8/site-packages/sklearn/neural_network/_multilayer_perceptron.py:692: ConvergenceWarning:\n",
      "\n",
      "Stochastic Optimizer: Maximum iterations (100) reached and the optimization hasn't converged yet.\n",
      "\n",
      "/Applications/anaconda3/lib/python3.8/site-packages/sklearn/neural_network/_multilayer_perceptron.py:692: ConvergenceWarning:\n",
      "\n",
      "Stochastic Optimizer: Maximum iterations (100) reached and the optimization hasn't converged yet.\n",
      "\n",
      "/Applications/anaconda3/lib/python3.8/site-packages/sklearn/neural_network/_multilayer_perceptron.py:692: ConvergenceWarning:\n",
      "\n",
      "Stochastic Optimizer: Maximum iterations (100) reached and the optimization hasn't converged yet.\n",
      "\n",
      "/Applications/anaconda3/lib/python3.8/site-packages/sklearn/neural_network/_multilayer_perceptron.py:692: ConvergenceWarning:\n",
      "\n",
      "Stochastic Optimizer: Maximum iterations (100) reached and the optimization hasn't converged yet.\n",
      "\n",
      "/Applications/anaconda3/lib/python3.8/site-packages/sklearn/neural_network/_multilayer_perceptron.py:692: ConvergenceWarning:\n",
      "\n",
      "Stochastic Optimizer: Maximum iterations (100) reached and the optimization hasn't converged yet.\n",
      "\n",
      "/Applications/anaconda3/lib/python3.8/site-packages/sklearn/neural_network/_multilayer_perceptron.py:692: ConvergenceWarning:\n",
      "\n",
      "Stochastic Optimizer: Maximum iterations (100) reached and the optimization hasn't converged yet.\n",
      "\n",
      "/Applications/anaconda3/lib/python3.8/site-packages/sklearn/neural_network/_multilayer_perceptron.py:692: ConvergenceWarning:\n",
      "\n",
      "Stochastic Optimizer: Maximum iterations (100) reached and the optimization hasn't converged yet.\n",
      "\n",
      "/Applications/anaconda3/lib/python3.8/site-packages/sklearn/neural_network/_multilayer_perceptron.py:692: ConvergenceWarning:\n",
      "\n",
      "Stochastic Optimizer: Maximum iterations (100) reached and the optimization hasn't converged yet.\n",
      "\n",
      "/Applications/anaconda3/lib/python3.8/site-packages/sklearn/neural_network/_multilayer_perceptron.py:692: ConvergenceWarning:\n",
      "\n",
      "Stochastic Optimizer: Maximum iterations (100) reached and the optimization hasn't converged yet.\n",
      "\n",
      "/Applications/anaconda3/lib/python3.8/site-packages/sklearn/neural_network/_multilayer_perceptron.py:692: ConvergenceWarning:\n",
      "\n",
      "Stochastic Optimizer: Maximum iterations (100) reached and the optimization hasn't converged yet.\n",
      "\n",
      "/Applications/anaconda3/lib/python3.8/site-packages/sklearn/neural_network/_multilayer_perceptron.py:692: ConvergenceWarning:\n",
      "\n",
      "Stochastic Optimizer: Maximum iterations (100) reached and the optimization hasn't converged yet.\n",
      "\n",
      "/Applications/anaconda3/lib/python3.8/site-packages/sklearn/neural_network/_multilayer_perceptron.py:692: ConvergenceWarning:\n",
      "\n",
      "Stochastic Optimizer: Maximum iterations (100) reached and the optimization hasn't converged yet.\n",
      "\n",
      "/Applications/anaconda3/lib/python3.8/site-packages/sklearn/neural_network/_multilayer_perceptron.py:692: ConvergenceWarning:\n",
      "\n",
      "Stochastic Optimizer: Maximum iterations (100) reached and the optimization hasn't converged yet.\n",
      "\n",
      "/Applications/anaconda3/lib/python3.8/site-packages/sklearn/neural_network/_multilayer_perceptron.py:692: ConvergenceWarning:\n",
      "\n",
      "Stochastic Optimizer: Maximum iterations (100) reached and the optimization hasn't converged yet.\n",
      "\n",
      "/Applications/anaconda3/lib/python3.8/site-packages/sklearn/neural_network/_multilayer_perceptron.py:692: ConvergenceWarning:\n",
      "\n",
      "Stochastic Optimizer: Maximum iterations (100) reached and the optimization hasn't converged yet.\n",
      "\n",
      "/Applications/anaconda3/lib/python3.8/site-packages/sklearn/neural_network/_multilayer_perceptron.py:692: ConvergenceWarning:\n",
      "\n",
      "Stochastic Optimizer: Maximum iterations (100) reached and the optimization hasn't converged yet.\n",
      "\n",
      "/Applications/anaconda3/lib/python3.8/site-packages/sklearn/neural_network/_multilayer_perceptron.py:692: ConvergenceWarning:\n",
      "\n",
      "Stochastic Optimizer: Maximum iterations (100) reached and the optimization hasn't converged yet.\n",
      "\n",
      "/Applications/anaconda3/lib/python3.8/site-packages/sklearn/neural_network/_multilayer_perceptron.py:692: ConvergenceWarning:\n",
      "\n",
      "Stochastic Optimizer: Maximum iterations (100) reached and the optimization hasn't converged yet.\n",
      "\n",
      "/Applications/anaconda3/lib/python3.8/site-packages/sklearn/neural_network/_multilayer_perceptron.py:692: ConvergenceWarning:\n",
      "\n",
      "Stochastic Optimizer: Maximum iterations (100) reached and the optimization hasn't converged yet.\n",
      "\n",
      "/Applications/anaconda3/lib/python3.8/site-packages/sklearn/neural_network/_multilayer_perceptron.py:692: ConvergenceWarning:\n",
      "\n",
      "Stochastic Optimizer: Maximum iterations (100) reached and the optimization hasn't converged yet.\n",
      "\n",
      "/Applications/anaconda3/lib/python3.8/site-packages/sklearn/neural_network/_multilayer_perceptron.py:692: ConvergenceWarning:\n",
      "\n",
      "Stochastic Optimizer: Maximum iterations (100) reached and the optimization hasn't converged yet.\n",
      "\n",
      "/Applications/anaconda3/lib/python3.8/site-packages/sklearn/neural_network/_multilayer_perceptron.py:692: ConvergenceWarning:\n",
      "\n",
      "Stochastic Optimizer: Maximum iterations (100) reached and the optimization hasn't converged yet.\n",
      "\n",
      "/Applications/anaconda3/lib/python3.8/site-packages/sklearn/neural_network/_multilayer_perceptron.py:692: ConvergenceWarning:\n",
      "\n",
      "Stochastic Optimizer: Maximum iterations (100) reached and the optimization hasn't converged yet.\n",
      "\n",
      "/Applications/anaconda3/lib/python3.8/site-packages/sklearn/neural_network/_multilayer_perceptron.py:692: ConvergenceWarning:\n",
      "\n",
      "Stochastic Optimizer: Maximum iterations (100) reached and the optimization hasn't converged yet.\n",
      "\n",
      "/Applications/anaconda3/lib/python3.8/site-packages/sklearn/neural_network/_multilayer_perceptron.py:692: ConvergenceWarning:\n",
      "\n",
      "Stochastic Optimizer: Maximum iterations (100) reached and the optimization hasn't converged yet.\n",
      "\n",
      "/Applications/anaconda3/lib/python3.8/site-packages/sklearn/neural_network/_multilayer_perceptron.py:692: ConvergenceWarning:\n",
      "\n",
      "Stochastic Optimizer: Maximum iterations (100) reached and the optimization hasn't converged yet.\n",
      "\n",
      "/Applications/anaconda3/lib/python3.8/site-packages/sklearn/neural_network/_multilayer_perceptron.py:692: ConvergenceWarning:\n",
      "\n",
      "Stochastic Optimizer: Maximum iterations (100) reached and the optimization hasn't converged yet.\n",
      "\n",
      "/Applications/anaconda3/lib/python3.8/site-packages/sklearn/neural_network/_multilayer_perceptron.py:692: ConvergenceWarning:\n",
      "\n",
      "Stochastic Optimizer: Maximum iterations (100) reached and the optimization hasn't converged yet.\n",
      "\n",
      "/Applications/anaconda3/lib/python3.8/site-packages/sklearn/neural_network/_multilayer_perceptron.py:692: ConvergenceWarning:\n",
      "\n",
      "Stochastic Optimizer: Maximum iterations (100) reached and the optimization hasn't converged yet.\n",
      "\n",
      "/Applications/anaconda3/lib/python3.8/site-packages/sklearn/neural_network/_multilayer_perceptron.py:692: ConvergenceWarning:\n",
      "\n",
      "Stochastic Optimizer: Maximum iterations (100) reached and the optimization hasn't converged yet.\n",
      "\n"
     ]
    },
    {
     "name": "stdout",
     "output_type": "stream",
     "text": [
      "MLP confusion matrix:\n",
      " [[51 12]\n",
      " [ 6 75]]\n",
      "XGBoost confusion matrix:\n",
      " [[47 16]\n",
      " [ 6 75]]\n"
     ]
    }
   ],
   "source": [
    "# Compute confusion matrix, F1 score, bias and variance for each classifier\n",
    "\n",
    "from sklearn.metrics import confusion_matrix, f1_score\n",
    "from sklearn.model_selection import cross_val_score\n",
    "from mlxtend.evaluate import bias_variance_decomp\n",
    "\n",
    "# Create dataframe with results\n",
    "results = pd.DataFrame(columns=['Classifier', 'Accuracy', 'F1 Score', 'Bias', 'Variance'])\n",
    "\n",
    "# Calculate bias and variance with bias-variance decomposition\n",
    "for name, clf in trained_classifiers.items():\n",
    "    y_pred = clf.predict(X_val)\n",
    "    expected_loss, bias, variance = bias_variance_decomp(clf, X_train, y_train.to_numpy(), X_val, y_val.to_numpy(), loss='0-1_loss', num_rounds=100, random_seed=42)\n",
    "    print(f'{name} confusion matrix:\\n {confusion_matrix(y_val, y_pred)}')\n",
    "\n",
    "    # Add results to Dataframe\n",
    "    results = results.append({'Classifier': name, 'Accuracy': clf.score(X_val, y_val),\n",
    "                              'F1 Score': f1_score(y_val, y_pred), 'Bias': bias, 'Variance': variance}, ignore_index=True)\n"
   ]
  },
  {
   "cell_type": "code",
   "execution_count": 34,
   "metadata": {},
   "outputs": [
    {
     "data": {
      "image/png": "[encoded data removed]",
      "text/plain": [
       "<Figure size 1500x500 with 2 Axes>"
      ]
     },
     "metadata": {},
     "output_type": "display_data"
    }
   ],
   "source": [
    "# Plot results\n",
    "fig, ax = plt.subplots(1, 2, figsize=(15, 5))\n",
    "results.plot.bar(x='Classifier', y='Accuracy', ax=ax[0], rot=0, color='teal')\n",
    "results.plot.bar(x='Classifier', y='Bias', ax=ax[1], rot=0, color='lavender')\n",
    "results.plot.bar(x='Classifier', y='Variance', ax=ax[1], rot=0, color='lightcoral', bottom=results['Bias'])\n",
    "ax[0].set_title('Accuracy', fontdict=font_dict)\n",
    "ax[1].set_title('Bias and Variance', fontdict=font_dict)\n",
    "ax[0].set_ylim(0.5, 1)\n",
    "ax[1].set_ylim(0, 0.5)\n",
    "plt.show()\n"
   ]
  },
  {
   "cell_type": "code",
   "execution_count": 36,
   "metadata": {},
   "outputs": [
    {
     "data": {
      "text/html": [
       "<div>\n",
       "<style scoped>\n",
       "    .dataframe tbody tr th:only-of-type {\n",
       "        vertical-align: middle;\n",
       "    }\n",
       "\n",
       "    .dataframe tbody tr th {\n",
       "        vertical-align: top;\n",
       "    }\n",
       "\n",
       "    .dataframe thead th {\n",
       "        text-align: right;\n",
       "    }\n",
       "</style>\n",
       "<table border=\"1\" class=\"dataframe\">\n",
       "  <thead>\n",
       "    <tr style=\"text-align: right;\">\n",
       "      <th></th>\n",
       "      <th>Classifier</th>\n",
       "      <th>Accuracy</th>\n",
       "      <th>F1 Score</th>\n",
       "      <th>Bias</th>\n",
       "      <th>Variance</th>\n",
       "    </tr>\n",
       "  </thead>\n",
       "  <tbody>\n",
       "    <tr>\n",
       "      <th>0</th>\n",
       "      <td>SVM</td>\n",
       "      <td>0.861111</td>\n",
       "      <td>0.882353</td>\n",
       "      <td>0.125000</td>\n",
       "      <td>0.039722</td>\n",
       "    </tr>\n",
       "    <tr>\n",
       "      <th>1</th>\n",
       "      <td>RF</td>\n",
       "      <td>0.833333</td>\n",
       "      <td>0.867052</td>\n",
       "      <td>0.131944</td>\n",
       "      <td>0.043958</td>\n",
       "    </tr>\n",
       "    <tr>\n",
       "      <th>2</th>\n",
       "      <td>GB</td>\n",
       "      <td>0.826389</td>\n",
       "      <td>0.862069</td>\n",
       "      <td>0.152778</td>\n",
       "      <td>0.055556</td>\n",
       "    </tr>\n",
       "    <tr>\n",
       "      <th>3</th>\n",
       "      <td>MLP</td>\n",
       "      <td>0.854167</td>\n",
       "      <td>0.892857</td>\n",
       "      <td>0.118056</td>\n",
       "      <td>0.044167</td>\n",
       "    </tr>\n",
       "    <tr>\n",
       "      <th>4</th>\n",
       "      <td>XGBoost</td>\n",
       "      <td>0.840278</td>\n",
       "      <td>0.872093</td>\n",
       "      <td>0.138889</td>\n",
       "      <td>0.057708</td>\n",
       "    </tr>\n",
       "  </tbody>\n",
       "</table>\n",
       "</div>"
      ],
      "text/plain": [
       "  Classifier  Accuracy  F1 Score      Bias  Variance\n",
       "0        SVM  0.861111  0.882353  0.125000  0.039722\n",
       "1         RF  0.833333  0.867052  0.131944  0.043958\n",
       "2         GB  0.826389  0.862069  0.152778  0.055556\n",
       "3        MLP  0.854167  0.892857  0.118056  0.044167\n",
       "4    XGBoost  0.840278  0.872093  0.138889  0.057708"
      ]
     },
     "execution_count": 36,
     "metadata": {},
     "output_type": "execute_result"
    }
   ],
   "source": [
    "results.head()"
   ]
  },
  {
   "cell_type": "code",
   "execution_count": 37,
   "metadata": {},
   "outputs": [
    {
     "data": {
      "image/png": "[encoded data removed]",
      "text/plain": [
       "<Figure size 1000x600 with 1 Axes>"
      ]
     },
     "metadata": {},
     "output_type": "display_data"
    }
   ],
   "source": [
    "# Build ROC curve for SVM and Gradient Boosting classifiers\n",
    "from sklearn.metrics import roc_curve, roc_auc_score\n",
    "plt.figure(figsize = (10,6))\n",
    "for name, clf in trained_classifiers.items():\n",
    "    if name not in ['RF', 'MLP', 'XGBoost']:\n",
    "        fpr, tpr, thresholds = roc_curve(test_data_dummies['HeartDisease'], clf.decision_function(selected_features_test))\n",
    "        roc_auc = roc_auc_score(test_data_dummies['HeartDisease'], clf.decision_function(selected_features_test))\n",
    "        plt.plot(fpr, tpr, label=f'{name} (area = {roc_auc:.2f})')\n",
    "\n",
    "plt.plot([0, 1], [0, 1],'r--') \n",
    "plt.text(0.5, 0.5, \"operating points (0-1)\", rotation=0, size=12,ha=\"center\", va=\"center\",bbox=dict(boxstyle=\"rarrow\"))\n",
    "plt.xlabel('False Positive Rate') \n",
    "plt.ylabel('True Positive Rate') \n",
    "plt.legend(loc=\"lower right\") \n",
    "plt.show()\n"
   ]
  },
  {
   "attachments": {},
   "cell_type": "markdown",
   "metadata": {},
   "source": [
    "## Iteration"
   ]
  },
  {
   "cell_type": "code",
   "execution_count": 39,
   "metadata": {},
   "outputs": [
    {
     "name": "stdout",
     "output_type": "stream",
     "text": [
      "{'bootstrap': True, 'ccp_alpha': 0.0, 'class_weight': None, 'criterion': 'entropy', 'max_depth': 100, 'max_features': 'auto', 'max_leaf_nodes': None, 'max_samples': None, 'min_impurity_decrease': 0.0, 'min_samples_leaf': 1, 'min_samples_split': 2, 'min_weight_fraction_leaf': 0.0, 'n_estimators': 100, 'n_jobs': None, 'oob_score': False, 'random_state': 42, 'verbose': 0, 'warm_start': False}\n"
     ]
    }
   ],
   "source": [
    "print(classifiers['RF'].get_params())"
   ]
  },
  {
   "cell_type": "code",
   "execution_count": 41,
   "metadata": {},
   "outputs": [
    {
     "data": {
      "text/plain": [
       "RandomizedSearchCV(cv=3,\n",
       "                   estimator=RandomForestClassifier(criterion='entropy',\n",
       "                                                    max_depth=100,\n",
       "                                                    random_state=42),\n",
       "                   n_iter=100, n_jobs=-1,\n",
       "                   param_distributions={'bootstrap': [True, False],\n",
       "                                        'criterion': ['gini', 'entropy'],\n",
       "                                        'max_depth': [5, 10, 15, 20, 25, 50, 75,\n",
       "                                                      100, None],\n",
       "                                        'max_features': ['auto', 'sqrt',\n",
       "                                                         'log2'],\n",
       "                                        'min_samples_leaf': [1, 2, 4],\n",
       "                                        'min_samples_split': [2, 5, 10, 15, 20],\n",
       "                                        'n_estimators': [100, 200, 300, 400,\n",
       "                                                         500, 600, 700, 800,\n",
       "                                                         900, 1000, 1200, 1400,\n",
       "                                                         1600, 1800, 2000]},\n",
       "                   random_state=42, scoring='accuracy')"
      ]
     },
     "execution_count": 41,
     "metadata": {},
     "output_type": "execute_result"
    }
   ],
   "source": [
    "# Apply random grid search for hyperparameter tuning on Random Forest Classifier\n",
    "from sklearn.model_selection import RandomizedSearchCV\n",
    "hyperparameters = {\n",
    "    'bootstrap': [True, False],\n",
    "    'n_estimators': [100, 200, 300, 400, 500, 600, 700, 800, 900, 1000, 1200, 1400, 1600, 1800, 2000],\n",
    "    'max_depth': [5, 10, 15, 20, 25, 50, 75, 100, None],\n",
    "    'min_samples_split': [2, 5, 10, 15, 20],\n",
    "    'min_samples_leaf': [1, 2, 4],\n",
    "    'max_features': ['auto', 'sqrt', 'log2'],\n",
    "    'criterion': ['gini', 'entropy'],\n",
    "    }\n",
    "\n",
    "rf_random = RandomizedSearchCV(estimator=classifiers['RF'], param_distributions=hyperparameters, n_iter=100,\n",
    "                               cv=3, random_state=42, n_jobs=-1, scoring='accuracy')\n",
    "rf_random.fit(X_train, y_train)\n"
   ]
  },
  {
   "cell_type": "code",
   "execution_count": 42,
   "metadata": {},
   "outputs": [
    {
     "name": "stdout",
     "output_type": "stream",
     "text": [
      "              precision    recall  f1-score   support\n",
      "\n",
      "           0       0.90      0.75      0.82        63\n",
      "           1       0.83      0.94      0.88        81\n",
      "\n",
      "    accuracy                           0.85       144\n",
      "   macro avg       0.86      0.84      0.85       144\n",
      "weighted avg       0.86      0.85      0.85       144\n",
      "\n"
     ]
    }
   ],
   "source": [
    "print(classification_report(y_val, rf_random.predict(X_val)))"
   ]
  },
  {
   "cell_type": "code",
   "execution_count": null,
   "metadata": {},
   "outputs": [
    {
     "name": "stdout",
     "output_type": "stream",
     "text": [
      "{'n_estimators': 200, 'min_samples_split': 10, 'min_samples_leaf': 4, 'max_features': 'auto', 'max_depth': 50, 'criterion': 'gini', 'bootstrap': True}\n"
     ]
    }
   ],
   "source": [
    "print(rf_random.best_params_)"
   ]
  },
  {
   "cell_type": "code",
   "execution_count": 47,
   "metadata": {},
   "outputs": [
    {
     "data": {
      "text/plain": [
       "GridSearchCV(cv=3,\n",
       "             estimator=RandomForestClassifier(criterion='entropy',\n",
       "                                              max_depth=100, random_state=42),\n",
       "             n_jobs=-1,\n",
       "             param_grid={'bootstrap': [True], 'criterion': ['gini'],\n",
       "                         'max_depth': [30, 50, 70], 'max_features': ['auto'],\n",
       "                         'min_samples_leaf': [1, 2, 4, 6],\n",
       "                         'min_samples_split': [5, 10, 15],\n",
       "                         'n_estimators': [100, 200, 300]},\n",
       "             scoring='accuracy')"
      ]
     },
     "execution_count": 47,
     "metadata": {},
     "output_type": "execute_result"
    }
   ],
   "source": [
    "# Perform grid search based on best parameters from random search\n",
    "from sklearn.model_selection import GridSearchCV\n",
    "hyperparameters_grid = {\n",
    "    'bootstrap': [True],\n",
    "    'n_estimators': [100, 200, 300],\n",
    "    'max_depth': [30, 50, 70],\n",
    "    'min_samples_split': [5, 10, 15],\n",
    "    'min_samples_leaf': [1, 2, 4, 6],\n",
    "    'max_features': ['auto'],\n",
    "    'criterion': ['gini'],\n",
    "    }\n",
    "\n",
    "rf_grid = GridSearchCV(estimator=classifiers['RF'], param_grid=hyperparameters_grid, cv=3, n_jobs=-1, scoring='accuracy')\n",
    "rf_grid.fit(X_train, y_train)\n"
   ]
  },
  {
   "cell_type": "code",
   "execution_count": 49,
   "metadata": {},
   "outputs": [
    {
     "name": "stdout",
     "output_type": "stream",
     "text": [
      "              precision    recall  f1-score   support\n",
      "\n",
      "           0       0.90      0.75      0.82        63\n",
      "           1       0.83      0.94      0.88        81\n",
      "\n",
      "    accuracy                           0.85       144\n",
      "   macro avg       0.86      0.84      0.85       144\n",
      "weighted avg       0.86      0.85      0.85       144\n",
      "\n"
     ]
    }
   ],
   "source": [
    "print(classification_report(y_val, rf_grid.predict(X_val)))"
   ]
  },
  {
   "cell_type": "code",
   "execution_count": null,
   "metadata": {},
   "outputs": [
    {
     "name": "stdout",
     "output_type": "stream",
     "text": [
      "{'bootstrap': True, 'criterion': 'gini', 'max_depth': 30, 'max_features': 'auto', 'min_samples_leaf': 6, 'min_samples_split': 5, 'n_estimators': 100}\n"
     ]
    }
   ],
   "source": [
    "print(rf_grid.best_params_)"
   ]
  },
  {
   "cell_type": "code",
   "execution_count": 50,
   "metadata": {},
   "outputs": [
    {
     "name": "stdout",
     "output_type": "stream",
     "text": [
      "Random Forest accuracy: 0.854 +/- 0.023\n"
     ]
    },
    {
     "data": {
      "application/vnd.plotly.v1+json": {
       "config": {
        "plotlyServerURL": "https://plot.ly"
       },
       "data": [
        {
         "hovertemplate": "Fold=%{x}<br>Accuracy=%{y}<extra></extra>",
         "legendgroup": "",
         "line": {
          "color": "#636efa",
          "dash": "solid"
         },
         "marker": {
          "symbol": "circle"
         },
         "mode": "lines",
         "name": "",
         "orientation": "v",
         "showlegend": false,
         "type": "scatter",
         "x": [
          1,
          2,
          3,
          4,
          5,
          6,
          7,
          8,
          9,
          10
         ],
         "xaxis": "x",
         "y": [
          0.8611111111111112,
          0.875,
          0.8611111111111112,
          0.8611111111111112,
          0.8888888888888888,
          0.8333333333333334,
          0.875,
          0.8472222222222222,
          0.8169014084507042,
          0.8169014084507042
         ],
         "yaxis": "y"
        }
       ],
       "layout": {
        "legend": {
         "tracegroupgap": 0
        },
        "template": {
         "data": {
          "bar": [
           {
            "error_x": {
             "color": "#2a3f5f"
            },
            "error_y": {
             "color": "#2a3f5f"
            },
            "marker": {
             "line": {
              "color": "#E5ECF6",
              "width": 0.5
             },
             "pattern": {
              "fillmode": "overlay",
              "size": 10,
              "solidity": 0.2
             }
            },
            "type": "bar"
           }
          ],
          "barpolar": [
           {
            "marker": {
             "line": {
              "color": "#E5ECF6",
              "width": 0.5
             },
             "pattern": {
              "fillmode": "overlay",
              "size": 10,
              "solidity": 0.2
             }
            },
            "type": "barpolar"
           }
          ],
          "carpet": [
           {
            "aaxis": {
             "endlinecolor": "#2a3f5f",
             "gridcolor": "white",
             "linecolor": "white",
             "minorgridcolor": "white",
             "startlinecolor": "#2a3f5f"
            },
            "baxis": {
             "endlinecolor": "#2a3f5f",
             "gridcolor": "white",
             "linecolor": "white",
             "minorgridcolor": "white",
             "startlinecolor": "#2a3f5f"
            },
            "type": "carpet"
           }
          ],
          "choropleth": [
           {
            "colorbar": {
             "outlinewidth": 0,
             "ticks": ""
            },
            "type": "choropleth"
           }
          ],
          "contour": [
           {
            "colorbar": {
             "outlinewidth": 0,
             "ticks": ""
            },
            "colorscale": [
             [
              0,
              "#0d0887"
             ],
             [
              0.1111111111111111,
              "#46039f"
             ],
             [
              0.2222222222222222,
              "#7201a8"
             ],
             [
              0.3333333333333333,
              "#9c179e"
             ],
             [
              0.4444444444444444,
              "#bd3786"
             ],
             [
              0.5555555555555556,
              "#d8576b"
             ],
             [
              0.6666666666666666,
              "#ed7953"
             ],
             [
              0.7777777777777778,
              "#fb9f3a"
             ],
             [
              0.8888888888888888,
              "#fdca26"
             ],
             [
              1,
              "#f0f921"
             ]
            ],
            "type": "contour"
           }
          ],
          "contourcarpet": [
           {
            "colorbar": {
             "outlinewidth": 0,
             "ticks": ""
            },
            "type": "contourcarpet"
           }
          ],
          "heatmap": [
           {
            "colorbar": {
             "outlinewidth": 0,
             "ticks": ""
            },
            "colorscale": [
             [
              0,
              "#0d0887"
             ],
             [
              0.1111111111111111,
              "#46039f"
             ],
             [
              0.2222222222222222,
              "#7201a8"
             ],
             [
              0.3333333333333333,
              "#9c179e"
             ],
             [
              0.4444444444444444,
              "#bd3786"
             ],
             [
              0.5555555555555556,
              "#d8576b"
             ],
             [
              0.6666666666666666,
              "#ed7953"
             ],
             [
              0.7777777777777778,
              "#fb9f3a"
             ],
             [
              0.8888888888888888,
              "#fdca26"
             ],
             [
              1,
              "#f0f921"
             ]
            ],
            "type": "heatmap"
           }
          ],
          "heatmapgl": [
           {
            "colorbar": {
             "outlinewidth": 0,
             "ticks": ""
            },
            "colorscale": [
             [
              0,
              "#0d0887"
             ],
             [
              0.1111111111111111,
              "#46039f"
             ],
             [
              0.2222222222222222,
              "#7201a8"
             ],
             [
              0.3333333333333333,
              "#9c179e"
             ],
             [
              0.4444444444444444,
              "#bd3786"
             ],
             [
              0.5555555555555556,
              "#d8576b"
             ],
             [
              0.6666666666666666,
              "#ed7953"
             ],
             [
              0.7777777777777778,
              "#fb9f3a"
             ],
             [
              0.8888888888888888,
              "#fdca26"
             ],
             [
              1,
              "#f0f921"
             ]
            ],
            "type": "heatmapgl"
           }
          ],
          "histogram": [
           {
            "marker": {
             "pattern": {
              "fillmode": "overlay",
              "size": 10,
              "solidity": 0.2
             }
            },
            "type": "histogram"
           }
          ],
          "histogram2d": [
           {
            "colorbar": {
             "outlinewidth": 0,
             "ticks": ""
            },
            "colorscale": [
             [
              0,
              "#0d0887"
             ],
             [
              0.1111111111111111,
              "#46039f"
             ],
             [
              0.2222222222222222,
              "#7201a8"
             ],
             [
              0.3333333333333333,
              "#9c179e"
             ],
             [
              0.4444444444444444,
              "#bd3786"
             ],
             [
              0.5555555555555556,
              "#d8576b"
             ],
             [
              0.6666666666666666,
              "#ed7953"
             ],
             [
              0.7777777777777778,
              "#fb9f3a"
             ],
             [
              0.8888888888888888,
              "#fdca26"
             ],
             [
              1,
              "#f0f921"
             ]
            ],
            "type": "histogram2d"
           }
          ],
          "histogram2dcontour": [
           {
            "colorbar": {
             "outlinewidth": 0,
             "ticks": ""
            },
            "colorscale": [
             [
              0,
              "#0d0887"
             ],
             [
              0.1111111111111111,
              "#46039f"
             ],
             [
              0.2222222222222222,
              "#7201a8"
             ],
             [
              0.3333333333333333,
              "#9c179e"
             ],
             [
              0.4444444444444444,
              "#bd3786"
             ],
             [
              0.5555555555555556,
              "#d8576b"
             ],
             [
              0.6666666666666666,
              "#ed7953"
             ],
             [
              0.7777777777777778,
              "#fb9f3a"
             ],
             [
              0.8888888888888888,
              "#fdca26"
             ],
             [
              1,
              "#f0f921"
             ]
            ],
            "type": "histogram2dcontour"
           }
          ],
          "mesh3d": [
           {
            "colorbar": {
             "outlinewidth": 0,
             "ticks": ""
            },
            "type": "mesh3d"
           }
          ],
          "parcoords": [
           {
            "line": {
             "colorbar": {
              "outlinewidth": 0,
              "ticks": ""
             }
            },
            "type": "parcoords"
           }
          ],
          "pie": [
           {
            "automargin": true,
            "type": "pie"
           }
          ],
          "scatter": [
           {
            "marker": {
             "colorbar": {
              "outlinewidth": 0,
              "ticks": ""
             }
            },
            "type": "scatter"
           }
          ],
          "scatter3d": [
           {
            "line": {
             "colorbar": {
              "outlinewidth": 0,
              "ticks": ""
             }
            },
            "marker": {
             "colorbar": {
              "outlinewidth": 0,
              "ticks": ""
             }
            },
            "type": "scatter3d"
           }
          ],
          "scattercarpet": [
           {
            "marker": {
             "colorbar": {
              "outlinewidth": 0,
              "ticks": ""
             }
            },
            "type": "scattercarpet"
           }
          ],
          "scattergeo": [
           {
            "marker": {
             "colorbar": {
              "outlinewidth": 0,
              "ticks": ""
             }
            },
            "type": "scattergeo"
           }
          ],
          "scattergl": [
           {
            "marker": {
             "colorbar": {
              "outlinewidth": 0,
              "ticks": ""
             }
            },
            "type": "scattergl"
           }
          ],
          "scattermapbox": [
           {
            "marker": {
             "colorbar": {
              "outlinewidth": 0,
              "ticks": ""
             }
            },
            "type": "scattermapbox"
           }
          ],
          "scatterpolar": [
           {
            "marker": {
             "colorbar": {
              "outlinewidth": 0,
              "ticks": ""
             }
            },
            "type": "scatterpolar"
           }
          ],
          "scatterpolargl": [
           {
            "marker": {
             "colorbar": {
              "outlinewidth": 0,
              "ticks": ""
             }
            },
            "type": "scatterpolargl"
           }
          ],
          "scatterternary": [
           {
            "marker": {
             "colorbar": {
              "outlinewidth": 0,
              "ticks": ""
             }
            },
            "type": "scatterternary"
           }
          ],
          "surface": [
           {
            "colorbar": {
             "outlinewidth": 0,
             "ticks": ""
            },
            "colorscale": [
             [
              0,
              "#0d0887"
             ],
             [
              0.1111111111111111,
              "#46039f"
             ],
             [
              0.2222222222222222,
              "#7201a8"
             ],
             [
              0.3333333333333333,
              "#9c179e"
             ],
             [
              0.4444444444444444,
              "#bd3786"
             ],
             [
              0.5555555555555556,
              "#d8576b"
             ],
             [
              0.6666666666666666,
              "#ed7953"
             ],
             [
              0.7777777777777778,
              "#fb9f3a"
             ],
             [
              0.8888888888888888,
              "#fdca26"
             ],
             [
              1,
              "#f0f921"
             ]
            ],
            "type": "surface"
           }
          ],
          "table": [
           {
            "cells": {
             "fill": {
              "color": "#EBF0F8"
             },
             "line": {
              "color": "white"
             }
            },
            "header": {
             "fill": {
              "color": "#C8D4E3"
             },
             "line": {
              "color": "white"
             }
            },
            "type": "table"
           }
          ]
         },
         "layout": {
          "annotationdefaults": {
           "arrowcolor": "#2a3f5f",
           "arrowhead": 0,
           "arrowwidth": 1
          },
          "autotypenumbers": "strict",
          "coloraxis": {
           "colorbar": {
            "outlinewidth": 0,
            "ticks": ""
           }
          },
          "colorscale": {
           "diverging": [
            [
             0,
             "#8e0152"
            ],
            [
             0.1,
             "#c51b7d"
            ],
            [
             0.2,
             "#de77ae"
            ],
            [
             0.3,
             "#f1b6da"
            ],
            [
             0.4,
             "#fde0ef"
            ],
            [
             0.5,
             "#f7f7f7"
            ],
            [
             0.6,
             "#e6f5d0"
            ],
            [
             0.7,
             "#b8e186"
            ],
            [
             0.8,
             "#7fbc41"
            ],
            [
             0.9,
             "#4d9221"
            ],
            [
             1,
             "#276419"
            ]
           ],
           "sequential": [
            [
             0,
             "#0d0887"
            ],
            [
             0.1111111111111111,
             "#46039f"
            ],
            [
             0.2222222222222222,
             "#7201a8"
            ],
            [
             0.3333333333333333,
             "#9c179e"
            ],
            [
             0.4444444444444444,
             "#bd3786"
            ],
            [
             0.5555555555555556,
             "#d8576b"
            ],
            [
             0.6666666666666666,
             "#ed7953"
            ],
            [
             0.7777777777777778,
             "#fb9f3a"
            ],
            [
             0.8888888888888888,
             "#fdca26"
            ],
            [
             1,
             "#f0f921"
            ]
           ],
           "sequentialminus": [
            [
             0,
             "#0d0887"
            ],
            [
             0.1111111111111111,
             "#46039f"
            ],
            [
             0.2222222222222222,
             "#7201a8"
            ],
            [
             0.3333333333333333,
             "#9c179e"
            ],
            [
             0.4444444444444444,
             "#bd3786"
            ],
            [
             0.5555555555555556,
             "#d8576b"
            ],
            [
             0.6666666666666666,
             "#ed7953"
            ],
            [
             0.7777777777777778,
             "#fb9f3a"
            ],
            [
             0.8888888888888888,
             "#fdca26"
            ],
            [
             1,
             "#f0f921"
            ]
           ]
          },
          "colorway": [
           "#636efa",
           "#EF553B",
           "#00cc96",
           "#ab63fa",
           "#FFA15A",
           "#19d3f3",
           "#FF6692",
           "#B6E880",
           "#FF97FF",
           "#FECB52"
          ],
          "font": {
           "color": "#2a3f5f"
          },
          "geo": {
           "bgcolor": "white",
           "lakecolor": "white",
           "landcolor": "#E5ECF6",
           "showlakes": true,
           "showland": true,
           "subunitcolor": "white"
          },
          "hoverlabel": {
           "align": "left"
          },
          "hovermode": "closest",
          "mapbox": {
           "style": "light"
          },
          "paper_bgcolor": "white",
          "plot_bgcolor": "#E5ECF6",
          "polar": {
           "angularaxis": {
            "gridcolor": "white",
            "linecolor": "white",
            "ticks": ""
           },
           "bgcolor": "#E5ECF6",
           "radialaxis": {
            "gridcolor": "white",
            "linecolor": "white",
            "ticks": ""
           }
          },
          "scene": {
           "xaxis": {
            "backgroundcolor": "#E5ECF6",
            "gridcolor": "white",
            "gridwidth": 2,
            "linecolor": "white",
            "showbackground": true,
            "ticks": "",
            "zerolinecolor": "white"
           },
           "yaxis": {
            "backgroundcolor": "#E5ECF6",
            "gridcolor": "white",
            "gridwidth": 2,
            "linecolor": "white",
            "showbackground": true,
            "ticks": "",
            "zerolinecolor": "white"
           },
           "zaxis": {
            "backgroundcolor": "#E5ECF6",
            "gridcolor": "white",
            "gridwidth": 2,
            "linecolor": "white",
            "showbackground": true,
            "ticks": "",
            "zerolinecolor": "white"
           }
          },
          "shapedefaults": {
           "line": {
            "color": "#2a3f5f"
           }
          },
          "ternary": {
           "aaxis": {
            "gridcolor": "white",
            "linecolor": "white",
            "ticks": ""
           },
           "baxis": {
            "gridcolor": "white",
            "linecolor": "white",
            "ticks": ""
           },
           "bgcolor": "#E5ECF6",
           "caxis": {
            "gridcolor": "white",
            "linecolor": "white",
            "ticks": ""
           }
          },
          "title": {
           "x": 0.05
          },
          "xaxis": {
           "automargin": true,
           "gridcolor": "white",
           "linecolor": "white",
           "ticks": "",
           "title": {
            "standoff": 15
           },
           "zerolinecolor": "white",
           "zerolinewidth": 2
          },
          "yaxis": {
           "automargin": true,
           "gridcolor": "white",
           "linecolor": "white",
           "ticks": "",
           "title": {
            "standoff": 15
           },
           "zerolinecolor": "white",
           "zerolinewidth": 2
          }
         }
        },
        "title": {
         "text": "Random Forest Accuracy for each fold"
        },
        "xaxis": {
         "anchor": "y",
         "domain": [
          0,
          1
         ],
         "title": {
          "text": "Fold"
         }
        },
        "yaxis": {
         "anchor": "x",
         "domain": [
          0,
          1
         ],
         "title": {
          "text": "Accuracy"
         }
        }
       }
      }
     },
     "metadata": {},
     "output_type": "display_data"
    }
   ],
   "source": [
    "# Perform k fold cross validation with the best Random Forest\n",
    "k = 10\n",
    "cv = StratifiedKFold(n_splits=k, shuffle=True, random_state=42)\n",
    "scores = cross_val_score(rf_grid, selected_features, train_data_dummies['HeartDisease'], cv=cv, scoring='accuracy')\n",
    "print(f'Random Forest accuracy: {scores.mean():.3f} +/- {scores.std():.3f}')\n",
    "\n",
    "# Plot accuracy for each fold\n",
    "fig = px.line(x=range(1, k+1), y=scores, title='Random Forest Accuracy for each fold', labels={'x': 'Fold', 'y': 'Accuracy'})\n",
    "fig.show()"
   ]
  },
  {
   "attachments": {},
   "cell_type": "markdown",
   "metadata": {},
   "source": [
    "## References\n",
    "1. https://www.kaggle.com/code/jiagengchang/heart-disease-multiple-correspondence-analysis/notebook\n",
    "2. https://en.wikipedia.org/wiki/Pearson_correlation_coefficient\n",
    "3. https://towardsdatascience.com/famd-how-to-generalize-pca-to-categorical-and-numerical-data-2ddbeb2b9210\n",
    "4. https://towardsdatascience.com/factor-analysis-of-mixed-data-5ad5ce98663c\n",
    "5. https://scikit-learn.org/stable/auto_examples/feature_selection/plot_rfe_with_cross_validation.html#sphx-glr-auto-examples-feature-selection-plot-rfe-with-cross-validation-py\n",
    "6. https://pub.towardsai.net/bias-variance-decomposition-101-a-step-by-step-computation-9d5f3694877\n",
    "7. https://www.bmc.com/blogs/bias-variance-machine-learning/\n",
    "8. https://towardsdatascience.com/the-bias-variance-tradeoff-8818f41e39e9\n",
    "9. https://towardsdatascience.com/hyperparameter-tuning-the-random-forest-in-python-using-scikit-learn-28d2aa77dd74\n",
    "10. https://medium.com/@data.science.enthusiast/auc-roc-curve-ae9180eaf4f7\n",
    "11. https://medium.com/@outside2SDs/an-overview-of-correlation-measures-between-categorical-and-continuous-variables-4c7f85610365"
   ]
  }
 ],
 "metadata": {
  "kernelspec": {
   "display_name": "base",
   "language": "python",
   "name": "python3"
  },
  "language_info": {
   "codemirror_mode": {
    "name": "ipython",
    "version": 3
   },
   "file_extension": ".py",
   "mimetype": "text/x-python",
   "name": "python",
   "nbconvert_exporter": "python",
   "pygments_lexer": "ipython3",
   "version": "3.8.13"
  },
  "orig_nbformat": 4,
  "vscode": {
   "interpreter": {
    "hash": "cd78fef2128015050713e82ca51c6520b11aee7c9ee8df750520bbbc7384cbaa"
   }
  }
 },
 "nbformat": 4,
 "nbformat_minor": 2
}
